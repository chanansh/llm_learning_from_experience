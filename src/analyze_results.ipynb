{
 "cells": [
  {
   "cell_type": "code",
   "execution_count": 1,
   "metadata": {},
   "outputs": [],
   "source": [
    "%reload_ext autoreload\n",
    "%autoreload 2\n",
    "import pandas as pd\n",
    "import plotly.express as px\n",
    "from primacy import get_primacy_effect\n",
    "import plotly.io as pio\n",
    "pio.renderers.default = \"vscode\"\n"
   ]
  },
  {
   "cell_type": "code",
   "execution_count": 2,
   "metadata": {},
   "outputs": [],
   "source": [
    "# settings\n",
    "players_dataset = {\n",
    "    \"Human\": \"../data/2010/processed/experience_est.csv\",\n",
    "    \"AI Summary 20\": \"../results/2010/data/memory_20.csv\",\n",
    "    \"AI Full History\": \"../results/2010/data/memory_inf.csv\",\n",
    "    }\n",
    "fig_folder = \"../results/2010/figs\""
   ]
  },
  {
   "cell_type": "code",
   "execution_count": 3,
   "metadata": {},
   "outputs": [
    {
     "name": "stdout",
     "output_type": "stream",
     "text": [
      "Human: ../data/2010/processed/experience_est.csv\n",
      "(120000, 12)\n",
      "AI Summary 20: ../results/2010/data/memory_20.csv\n",
      "(120000, 13)\n",
      "AI Full History: ../results/2010/data/memory_inf.csv\n",
      "(120000, 13)\n"
     ]
    }
   ],
   "source": [
    "# read data\n",
    "raw_data = {}\n",
    "for name, path in players_dataset.items():\n",
    "    print(f\"{name}: {path}\")\n",
    "    df = pd.read_csv(path)\n",
    "    raw_data[name] = df\n",
    "    print(df.shape)"
   ]
  },
  {
   "cell_type": "code",
   "execution_count": 5,
   "metadata": {},
   "outputs": [],
   "source": [
    "# aggregate risky choice over problems\n",
    "problem_keys = [\"Problem\", \"Phigh\", \"Medium\", \"High\", \"Low\"]\n",
    "agg_per_problem = {}\n",
    "for name, df in raw_data.items():\n",
    "    agg_per_problem[name] = df.groupby(problem_keys)[\"Choice\"].mean().reset_index()"
   ]
  },
  {
   "cell_type": "code",
   "execution_count": 6,
   "metadata": {},
   "outputs": [],
   "source": [
    "# concatenate data horizontally and vertically\n",
    "agg_per_problem_concat = pd.concat(agg_per_problem, keys=agg_per_problem.keys(), names=[\"Player\"]).reset_index().drop(\"level_1\", axis=1)"
   ]
  },
  {
   "cell_type": "code",
   "execution_count": 7,
   "metadata": {},
   "outputs": [
    {
     "name": "stdout",
     "output_type": "stream",
     "text": [
      "            Player                                     px_fit_results\n",
      "0            Human  <statsmodels.regression.linear_model.Regressio...\n",
      "1    AI Summary 20  <statsmodels.regression.linear_model.Regressio...\n",
      "2  AI Full History  <statsmodels.regression.linear_model.Regressio...\n"
     ]
    },
    {
     "data": {
      "application/vnd.plotly.v1+json": {
       "config": {
        "plotlyServerURL": "https://plot.ly"
       },
       "data": [
        {
         "hovertemplate": "Player=Human<br>Pr(High)=%{x}<br>Pr(Risky)=%{y}<br>Medium=%{marker.color}<extra></extra>",
         "legendgroup": "",
         "line": {
          "dash": "dash"
         },
         "marker": {
          "color": {
           "bdata": "MzMzMzMz078AAAAAAADwv2ZmZmZmZijAmpmZmZmZOcBmZmZmZmb+v5qZmZmZmRnAZmZmZmZmJ8AAAAAAAAAYwGZmZmZmZhjAzczMzMzM/L8zMzMzMzMowJqZmZmZmRnAzczMzMzMIsAAAAAAAAAvwGZmZmZmZjnAMzMzMzOzMsDNzMzMzMw3wDMzMzMzMyDAzczMzMzMIMAAAAAAAAASwGZmZmZmZhLAZmZmZmZmIUBmZmZmZmYWQAAAAAAAAB7AmpmZmZmZGcCamZmZmZkTwDMzMzMzM/M/ZmZmZmZmEkAAAAAAAAAcQGZmZmZmZvY/mpmZmZmZGUBmZmZmZmYWQDMzMzMzMxtAZmZmZmZmEMCamZmZmZkBQJqZmZmZmR/AzczMzMzM9D9mZmZmZmYUwJqZmZmZmRvAmpmZmZmZF0AAAAAAAAAvQJqZmZmZGTFAZmZmZmZmIkDNzMzMzMwjQJqZmZmZmQFAAAAAAAAAIEAzMzMzMzMlQJqZmZmZGTJAzczMzMzMI0BmZmZmZmYGQJqZmZmZmSlAAAAAAAAA4D8AAAAAAAAnQAAAAAAAABxAAAAAAAAAJkAzMzMzMzM5QJqZmZmZmR9AMzMzMzOzNEAAAAAAAAAYQM3MzMzMzB5A",
           "dtype": "f8"
          },
          "coloraxis": "coloraxis",
          "symbol": "circle"
         },
         "mode": "markers",
         "name": "",
         "orientation": "v",
         "showlegend": false,
         "type": "scatter",
         "x": {
          "bdata": "uB6F61G47j9mZmZmZmbuPzMzMzMzM9M/mpmZmZmZyT/NzMzMzMzsP65H4XoUru8/ZmZmZmZm5j+amZmZmZm5P2ZmZmZmZu4/cT0K16Nw7T97FK5H4XqUPxSuR+F6FO4/mpmZmZmZqT8zMzMzMzPjP3sUrkfherQ/7FG4HoXrsT+amZmZmZm5P5qZmZmZmck/zczMzMzM7D8zMzMzMzPjP5qZmZmZmbk/H4XrUbge7T+amZmZmZnpP5qZmZmZmak/exSuR+F6lD+amZmZmZmpP8P1KFyPwu0/mpmZmZmZ6T9xPQrXo3DtPx+F61G4Hu0/ZmZmZmZm7j/D9Shcj8LtP7gehetRuO4/mpmZmZmZqT/D9Shcj8LtP3sUrkfherQ/mpmZmZmZ6T/sUbgeheuxPzMzMzMzM9M/XI/C9Shc7z+amZmZmZnpP3E9CtejcO0/uB6F61G4rj+4HoXrUbjuP5qZmZmZmek/mpmZmZmZuT97FK5H4XqkP1yPwvUoXO8/AAAAAAAA4D97FK5H4XqkPxSuR+F6FO4/CtejcD0Ktz+amZmZmZm5P3sUrkfheoQ/CtejcD0K7z8UrkfhehTuPzMzMzMzM+M/rkfhehSu7z8zMzMzMzPTP3E9CtejcO0/",
          "dtype": "f8"
         },
         "xaxis": "x",
         "y": {
          "bdata": "9ihcj8L11D9U46WbxCDgP7Kd76fGS88/TmIQWDm01D8hsHJoke3cPwRWDi2yneU/AiuHFtnO1z8dWmQ730/RP4PAyqFFtts/VOOlm8Qg3D9OYhBYObTQP4PAyqFFtuE/eekmMQisvD/2KFyPwvXkP/7UeOkmMcg/7nw/NV661T+BlUOLbOfXP/Cnxks3idU/sHJoke183z9zaJHtfD+1P3npJjEIrLw/ke18PzVe2j/LoUW28/3YPxsv3SQGgbU/pHA9CtejyD/2KFyPwvXIPwIrhxbZzt8/46WbxCCw4j8Sg8DKoUXgP+XQItv5fto/UI2XbhKD4D/b+X5qvHTfP/hT46WbxOQ/MzMzMzMz0z8rhxbZzvfbP65H4XoUrrc/RIts5/up0T8QWDm0yHbSPzvfT42XbuI/sHJoke184z85tMh2vp/gP2Dl0CLb+d4/VOOlm8Qg7D8AAAAAAADiP2ZmZmZmZt4/UrgehetR1D/VeOkmMQjQP7bz/dR46eI//tR46SYxwD9mZmZmZmbWP2IQWDm0yOA/TmIQWDm00D91kxgEVg69Pw4tsp3vp8Y/SgwCK4cW5T8K16NwPQrhP3WTGARWDt0/f2q8dJMY5D99PzVeuknUP1K4HoXrUdw/",
          "dtype": "f8"
         },
         "yaxis": "y"
        },
        {
         "hovertemplate": "<b>OLS trendline</b><br>Choice = 0.28441 * Phigh + 0.2384<br>R<sup>2</sup>=0.409414<br><br>Player=Human<br>Pr(High)=%{x}<br>Pr(Risky)=%{y} <b>(trend)</b><extra></extra>",
         "legendgroup": "",
         "line": {
          "color": "black",
          "dash": "dash"
         },
         "marker": {
          "symbol": "circle"
         },
         "mode": "lines",
         "name": "",
         "showlegend": false,
         "type": "scatter",
         "x": {
          "bdata": "exSuR+F6hD97FK5H4XqUP3sUrkfhepQ/exSuR+F6pD97FK5H4XqkP5qZmZmZmak/mpmZmZmZqT+amZmZmZmpP5qZmZmZmak/uB6F61G4rj/sUbgeheuxP+xRuB6F67E/exSuR+F6tD97FK5H4Xq0PwrXo3A9Crc/mpmZmZmZuT+amZmZmZm5P5qZmZmZmbk/mpmZmZmZuT+amZmZmZm5P5qZmZmZmck/mpmZmZmZyT8zMzMzMzPTPzMzMzMzM9M/MzMzMzMz0z8AAAAAAADgPzMzMzMzM+M/MzMzMzMz4z8zMzMzMzPjP2ZmZmZmZuY/mpmZmZmZ6T+amZmZmZnpP5qZmZmZmek/mpmZmZmZ6T+amZmZmZnpP83MzMzMzOw/zczMzMzM7D8fhetRuB7tPx+F61G4Hu0/cT0K16Nw7T9xPQrXo3DtP3E9CtejcO0/cT0K16Nw7T/D9Shcj8LtP8P1KFyPwu0/w/UoXI/C7T8UrkfhehTuPxSuR+F6FO4/FK5H4XoU7j9mZmZmZmbuP2ZmZmZmZu4/ZmZmZmZm7j+4HoXrUbjuP7gehetRuO4/uB6F61G47j8K16NwPQrvP1yPwvUoXO8/XI/C9Shc7z+uR+F6FK7vP65H4XoUru8/",
          "dtype": "f8"
         },
         "xaxis": "x",
         "y": {
          "bdata": "Lfhg/xPhzj9HV8gRRj7PP0dXyBFGPs8/fBWXNqr4zz98FZc2qvjPP0s6fyTuKtA/Szp/JO4q0D9LOn8k7irQP0s6fyTuKtA/2OmyLYdZ0D9lmeY2IIjQP2WZ5jYgiNA/8kgaQLm20D/ySBpAubbQP4D4TUlS5dA/DaiBUusT0T8NqIFS6xPRPw2ogVLrE9E/DaiBUusT0T8NqIFS6xPRP5CDhq7l5dI/kIOGruXl0j8TX4sK4LfUPxNfiwrgt9Q/E1+LCuC31D8ZFpXC1FvYP5zxmR7PLdo/nPGZHs8t2j+c8Zkezy3aPx/NnnrJ/9s/oqij1sPR3T+iqKPWw9HdP6Koo9bD0d0/oqij1sPR3T+iqKPWw9HdPyaEqDK+o98/JoSoMr6j3z+yM9w7V9LfP7Iz3DtX0t8/oPGHIngA4D+g8YcieADgP6DxhyJ4AOA/oPGHIngA4D9mySGnxBfgP2bJIafEF+A/Zskhp8QX4D8tobsrES/gPy2huysRL+A/LaG7KxEv4D/zeFWwXUbgP/N4VbBdRuA/83hVsF1G4D+6UO80ql3gP7pQ7zSqXeA/ulDvNKpd4D+BKIm59nTgP0cAIz5DjOA/RwAjPkOM4D8O2LzCj6PgPw7YvMKPo+A/",
          "dtype": "f8"
         },
         "yaxis": "y"
        },
        {
         "hovertemplate": "Player=AI Summary 20<br>Pr(High)=%{x}<br>Pr(Risky)=%{y}<br>Medium=%{marker.color}<extra></extra>",
         "legendgroup": "",
         "line": {
          "dash": "dash"
         },
         "marker": {
          "color": {
           "bdata": "MzMzMzMz078AAAAAAADwv2ZmZmZmZijAmpmZmZmZOcBmZmZmZmb+v5qZmZmZmRnAZmZmZmZmJ8AAAAAAAAAYwGZmZmZmZhjAzczMzMzM/L8zMzMzMzMowJqZmZmZmRnAzczMzMzMIsAAAAAAAAAvwGZmZmZmZjnAMzMzMzOzMsDNzMzMzMw3wDMzMzMzMyDAzczMzMzMIMAAAAAAAAASwGZmZmZmZhLAZmZmZmZmIUBmZmZmZmYWQAAAAAAAAB7AmpmZmZmZGcCamZmZmZkTwDMzMzMzM/M/ZmZmZmZmEkAAAAAAAAAcQGZmZmZmZvY/mpmZmZmZGUBmZmZmZmYWQDMzMzMzMxtAZmZmZmZmEMCamZmZmZkBQJqZmZmZmR/AzczMzMzM9D9mZmZmZmYUwJqZmZmZmRvAmpmZmZmZF0AAAAAAAAAvQJqZmZmZGTFAZmZmZmZmIkDNzMzMzMwjQJqZmZmZmQFAAAAAAAAAIEAzMzMzMzMlQJqZmZmZGTJAzczMzMzMI0BmZmZmZmYGQJqZmZmZmSlAAAAAAAAA4D8AAAAAAAAnQAAAAAAAABxAAAAAAAAAJkAzMzMzMzM5QJqZmZmZmR9AMzMzMzOzNEAAAAAAAAAYQM3MzMzMzB5A",
           "dtype": "f8"
          },
          "coloraxis": "coloraxis",
          "symbol": "circle"
         },
         "mode": "markers",
         "name": "",
         "orientation": "v",
         "showlegend": false,
         "type": "scatter",
         "x": {
          "bdata": "uB6F61G47j9mZmZmZmbuPzMzMzMzM9M/mpmZmZmZyT/NzMzMzMzsP65H4XoUru8/ZmZmZmZm5j+amZmZmZm5P2ZmZmZmZu4/cT0K16Nw7T97FK5H4XqUPxSuR+F6FO4/mpmZmZmZqT8zMzMzMzPjP3sUrkfherQ/7FG4HoXrsT+amZmZmZm5P5qZmZmZmck/zczMzMzM7D8zMzMzMzPjP5qZmZmZmbk/H4XrUbge7T+amZmZmZnpP5qZmZmZmak/exSuR+F6lD+amZmZmZmpP8P1KFyPwu0/mpmZmZmZ6T9xPQrXo3DtPx+F61G4Hu0/ZmZmZmZm7j/D9Shcj8LtP7gehetRuO4/mpmZmZmZqT/D9Shcj8LtP3sUrkfherQ/mpmZmZmZ6T/sUbgeheuxPzMzMzMzM9M/XI/C9Shc7z+amZmZmZnpP3E9CtejcO0/uB6F61G4rj+4HoXrUbjuP5qZmZmZmek/mpmZmZmZuT97FK5H4XqkP1yPwvUoXO8/AAAAAAAA4D97FK5H4XqkPxSuR+F6FO4/CtejcD0Ktz+amZmZmZm5P3sUrkfheoQ/CtejcD0K7z8UrkfhehTuPzMzMzMzM+M/rkfhehSu7z8zMzMzMzPTP3E9CtejcO0/",
          "dtype": "f8"
         },
         "xaxis": "x2",
         "y": {
          "bdata": "Di2yne+n4D8EVg4tsp3rP4/C9Shcj9I/exSuR+F61D/ufD81XrrnPyGwcmiR7eo/0SLb+X5q5j+sHFpkO9/HP9Ei2/l+auo/HVpkO99P5z8MAiuHFtm+P8/3U+Olm+o/8tJNYhBYwT9t5/up8dLlPyPb+X5qvMQ/i2zn+6nxwj956SYxCKzEP3npJjEIrMw/vp8aL90k6j+YbhKDwMrRPwisHFpkO8c/exSuR+F64D85tMh2vp/KP39qvHSTGLQ/WDm0yHa+vz+F61G4HoXDPy2yne+nxsM/fT81XrpJvD+uR+F6FK7PP+XQItv5fro/eekmMQis3D/0/dR46SbBP3npJjEIrNA/bef7qfHSxT8730+Nl27KP4XrUbgehcM/eekmMQisrD/RItv5fmrEP9v5fmq8dNs/TDeJQWDl1D/hehSuR+HeP9Ei2/l+auY/F9nO91Pj6z8nMQisHFroPzVeukkMAtM/d76fGi/d0D9U46WbxCDcPxSuR+F6FOA/UrgehetRuD9Ei2zn+6nVPwaBlUOLbNs/PQrXo3A9uj+mm8QgsHLUP4GVQ4ts59M/exSuR+F62D/TTWIQWDnYP3E9CtejcNE/YhBYObTI4D++nxov3STSP6RwPQrXo9A/",
          "dtype": "f8"
         },
         "yaxis": "y2"
        },
        {
         "hovertemplate": "<b>OLS trendline</b><br>Choice = 0.282178 * Phigh + 0.207699<br>R<sup>2</sup>=0.213810<br><br>Player=AI Summary 20<br>Pr(High)=%{x}<br>Pr(Risky)=%{y} <b>(trend)</b><extra></extra>",
         "legendgroup": "",
         "line": {
          "color": "black",
          "dash": "dash"
         },
         "marker": {
          "symbol": "circle"
         },
         "mode": "lines",
         "name": "",
         "showlegend": false,
         "type": "scatter",
         "x": {
          "bdata": "exSuR+F6hD97FK5H4XqUP3sUrkfhepQ/exSuR+F6pD97FK5H4XqkP5qZmZmZmak/mpmZmZmZqT+amZmZmZmpP5qZmZmZmak/uB6F61G4rj/sUbgeheuxP+xRuB6F67E/exSuR+F6tD97FK5H4Xq0PwrXo3A9Crc/mpmZmZmZuT+amZmZmZm5P5qZmZmZmbk/mpmZmZmZuT+amZmZmZm5P5qZmZmZmck/mpmZmZmZyT8zMzMzMzPTPzMzMzMzM9M/MzMzMzMz0z8AAAAAAADgPzMzMzMzM+M/MzMzMzMz4z8zMzMzMzPjP2ZmZmZmZuY/mpmZmZmZ6T+amZmZmZnpP5qZmZmZmek/mpmZmZmZ6T+amZmZmZnpP83MzMzMzOw/zczMzMzM7D8fhetRuB7tPx+F61G4Hu0/cT0K16Nw7T9xPQrXo3DtP3E9CtejcO0/cT0K16Nw7T/D9Shcj8LtP8P1KFyPwu0/w/UoXI/C7T8UrkfhehTuPxSuR+F6FO4/FK5H4XoU7j9mZmZmZmbuP2ZmZmZmZu4/ZmZmZmZm7j+4HoXrUbjuP7gehetRuO4/uB6F61G47j8K16NwPQrvP1yPwvUoXO8/XI/C9Shc7z+uR+F6FK7vP65H4XoUru8/",
          "dtype": "f8"
         },
         "xaxis": "x2",
         "y": {
          "bdata": "7gkqbFnyyj9sIyg30E7LP2wjKDfQTss/ZlYkzb0HzD9mViTNvQfMP+RvIpg0ZMw/5G8imDRkzD/kbyKYNGTMP+RvIpg0ZMw/YYkgY6vAzD/foh4uIh3NP9+iHi4iHc0/XLwc+Zh5zT9cvBz5mHnNP9nVGsQP1s0/V+8Yj4Yyzj9X7xiPhjLOP1fvGI+GMs4/V+8Yj4Yyzj9X7xiPhjLOPx73gj6V59A/HveCPpXn0D+Rdnk157XSP5F2eTXntdI/kXZ5Nee10j93dWYji1LWP+r0XBrdINg/6vRcGt0g2D/q9Fwa3SDYP1x0UxEv79k/0PNJCIG92z/Q80kIgb3bP9DzSQiBvds/0PNJCIG92z/Q80kIgb3bP0JzQP/Si90/QnNA/9KL3T8CgL9kDrrdPwKAv2QOut0/wIw+ykno3T/AjD7KSejdP8CMPspJ6N0/wIw+ykno3T9+mb0vhRbeP36ZvS+FFt4/fpm9L4UW3j8+pjyVwETePz6mPJXARN4/PqY8lcBE3j/8srv6+3LeP/yyu/r7ct4//LK7+vty3j+6vzpgN6HeP7q/OmA3od4/ur86YDeh3j96zLnFcs/ePzjZOCuu/d4/ONk4K6793j/25beQ6SvfP/blt5DpK98/",
          "dtype": "f8"
         },
         "yaxis": "y2"
        },
        {
         "hovertemplate": "Player=AI Full History<br>Pr(High)=%{x}<br>Pr(Risky)=%{y}<br>Medium=%{marker.color}<extra></extra>",
         "legendgroup": "",
         "line": {
          "dash": "dash"
         },
         "marker": {
          "color": {
           "bdata": "MzMzMzMz078AAAAAAADwv2ZmZmZmZijAmpmZmZmZOcBmZmZmZmb+v5qZmZmZmRnAZmZmZmZmJ8AAAAAAAAAYwGZmZmZmZhjAzczMzMzM/L8zMzMzMzMowJqZmZmZmRnAzczMzMzMIsAAAAAAAAAvwGZmZmZmZjnAMzMzMzOzMsDNzMzMzMw3wDMzMzMzMyDAzczMzMzMIMAAAAAAAAASwGZmZmZmZhLAZmZmZmZmIUBmZmZmZmYWQAAAAAAAAB7AmpmZmZmZGcCamZmZmZkTwDMzMzMzM/M/ZmZmZmZmEkAAAAAAAAAcQGZmZmZmZvY/mpmZmZmZGUBmZmZmZmYWQDMzMzMzMxtAZmZmZmZmEMCamZmZmZkBQJqZmZmZmR/AzczMzMzM9D9mZmZmZmYUwJqZmZmZmRvAmpmZmZmZF0AAAAAAAAAvQJqZmZmZGTFAZmZmZmZmIkDNzMzMzMwjQJqZmZmZmQFAAAAAAAAAIEAzMzMzMzMlQJqZmZmZGTJAzczMzMzMI0BmZmZmZmYGQJqZmZmZmSlAAAAAAAAA4D8AAAAAAAAnQAAAAAAAABxAAAAAAAAAJkAzMzMzMzM5QJqZmZmZmR9AMzMzMzOzNEAAAAAAAAAYQM3MzMzMzB5A",
           "dtype": "f8"
          },
          "coloraxis": "coloraxis",
          "symbol": "circle"
         },
         "mode": "markers",
         "name": "",
         "orientation": "v",
         "showlegend": false,
         "type": "scatter",
         "x": {
          "bdata": "uB6F61G47j9mZmZmZmbuPzMzMzMzM9M/mpmZmZmZyT/NzMzMzMzsP65H4XoUru8/ZmZmZmZm5j+amZmZmZm5P2ZmZmZmZu4/cT0K16Nw7T97FK5H4XqUPxSuR+F6FO4/mpmZmZmZqT8zMzMzMzPjP3sUrkfherQ/7FG4HoXrsT+amZmZmZm5P5qZmZmZmck/zczMzMzM7D8zMzMzMzPjP5qZmZmZmbk/H4XrUbge7T+amZmZmZnpP5qZmZmZmak/exSuR+F6lD+amZmZmZmpP8P1KFyPwu0/mpmZmZmZ6T9xPQrXo3DtPx+F61G4Hu0/ZmZmZmZm7j/D9Shcj8LtP7gehetRuO4/mpmZmZmZqT/D9Shcj8LtP3sUrkfherQ/mpmZmZmZ6T/sUbgeheuxPzMzMzMzM9M/XI/C9Shc7z+amZmZmZnpP3E9CtejcO0/uB6F61G4rj+4HoXrUbjuP5qZmZmZmek/mpmZmZmZuT97FK5H4XqkP1yPwvUoXO8/AAAAAAAA4D97FK5H4XqkPxSuR+F6FO4/CtejcD0Ktz+amZmZmZm5P3sUrkfheoQ/CtejcD0K7z8UrkfhehTuPzMzMzMzM+M/rkfhehSu7z8zMzMzMzPTP3E9CtejcO0/",
          "dtype": "f8"
         },
         "xaxis": "x3",
         "y": {
          "bdata": "arx0kxgE4D/4U+Olm8TkPwRWDi2ynd8/PQrXo3A94D8CK4cW2c7hP65H4XoUruE/5dAi2/l+4D+DwMqhRbbbP2Q730+Nl+A/O99PjZdu4j8K16NwPQrbP4ts5/up8eA/7FG4HoXr3T+HFtnO91PhP9ejcD0K198/Di2yne+n3j8nMQisHFrgPxBYObTIduA/kxgEVg4t4j89CtejcD3gP5ZDi2zn+90/sHJoke18xz/VeOkmMQi8Px+F61G4Ht0//tR46SYx3D+HFtnO91PbP7bz/dR46cY/qvHSTWIQwD/FILByaJHFP23n+6nx0tE/hxbZzvdT0z/ByqFFtvPFP0w3iUFg5cg/PQrXo3A94D+6SQwCK4fOP5huEoPAyt0/MzMzMzMzwz/FILByaJHdP1g5tMh2vuE/tvP91Hjpzj+kcD0K16PUP90kBoGVQ8s/iUFg5dAi4T9aZDvfT43PP9ejcD0K19c/j8L1KFyP2j/D9Shcj8LVP/p+arx0k9g/tvP91Hjp1j8j2/l+arzYP05iEFg5tNA/4XoUrkfhqj9oke18PzXSPy2yne+nxsM/j8L1KFyP0j9oke18PzXWP8HKoUW28+M/MQisHFpk2z8tsp3vp8bbP90kBoGVQ8s/",
          "dtype": "f8"
         },
         "yaxis": "y3"
        },
        {
         "hovertemplate": "<b>OLS trendline</b><br>Choice = -0.0949198 * Phigh + 0.437845<br>R<sup>2</sup>=0.064484<br><br>Player=AI Full History<br>Pr(High)=%{x}<br>Pr(Risky)=%{y} <b>(trend)</b><extra></extra>",
         "legendgroup": "",
         "line": {
          "color": "black",
          "dash": "dash"
         },
         "marker": {
          "symbol": "circle"
         },
         "mode": "lines",
         "name": "",
         "showlegend": false,
         "type": "scatter",
         "x": {
          "bdata": "exSuR+F6hD97FK5H4XqUP3sUrkfhepQ/exSuR+F6pD97FK5H4XqkP5qZmZmZmak/mpmZmZmZqT+amZmZmZmpP5qZmZmZmak/uB6F61G4rj/sUbgeheuxP+xRuB6F67E/exSuR+F6tD97FK5H4Xq0PwrXo3A9Crc/mpmZmZmZuT+amZmZmZm5P5qZmZmZmbk/mpmZmZmZuT+amZmZmZm5P5qZmZmZmck/mpmZmZmZyT8zMzMzMzPTPzMzMzMzM9M/MzMzMzMz0z8AAAAAAADgPzMzMzMzM+M/MzMzMzMz4z8zMzMzMzPjP2ZmZmZmZuY/mpmZmZmZ6T+amZmZmZnpP5qZmZmZmek/mpmZmZmZ6T+amZmZmZnpP83MzMzMzOw/zczMzMzM7D8fhetRuB7tPx+F61G4Hu0/cT0K16Nw7T9xPQrXo3DtP3E9CtejcO0/cT0K16Nw7T/D9Shcj8LtP8P1KFyPwu0/w/UoXI/C7T8UrkfhehTuPxSuR+F6FO4/FK5H4XoU7j9mZmZmZmbuP2ZmZmZmZu4/ZmZmZmZm7j+4HoXrUbjuP7gehetRuO4/uB6F61G47j8K16NwPQrvP1yPwvUoXO8/XI/C9Shc7z+uR+F6FK7vP65H4XoUru8/",
          "dtype": "f8"
         },
         "xaxis": "x3",
         "y": {
          "bdata": "iF2MOBn22z9KJmv/i+bbP0oma/+L5ts/zbcojXHH2z/NtyiNccfbP4+AB1Tkt9s/j4AHVOS32z+PgAdU5LfbP4+AB1Tkt9s/UUnmGleo2z8SEsXhyZjbPxISxeHJmNs/1NqjqDyJ2z/U2qOoPInbP5ajgm+veds/WGxhNiJq2z9YbGE2ImrbP1hsYTYiats/WGxhNiJq2z9YbGE2ImrbP+lDFfudzto/6UMV+53O2j97G8m/GTPaP3sbyb8ZM9o/exvJvxkz2j+eyjBJEfzYPzCi5A2NYNg/MKLkDY1g2D8wouQNjWDYP8J5mNIIxdc/U1FMl4Qp1z9TUUyXhCnXP1NRTJeEKdc/U1FMl4Qp1z9TUUyXhCnXP+UoAFwAjtY/5SgAXACO1j+m8d4ic37WP6bx3iJzftY/aLq96eVu1j9our3p5W7WP2i6venlbtY/aLq96eVu1j8qg5ywWF/WPyqDnLBYX9Y/KoOcsFhf1j/sS3t3y0/WP+xLe3fLT9Y/7Et7d8tP1j+uFFo+PkDWP64UWj4+QNY/rhRaPj5A1j9w3TgFsTDWP3DdOAWxMNY/cN04BbEw1j8xphfMIyHWP/Nu9pKWEdY/8272kpYR1j+1N9VZCQLWP7U31VkJAtY/",
          "dtype": "f8"
         },
         "yaxis": "y3"
        }
       ],
       "layout": {
        "annotations": [
         {
          "showarrow": false,
          "text": "Player=Human",
          "x": 0.15999999999999998,
          "xanchor": "center",
          "xref": "paper",
          "y": 1,
          "yanchor": "bottom",
          "yref": "paper"
         },
         {
          "showarrow": false,
          "text": "Player=AI Summary 20",
          "x": 0.49999999999999994,
          "xanchor": "center",
          "xref": "paper",
          "y": 1,
          "yanchor": "bottom",
          "yref": "paper"
         },
         {
          "showarrow": false,
          "text": "Player=AI Full History",
          "x": 0.8399999999999999,
          "xanchor": "center",
          "xref": "paper",
          "y": 1,
          "yanchor": "bottom",
          "yref": "paper"
         },
         {
          "arrowhead": 2,
          "ay": -100,
          "showarrow": true,
          "text": "~0.28*x + 0.24<br>R^2=0.40<br>p-value=4·10<sup>^-8</sup>",
          "x": 0.5,
          "xref": "x",
          "y": 0.3806049251764719,
          "yref": "y",
          "yshift": 0
         },
         {
          "arrowhead": 2,
          "ay": -100,
          "showarrow": true,
          "text": "~0.28*x + 0.21<br>R^2=0.20<br>p-value=2·10<sup>^-4</sup>",
          "x": 0.5,
          "xref": "x2",
          "y": 0.34878805596402834,
          "yref": "y2",
          "yshift": 0
         },
         {
          "arrowhead": 2,
          "ay": -100,
          "showarrow": true,
          "text": "~-0.09*x + 0.44<br>R^2=0.05<br>p-value=5·10<sup>^-2</sup>",
          "x": 0.5,
          "xref": "x3",
          "y": 0.390384980654895,
          "yref": "y3",
          "yshift": 0
         }
        ],
        "coloraxis": {
         "colorbar": {
          "title": {
           "text": "Medium"
          }
         },
         "colorscale": [
          [
           0,
           "#0d0887"
          ],
          [
           0.1111111111111111,
           "#46039f"
          ],
          [
           0.2222222222222222,
           "#7201a8"
          ],
          [
           0.3333333333333333,
           "#9c179e"
          ],
          [
           0.4444444444444444,
           "#bd3786"
          ],
          [
           0.5555555555555556,
           "#d8576b"
          ],
          [
           0.6666666666666666,
           "#ed7953"
          ],
          [
           0.7777777777777778,
           "#fb9f3a"
          ],
          [
           0.8888888888888888,
           "#fdca26"
          ],
          [
           1,
           "#f0f921"
          ]
         ]
        },
        "height": 400,
        "legend": {
         "tracegroupgap": 0
        },
        "margin": {
         "t": 60
        },
        "template": {
         "data": {
          "bar": [
           {
            "error_x": {
             "color": "#2a3f5f"
            },
            "error_y": {
             "color": "#2a3f5f"
            },
            "marker": {
             "line": {
              "color": "#E5ECF6",
              "width": 0.5
             },
             "pattern": {
              "fillmode": "overlay",
              "size": 10,
              "solidity": 0.2
             }
            },
            "type": "bar"
           }
          ],
          "barpolar": [
           {
            "marker": {
             "line": {
              "color": "#E5ECF6",
              "width": 0.5
             },
             "pattern": {
              "fillmode": "overlay",
              "size": 10,
              "solidity": 0.2
             }
            },
            "type": "barpolar"
           }
          ],
          "carpet": [
           {
            "aaxis": {
             "endlinecolor": "#2a3f5f",
             "gridcolor": "white",
             "linecolor": "white",
             "minorgridcolor": "white",
             "startlinecolor": "#2a3f5f"
            },
            "baxis": {
             "endlinecolor": "#2a3f5f",
             "gridcolor": "white",
             "linecolor": "white",
             "minorgridcolor": "white",
             "startlinecolor": "#2a3f5f"
            },
            "type": "carpet"
           }
          ],
          "choropleth": [
           {
            "colorbar": {
             "outlinewidth": 0,
             "ticks": ""
            },
            "type": "choropleth"
           }
          ],
          "contour": [
           {
            "colorbar": {
             "outlinewidth": 0,
             "ticks": ""
            },
            "colorscale": [
             [
              0,
              "#0d0887"
             ],
             [
              0.1111111111111111,
              "#46039f"
             ],
             [
              0.2222222222222222,
              "#7201a8"
             ],
             [
              0.3333333333333333,
              "#9c179e"
             ],
             [
              0.4444444444444444,
              "#bd3786"
             ],
             [
              0.5555555555555556,
              "#d8576b"
             ],
             [
              0.6666666666666666,
              "#ed7953"
             ],
             [
              0.7777777777777778,
              "#fb9f3a"
             ],
             [
              0.8888888888888888,
              "#fdca26"
             ],
             [
              1,
              "#f0f921"
             ]
            ],
            "type": "contour"
           }
          ],
          "contourcarpet": [
           {
            "colorbar": {
             "outlinewidth": 0,
             "ticks": ""
            },
            "type": "contourcarpet"
           }
          ],
          "heatmap": [
           {
            "colorbar": {
             "outlinewidth": 0,
             "ticks": ""
            },
            "colorscale": [
             [
              0,
              "#0d0887"
             ],
             [
              0.1111111111111111,
              "#46039f"
             ],
             [
              0.2222222222222222,
              "#7201a8"
             ],
             [
              0.3333333333333333,
              "#9c179e"
             ],
             [
              0.4444444444444444,
              "#bd3786"
             ],
             [
              0.5555555555555556,
              "#d8576b"
             ],
             [
              0.6666666666666666,
              "#ed7953"
             ],
             [
              0.7777777777777778,
              "#fb9f3a"
             ],
             [
              0.8888888888888888,
              "#fdca26"
             ],
             [
              1,
              "#f0f921"
             ]
            ],
            "type": "heatmap"
           }
          ],
          "histogram": [
           {
            "marker": {
             "pattern": {
              "fillmode": "overlay",
              "size": 10,
              "solidity": 0.2
             }
            },
            "type": "histogram"
           }
          ],
          "histogram2d": [
           {
            "colorbar": {
             "outlinewidth": 0,
             "ticks": ""
            },
            "colorscale": [
             [
              0,
              "#0d0887"
             ],
             [
              0.1111111111111111,
              "#46039f"
             ],
             [
              0.2222222222222222,
              "#7201a8"
             ],
             [
              0.3333333333333333,
              "#9c179e"
             ],
             [
              0.4444444444444444,
              "#bd3786"
             ],
             [
              0.5555555555555556,
              "#d8576b"
             ],
             [
              0.6666666666666666,
              "#ed7953"
             ],
             [
              0.7777777777777778,
              "#fb9f3a"
             ],
             [
              0.8888888888888888,
              "#fdca26"
             ],
             [
              1,
              "#f0f921"
             ]
            ],
            "type": "histogram2d"
           }
          ],
          "histogram2dcontour": [
           {
            "colorbar": {
             "outlinewidth": 0,
             "ticks": ""
            },
            "colorscale": [
             [
              0,
              "#0d0887"
             ],
             [
              0.1111111111111111,
              "#46039f"
             ],
             [
              0.2222222222222222,
              "#7201a8"
             ],
             [
              0.3333333333333333,
              "#9c179e"
             ],
             [
              0.4444444444444444,
              "#bd3786"
             ],
             [
              0.5555555555555556,
              "#d8576b"
             ],
             [
              0.6666666666666666,
              "#ed7953"
             ],
             [
              0.7777777777777778,
              "#fb9f3a"
             ],
             [
              0.8888888888888888,
              "#fdca26"
             ],
             [
              1,
              "#f0f921"
             ]
            ],
            "type": "histogram2dcontour"
           }
          ],
          "mesh3d": [
           {
            "colorbar": {
             "outlinewidth": 0,
             "ticks": ""
            },
            "type": "mesh3d"
           }
          ],
          "parcoords": [
           {
            "line": {
             "colorbar": {
              "outlinewidth": 0,
              "ticks": ""
             }
            },
            "type": "parcoords"
           }
          ],
          "pie": [
           {
            "automargin": true,
            "type": "pie"
           }
          ],
          "scatter": [
           {
            "fillpattern": {
             "fillmode": "overlay",
             "size": 10,
             "solidity": 0.2
            },
            "type": "scatter"
           }
          ],
          "scatter3d": [
           {
            "line": {
             "colorbar": {
              "outlinewidth": 0,
              "ticks": ""
             }
            },
            "marker": {
             "colorbar": {
              "outlinewidth": 0,
              "ticks": ""
             }
            },
            "type": "scatter3d"
           }
          ],
          "scattercarpet": [
           {
            "marker": {
             "colorbar": {
              "outlinewidth": 0,
              "ticks": ""
             }
            },
            "type": "scattercarpet"
           }
          ],
          "scattergeo": [
           {
            "marker": {
             "colorbar": {
              "outlinewidth": 0,
              "ticks": ""
             }
            },
            "type": "scattergeo"
           }
          ],
          "scattergl": [
           {
            "marker": {
             "colorbar": {
              "outlinewidth": 0,
              "ticks": ""
             }
            },
            "type": "scattergl"
           }
          ],
          "scattermap": [
           {
            "marker": {
             "colorbar": {
              "outlinewidth": 0,
              "ticks": ""
             }
            },
            "type": "scattermap"
           }
          ],
          "scattermapbox": [
           {
            "marker": {
             "colorbar": {
              "outlinewidth": 0,
              "ticks": ""
             }
            },
            "type": "scattermapbox"
           }
          ],
          "scatterpolar": [
           {
            "marker": {
             "colorbar": {
              "outlinewidth": 0,
              "ticks": ""
             }
            },
            "type": "scatterpolar"
           }
          ],
          "scatterpolargl": [
           {
            "marker": {
             "colorbar": {
              "outlinewidth": 0,
              "ticks": ""
             }
            },
            "type": "scatterpolargl"
           }
          ],
          "scatterternary": [
           {
            "marker": {
             "colorbar": {
              "outlinewidth": 0,
              "ticks": ""
             }
            },
            "type": "scatterternary"
           }
          ],
          "surface": [
           {
            "colorbar": {
             "outlinewidth": 0,
             "ticks": ""
            },
            "colorscale": [
             [
              0,
              "#0d0887"
             ],
             [
              0.1111111111111111,
              "#46039f"
             ],
             [
              0.2222222222222222,
              "#7201a8"
             ],
             [
              0.3333333333333333,
              "#9c179e"
             ],
             [
              0.4444444444444444,
              "#bd3786"
             ],
             [
              0.5555555555555556,
              "#d8576b"
             ],
             [
              0.6666666666666666,
              "#ed7953"
             ],
             [
              0.7777777777777778,
              "#fb9f3a"
             ],
             [
              0.8888888888888888,
              "#fdca26"
             ],
             [
              1,
              "#f0f921"
             ]
            ],
            "type": "surface"
           }
          ],
          "table": [
           {
            "cells": {
             "fill": {
              "color": "#EBF0F8"
             },
             "line": {
              "color": "white"
             }
            },
            "header": {
             "fill": {
              "color": "#C8D4E3"
             },
             "line": {
              "color": "white"
             }
            },
            "type": "table"
           }
          ]
         },
         "layout": {
          "annotationdefaults": {
           "arrowcolor": "#2a3f5f",
           "arrowhead": 0,
           "arrowwidth": 1
          },
          "autotypenumbers": "strict",
          "coloraxis": {
           "colorbar": {
            "outlinewidth": 0,
            "ticks": ""
           }
          },
          "colorscale": {
           "diverging": [
            [
             0,
             "#8e0152"
            ],
            [
             0.1,
             "#c51b7d"
            ],
            [
             0.2,
             "#de77ae"
            ],
            [
             0.3,
             "#f1b6da"
            ],
            [
             0.4,
             "#fde0ef"
            ],
            [
             0.5,
             "#f7f7f7"
            ],
            [
             0.6,
             "#e6f5d0"
            ],
            [
             0.7,
             "#b8e186"
            ],
            [
             0.8,
             "#7fbc41"
            ],
            [
             0.9,
             "#4d9221"
            ],
            [
             1,
             "#276419"
            ]
           ],
           "sequential": [
            [
             0,
             "#0d0887"
            ],
            [
             0.1111111111111111,
             "#46039f"
            ],
            [
             0.2222222222222222,
             "#7201a8"
            ],
            [
             0.3333333333333333,
             "#9c179e"
            ],
            [
             0.4444444444444444,
             "#bd3786"
            ],
            [
             0.5555555555555556,
             "#d8576b"
            ],
            [
             0.6666666666666666,
             "#ed7953"
            ],
            [
             0.7777777777777778,
             "#fb9f3a"
            ],
            [
             0.8888888888888888,
             "#fdca26"
            ],
            [
             1,
             "#f0f921"
            ]
           ],
           "sequentialminus": [
            [
             0,
             "#0d0887"
            ],
            [
             0.1111111111111111,
             "#46039f"
            ],
            [
             0.2222222222222222,
             "#7201a8"
            ],
            [
             0.3333333333333333,
             "#9c179e"
            ],
            [
             0.4444444444444444,
             "#bd3786"
            ],
            [
             0.5555555555555556,
             "#d8576b"
            ],
            [
             0.6666666666666666,
             "#ed7953"
            ],
            [
             0.7777777777777778,
             "#fb9f3a"
            ],
            [
             0.8888888888888888,
             "#fdca26"
            ],
            [
             1,
             "#f0f921"
            ]
           ]
          },
          "colorway": [
           "#636efa",
           "#EF553B",
           "#00cc96",
           "#ab63fa",
           "#FFA15A",
           "#19d3f3",
           "#FF6692",
           "#B6E880",
           "#FF97FF",
           "#FECB52"
          ],
          "font": {
           "color": "#2a3f5f"
          },
          "geo": {
           "bgcolor": "white",
           "lakecolor": "white",
           "landcolor": "#E5ECF6",
           "showlakes": true,
           "showland": true,
           "subunitcolor": "white"
          },
          "hoverlabel": {
           "align": "left"
          },
          "hovermode": "closest",
          "mapbox": {
           "style": "light"
          },
          "paper_bgcolor": "white",
          "plot_bgcolor": "#E5ECF6",
          "polar": {
           "angularaxis": {
            "gridcolor": "white",
            "linecolor": "white",
            "ticks": ""
           },
           "bgcolor": "#E5ECF6",
           "radialaxis": {
            "gridcolor": "white",
            "linecolor": "white",
            "ticks": ""
           }
          },
          "scene": {
           "xaxis": {
            "backgroundcolor": "#E5ECF6",
            "gridcolor": "white",
            "gridwidth": 2,
            "linecolor": "white",
            "showbackground": true,
            "ticks": "",
            "zerolinecolor": "white"
           },
           "yaxis": {
            "backgroundcolor": "#E5ECF6",
            "gridcolor": "white",
            "gridwidth": 2,
            "linecolor": "white",
            "showbackground": true,
            "ticks": "",
            "zerolinecolor": "white"
           },
           "zaxis": {
            "backgroundcolor": "#E5ECF6",
            "gridcolor": "white",
            "gridwidth": 2,
            "linecolor": "white",
            "showbackground": true,
            "ticks": "",
            "zerolinecolor": "white"
           }
          },
          "shapedefaults": {
           "line": {
            "color": "#2a3f5f"
           }
          },
          "ternary": {
           "aaxis": {
            "gridcolor": "white",
            "linecolor": "white",
            "ticks": ""
           },
           "baxis": {
            "gridcolor": "white",
            "linecolor": "white",
            "ticks": ""
           },
           "bgcolor": "#E5ECF6",
           "caxis": {
            "gridcolor": "white",
            "linecolor": "white",
            "ticks": ""
           }
          },
          "title": {
           "x": 0.05
          },
          "xaxis": {
           "automargin": true,
           "gridcolor": "white",
           "linecolor": "white",
           "ticks": "",
           "title": {
            "standoff": 15
           },
           "zerolinecolor": "white",
           "zerolinewidth": 2
          },
          "yaxis": {
           "automargin": true,
           "gridcolor": "white",
           "linecolor": "white",
           "ticks": "",
           "title": {
            "standoff": 15
           },
           "zerolinecolor": "white",
           "zerolinewidth": 2
          }
         }
        },
        "width": 1160,
        "xaxis": {
         "anchor": "y",
         "domain": [
          0,
          0.31999999999999995
         ],
         "range": [
          0,
          1
         ],
         "title": {
          "text": "Pr(High)"
         }
        },
        "xaxis2": {
         "anchor": "y2",
         "domain": [
          0.33999999999999997,
          0.6599999999999999
         ],
         "matches": "x",
         "range": [
          0,
          1
         ],
         "title": {
          "text": "Pr(High)"
         }
        },
        "xaxis3": {
         "anchor": "y3",
         "domain": [
          0.6799999999999999,
          0.9999999999999999
         ],
         "matches": "x",
         "range": [
          0,
          1
         ],
         "title": {
          "text": "Pr(High)"
         }
        },
        "yaxis": {
         "anchor": "x",
         "domain": [
          0,
          1
         ],
         "range": [
          0,
          1
         ],
         "title": {
          "text": "Pr(Risky)"
         }
        },
        "yaxis2": {
         "anchor": "x2",
         "domain": [
          0,
          1
         ],
         "matches": "y",
         "range": [
          0,
          1
         ],
         "showticklabels": false
        },
        "yaxis3": {
         "anchor": "x3",
         "domain": [
          0,
          1
         ],
         "matches": "y",
         "range": [
          0,
          1
         ],
         "showticklabels": false
        }
       }
      }
     },
     "metadata": {},
     "output_type": "display_data"
    }
   ],
   "source": [
    "# plot scatter of P(risky) vs P(high)\n",
    "fig = px.scatter(\n",
    "    agg_per_problem_concat,\n",
    "    x=\"Phigh\",\n",
    "    y=\"Choice\",\n",
    "    color=\"Medium\",\n",
    "    trendline=\"ols\",\n",
    "    facet_col=\"Player\",\n",
    "    trendline_color_override=\"black\",\n",
    "    width=500*2.9,\n",
    "    height=500,\n",
    "    labels={\"Choice\": \"Pr(Risky)\", \"Phigh\": \"Pr(High)\"}\n",
    ")\n",
    "# make plots square [0,1], [0,1]\n",
    "fig.update_xaxes(range=[0, 1])\n",
    "fig.update_yaxes(range=[0, 1])\n",
    "# aspect ratio 1\n",
    "fig.update_layout(\n",
    "    width=400*2.9,\n",
    "    height=400,\n",
    ")\n",
    "# change trend lines to dotted\n",
    "for i in range(len(fig.data)):\n",
    "    fig.data[i].line.dash = \"dash\"\n",
    "results = px.get_trendline_results(fig)\n",
    "print(results)\n",
    "for i, stat in enumerate(results[\"px_fit_results\"]):\n",
    "    # add the slop and intercept of the trendline to the plot\n",
    "    x = 0.5\n",
    "    y = x * stat.params[1] + stat.params[0]\n",
    "    p_value_slope = stat.pvalues[1]\n",
    "    p_value_slope_str = f\"{p_value_slope:0.0e}\".replace(\"e-0\", r\"·10<sup>^-\") + \"</sup>\"\n",
    "    fig.add_annotation(\n",
    "        x=x, y=y, \n",
    "        text=f\"~{stat.params[1]:.2f}*x + {stat.params[0]:.2f}<br>R^2={stat.rsquared_adj:.2f}<br>p-value={p_value_slope_str}\", \n",
    "        row=1, col=i+1, \n",
    "        yshift=0, showarrow=True, arrowhead=2, ay=-100\n",
    "    )\n",
    "\n",
    "\n",
    "fig.show()\n",
    "fig.write_image(f\"{fig_folder}/p_risky_vs_phigh_and_player.png\")"
   ]
  },
  {
   "cell_type": "code",
   "execution_count": 8,
   "metadata": {},
   "outputs": [
    {
     "data": {
      "application/vnd.plotly.v1+json": {
       "config": {
        "plotlyServerURL": "https://plot.ly"
       },
       "data": [
        {
         "diagonal": {
          "visible": false
         },
         "dimensions": [
          {
           "axis": {
            "matches": true
           },
           "label": "Human",
           "values": {
            "bdata": "9ihcj8L11D9U46WbxCDgP7Kd76fGS88/TmIQWDm01D8hsHJoke3cPwRWDi2yneU/AiuHFtnO1z8dWmQ730/RP4PAyqFFtts/VOOlm8Qg3D9OYhBYObTQP4PAyqFFtuE/eekmMQisvD/2KFyPwvXkP/7UeOkmMcg/7nw/NV661T+BlUOLbOfXP/Cnxks3idU/sHJoke183z9zaJHtfD+1P3npJjEIrLw/ke18PzVe2j/LoUW28/3YPxsv3SQGgbU/pHA9CtejyD/2KFyPwvXIPwIrhxbZzt8/46WbxCCw4j8Sg8DKoUXgP+XQItv5fto/UI2XbhKD4D/b+X5qvHTfP/hT46WbxOQ/MzMzMzMz0z8rhxbZzvfbP65H4XoUrrc/RIts5/up0T8QWDm0yHbSPzvfT42XbuI/sHJoke184z85tMh2vp/gP2Dl0CLb+d4/VOOlm8Qg7D8AAAAAAADiP2ZmZmZmZt4/UrgehetR1D/VeOkmMQjQP7bz/dR46eI//tR46SYxwD9mZmZmZmbWP2IQWDm0yOA/TmIQWDm00D91kxgEVg69Pw4tsp3vp8Y/SgwCK4cW5T8K16NwPQrhP3WTGARWDt0/f2q8dJMY5D99PzVeuknUP1K4HoXrUdw/",
            "dtype": "f8"
           }
          },
          {
           "axis": {
            "matches": true
           },
           "label": "AI Summary 20",
           "values": {
            "bdata": "Di2yne+n4D8EVg4tsp3rP4/C9Shcj9I/exSuR+F61D/ufD81XrrnPyGwcmiR7eo/0SLb+X5q5j+sHFpkO9/HP9Ei2/l+auo/HVpkO99P5z8MAiuHFtm+P8/3U+Olm+o/8tJNYhBYwT9t5/up8dLlPyPb+X5qvMQ/i2zn+6nxwj956SYxCKzEP3npJjEIrMw/vp8aL90k6j+YbhKDwMrRPwisHFpkO8c/exSuR+F64D85tMh2vp/KP39qvHSTGLQ/WDm0yHa+vz+F61G4HoXDPy2yne+nxsM/fT81XrpJvD+uR+F6FK7PP+XQItv5fro/eekmMQis3D/0/dR46SbBP3npJjEIrNA/bef7qfHSxT8730+Nl27KP4XrUbgehcM/eekmMQisrD/RItv5fmrEP9v5fmq8dNs/TDeJQWDl1D/hehSuR+HeP9Ei2/l+auY/F9nO91Pj6z8nMQisHFroPzVeukkMAtM/d76fGi/d0D9U46WbxCDcPxSuR+F6FOA/UrgehetRuD9Ei2zn+6nVPwaBlUOLbNs/PQrXo3A9uj+mm8QgsHLUP4GVQ4ts59M/exSuR+F62D/TTWIQWDnYP3E9CtejcNE/YhBYObTI4D++nxov3STSP6RwPQrXo9A/",
            "dtype": "f8"
           }
          },
          {
           "axis": {
            "matches": true
           },
           "label": "AI Full History",
           "values": {
            "bdata": "arx0kxgE4D/4U+Olm8TkPwRWDi2ynd8/PQrXo3A94D8CK4cW2c7hP65H4XoUruE/5dAi2/l+4D+DwMqhRbbbP2Q730+Nl+A/O99PjZdu4j8K16NwPQrbP4ts5/up8eA/7FG4HoXr3T+HFtnO91PhP9ejcD0K198/Di2yne+n3j8nMQisHFrgPxBYObTIduA/kxgEVg4t4j89CtejcD3gP5ZDi2zn+90/sHJoke18xz/VeOkmMQi8Px+F61G4Ht0//tR46SYx3D+HFtnO91PbP7bz/dR46cY/qvHSTWIQwD/FILByaJHFP23n+6nx0tE/hxbZzvdT0z/ByqFFtvPFP0w3iUFg5cg/PQrXo3A94D+6SQwCK4fOP5huEoPAyt0/MzMzMzMzwz/FILByaJHdP1g5tMh2vuE/tvP91Hjpzj+kcD0K16PUP90kBoGVQ8s/iUFg5dAi4T9aZDvfT43PP9ejcD0K19c/j8L1KFyP2j/D9Shcj8LVP/p+arx0k9g/tvP91Hjp1j8j2/l+arzYP05iEFg5tNA/4XoUrkfhqj9oke18PzXSPy2yne+nxsM/j8L1KFyP0j9oke18PzXWP8HKoUW28+M/MQisHFpk2z8tsp3vp8bbP90kBoGVQ8s/",
            "dtype": "f8"
           }
          }
         ],
         "hovertemplate": "%{xaxis.title.text}=%{x}<br>%{yaxis.title.text}=%{y}<br>Medium=%{marker.color}<extra></extra>",
         "legendgroup": "",
         "marker": {
          "color": {
           "bdata": "MzMzMzMz078AAAAAAADwv2ZmZmZmZijAmpmZmZmZOcBmZmZmZmb+v5qZmZmZmRnAZmZmZmZmJ8AAAAAAAAAYwGZmZmZmZhjAzczMzMzM/L8zMzMzMzMowJqZmZmZmRnAzczMzMzMIsAAAAAAAAAvwGZmZmZmZjnAMzMzMzOzMsDNzMzMzMw3wDMzMzMzMyDAzczMzMzMIMAAAAAAAAASwGZmZmZmZhLAZmZmZmZmIUBmZmZmZmYWQAAAAAAAAB7AmpmZmZmZGcCamZmZmZkTwDMzMzMzM/M/ZmZmZmZmEkAAAAAAAAAcQGZmZmZmZvY/mpmZmZmZGUBmZmZmZmYWQDMzMzMzMxtAZmZmZmZmEMCamZmZmZkBQJqZmZmZmR/AzczMzMzM9D9mZmZmZmYUwJqZmZmZmRvAmpmZmZmZF0AAAAAAAAAvQJqZmZmZGTFAZmZmZmZmIkDNzMzMzMwjQJqZmZmZmQFAAAAAAAAAIEAzMzMzMzMlQJqZmZmZGTJAzczMzMzMI0BmZmZmZmYGQJqZmZmZmSlAAAAAAAAA4D8AAAAAAAAnQAAAAAAAABxAAAAAAAAAJkAzMzMzMzM5QJqZmZmZmR9AMzMzMzOzNEAAAAAAAAAYQM3MzMzMzB5A",
           "dtype": "f8"
          },
          "coloraxis": "coloraxis",
          "symbol": "circle"
         },
         "name": "",
         "showlegend": false,
         "showupperhalf": false,
         "type": "splom"
        }
       ],
       "layout": {
        "coloraxis": {
         "colorbar": {
          "title": {
           "text": "Medium"
          }
         },
         "colorscale": [
          [
           0,
           "#0d0887"
          ],
          [
           0.1111111111111111,
           "#46039f"
          ],
          [
           0.2222222222222222,
           "#7201a8"
          ],
          [
           0.3333333333333333,
           "#9c179e"
          ],
          [
           0.4444444444444444,
           "#bd3786"
          ],
          [
           0.5555555555555556,
           "#d8576b"
          ],
          [
           0.6666666666666666,
           "#ed7953"
          ],
          [
           0.7777777777777778,
           "#fb9f3a"
          ],
          [
           0.8888888888888888,
           "#fdca26"
          ],
          [
           1,
           "#f0f921"
          ]
         ]
        },
        "dragmode": "select",
        "height": 500,
        "legend": {
         "tracegroupgap": 0
        },
        "margin": {
         "t": 60
        },
        "shapes": [
         {
          "line": {
           "color": "black",
           "dash": "dash",
           "width": 1
          },
          "type": "line",
          "x0": 0,
          "x1": 1,
          "xref": "x2",
          "y0": 0,
          "y1": 1,
          "yref": "y3"
         },
         {
          "line": {
           "color": "black",
           "dash": "dash",
           "width": 1
          },
          "type": "line",
          "x0": 0,
          "x1": 1,
          "xref": "x",
          "y0": 0,
          "y1": 1,
          "yref": "y2"
         },
         {
          "line": {
           "color": "black",
           "dash": "dash",
           "width": 1
          },
          "type": "line",
          "x0": 0,
          "x1": 1,
          "xref": "x",
          "y0": 0,
          "y1": 1,
          "yref": "y3"
         }
        ],
        "template": {
         "data": {
          "bar": [
           {
            "error_x": {
             "color": "#2a3f5f"
            },
            "error_y": {
             "color": "#2a3f5f"
            },
            "marker": {
             "line": {
              "color": "#E5ECF6",
              "width": 0.5
             },
             "pattern": {
              "fillmode": "overlay",
              "size": 10,
              "solidity": 0.2
             }
            },
            "type": "bar"
           }
          ],
          "barpolar": [
           {
            "marker": {
             "line": {
              "color": "#E5ECF6",
              "width": 0.5
             },
             "pattern": {
              "fillmode": "overlay",
              "size": 10,
              "solidity": 0.2
             }
            },
            "type": "barpolar"
           }
          ],
          "carpet": [
           {
            "aaxis": {
             "endlinecolor": "#2a3f5f",
             "gridcolor": "white",
             "linecolor": "white",
             "minorgridcolor": "white",
             "startlinecolor": "#2a3f5f"
            },
            "baxis": {
             "endlinecolor": "#2a3f5f",
             "gridcolor": "white",
             "linecolor": "white",
             "minorgridcolor": "white",
             "startlinecolor": "#2a3f5f"
            },
            "type": "carpet"
           }
          ],
          "choropleth": [
           {
            "colorbar": {
             "outlinewidth": 0,
             "ticks": ""
            },
            "type": "choropleth"
           }
          ],
          "contour": [
           {
            "colorbar": {
             "outlinewidth": 0,
             "ticks": ""
            },
            "colorscale": [
             [
              0,
              "#0d0887"
             ],
             [
              0.1111111111111111,
              "#46039f"
             ],
             [
              0.2222222222222222,
              "#7201a8"
             ],
             [
              0.3333333333333333,
              "#9c179e"
             ],
             [
              0.4444444444444444,
              "#bd3786"
             ],
             [
              0.5555555555555556,
              "#d8576b"
             ],
             [
              0.6666666666666666,
              "#ed7953"
             ],
             [
              0.7777777777777778,
              "#fb9f3a"
             ],
             [
              0.8888888888888888,
              "#fdca26"
             ],
             [
              1,
              "#f0f921"
             ]
            ],
            "type": "contour"
           }
          ],
          "contourcarpet": [
           {
            "colorbar": {
             "outlinewidth": 0,
             "ticks": ""
            },
            "type": "contourcarpet"
           }
          ],
          "heatmap": [
           {
            "colorbar": {
             "outlinewidth": 0,
             "ticks": ""
            },
            "colorscale": [
             [
              0,
              "#0d0887"
             ],
             [
              0.1111111111111111,
              "#46039f"
             ],
             [
              0.2222222222222222,
              "#7201a8"
             ],
             [
              0.3333333333333333,
              "#9c179e"
             ],
             [
              0.4444444444444444,
              "#bd3786"
             ],
             [
              0.5555555555555556,
              "#d8576b"
             ],
             [
              0.6666666666666666,
              "#ed7953"
             ],
             [
              0.7777777777777778,
              "#fb9f3a"
             ],
             [
              0.8888888888888888,
              "#fdca26"
             ],
             [
              1,
              "#f0f921"
             ]
            ],
            "type": "heatmap"
           }
          ],
          "histogram": [
           {
            "marker": {
             "pattern": {
              "fillmode": "overlay",
              "size": 10,
              "solidity": 0.2
             }
            },
            "type": "histogram"
           }
          ],
          "histogram2d": [
           {
            "colorbar": {
             "outlinewidth": 0,
             "ticks": ""
            },
            "colorscale": [
             [
              0,
              "#0d0887"
             ],
             [
              0.1111111111111111,
              "#46039f"
             ],
             [
              0.2222222222222222,
              "#7201a8"
             ],
             [
              0.3333333333333333,
              "#9c179e"
             ],
             [
              0.4444444444444444,
              "#bd3786"
             ],
             [
              0.5555555555555556,
              "#d8576b"
             ],
             [
              0.6666666666666666,
              "#ed7953"
             ],
             [
              0.7777777777777778,
              "#fb9f3a"
             ],
             [
              0.8888888888888888,
              "#fdca26"
             ],
             [
              1,
              "#f0f921"
             ]
            ],
            "type": "histogram2d"
           }
          ],
          "histogram2dcontour": [
           {
            "colorbar": {
             "outlinewidth": 0,
             "ticks": ""
            },
            "colorscale": [
             [
              0,
              "#0d0887"
             ],
             [
              0.1111111111111111,
              "#46039f"
             ],
             [
              0.2222222222222222,
              "#7201a8"
             ],
             [
              0.3333333333333333,
              "#9c179e"
             ],
             [
              0.4444444444444444,
              "#bd3786"
             ],
             [
              0.5555555555555556,
              "#d8576b"
             ],
             [
              0.6666666666666666,
              "#ed7953"
             ],
             [
              0.7777777777777778,
              "#fb9f3a"
             ],
             [
              0.8888888888888888,
              "#fdca26"
             ],
             [
              1,
              "#f0f921"
             ]
            ],
            "type": "histogram2dcontour"
           }
          ],
          "mesh3d": [
           {
            "colorbar": {
             "outlinewidth": 0,
             "ticks": ""
            },
            "type": "mesh3d"
           }
          ],
          "parcoords": [
           {
            "line": {
             "colorbar": {
              "outlinewidth": 0,
              "ticks": ""
             }
            },
            "type": "parcoords"
           }
          ],
          "pie": [
           {
            "automargin": true,
            "type": "pie"
           }
          ],
          "scatter": [
           {
            "fillpattern": {
             "fillmode": "overlay",
             "size": 10,
             "solidity": 0.2
            },
            "type": "scatter"
           }
          ],
          "scatter3d": [
           {
            "line": {
             "colorbar": {
              "outlinewidth": 0,
              "ticks": ""
             }
            },
            "marker": {
             "colorbar": {
              "outlinewidth": 0,
              "ticks": ""
             }
            },
            "type": "scatter3d"
           }
          ],
          "scattercarpet": [
           {
            "marker": {
             "colorbar": {
              "outlinewidth": 0,
              "ticks": ""
             }
            },
            "type": "scattercarpet"
           }
          ],
          "scattergeo": [
           {
            "marker": {
             "colorbar": {
              "outlinewidth": 0,
              "ticks": ""
             }
            },
            "type": "scattergeo"
           }
          ],
          "scattergl": [
           {
            "marker": {
             "colorbar": {
              "outlinewidth": 0,
              "ticks": ""
             }
            },
            "type": "scattergl"
           }
          ],
          "scattermap": [
           {
            "marker": {
             "colorbar": {
              "outlinewidth": 0,
              "ticks": ""
             }
            },
            "type": "scattermap"
           }
          ],
          "scattermapbox": [
           {
            "marker": {
             "colorbar": {
              "outlinewidth": 0,
              "ticks": ""
             }
            },
            "type": "scattermapbox"
           }
          ],
          "scatterpolar": [
           {
            "marker": {
             "colorbar": {
              "outlinewidth": 0,
              "ticks": ""
             }
            },
            "type": "scatterpolar"
           }
          ],
          "scatterpolargl": [
           {
            "marker": {
             "colorbar": {
              "outlinewidth": 0,
              "ticks": ""
             }
            },
            "type": "scatterpolargl"
           }
          ],
          "scatterternary": [
           {
            "marker": {
             "colorbar": {
              "outlinewidth": 0,
              "ticks": ""
             }
            },
            "type": "scatterternary"
           }
          ],
          "surface": [
           {
            "colorbar": {
             "outlinewidth": 0,
             "ticks": ""
            },
            "colorscale": [
             [
              0,
              "#0d0887"
             ],
             [
              0.1111111111111111,
              "#46039f"
             ],
             [
              0.2222222222222222,
              "#7201a8"
             ],
             [
              0.3333333333333333,
              "#9c179e"
             ],
             [
              0.4444444444444444,
              "#bd3786"
             ],
             [
              0.5555555555555556,
              "#d8576b"
             ],
             [
              0.6666666666666666,
              "#ed7953"
             ],
             [
              0.7777777777777778,
              "#fb9f3a"
             ],
             [
              0.8888888888888888,
              "#fdca26"
             ],
             [
              1,
              "#f0f921"
             ]
            ],
            "type": "surface"
           }
          ],
          "table": [
           {
            "cells": {
             "fill": {
              "color": "#EBF0F8"
             },
             "line": {
              "color": "white"
             }
            },
            "header": {
             "fill": {
              "color": "#C8D4E3"
             },
             "line": {
              "color": "white"
             }
            },
            "type": "table"
           }
          ]
         },
         "layout": {
          "annotationdefaults": {
           "arrowcolor": "#2a3f5f",
           "arrowhead": 0,
           "arrowwidth": 1
          },
          "autotypenumbers": "strict",
          "coloraxis": {
           "colorbar": {
            "outlinewidth": 0,
            "ticks": ""
           }
          },
          "colorscale": {
           "diverging": [
            [
             0,
             "#8e0152"
            ],
            [
             0.1,
             "#c51b7d"
            ],
            [
             0.2,
             "#de77ae"
            ],
            [
             0.3,
             "#f1b6da"
            ],
            [
             0.4,
             "#fde0ef"
            ],
            [
             0.5,
             "#f7f7f7"
            ],
            [
             0.6,
             "#e6f5d0"
            ],
            [
             0.7,
             "#b8e186"
            ],
            [
             0.8,
             "#7fbc41"
            ],
            [
             0.9,
             "#4d9221"
            ],
            [
             1,
             "#276419"
            ]
           ],
           "sequential": [
            [
             0,
             "#0d0887"
            ],
            [
             0.1111111111111111,
             "#46039f"
            ],
            [
             0.2222222222222222,
             "#7201a8"
            ],
            [
             0.3333333333333333,
             "#9c179e"
            ],
            [
             0.4444444444444444,
             "#bd3786"
            ],
            [
             0.5555555555555556,
             "#d8576b"
            ],
            [
             0.6666666666666666,
             "#ed7953"
            ],
            [
             0.7777777777777778,
             "#fb9f3a"
            ],
            [
             0.8888888888888888,
             "#fdca26"
            ],
            [
             1,
             "#f0f921"
            ]
           ],
           "sequentialminus": [
            [
             0,
             "#0d0887"
            ],
            [
             0.1111111111111111,
             "#46039f"
            ],
            [
             0.2222222222222222,
             "#7201a8"
            ],
            [
             0.3333333333333333,
             "#9c179e"
            ],
            [
             0.4444444444444444,
             "#bd3786"
            ],
            [
             0.5555555555555556,
             "#d8576b"
            ],
            [
             0.6666666666666666,
             "#ed7953"
            ],
            [
             0.7777777777777778,
             "#fb9f3a"
            ],
            [
             0.8888888888888888,
             "#fdca26"
            ],
            [
             1,
             "#f0f921"
            ]
           ]
          },
          "colorway": [
           "#636efa",
           "#EF553B",
           "#00cc96",
           "#ab63fa",
           "#FFA15A",
           "#19d3f3",
           "#FF6692",
           "#B6E880",
           "#FF97FF",
           "#FECB52"
          ],
          "font": {
           "color": "#2a3f5f"
          },
          "geo": {
           "bgcolor": "white",
           "lakecolor": "white",
           "landcolor": "#E5ECF6",
           "showlakes": true,
           "showland": true,
           "subunitcolor": "white"
          },
          "hoverlabel": {
           "align": "left"
          },
          "hovermode": "closest",
          "mapbox": {
           "style": "light"
          },
          "paper_bgcolor": "white",
          "plot_bgcolor": "#E5ECF6",
          "polar": {
           "angularaxis": {
            "gridcolor": "white",
            "linecolor": "white",
            "ticks": ""
           },
           "bgcolor": "#E5ECF6",
           "radialaxis": {
            "gridcolor": "white",
            "linecolor": "white",
            "ticks": ""
           }
          },
          "scene": {
           "xaxis": {
            "backgroundcolor": "#E5ECF6",
            "gridcolor": "white",
            "gridwidth": 2,
            "linecolor": "white",
            "showbackground": true,
            "ticks": "",
            "zerolinecolor": "white"
           },
           "yaxis": {
            "backgroundcolor": "#E5ECF6",
            "gridcolor": "white",
            "gridwidth": 2,
            "linecolor": "white",
            "showbackground": true,
            "ticks": "",
            "zerolinecolor": "white"
           },
           "zaxis": {
            "backgroundcolor": "#E5ECF6",
            "gridcolor": "white",
            "gridwidth": 2,
            "linecolor": "white",
            "showbackground": true,
            "ticks": "",
            "zerolinecolor": "white"
           }
          },
          "shapedefaults": {
           "line": {
            "color": "#2a3f5f"
           }
          },
          "ternary": {
           "aaxis": {
            "gridcolor": "white",
            "linecolor": "white",
            "ticks": ""
           },
           "baxis": {
            "gridcolor": "white",
            "linecolor": "white",
            "ticks": ""
           },
           "bgcolor": "#E5ECF6",
           "caxis": {
            "gridcolor": "white",
            "linecolor": "white",
            "ticks": ""
           }
          },
          "title": {
           "x": 0.05
          },
          "xaxis": {
           "automargin": true,
           "gridcolor": "white",
           "linecolor": "white",
           "ticks": "",
           "title": {
            "standoff": 15
           },
           "zerolinecolor": "white",
           "zerolinewidth": 2
          },
          "yaxis": {
           "automargin": true,
           "gridcolor": "white",
           "linecolor": "white",
           "ticks": "",
           "title": {
            "standoff": 15
           },
           "zerolinecolor": "white",
           "zerolinewidth": 2
          }
         }
        },
        "width": 500
       }
      }
     },
     "metadata": {},
     "output_type": "display_data"
    }
   ],
   "source": [
    "# pair wise plot of risky probability \n",
    "agg_per_problem_merged = agg_per_problem_concat.pivot(index=problem_keys, columns=[\"Player\"], values=\"Choice\").reset_index()\n",
    "fig = px.scatter_matrix(agg_per_problem_merged, dimensions=agg_per_problem.keys(), color=\"Medium\", width=500, height=500)\n",
    "# change showupperhalf=False, # remove plots on diagonal\n",
    "fig.update_traces(diagonal_visible=False)\n",
    "fig.update_traces(showupperhalf=False,)\n",
    "# add equality line in all facets\n",
    "refs = [ ('x2', 'y3'), ('x1','y2'), ('x1','y3')]\n",
    "for ref in refs:\n",
    "    fig.add_shape(type=\"line\", xref=ref[0], yref=ref[1], x0=0, x1=1, y0=0, y1=1, line=dict(color=\"black\", width=1, dash=\"dash\"))\n",
    "\n",
    "fig.show()\n",
    "fig.write_image(f\"{fig_folder}/p_risky_pairwise_players.png\")\n"
   ]
  },
  {
   "cell_type": "code",
   "execution_count": null,
   "metadata": {},
   "outputs": [
    {
     "name": "stdout",
     "output_type": "stream",
     "text": [
      "\n",
      "\n",
      "Human\n",
      "0.008350272464876544 0.12019196428571421\n",
      "\n",
      "\n",
      "AI Summary 20\n",
      "0.8939085104221585 -0.056736607142857165\n",
      "\n",
      "\n",
      "AI Full History\n",
      "5.039387081116553e-09 -0.22298214285714285\n"
     ]
    },
    {
     "data": {
      "application/vnd.plotly.v1+json": {
       "config": {
        "plotlyServerURL": "https://plot.ly"
       },
       "data": [
        {
         "alignmentgroup": "True",
         "hovertemplate": "Medium Positive=False<br>Player=%{x}<br>Pr(Risky)=%{y}<extra></extra>",
         "legendgroup": "False",
         "marker": {
          "color": "#636efa"
         },
         "name": "False",
         "notched": false,
         "offsetgroup": "False",
         "orientation": "v",
         "showlegend": true,
         "type": "box",
         "x": [
          "Human",
          "Human",
          "Human",
          "Human",
          "Human",
          "Human",
          "Human",
          "Human",
          "Human",
          "Human",
          "Human",
          "Human",
          "Human",
          "Human",
          "Human",
          "Human",
          "Human",
          "Human",
          "Human",
          "Human",
          "Human",
          "Human",
          "Human",
          "Human",
          "Human",
          "Human",
          "Human",
          "Human",
          "AI Summary 20",
          "AI Summary 20",
          "AI Summary 20",
          "AI Summary 20",
          "AI Summary 20",
          "AI Summary 20",
          "AI Summary 20",
          "AI Summary 20",
          "AI Summary 20",
          "AI Summary 20",
          "AI Summary 20",
          "AI Summary 20",
          "AI Summary 20",
          "AI Summary 20",
          "AI Summary 20",
          "AI Summary 20",
          "AI Summary 20",
          "AI Summary 20",
          "AI Summary 20",
          "AI Summary 20",
          "AI Summary 20",
          "AI Summary 20",
          "AI Summary 20",
          "AI Summary 20",
          "AI Summary 20",
          "AI Summary 20",
          "AI Summary 20",
          "AI Summary 20",
          "AI Full History",
          "AI Full History",
          "AI Full History",
          "AI Full History",
          "AI Full History",
          "AI Full History",
          "AI Full History",
          "AI Full History",
          "AI Full History",
          "AI Full History",
          "AI Full History",
          "AI Full History",
          "AI Full History",
          "AI Full History",
          "AI Full History",
          "AI Full History",
          "AI Full History",
          "AI Full History",
          "AI Full History",
          "AI Full History",
          "AI Full History",
          "AI Full History",
          "AI Full History",
          "AI Full History",
          "AI Full History",
          "AI Full History",
          "AI Full History",
          "AI Full History"
         ],
         "x0": " ",
         "xaxis": "x",
         "y": {
          "bdata": "9ihcj8L11D9U46WbxCDgP7Kd76fGS88/TmIQWDm01D8hsHJoke3cPwRWDi2yneU/AiuHFtnO1z8dWmQ730/RP4PAyqFFtts/VOOlm8Qg3D9OYhBYObTQP4PAyqFFtuE/eekmMQisvD/2KFyPwvXkP/7UeOkmMcg/7nw/NV661T+BlUOLbOfXP/Cnxks3idU/sHJoke183z9zaJHtfD+1P3npJjEIrLw/Gy/dJAaBtT+kcD0K16PIP/YoXI/C9cg/MzMzMzMz0z+uR+F6FK63PxBYObTIdtI/O99PjZdu4j8OLbKd76fgPwRWDi2ynes/j8L1KFyP0j97FK5H4XrUP+58PzVeuuc/IbByaJHt6j/RItv5fmrmP6wcWmQ738c/0SLb+X5q6j8dWmQ730/nPwwCK4cW2b4/z/dT46Wb6j/y0k1iEFjBP23n+6nx0uU/I9v5fmq8xD+LbOf7qfHCP3npJjEIrMQ/eekmMQiszD++nxov3STqP5huEoPAytE/CKwcWmQ7xz9/arx0kxi0P1g5tMh2vr8/hetRuB6Fwz9t5/up8dLFP4XrUbgehcM/0SLb+X5qxD/b+X5qvHTbP2q8dJMYBOA/+FPjpZvE5D8EVg4tsp3fPz0K16NwPeA/AiuHFtnO4T+uR+F6FK7hP+XQItv5fuA/g8DKoUW22z9kO99PjZfgPzvfT42XbuI/CtejcD0K2z+LbOf7qfHgP+xRuB6F690/hxbZzvdT4T/Xo3A9CtffPw4tsp3vp94/JzEIrBxa4D8QWDm0yHbgP5MYBFYOLeI/PQrXo3A94D+WQ4ts5/vdPx+F61G4Ht0//tR46SYx3D+HFtnO91PbPz0K16NwPeA/mG4Sg8DK3T/FILByaJHdP1g5tMh2vuE/",
          "dtype": "f8"
         },
         "y0": " ",
         "yaxis": "y"
        },
        {
         "alignmentgroup": "True",
         "hovertemplate": "Medium Positive=True<br>Player=%{x}<br>Pr(Risky)=%{y}<extra></extra>",
         "legendgroup": "True",
         "marker": {
          "color": "#EF553B"
         },
         "name": "True",
         "notched": false,
         "offsetgroup": "True",
         "orientation": "v",
         "showlegend": true,
         "type": "box",
         "x": [
          "Human",
          "Human",
          "Human",
          "Human",
          "Human",
          "Human",
          "Human",
          "Human",
          "Human",
          "Human",
          "Human",
          "Human",
          "Human",
          "Human",
          "Human",
          "Human",
          "Human",
          "Human",
          "Human",
          "Human",
          "Human",
          "Human",
          "Human",
          "Human",
          "Human",
          "Human",
          "Human",
          "Human",
          "Human",
          "Human",
          "Human",
          "Human",
          "AI Summary 20",
          "AI Summary 20",
          "AI Summary 20",
          "AI Summary 20",
          "AI Summary 20",
          "AI Summary 20",
          "AI Summary 20",
          "AI Summary 20",
          "AI Summary 20",
          "AI Summary 20",
          "AI Summary 20",
          "AI Summary 20",
          "AI Summary 20",
          "AI Summary 20",
          "AI Summary 20",
          "AI Summary 20",
          "AI Summary 20",
          "AI Summary 20",
          "AI Summary 20",
          "AI Summary 20",
          "AI Summary 20",
          "AI Summary 20",
          "AI Summary 20",
          "AI Summary 20",
          "AI Summary 20",
          "AI Summary 20",
          "AI Summary 20",
          "AI Summary 20",
          "AI Summary 20",
          "AI Summary 20",
          "AI Summary 20",
          "AI Summary 20",
          "AI Full History",
          "AI Full History",
          "AI Full History",
          "AI Full History",
          "AI Full History",
          "AI Full History",
          "AI Full History",
          "AI Full History",
          "AI Full History",
          "AI Full History",
          "AI Full History",
          "AI Full History",
          "AI Full History",
          "AI Full History",
          "AI Full History",
          "AI Full History",
          "AI Full History",
          "AI Full History",
          "AI Full History",
          "AI Full History",
          "AI Full History",
          "AI Full History",
          "AI Full History",
          "AI Full History",
          "AI Full History",
          "AI Full History",
          "AI Full History",
          "AI Full History",
          "AI Full History",
          "AI Full History",
          "AI Full History",
          "AI Full History"
         ],
         "x0": " ",
         "xaxis": "x",
         "y": {
          "bdata": "ke18PzVe2j/LoUW28/3YPwIrhxbZzt8/46WbxCCw4j8Sg8DKoUXgP+XQItv5fto/UI2XbhKD4D/b+X5qvHTfP/hT46WbxOQ/K4cW2c732z9Ei2zn+6nRP7ByaJHtfOM/ObTIdr6f4D9g5dAi2/neP1TjpZvEIOw/AAAAAAAA4j9mZmZmZmbeP1K4HoXrUdQ/1XjpJjEI0D+28/3UeOniP/7UeOkmMcA/ZmZmZmZm1j9iEFg5tMjgP05iEFg5tNA/dZMYBFYOvT8OLbKd76fGP0oMAiuHFuU/CtejcD0K4T91kxgEVg7dP39qvHSTGOQ/fT81XrpJ1D9SuB6F61HcP3sUrkfheuA/ObTIdr6fyj8tsp3vp8bDP30/NV66Sbw/rkfhehSuzz/l0CLb+X66P3npJjEIrNw/9P3UeOkmwT956SYxCKzQPzvfT42Xbso/eekmMQisrD9MN4lBYOXUP+F6FK5H4d4/0SLb+X5q5j8X2c73U+PrPycxCKwcWug/NV66SQwC0z93vp8aL93QP1TjpZvEINw/FK5H4XoU4D9SuB6F61G4P0SLbOf7qdU/BoGVQ4ts2z89CtejcD26P6abxCCwctQ/gZVDi2zn0z97FK5H4XrYP9NNYhBYOdg/cT0K16Nw0T9iEFg5tMjgP76fGi/dJNI/pHA9Ctej0D+wcmiR7XzHP9V46SYxCLw/tvP91Hjpxj+q8dJNYhDAP8UgsHJokcU/bef7qfHS0T+HFtnO91PTP8HKoUW288U/TDeJQWDlyD+6SQwCK4fOPzMzMzMzM8M/tvP91Hjpzj+kcD0K16PUP90kBoGVQ8s/iUFg5dAi4T9aZDvfT43PP9ejcD0K19c/j8L1KFyP2j/D9Shcj8LVP/p+arx0k9g/tvP91Hjp1j8j2/l+arzYP05iEFg5tNA/4XoUrkfhqj9oke18PzXSPy2yne+nxsM/j8L1KFyP0j9oke18PzXWP8HKoUW28+M/MQisHFpk2z8tsp3vp8bbP90kBoGVQ8s/",
          "dtype": "f8"
         },
         "y0": " ",
         "yaxis": "y"
        }
       ],
       "layout": {
        "annotations": [
         {
          "font": {
           "size": 15
          },
          "showarrow": false,
          "text": "*",
          "x": 0,
          "y": 0.97
         },
         {
          "font": {
           "size": 15
          },
          "showarrow": false,
          "text": "*",
          "x": 2,
          "y": 0.97
         }
        ],
        "boxmode": "group",
        "height": 500,
        "legend": {
         "title": {
          "text": "Medium Positive"
         },
         "tracegroupgap": 0
        },
        "margin": {
         "t": 60
        },
        "shapes": [
         {
          "line": {
           "color": "black",
           "width": 1
          },
          "type": "line",
          "x0": -0.2,
          "x1": 0.2,
          "y0": 0.95,
          "y1": 0.95
         },
         {
          "line": {
           "color": "black",
           "width": 1
          },
          "type": "line",
          "x0": -0.2,
          "x1": -0.2,
          "y0": 0.9299999999999999,
          "y1": 0.97
         },
         {
          "line": {
           "color": "black",
           "width": 1
          },
          "type": "line",
          "x0": 0.2,
          "x1": 0.2,
          "y0": 0.9299999999999999,
          "y1": 0.97
         },
         {
          "line": {
           "color": "black",
           "width": 1
          },
          "type": "line",
          "x0": 1.8,
          "x1": 2.2,
          "y0": 0.95,
          "y1": 0.95
         },
         {
          "line": {
           "color": "black",
           "width": 1
          },
          "type": "line",
          "x0": 1.8,
          "x1": 1.8,
          "y0": 0.9299999999999999,
          "y1": 0.97
         },
         {
          "line": {
           "color": "black",
           "width": 1
          },
          "type": "line",
          "x0": 2.2,
          "x1": 2.2,
          "y0": 0.9299999999999999,
          "y1": 0.97
         }
        ],
        "template": {
         "data": {
          "bar": [
           {
            "error_x": {
             "color": "#2a3f5f"
            },
            "error_y": {
             "color": "#2a3f5f"
            },
            "marker": {
             "line": {
              "color": "#E5ECF6",
              "width": 0.5
             },
             "pattern": {
              "fillmode": "overlay",
              "size": 10,
              "solidity": 0.2
             }
            },
            "type": "bar"
           }
          ],
          "barpolar": [
           {
            "marker": {
             "line": {
              "color": "#E5ECF6",
              "width": 0.5
             },
             "pattern": {
              "fillmode": "overlay",
              "size": 10,
              "solidity": 0.2
             }
            },
            "type": "barpolar"
           }
          ],
          "carpet": [
           {
            "aaxis": {
             "endlinecolor": "#2a3f5f",
             "gridcolor": "white",
             "linecolor": "white",
             "minorgridcolor": "white",
             "startlinecolor": "#2a3f5f"
            },
            "baxis": {
             "endlinecolor": "#2a3f5f",
             "gridcolor": "white",
             "linecolor": "white",
             "minorgridcolor": "white",
             "startlinecolor": "#2a3f5f"
            },
            "type": "carpet"
           }
          ],
          "choropleth": [
           {
            "colorbar": {
             "outlinewidth": 0,
             "ticks": ""
            },
            "type": "choropleth"
           }
          ],
          "contour": [
           {
            "colorbar": {
             "outlinewidth": 0,
             "ticks": ""
            },
            "colorscale": [
             [
              0,
              "#0d0887"
             ],
             [
              0.1111111111111111,
              "#46039f"
             ],
             [
              0.2222222222222222,
              "#7201a8"
             ],
             [
              0.3333333333333333,
              "#9c179e"
             ],
             [
              0.4444444444444444,
              "#bd3786"
             ],
             [
              0.5555555555555556,
              "#d8576b"
             ],
             [
              0.6666666666666666,
              "#ed7953"
             ],
             [
              0.7777777777777778,
              "#fb9f3a"
             ],
             [
              0.8888888888888888,
              "#fdca26"
             ],
             [
              1,
              "#f0f921"
             ]
            ],
            "type": "contour"
           }
          ],
          "contourcarpet": [
           {
            "colorbar": {
             "outlinewidth": 0,
             "ticks": ""
            },
            "type": "contourcarpet"
           }
          ],
          "heatmap": [
           {
            "colorbar": {
             "outlinewidth": 0,
             "ticks": ""
            },
            "colorscale": [
             [
              0,
              "#0d0887"
             ],
             [
              0.1111111111111111,
              "#46039f"
             ],
             [
              0.2222222222222222,
              "#7201a8"
             ],
             [
              0.3333333333333333,
              "#9c179e"
             ],
             [
              0.4444444444444444,
              "#bd3786"
             ],
             [
              0.5555555555555556,
              "#d8576b"
             ],
             [
              0.6666666666666666,
              "#ed7953"
             ],
             [
              0.7777777777777778,
              "#fb9f3a"
             ],
             [
              0.8888888888888888,
              "#fdca26"
             ],
             [
              1,
              "#f0f921"
             ]
            ],
            "type": "heatmap"
           }
          ],
          "histogram": [
           {
            "marker": {
             "pattern": {
              "fillmode": "overlay",
              "size": 10,
              "solidity": 0.2
             }
            },
            "type": "histogram"
           }
          ],
          "histogram2d": [
           {
            "colorbar": {
             "outlinewidth": 0,
             "ticks": ""
            },
            "colorscale": [
             [
              0,
              "#0d0887"
             ],
             [
              0.1111111111111111,
              "#46039f"
             ],
             [
              0.2222222222222222,
              "#7201a8"
             ],
             [
              0.3333333333333333,
              "#9c179e"
             ],
             [
              0.4444444444444444,
              "#bd3786"
             ],
             [
              0.5555555555555556,
              "#d8576b"
             ],
             [
              0.6666666666666666,
              "#ed7953"
             ],
             [
              0.7777777777777778,
              "#fb9f3a"
             ],
             [
              0.8888888888888888,
              "#fdca26"
             ],
             [
              1,
              "#f0f921"
             ]
            ],
            "type": "histogram2d"
           }
          ],
          "histogram2dcontour": [
           {
            "colorbar": {
             "outlinewidth": 0,
             "ticks": ""
            },
            "colorscale": [
             [
              0,
              "#0d0887"
             ],
             [
              0.1111111111111111,
              "#46039f"
             ],
             [
              0.2222222222222222,
              "#7201a8"
             ],
             [
              0.3333333333333333,
              "#9c179e"
             ],
             [
              0.4444444444444444,
              "#bd3786"
             ],
             [
              0.5555555555555556,
              "#d8576b"
             ],
             [
              0.6666666666666666,
              "#ed7953"
             ],
             [
              0.7777777777777778,
              "#fb9f3a"
             ],
             [
              0.8888888888888888,
              "#fdca26"
             ],
             [
              1,
              "#f0f921"
             ]
            ],
            "type": "histogram2dcontour"
           }
          ],
          "mesh3d": [
           {
            "colorbar": {
             "outlinewidth": 0,
             "ticks": ""
            },
            "type": "mesh3d"
           }
          ],
          "parcoords": [
           {
            "line": {
             "colorbar": {
              "outlinewidth": 0,
              "ticks": ""
             }
            },
            "type": "parcoords"
           }
          ],
          "pie": [
           {
            "automargin": true,
            "type": "pie"
           }
          ],
          "scatter": [
           {
            "fillpattern": {
             "fillmode": "overlay",
             "size": 10,
             "solidity": 0.2
            },
            "type": "scatter"
           }
          ],
          "scatter3d": [
           {
            "line": {
             "colorbar": {
              "outlinewidth": 0,
              "ticks": ""
             }
            },
            "marker": {
             "colorbar": {
              "outlinewidth": 0,
              "ticks": ""
             }
            },
            "type": "scatter3d"
           }
          ],
          "scattercarpet": [
           {
            "marker": {
             "colorbar": {
              "outlinewidth": 0,
              "ticks": ""
             }
            },
            "type": "scattercarpet"
           }
          ],
          "scattergeo": [
           {
            "marker": {
             "colorbar": {
              "outlinewidth": 0,
              "ticks": ""
             }
            },
            "type": "scattergeo"
           }
          ],
          "scattergl": [
           {
            "marker": {
             "colorbar": {
              "outlinewidth": 0,
              "ticks": ""
             }
            },
            "type": "scattergl"
           }
          ],
          "scattermap": [
           {
            "marker": {
             "colorbar": {
              "outlinewidth": 0,
              "ticks": ""
             }
            },
            "type": "scattermap"
           }
          ],
          "scattermapbox": [
           {
            "marker": {
             "colorbar": {
              "outlinewidth": 0,
              "ticks": ""
             }
            },
            "type": "scattermapbox"
           }
          ],
          "scatterpolar": [
           {
            "marker": {
             "colorbar": {
              "outlinewidth": 0,
              "ticks": ""
             }
            },
            "type": "scatterpolar"
           }
          ],
          "scatterpolargl": [
           {
            "marker": {
             "colorbar": {
              "outlinewidth": 0,
              "ticks": ""
             }
            },
            "type": "scatterpolargl"
           }
          ],
          "scatterternary": [
           {
            "marker": {
             "colorbar": {
              "outlinewidth": 0,
              "ticks": ""
             }
            },
            "type": "scatterternary"
           }
          ],
          "surface": [
           {
            "colorbar": {
             "outlinewidth": 0,
             "ticks": ""
            },
            "colorscale": [
             [
              0,
              "#0d0887"
             ],
             [
              0.1111111111111111,
              "#46039f"
             ],
             [
              0.2222222222222222,
              "#7201a8"
             ],
             [
              0.3333333333333333,
              "#9c179e"
             ],
             [
              0.4444444444444444,
              "#bd3786"
             ],
             [
              0.5555555555555556,
              "#d8576b"
             ],
             [
              0.6666666666666666,
              "#ed7953"
             ],
             [
              0.7777777777777778,
              "#fb9f3a"
             ],
             [
              0.8888888888888888,
              "#fdca26"
             ],
             [
              1,
              "#f0f921"
             ]
            ],
            "type": "surface"
           }
          ],
          "table": [
           {
            "cells": {
             "fill": {
              "color": "#EBF0F8"
             },
             "line": {
              "color": "white"
             }
            },
            "header": {
             "fill": {
              "color": "#C8D4E3"
             },
             "line": {
              "color": "white"
             }
            },
            "type": "table"
           }
          ]
         },
         "layout": {
          "annotationdefaults": {
           "arrowcolor": "#2a3f5f",
           "arrowhead": 0,
           "arrowwidth": 1
          },
          "autotypenumbers": "strict",
          "coloraxis": {
           "colorbar": {
            "outlinewidth": 0,
            "ticks": ""
           }
          },
          "colorscale": {
           "diverging": [
            [
             0,
             "#8e0152"
            ],
            [
             0.1,
             "#c51b7d"
            ],
            [
             0.2,
             "#de77ae"
            ],
            [
             0.3,
             "#f1b6da"
            ],
            [
             0.4,
             "#fde0ef"
            ],
            [
             0.5,
             "#f7f7f7"
            ],
            [
             0.6,
             "#e6f5d0"
            ],
            [
             0.7,
             "#b8e186"
            ],
            [
             0.8,
             "#7fbc41"
            ],
            [
             0.9,
             "#4d9221"
            ],
            [
             1,
             "#276419"
            ]
           ],
           "sequential": [
            [
             0,
             "#0d0887"
            ],
            [
             0.1111111111111111,
             "#46039f"
            ],
            [
             0.2222222222222222,
             "#7201a8"
            ],
            [
             0.3333333333333333,
             "#9c179e"
            ],
            [
             0.4444444444444444,
             "#bd3786"
            ],
            [
             0.5555555555555556,
             "#d8576b"
            ],
            [
             0.6666666666666666,
             "#ed7953"
            ],
            [
             0.7777777777777778,
             "#fb9f3a"
            ],
            [
             0.8888888888888888,
             "#fdca26"
            ],
            [
             1,
             "#f0f921"
            ]
           ],
           "sequentialminus": [
            [
             0,
             "#0d0887"
            ],
            [
             0.1111111111111111,
             "#46039f"
            ],
            [
             0.2222222222222222,
             "#7201a8"
            ],
            [
             0.3333333333333333,
             "#9c179e"
            ],
            [
             0.4444444444444444,
             "#bd3786"
            ],
            [
             0.5555555555555556,
             "#d8576b"
            ],
            [
             0.6666666666666666,
             "#ed7953"
            ],
            [
             0.7777777777777778,
             "#fb9f3a"
            ],
            [
             0.8888888888888888,
             "#fdca26"
            ],
            [
             1,
             "#f0f921"
            ]
           ]
          },
          "colorway": [
           "#636efa",
           "#EF553B",
           "#00cc96",
           "#ab63fa",
           "#FFA15A",
           "#19d3f3",
           "#FF6692",
           "#B6E880",
           "#FF97FF",
           "#FECB52"
          ],
          "font": {
           "color": "#2a3f5f"
          },
          "geo": {
           "bgcolor": "white",
           "lakecolor": "white",
           "landcolor": "#E5ECF6",
           "showlakes": true,
           "showland": true,
           "subunitcolor": "white"
          },
          "hoverlabel": {
           "align": "left"
          },
          "hovermode": "closest",
          "mapbox": {
           "style": "light"
          },
          "paper_bgcolor": "white",
          "plot_bgcolor": "#E5ECF6",
          "polar": {
           "angularaxis": {
            "gridcolor": "white",
            "linecolor": "white",
            "ticks": ""
           },
           "bgcolor": "#E5ECF6",
           "radialaxis": {
            "gridcolor": "white",
            "linecolor": "white",
            "ticks": ""
           }
          },
          "scene": {
           "xaxis": {
            "backgroundcolor": "#E5ECF6",
            "gridcolor": "white",
            "gridwidth": 2,
            "linecolor": "white",
            "showbackground": true,
            "ticks": "",
            "zerolinecolor": "white"
           },
           "yaxis": {
            "backgroundcolor": "#E5ECF6",
            "gridcolor": "white",
            "gridwidth": 2,
            "linecolor": "white",
            "showbackground": true,
            "ticks": "",
            "zerolinecolor": "white"
           },
           "zaxis": {
            "backgroundcolor": "#E5ECF6",
            "gridcolor": "white",
            "gridwidth": 2,
            "linecolor": "white",
            "showbackground": true,
            "ticks": "",
            "zerolinecolor": "white"
           }
          },
          "shapedefaults": {
           "line": {
            "color": "#2a3f5f"
           }
          },
          "ternary": {
           "aaxis": {
            "gridcolor": "white",
            "linecolor": "white",
            "ticks": ""
           },
           "baxis": {
            "gridcolor": "white",
            "linecolor": "white",
            "ticks": ""
           },
           "bgcolor": "#E5ECF6",
           "caxis": {
            "gridcolor": "white",
            "linecolor": "white",
            "ticks": ""
           }
          },
          "title": {
           "x": 0.05
          },
          "xaxis": {
           "automargin": true,
           "gridcolor": "white",
           "linecolor": "white",
           "ticks": "",
           "title": {
            "standoff": 15
           },
           "zerolinecolor": "white",
           "zerolinewidth": 2
          },
          "yaxis": {
           "automargin": true,
           "gridcolor": "white",
           "linecolor": "white",
           "ticks": "",
           "title": {
            "standoff": 15
           },
           "zerolinecolor": "white",
           "zerolinewidth": 2
          }
         }
        },
        "width": 500,
        "xaxis": {
         "anchor": "y",
         "domain": [
          0,
          1
         ],
         "title": {
          "text": "Player"
         }
        },
        "yaxis": {
         "anchor": "x",
         "domain": [
          0,
          1
         ],
         "range": [
          0,
          1
         ],
         "title": {
          "text": "Pr(Risky)"
         }
        }
       }
      }
     },
     "metadata": {},
     "output_type": "display_data"
    }
   ],
   "source": [
    "# hypothesis test of dependene between risky probability choice and medium sign per player\n",
    "from scipy.stats import ttest_ind\n",
    "# order test non parameteic\n",
    "from scipy.stats import mannwhitneyu\n",
    "for player, df in agg_per_problem.items():\n",
    "    print(f\"\\n\\n{player}\")\n",
    "    test = mannwhitneyu(df.query(\"Medium > 0\")[\"Choice\"], df.query(\"Medium < 0\")[\"Choice\"])\n",
    "    effect_size = df.query(\"Medium > 0\")[\"Choice\"].mean() - df.query(\"Medium < 0\")[\"Choice\"].mean()\n",
    "    print(test.pvalue, effect_size)\n",
    "    \n",
    "# visualzie the effect above\n",
    "agg_per_problem_concat[\"Medium Positive\"] = agg_per_problem_concat[\"Medium\"] > 0\n",
    "fig = px.box(agg_per_problem_concat, x=\"Player\", y=\"Choice\", color=\"Medium Positive\", width=500, height=500, labels={\"Choice\": \"Pr(Risky)\"}, color_discrete_map={True: \"red\", False: \"blue\"})\n",
    "# make y range [0,1]\n",
    "fig.update_yaxes(range=[0, 1])\n",
    "# add * astrick to the plot when p-value is significant\n",
    "for i, player in enumerate(agg_per_problem.keys()):\n",
    "    test = mannwhitneyu(agg_per_problem[player].query(\"Medium > 0\")[\"Choice\"], agg_per_problem[player].query(\"Medium < 0\")[\"Choice\"])\n",
    "    if test.pvalue < 0.05:\n",
    "        fig.add_annotation(x=i, y=0.97, text=\"*\", showarrow=False, font_size=15)\n",
    "        # small horizontal line between the two bars under the p-value astrick\n",
    "        fig.add_shape(type=\"line\", x0=i-0.2, x1=i+0.2, y0=0.95, y1=0.95, line=dict(color=\"black\", width=1))\n",
    "        # two sides of the line should end with a | \n",
    "        fig.add_shape(type=\"line\", x0=i-0.2, x1=i-0.2, y0=0.95-0.02, y1=0.95+0.02, line=dict(color=\"black\", width=1))\n",
    "        fig.add_shape(type=\"line\", x0=i+0.2, x1=i+0.2, y0=0.95-0.02, y1=0.95+0.02, line=dict(color=\"black\", width=1))\n",
    "\n",
    "fig.show()\n",
    "fig.write_image(f\"{fig_folder}/risky_vs_medium_sign.png\")\n",
    "    "
   ]
  },
  {
   "cell_type": "code",
   "execution_count": 12,
   "metadata": {},
   "outputs": [
    {
     "name": "stdout",
     "output_type": "stream",
     "text": [
      "Human: (120000, 12)\n",
      "AI Summary 20: (120000, 13)\n",
      "AI Full History: (120000, 13)\n"
     ]
    },
    {
     "data": {
      "application/vnd.plotly.v1+json": {
       "config": {
        "plotlyServerURL": "https://plot.ly"
       },
       "data": [
        {
         "hovertemplate": "First Risky High=False<br>Player=Human<br>Trial=%{x}<br>P(Risky)=%{y}<extra></extra>",
         "legendgroup": "False",
         "line": {
          "color": "red",
          "dash": "solid"
         },
         "marker": {
          "symbol": "circle"
         },
         "mode": "lines",
         "name": "False",
         "orientation": "v",
         "showlegend": true,
         "type": "scatter",
         "x": {
          "bdata": "AQIDBAUGBwgJCgsMDQ4PEBESExQVFhcYGRobHB0eHyAhIiMkJSYnKCkqKywtLi8wMTIzNDU2Nzg5Ojs8PT4/QEFCQ0RFRkdISUpLTE1OT1BRUlNUVVZXWFlaW1xdXl9gYWJjZA==",
          "dtype": "i1"
         },
         "xaxis": "x",
         "y": {
          "bdata": "w8qc2kBW4T+qfLogNu3gP2SN0d9Z/M0/BwgyC4a9yz8STfTDQmPQP+/7SxXsp8k/y2nSpqNPzT9roDQMXbvOP25S8xo1atE/T1B6U84F1D8PRm+zwTvOPwcU+S7DmtM/ZMcdj8px0T8mJZAjZkrTP9BdjXnsUdI/HPOuoCaE0j+oLiE8BnLSP9hLsTF8MtE/dK9WJqXF0j/XfuPOrKXQPwna7XoVldI/Q3mi5vRu0T9D6087GRLVP9Ch30VbEtY/EtUDW2EJ1j8dwBEFtevUP7bfuDNrKdI/orcD5Juk0z8I+xXgS3TTP5OZ1qdQStI/1yVaxMKYzz8XVLrPhvrUP5Jw/i0ajdI/GSBdLtfQ0D/5E95JciHTP/z+vQM8j9Q/dr5KUGNb0T/6bNJSnVPSPwXpibHLANA/rKysrKyszD94tPAsaaXRPwyUG6MqstE/BgVwA0Yq0z9oFrh0++3QP3da+yI9ctE/zR3nvXlr0T9IyH3H6FrTPzRCvF6wo9M/b7IrOR5U0D/M8w1DQq3QPy20psGL988/x2b5ph4Czj9Adp/j8WvOPzEhfQE1Csw/tslW8XAm0D+JTRHVmFzQP7qmGX//SdA/WalySQX3zD9WENiEZ97MP4+3ZgjFS84/uoNaFgiOyz+4qJmKe2zNP+1l3lbPR9A/FXBfJj60zT/eGleTzwvQP6vsO3Da2M4/p9qvQVplyz+gue7tWOzOP8j1t1E8hdE/VM3av/WJ0T+GM6uOmlXSP09UZ1+NT9E/qNzbRtoc0T/YPCgG/8HQP0fnDileXdA/uhabzqM1zj8gVb+9k7rPP7gwqSGaEtM/8uNpx3WC0j8GGjxDgFHSPwJTsfRte9A/gubRr6hr0j/4YyE9nHTSP+8jI44hZNA/Qpo1Smxz0D/QyIu6ERjQP5d6G0NdktE/hZ4+0X720T9iR30R6TnQPydHJIjeT9M/xHgt4pZL0D/V33D0kvvPP7OjlIV2Z9A/aMy3lY5R0D8QoSTDKwDNP+tOpRZS+dA/5AsmW1rF0D/+FYxFeLjNPyTdD1B10M8/DZCZlayNyj8=",
          "dtype": "f8"
         },
         "yaxis": "y"
        },
        {
         "hovertemplate": "First Risky High=False<br>Player=AI Summary 20<br>Trial=%{x}<br>P(Risky)=%{y}<extra></extra>",
         "legendgroup": "False",
         "line": {
          "color": "red",
          "dash": "solid"
         },
         "marker": {
          "symbol": "circle"
         },
         "mode": "lines",
         "name": "False",
         "orientation": "v",
         "showlegend": false,
         "type": "scatter",
         "x": {
          "bdata": "AQIDBAUGBwgJCgsMDQ4PEBESExQVFhcYGRobHB0eHyAhIiMkJSYnKCkqKywtLi8wMTIzNDU2Nzg5Ojs8PT4/QEFCQ0RFRkdISUpLTE1OT1BRUlNUVVZXWFlaW1xdXl9gYWJjZA==",
          "dtype": "i1"
         },
         "xaxis": "x2",
         "y": {
          "bdata": "oG9eNRZX5T8SZkjInGbeP78j++1Qz9s/uyzrDw9V3j/XUP1F/dLcP4EVSGIMQ+E/NELdpdGP1j9okSaqO4zhP1N1mmLKwdk/xBZ7yn1+3T8kYbAI3NHWPx0n3mbZkNI/VJjZTelO1D/L+i+ztOrPPwD9zSL95NU/a0dZLArr1T9i9Qa2kuPVP1W4Kxd7vdQ/mi899MAx2D8MQBJAH2vXP7TJ1Y9W09U/nIvmAgUL0z+1K3ixefPTP0rYYP21vNI/3DwgBytb1j89UdB/EmXXPwkyhotyHNQ/IOMDcInO1z/cYf1zeOfUPzMIA7s8sdc/zIMPJC8t1j8nvqNhjhrVP0y48wWKZ9c/HGLpYxeW0z8RHheuKBnXP8Tvq7xDG9c/uqPk64U31z80ahNKhfTUP8DjHQ6N4tU/IfTOfX/P1T/szPreLFLVP60jJmEBgtY/fdoQ5FM11D8JQsADkzXWPybKcmGa6dQ/RGMV8U9T1j8zj8aXC+XTP1z4PxXKs9Y/rKJOuLjc1D+kyIan8PDTPyP0WCwQ29Q/TFBQ7T0v1D+Uz13eZ+fTPx5BAxx1VdQ/9zsmysPQ1T8VcS4scubUP27WeauJzdQ/m6/63Flg1j+UaDMWkprUP4I3QKcaNNQ/TVlIBxSN0j/aRuIj4mXVP3mjwvzJL9M/SBbutmYH1T+5+zxBAo3VP8MaMoqjfdM/tGfGj8Zl1T9/N41oe2LSP1vItGLQAdU/aV+1V7HL0z+wLot9q+7SP2MbcE1cS9M/tMJsnwNI0T+26kgTSOvSP8KJwdhzStM/z273bEub0T+/j7XwQ6rTPwI8Vy4TY88/USNdzSpO0z/vN4TPdgbTP/6OfWuG1Mw/ZqsWgV5T0z8ScZzH1RjOPyg5DKcj2tI/bsMNuhMQ0T+8urMCF57RP/VwbrTaPdE/GyALdlJJ0T+D3R3eD1zRP52xZ98tb9A/VE1Risr50D+lcc5V+WHSPyHtSdF03dE/RNqiUqWv0D/4ZX+NI6fRP6G5fTZ3pdI/tNyAeTpo0j8ns48XuiTRP9EQhtzhhtI/9MIarDvM0D8=",
          "dtype": "f8"
         },
         "yaxis": "y2"
        },
        {
         "hovertemplate": "First Risky High=False<br>Player=AI Full History<br>Trial=%{x}<br>P(Risky)=%{y}<extra></extra>",
         "legendgroup": "False",
         "line": {
          "color": "red",
          "dash": "solid"
         },
         "marker": {
          "symbol": "circle"
         },
         "mode": "lines",
         "name": "False",
         "orientation": "v",
         "showlegend": false,
         "type": "scatter",
         "x": {
          "bdata": "AQIDBAUGBwgJCgsMDQ4PEBESExQVFhcYGRobHB0eHyAhIiMkJSYnKCkqKywtLi8wMTIzNDU2Nzg5Ojs8PT4/QEFCQ0RFRkdISUpLTE1OT1BRUlNUVVZXWFlaW1xdXl9gYWJjZA==",
          "dtype": "i1"
         },
         "xaxis": "x3",
         "y": {
          "bdata": "W9hHWzN54j+wW/Mj0gfgP4tH26BhMdY/bKRBhSuP4T+FMS9sievWPxtxLI5S1OA/4F353Rrb0T8GIoSG4LDhP8Mnp1oRvtQ/c03ImuMk3j/3tVWxOxbaP1GrX91uhts/BbIrGRYf2D8QUnf289DaP1vDUbOgUtc/GBkFfQTj3T+eO52qzVLTPxclpnQVn94/ik0YCBt12D+3P4riAPLaP//sF/zaUdg/ArkzWpY03j8EZcluOvjUP/z/a948f9s/ewt9AlnJ1z8P81jA1zPbP+nVlLPFldY/1dw/xP6I3T8+TVhBZ8/UP967KU3+T9o/7DnHq9ow2j/7OzTC14LXPzlQb4JgTdk/1evvTmWa2T9JOvAgDyfYP5wC8xZ8ndk/E8FVG+7E3D9Oa8SQqpbbP4puWCFgINs/RgkWe2Oy2T8msE2vvN/cP29NJPUFBN0/61mYIUmh1T+fKKol4YndP2mUWdUXOto/QihY4Otd2D/Y+B4kn5vaP4DpFKafNdg/pKUx8fGu1j/EmqqPcpjbP8dRFrBHIto/76vhgTCy1D/jdfvHL2jbP2HZVeI8Udo/2o/dEmfT1z/kPP7FeRHbPxIWgvRSldk/r2XVqa0O1z/yykFTKDLcPwkGNdaL1Ng/eA0LD//S2D9eJHq22NPZP5qHGnouj9c/Gx6wKIe+2D/lQ2gHZOrZP8plxqE6/dg/e7D4BL2K2j+HWGbntVbYP1X+HSlW+9k/+EAWvfR32T+5r3WGNRXZP5OQk3XNpto/+HJ0lKDb1D98NuTYaMncP6Y9/2rxYNc/ZpXK3mh02j/vncoUEv/UP78nz/7QAto/KK4r1BR71j/91rC2jcnXP0+51Ix6G9c/kk5dxemz2z/oKVeZ5YrTP3eZ6ce98d4/M8PD/LLE1z/3bDhyvTvcP3wAiFA/INg/n4f3hQCq2T+S9U/V8jXWP7F+5TOhJtw/flbHH5cm1j/oN1UfOPLcP1XKRaBwwtY/4q/GNSiB2j/4wDBt/jvZPziJB0XyFd0/lHFuRVZJ2D/PpJBVG4TbP/AudrG3zNg/v5YzSyAf1z8=",
          "dtype": "f8"
         },
         "yaxis": "y3"
        },
        {
         "hovertemplate": "First Risky High=True<br>Player=Human<br>Trial=%{x}<br>P(Risky)=%{y}<extra></extra>",
         "legendgroup": "True",
         "line": {
          "color": "blue",
          "dash": "solid"
         },
         "marker": {
          "symbol": "circle"
         },
         "mode": "lines",
         "name": "True",
         "orientation": "v",
         "showlegend": true,
         "type": "scatter",
         "x": {
          "bdata": "AQIDBAUGBwgJCgsMDQ4PEBESExQVFhcYGRobHB0eHyAhIiMkJSYnKCkqKywtLi8wMTIzNDU2Nzg5Ojs8PT4/QEFCQ0RFRkdISUpLTE1OT1BRUlNUVVZXWFlaW1xdXl9gYWJjZA==",
          "dtype": "i1"
         },
         "xaxis": "x",
         "y": {
          "bdata": "G9BmOZTe3T/AO0QzVRHhP6NEAIl3muY/J+1geUiq4j8V2FFeRXfjP5FWy+G0DuM/khcMI/VQ5T+jn6aYtHziP7fCqtp6OuM/+yXQeyTT5T8nedUcjqviP1xDdBLWTuM/mrV+7BDI4z9Plgcl6l/kPxW6cAPeKOM/EUzVwued4z/JexXiSHvkPwqpauft4OI//GiPQtyo4z90lVLYzOPjPwK5Sidu4OE/zEZQPWMX4z+uFkXooS7hP46DmG7CGuI/k17G9pVX4j8iwoECAQTiP2MkoaeatOI/6Z8xDlXH4j8DpWDp1/rgPzYyOipKCuA/UiR/yTRe3z93RKredUfgPxsEMdeKI+A/Sd6zCF+y3z8AYZ4jGS7gP9Ct8mh8VeE/PID5Buwh4j/U9LQ0NTTgP0h6Ft5ObeA/lLZw/OQT3j/ZeDq3vbDeP75aIpOxdOA/7H1cnxkl3j/ED3inSAbfPyQvGEbqoeA/3tXmxAiB4D8gnaGYqobeP1PR087YxOA/aBm2fO8J4T9NqfBhf0TgP5yhmKqGzt4/0ui5F1zT3D8JNN+INdzePxV/qlMBptw/Uq72ZYdE3j95HNZiSXzeP0mo6mVvXN4/fL45QzBW3j+ZPfWFZKfZP4DjG6uMyds/RLnPovxI3D+SaroaWtvcP4fYNnrzAN4/nBUjCD7S3T/nAcw3YA/dP1yUJQNIvt0/FPMys7Kz3T+8pNF3K8TaPya8j+g2mts/rbiiznYm2z/8fHt+eITcP10EtlIZjNo/DiX4UZ4F2z8U0FZJZC7aP/+HdplT39c/keU8jusw2j8dg7hNI3jaP+fv3gC9RN0/srerw5Pz2z9ZL4LcJ5HaPzwPaLYZU9g/QxRxtypE2T8Ih4mEjnraP6bnY2tceto/nDcBbpRH2T/j/cczXAvZP/jJJW7d/ts/R8TKvdej2z/BqtZ+Ls/ZP3mxQCJf5dg/21lbWF5S2j/kmC0EV7HYPwfqJK+aw9k/loKqWvq62T8kcdcKpHHaP7nbliANNNo/hOMjo6Sh1z+zWQuobuHXP7I5KUoIjNg/DLhfEK9x2D8=",
          "dtype": "f8"
         },
         "yaxis": "y"
        },
        {
         "hovertemplate": "First Risky High=True<br>Player=AI Summary 20<br>Trial=%{x}<br>P(Risky)=%{y}<extra></extra>",
         "legendgroup": "True",
         "line": {
          "color": "blue",
          "dash": "solid"
         },
         "marker": {
          "symbol": "circle"
         },
         "mode": "lines",
         "name": "True",
         "orientation": "v",
         "showlegend": false,
         "type": "scatter",
         "x": {
          "bdata": "AQIDBAUGBwgJCgsMDQ4PEBESExQVFhcYGRobHB0eHyAhIiMkJSYnKCkqKywtLi8wMTIzNDU2Nzg5Ojs8PT4/QEFCQ0RFRkdISUpLTE1OT1BRUlNUVVZXWFlaW1xdXl9gYWJjZA==",
          "dtype": "i1"
         },
         "xaxis": "x2",
         "y": {
          "bdata": "WELOZPwq4j84+anPfF/lP02PzIpP+uQ/aMcxLYOq4D9en0zn4jTkP0mQr/X9YuI/NhqvwGHi4z+WREipVm7hP4ZBZ4PFwOU/qWcSBTgV5D89rI8cuhjnP6WsYDyu8OQ/k5iFl00a5j+pKTaNu/vjPz2xMNn8dOQ/uOU2aymO4z+yFNP0KH/jPxFFeDQ2VeM/Qwf4U0sQ5T+kevNah3PjP+BvYkGZyOM/l5X8coj14z8wRewSDe/iPz3ZcrR4xuI/BVEKKELn4j/QXmevGoniP3cupyMfGuQ/74fRJPUa4T/aY8J6KhPjP4UxW+G5wOA/94Q0+yHq4T8Y0DD4j53hP1LDzI7CZ+E/j0Vjco+L4T8zsu1nUI/gP14w47p52+E/4keDVImO4D9dfV4xSebhP5jbsIfzyeE/MhN+OSza4T8uJfcHRGPgP3KUCD1Ns+A/y7pj6RhV4T/roACy2bnfP6KDcV8YeeA/smLVPjB53z+KaiLKpvbfP3KfI8aMB+A/6mpIgpv83z9KjBTq0D/fP8w4D4eQ3d4/KJZGa6UN3z/OZlqmhmDdP8yxn8arPd8/Q9lasxe13T/AawIbsa/dP74P+G52kt8/TkbDOVsr3j/CIgbUEx3fPyqziLAnyd0/8iWSRjA63z8yZYskESrgP87AnSCIjd4/HZ7x4tJf3j+0e3782d7dP4KdWu4cVt4/mDVv9vbC3D/qFU5NbtjgPyE0Znm0Nd4/Kg32Cfg73j+Z7OgTigjhP4y27QRajN0/sEgr/2ib4D/yaEHkC7DeP7K1POrZTt4/+ZySCQg53z+yOZkMptTdP0MddmyD4N4/6OejctiK3z/tG5mzcRbgP6DTeHBd4uA/PSpjhgAf4T9OeN4KmdXeP9BSQPaTUN8/AAPVIHMm3T9kIfTBOZTePz1riwNl19w/skV40LF+3j+ODlWa/VTcP0p6G/FQmNo/TDWddPwd3z/OYba1n+DdP/LdziYv7tw/wkCx0q+i3j9DzMnCawDdP+rEyFQs5d4/qDKfbBDB3T95bdMUWZveP0Xo7+247ds/Qh7aDY5N3z8=",
          "dtype": "f8"
         },
         "yaxis": "y2"
        },
        {
         "hovertemplate": "First Risky High=True<br>Player=AI Full History<br>Trial=%{x}<br>P(Risky)=%{y}<extra></extra>",
         "legendgroup": "True",
         "line": {
          "color": "blue",
          "dash": "solid"
         },
         "marker": {
          "symbol": "circle"
         },
         "mode": "lines",
         "name": "True",
         "orientation": "v",
         "showlegend": false,
         "type": "scatter",
         "x": {
          "bdata": "AQIDBAUGBwgJCgsMDQ4PEBESExQVFhcYGRobHB0eHyAhIiMkJSYnKCkqKywtLi8wMTIzNDU2Nzg5Ojs8PT4/QEFCQ0RFRkdISUpLTE1OT1BRUlNUVVZXWFlaW1xdXl9gYWJjZA==",
          "dtype": "i1"
         },
         "xaxis": "x3",
         "y": {
          "bdata": "iIa/pWWA4z8VTGQJ8mjlP3m2hRTxv+I/YBIBQKJe4z+ZNumevtzhP6/AHnksR+A/Exwn4M4c4D+57jougrrcP97jWY+ZS+A/BWpwtFC63T+bgS4wq3rhP0f68nOUWN8/Rnc7ZTIS4z8Lxeq0/jbgP0tRFzY6UOI/zfQAobI93z8ppOWGV53gP+ws0vbj9t8/BhIvZLmY4D/zSj1u8MrcP6C/lkMsYuE/hb52l0+K3j9+tAEV7NvhPzaZ8EamkN8/OTTVmGVZ4j9hsKnnXTffP5XVKpHMI+E/HyI0uxgB2j+CBdu/KY3gPzGrmch+g9Y/dhqBTlnq3T/LYuBSQwbZP4C78GJymN8/Ap4b+D6Z2D+WBOjOgUPgP288OohDTNY/NezL+pN63D/ZERPCGI/XP0qRO+cwht8/ydRUYcjB1j/cDrNN2BHgP8YZXPoKXdg/jApKBlcV4D/KFszQFcXZP8XO40NRp90/rQ1G9jn41z9VozlD+WneP1VKTGt6z9Q/OqSzAcNn4T/iYpWEzkDXP3OxRlDCt+A/roM556kS2j+13LN1QfzeP7k5/dFTJNc/E/Xd6w494D/Qoiud3hvXP8IVeZAn2Ns/hRVfpIUB2T/eg6b3chzbP2NXDPcIM9c/sEIhwxni3z8KVHM44orWP777kdJJWN0/sAj78Vve2D84xoftWc/cPysDbcRCLtY/PtrPruDU3j+nuA1cwjrWP9BTd+B/et0/BTjK0XO62z+rr6OtQaXfP6Y8IQMo+NY/1rbugaB/4D95xjgcAYzWP660APjuQN0/9JXAKuCD1T+sGVDVft3bP/4ZUJBHA9I/fleeKN0+4D/Sp2h5Ee3RP35UvMEkTN0/MylBfMZR1T+5FQrxWkbgP6c961cMmdY/ZutlzrOL4T/VNCiT6AvWPwvjf+7SZuA/VzIOzojn1j9OPjFpvWjgP/nXLC4UYtU/F49z10SX4D/JltuLpcHRP5CuMAlYJeA/UL7vqQSw1D+V4Vf/4rzfP24nmFK6Vdc/0OL6c9M54D8QKEvOtiTWP1SCSa9SJN8/XLa6HGze1T8=",
          "dtype": "f8"
         },
         "yaxis": "y3"
        }
       ],
       "layout": {
        "annotations": [
         {
          "font": {},
          "showarrow": false,
          "text": "Player=Human",
          "x": 0.15999999999999998,
          "xanchor": "center",
          "xref": "paper",
          "y": 1,
          "yanchor": "bottom",
          "yref": "paper"
         },
         {
          "font": {},
          "showarrow": false,
          "text": "Player=AI Summary 20",
          "x": 0.49999999999999994,
          "xanchor": "center",
          "xref": "paper",
          "y": 1,
          "yanchor": "bottom",
          "yref": "paper"
         },
         {
          "font": {},
          "showarrow": false,
          "text": "Player=AI Full History",
          "x": 0.8399999999999999,
          "xanchor": "center",
          "xref": "paper",
          "y": 1,
          "yanchor": "bottom",
          "yref": "paper"
         }
        ],
        "height": 500,
        "legend": {
         "title": {
          "text": "First Risky High"
         },
         "tracegroupgap": 0
        },
        "template": {
         "data": {
          "bar": [
           {
            "error_x": {
             "color": "#2a3f5f"
            },
            "error_y": {
             "color": "#2a3f5f"
            },
            "marker": {
             "line": {
              "color": "#E5ECF6",
              "width": 0.5
             },
             "pattern": {
              "fillmode": "overlay",
              "size": 10,
              "solidity": 0.2
             }
            },
            "type": "bar"
           }
          ],
          "barpolar": [
           {
            "marker": {
             "line": {
              "color": "#E5ECF6",
              "width": 0.5
             },
             "pattern": {
              "fillmode": "overlay",
              "size": 10,
              "solidity": 0.2
             }
            },
            "type": "barpolar"
           }
          ],
          "carpet": [
           {
            "aaxis": {
             "endlinecolor": "#2a3f5f",
             "gridcolor": "white",
             "linecolor": "white",
             "minorgridcolor": "white",
             "startlinecolor": "#2a3f5f"
            },
            "baxis": {
             "endlinecolor": "#2a3f5f",
             "gridcolor": "white",
             "linecolor": "white",
             "minorgridcolor": "white",
             "startlinecolor": "#2a3f5f"
            },
            "type": "carpet"
           }
          ],
          "choropleth": [
           {
            "colorbar": {
             "outlinewidth": 0,
             "ticks": ""
            },
            "type": "choropleth"
           }
          ],
          "contour": [
           {
            "colorbar": {
             "outlinewidth": 0,
             "ticks": ""
            },
            "colorscale": [
             [
              0,
              "#0d0887"
             ],
             [
              0.1111111111111111,
              "#46039f"
             ],
             [
              0.2222222222222222,
              "#7201a8"
             ],
             [
              0.3333333333333333,
              "#9c179e"
             ],
             [
              0.4444444444444444,
              "#bd3786"
             ],
             [
              0.5555555555555556,
              "#d8576b"
             ],
             [
              0.6666666666666666,
              "#ed7953"
             ],
             [
              0.7777777777777778,
              "#fb9f3a"
             ],
             [
              0.8888888888888888,
              "#fdca26"
             ],
             [
              1,
              "#f0f921"
             ]
            ],
            "type": "contour"
           }
          ],
          "contourcarpet": [
           {
            "colorbar": {
             "outlinewidth": 0,
             "ticks": ""
            },
            "type": "contourcarpet"
           }
          ],
          "heatmap": [
           {
            "colorbar": {
             "outlinewidth": 0,
             "ticks": ""
            },
            "colorscale": [
             [
              0,
              "#0d0887"
             ],
             [
              0.1111111111111111,
              "#46039f"
             ],
             [
              0.2222222222222222,
              "#7201a8"
             ],
             [
              0.3333333333333333,
              "#9c179e"
             ],
             [
              0.4444444444444444,
              "#bd3786"
             ],
             [
              0.5555555555555556,
              "#d8576b"
             ],
             [
              0.6666666666666666,
              "#ed7953"
             ],
             [
              0.7777777777777778,
              "#fb9f3a"
             ],
             [
              0.8888888888888888,
              "#fdca26"
             ],
             [
              1,
              "#f0f921"
             ]
            ],
            "type": "heatmap"
           }
          ],
          "histogram": [
           {
            "marker": {
             "pattern": {
              "fillmode": "overlay",
              "size": 10,
              "solidity": 0.2
             }
            },
            "type": "histogram"
           }
          ],
          "histogram2d": [
           {
            "colorbar": {
             "outlinewidth": 0,
             "ticks": ""
            },
            "colorscale": [
             [
              0,
              "#0d0887"
             ],
             [
              0.1111111111111111,
              "#46039f"
             ],
             [
              0.2222222222222222,
              "#7201a8"
             ],
             [
              0.3333333333333333,
              "#9c179e"
             ],
             [
              0.4444444444444444,
              "#bd3786"
             ],
             [
              0.5555555555555556,
              "#d8576b"
             ],
             [
              0.6666666666666666,
              "#ed7953"
             ],
             [
              0.7777777777777778,
              "#fb9f3a"
             ],
             [
              0.8888888888888888,
              "#fdca26"
             ],
             [
              1,
              "#f0f921"
             ]
            ],
            "type": "histogram2d"
           }
          ],
          "histogram2dcontour": [
           {
            "colorbar": {
             "outlinewidth": 0,
             "ticks": ""
            },
            "colorscale": [
             [
              0,
              "#0d0887"
             ],
             [
              0.1111111111111111,
              "#46039f"
             ],
             [
              0.2222222222222222,
              "#7201a8"
             ],
             [
              0.3333333333333333,
              "#9c179e"
             ],
             [
              0.4444444444444444,
              "#bd3786"
             ],
             [
              0.5555555555555556,
              "#d8576b"
             ],
             [
              0.6666666666666666,
              "#ed7953"
             ],
             [
              0.7777777777777778,
              "#fb9f3a"
             ],
             [
              0.8888888888888888,
              "#fdca26"
             ],
             [
              1,
              "#f0f921"
             ]
            ],
            "type": "histogram2dcontour"
           }
          ],
          "mesh3d": [
           {
            "colorbar": {
             "outlinewidth": 0,
             "ticks": ""
            },
            "type": "mesh3d"
           }
          ],
          "parcoords": [
           {
            "line": {
             "colorbar": {
              "outlinewidth": 0,
              "ticks": ""
             }
            },
            "type": "parcoords"
           }
          ],
          "pie": [
           {
            "automargin": true,
            "type": "pie"
           }
          ],
          "scatter": [
           {
            "fillpattern": {
             "fillmode": "overlay",
             "size": 10,
             "solidity": 0.2
            },
            "type": "scatter"
           }
          ],
          "scatter3d": [
           {
            "line": {
             "colorbar": {
              "outlinewidth": 0,
              "ticks": ""
             }
            },
            "marker": {
             "colorbar": {
              "outlinewidth": 0,
              "ticks": ""
             }
            },
            "type": "scatter3d"
           }
          ],
          "scattercarpet": [
           {
            "marker": {
             "colorbar": {
              "outlinewidth": 0,
              "ticks": ""
             }
            },
            "type": "scattercarpet"
           }
          ],
          "scattergeo": [
           {
            "marker": {
             "colorbar": {
              "outlinewidth": 0,
              "ticks": ""
             }
            },
            "type": "scattergeo"
           }
          ],
          "scattergl": [
           {
            "marker": {
             "colorbar": {
              "outlinewidth": 0,
              "ticks": ""
             }
            },
            "type": "scattergl"
           }
          ],
          "scattermap": [
           {
            "marker": {
             "colorbar": {
              "outlinewidth": 0,
              "ticks": ""
             }
            },
            "type": "scattermap"
           }
          ],
          "scattermapbox": [
           {
            "marker": {
             "colorbar": {
              "outlinewidth": 0,
              "ticks": ""
             }
            },
            "type": "scattermapbox"
           }
          ],
          "scatterpolar": [
           {
            "marker": {
             "colorbar": {
              "outlinewidth": 0,
              "ticks": ""
             }
            },
            "type": "scatterpolar"
           }
          ],
          "scatterpolargl": [
           {
            "marker": {
             "colorbar": {
              "outlinewidth": 0,
              "ticks": ""
             }
            },
            "type": "scatterpolargl"
           }
          ],
          "scatterternary": [
           {
            "marker": {
             "colorbar": {
              "outlinewidth": 0,
              "ticks": ""
             }
            },
            "type": "scatterternary"
           }
          ],
          "surface": [
           {
            "colorbar": {
             "outlinewidth": 0,
             "ticks": ""
            },
            "colorscale": [
             [
              0,
              "#0d0887"
             ],
             [
              0.1111111111111111,
              "#46039f"
             ],
             [
              0.2222222222222222,
              "#7201a8"
             ],
             [
              0.3333333333333333,
              "#9c179e"
             ],
             [
              0.4444444444444444,
              "#bd3786"
             ],
             [
              0.5555555555555556,
              "#d8576b"
             ],
             [
              0.6666666666666666,
              "#ed7953"
             ],
             [
              0.7777777777777778,
              "#fb9f3a"
             ],
             [
              0.8888888888888888,
              "#fdca26"
             ],
             [
              1,
              "#f0f921"
             ]
            ],
            "type": "surface"
           }
          ],
          "table": [
           {
            "cells": {
             "fill": {
              "color": "#EBF0F8"
             },
             "line": {
              "color": "white"
             }
            },
            "header": {
             "fill": {
              "color": "#C8D4E3"
             },
             "line": {
              "color": "white"
             }
            },
            "type": "table"
           }
          ]
         },
         "layout": {
          "annotationdefaults": {
           "arrowcolor": "#2a3f5f",
           "arrowhead": 0,
           "arrowwidth": 1
          },
          "autotypenumbers": "strict",
          "coloraxis": {
           "colorbar": {
            "outlinewidth": 0,
            "ticks": ""
           }
          },
          "colorscale": {
           "diverging": [
            [
             0,
             "#8e0152"
            ],
            [
             0.1,
             "#c51b7d"
            ],
            [
             0.2,
             "#de77ae"
            ],
            [
             0.3,
             "#f1b6da"
            ],
            [
             0.4,
             "#fde0ef"
            ],
            [
             0.5,
             "#f7f7f7"
            ],
            [
             0.6,
             "#e6f5d0"
            ],
            [
             0.7,
             "#b8e186"
            ],
            [
             0.8,
             "#7fbc41"
            ],
            [
             0.9,
             "#4d9221"
            ],
            [
             1,
             "#276419"
            ]
           ],
           "sequential": [
            [
             0,
             "#0d0887"
            ],
            [
             0.1111111111111111,
             "#46039f"
            ],
            [
             0.2222222222222222,
             "#7201a8"
            ],
            [
             0.3333333333333333,
             "#9c179e"
            ],
            [
             0.4444444444444444,
             "#bd3786"
            ],
            [
             0.5555555555555556,
             "#d8576b"
            ],
            [
             0.6666666666666666,
             "#ed7953"
            ],
            [
             0.7777777777777778,
             "#fb9f3a"
            ],
            [
             0.8888888888888888,
             "#fdca26"
            ],
            [
             1,
             "#f0f921"
            ]
           ],
           "sequentialminus": [
            [
             0,
             "#0d0887"
            ],
            [
             0.1111111111111111,
             "#46039f"
            ],
            [
             0.2222222222222222,
             "#7201a8"
            ],
            [
             0.3333333333333333,
             "#9c179e"
            ],
            [
             0.4444444444444444,
             "#bd3786"
            ],
            [
             0.5555555555555556,
             "#d8576b"
            ],
            [
             0.6666666666666666,
             "#ed7953"
            ],
            [
             0.7777777777777778,
             "#fb9f3a"
            ],
            [
             0.8888888888888888,
             "#fdca26"
            ],
            [
             1,
             "#f0f921"
            ]
           ]
          },
          "colorway": [
           "#636efa",
           "#EF553B",
           "#00cc96",
           "#ab63fa",
           "#FFA15A",
           "#19d3f3",
           "#FF6692",
           "#B6E880",
           "#FF97FF",
           "#FECB52"
          ],
          "font": {
           "color": "#2a3f5f"
          },
          "geo": {
           "bgcolor": "white",
           "lakecolor": "white",
           "landcolor": "#E5ECF6",
           "showlakes": true,
           "showland": true,
           "subunitcolor": "white"
          },
          "hoverlabel": {
           "align": "left"
          },
          "hovermode": "closest",
          "mapbox": {
           "style": "light"
          },
          "paper_bgcolor": "white",
          "plot_bgcolor": "#E5ECF6",
          "polar": {
           "angularaxis": {
            "gridcolor": "white",
            "linecolor": "white",
            "ticks": ""
           },
           "bgcolor": "#E5ECF6",
           "radialaxis": {
            "gridcolor": "white",
            "linecolor": "white",
            "ticks": ""
           }
          },
          "scene": {
           "xaxis": {
            "backgroundcolor": "#E5ECF6",
            "gridcolor": "white",
            "gridwidth": 2,
            "linecolor": "white",
            "showbackground": true,
            "ticks": "",
            "zerolinecolor": "white"
           },
           "yaxis": {
            "backgroundcolor": "#E5ECF6",
            "gridcolor": "white",
            "gridwidth": 2,
            "linecolor": "white",
            "showbackground": true,
            "ticks": "",
            "zerolinecolor": "white"
           },
           "zaxis": {
            "backgroundcolor": "#E5ECF6",
            "gridcolor": "white",
            "gridwidth": 2,
            "linecolor": "white",
            "showbackground": true,
            "ticks": "",
            "zerolinecolor": "white"
           }
          },
          "shapedefaults": {
           "line": {
            "color": "#2a3f5f"
           }
          },
          "ternary": {
           "aaxis": {
            "gridcolor": "white",
            "linecolor": "white",
            "ticks": ""
           },
           "baxis": {
            "gridcolor": "white",
            "linecolor": "white",
            "ticks": ""
           },
           "bgcolor": "#E5ECF6",
           "caxis": {
            "gridcolor": "white",
            "linecolor": "white",
            "ticks": ""
           }
          },
          "title": {
           "x": 0.05
          },
          "xaxis": {
           "automargin": true,
           "gridcolor": "white",
           "linecolor": "white",
           "ticks": "",
           "title": {
            "standoff": 15
           },
           "zerolinecolor": "white",
           "zerolinewidth": 2
          },
          "yaxis": {
           "automargin": true,
           "gridcolor": "white",
           "linecolor": "white",
           "ticks": "",
           "title": {
            "standoff": 15
           },
           "zerolinecolor": "white",
           "zerolinewidth": 2
          }
         }
        },
        "title": {
         "text": "Primacy Effect Human"
        },
        "width": 800,
        "xaxis": {
         "anchor": "y",
         "domain": [
          0,
          0.31999999999999995
         ],
         "title": {
          "text": "Trial"
         }
        },
        "xaxis2": {
         "anchor": "y2",
         "domain": [
          0.33999999999999997,
          0.6599999999999999
         ],
         "matches": "x",
         "title": {
          "text": "Trial"
         }
        },
        "xaxis3": {
         "anchor": "y3",
         "domain": [
          0.6799999999999999,
          0.9999999999999999
         ],
         "matches": "x",
         "title": {
          "text": "Trial"
         }
        },
        "yaxis": {
         "anchor": "x",
         "domain": [
          0,
          1
         ],
         "title": {
          "text": "P(Risky)"
         }
        },
        "yaxis2": {
         "anchor": "x2",
         "domain": [
          0,
          1
         ],
         "matches": "y",
         "showticklabels": false
        },
        "yaxis3": {
         "anchor": "x3",
         "domain": [
          0,
          1
         ],
         "matches": "y",
         "showticklabels": false
        }
       }
      }
     },
     "metadata": {},
     "output_type": "display_data"
    }
   ],
   "source": [
    "# measure primacy effect\n",
    "primacy_effect = {}\n",
    "for name, df in raw_data.items():\n",
    "    print(f\"{name}: {df.shape}\")\n",
    "    primacy_effect[name] = get_primacy_effect(df)\n",
    "\n",
    "primacy_effect_concat = pd.concat(primacy_effect, keys=primacy_effect.keys(), names=[\"Player\"]).reset_index().drop(\"level_1\", axis=1)\n",
    "fig = px.line(\n",
    "    primacy_effect_concat,\n",
    "    x=\"Trial\",\n",
    "    y=\"Choice\",\n",
    "    color=\"First Risky High\",\n",
    "    facet_col=\"Player\",\n",
    "    width=800,\n",
    "    height=500,\n",
    "    title=\"Primacy Effect Human\",\n",
    "    color_discrete_map={True: \"blue\", False: \"red\"},\n",
    "    labels={\"Choice\": \"P(Risky)\", \"Trial\": \"Trial\"},\n",
    ")\n",
    "fig.show()\n",
    "fig.write_image(f\"{fig_folder}/primacy_effect_across_players.png\")"
   ]
  },
  {
   "cell_type": "markdown",
   "metadata": {},
   "source": [
    "# TODO:\n",
    "1. memory cutoff of 20 trials WITHOUT summarization\n",
    "2. correct logging of summarization so that we can correlate the trace with summarization\n",
    "3. recency - P(risky | high) - P(risky |low)"
   ]
  },
  {
   "cell_type": "code",
   "execution_count": 42,
   "metadata": {},
   "outputs": [
    {
     "name": "stdout",
     "output_type": "stream",
     "text": [
      "Human: (120000, 12)\n",
      "AI Summary 20: (120000, 13)\n",
      "AI Full History: (120000, 13)\n"
     ]
    },
    {
     "data": {
      "application/vnd.plotly.v1+json": {
       "config": {
        "plotlyServerURL": "https://plot.ly"
       },
       "data": [
        {
         "hovertemplate": "Player=Human<br>P(Risky|Previous Low)=%{x}<br>P(Risky|Previous High)=%{y}<br>Medium=%{marker.color}<extra></extra>",
         "legendgroup": "",
         "marker": {
          "color": {
           "bdata": "MzMzMzMz078AAAAAAADwv2ZmZmZmZijAmpmZmZmZOcBmZmZmZmYSwGZmZmZmZiFAZmZmZmZmFkAAAAAAAAAewAAAAAAAAC9AmpmZmZkZMUBmZmZmZmYiQM3MzMzMzCNAZmZmZmZm/r+amZmZmZkZwGZmZmZmZifAAAAAAAAAGMCamZmZmZkZwJqZmZmZmRPAMzMzMzMz8z9mZmZmZmYSQJqZmZmZmQFAAAAAAAAAIEAzMzMzMzMlQJqZmZmZGTJAZmZmZmZmGMDNzMzMzMz8vzMzMzMzMyjAmpmZmZmZGcAAAAAAAAAcQGZmZmZmZvY/mpmZmZmZGUBmZmZmZmYWQM3MzMzMzCNAZmZmZmZmBkCamZmZmZkpQAAAAAAAAOA/zczMzMzMIsAAAAAAAAAvwGZmZmZmZjnAMzMzMzOzMsAzMzMzMzMbQGZmZmZmZhDAmpmZmZmZAUCamZmZmZkfwAAAAAAAACdAAAAAAAAAHEAAAAAAAAAmQDMzMzMzMzlAzczMzMzMN8AzMzMzMzMgwM3MzMzMzCDAAAAAAAAAEsDNzMzMzMz0P2ZmZmZmZhTAmpmZmZmZG8CamZmZmZkXQJqZmZmZmR9AMzMzMzOzNEAAAAAAAAAYQM3MzMzMzB5A",
           "dtype": "f8"
          },
          "coloraxis": "coloraxis",
          "symbol": "circle"
         },
         "mode": "markers",
         "name": "",
         "orientation": "v",
         "showlegend": false,
         "type": "scatter",
         "x": {
          "bdata": "q6qqqqqq2j+nDXTaQKfhPzpWuQgqT9s/c0maiwQL3j+KlttGXGzVPz31hqJb7do/A2giacI13z9QGnD8UEfNP/QBDokiXeU/6xbVt+Oh5z+mLiy92c7uP3h3d3d3d+c/Da6RESfc1T+amZmZmZnZPybHPSDF59o/mi5GT+ew2T9cIsfEh/PVPzgWoV1FPtI/cMdDCWHd3j8DMZco+WriPw6+PHE9VeE/gxVNLA7l3j9P3G1GavHWPwAAAAAAANg/Cu0ltJfQ4j+ovW7Dh9rbP9qgpT8W2ds/WcR4vyrf4T+MJb9Y8ovgP5TWAscJNuI/ra2tra2t5T9T9LA3KkXfPxZHNQ0zyNE/8l5iL9JZ3D+IoLcbeAjmP131uDJImdk/E0CPR1nN0j8hsiLgQO7lP2ff+tqCtdU/oGvjqLny2z/56OSjk4/mPwiWtJ55hNY/nkOgahBt3z/ysHPXv8PRPzjybouxVsE/VmUYzxc51z8RERERERHhP3oUrkfheuY/hQez9l0j3T/DI5J445fcPxoqO0xdbts/jCW/WPKLxT9amJBx9QTTP9CDxeakLd4/LqETVHEb4z9VVVVVVVXXP1OWznOc2d4/q6qqqqqq2j9W8M1yn1jfPwuEkXasQNg/",
          "dtype": "f8"
         },
         "xaxis": "x",
         "y": {
          "bdata": "LOFBCvDU4T+a8xg2M1rsP/5kGNmFUOY/n+vV/ug+6z+N4ziO4zjuPyoFkr4Ci+Y/3XCxWW045z8AAAAAAADsPz3vDFq7Y+s/Z51OlHyZ7D8zMzMzMzPvPyOCX4VOq+s/64Mh0STj6D9mtaJQPjbqP03YWuIFQ+Q/S63USq3U6j8AAAAAAADwP5mZmZmZmek/4DvSaScI6z8C0fUTx5flPzciTThty+g/4btJyl7V6D/oeZ7neZ7nPyBhNoP00+o/8ibG+0IO6T9aNbJARczmPwAAAAAAAPA/OnXm01yt6T++gQxnhUTqPz0rf4NTl+c/6F1zFPVY5z/bB1UMSC/nP6pn8OToINo/kiRJkiRJ6j+G6m4ayYvpP2/GlL3DM+k/AAAAAAAA4D/IYmhw3M/rP3me53me5+k/k18s+cWS5z+VfjimIATtPwAAAAAAAPA/QM5eBDUP6T8K16NwPQrnP5JfLPnFkuc/AAAAAAAA8D8uZIWrr4DrPxIJpCf6dew/X/EVX/EV5z+RI5bWOvPiP0A2FBvhJOc/qzPLHTZp2z8hVNA+nenhP0J7Ce0ltOM/TFfHp4rR6j9SEnl4R0XoP/BwdSBtYeE/8hlzyppI5z8KVLxwQMzgPwf0otur/uc/",
          "dtype": "f8"
         },
         "yaxis": "y"
        },
        {
         "hovertemplate": "Player=AI Summary 20<br>P(Risky|Previous Low)=%{x}<br>P(Risky|Previous High)=%{y}<br>Medium=%{marker.color}<extra></extra>",
         "legendgroup": "",
         "marker": {
          "color": {
           "bdata": "ZmZmZmZmBkAzMzMzMzPTv2ZmZmZmZhJAzczMzMzMI0DNzMzMzMweQAAAAAAAABLAAAAAAAAAGEAAAAAAAAAvQAAAAAAAABjAZmZmZmZm/r+amZmZmZkfQGZmZmZmZhZAZmZmZmZmGMCamZmZmZkBQJqZmZmZmRlAZmZmZmZmEMDNzMzMzMw3wAAAAAAAACZAmpmZmZmZF0AAAAAAAADwvwAAAAAAAC/AMzMzMzOzMsBmZmZmZmYnwDMzMzMzM/M/MzMzMzMzKMCamZmZmRkxQDMzMzMzMzlAzczMzMzMI0BmZmZmZmYWQJqZmZmZmR/AAAAAAAAAJ0AzMzMzM7M0QM3MzMzMzPQ/AAAAAAAAHEAAAAAAAADgP2ZmZmZmZiJAMzMzMzMzG0BmZmZmZmYhQGZmZmZmZhTAMzMzMzMzIMCamZmZmZkZwJqZmZmZmRPAzczMzMzM/L/NzMzMzMwgwDMzMzMzMyVAAAAAAAAAHsAAAAAAAAAcQGZmZmZmZijAmpmZmZmZOcCamZmZmZkbwGZmZmZmZvY/ZmZmZmZmOcDNzMzMzMwiwJqZmZmZmRnAmpmZmZmZKUCamZmZmRkyQJqZmZmZmRnAmpmZmZmZAUAAAAAAAAAgQGZmZmZmZhLA",
           "dtype": "f8"
          },
          "coloraxis": "coloraxis",
          "symbol": "circle"
         },
         "mode": "markers",
         "name": "",
         "orientation": "v",
         "showlegend": false,
         "type": "scatter",
         "x": {
          "bdata": "XbIQ5XKe6j+1YAu2YAvGPxZswRZswcY/pB0rEEba5T+8u7u7u7vLP+VKTO484a4/99FXtXjS6j/5VGHkwv7ePyqXog5qQtQ/MGjp/DS2yT9zAsRNG4DjP5/neZ7neb4/ewntJbSXwD/QBE3QBE3cP8aSXyz5xdI/xAqraaZ1yT+Garmup3/DP1VVVVVVVeA/u7u7u7u7yz8soUgevBLiPwBhU/ZAfN0/hMAgAx5zwD8WzH2hwhbXP1VVVVVVVaU/MVFddnkmuT/45tXEs6LhPw502kCnDdw/Awce1Ew11T8+MEenmbCwP0uEYqQFk7Y/sOmBkquA6D+SJEmSJEniPxzHcRzHcaw/ttISU5K/5j94OC8F6QvMP773cUeICO8/AAAAAAAA0D/MAruTdNfKP9JDabCfDsM/F05vCX5DyD8z8dcobUbGP4UACxG1bro/rrDXR0pxwT+6mCAq8RvVPyV8hKcHS+o/RX8nq+WNkT/cpyCWkMPRP7dTNj4bCNM/XPWcN7dj0j9vKyi5uTHTP5qZmZmZmak/SjfwHpV7xT99c+LRyDenP4rdC/FDctM/jSw9pImx4T/kOI7jOI7jP+0b1r5h7as/H/iBH/iBrz/5LUJkt97jPzLb4keQ87o/",
          "dtype": "f8"
         },
         "xaxis": "x2",
         "y": {
          "bdata": "AAAAAAAA8D8d2iNTnfTKPx7Le7VFrus/Aodppp047j81Aa58IenvP4M24LF0Vek/RhdddNFF7z/zP0It0MzjP27btm3btu0/3nHZwHf17D8nK5hpU57vPwAAAAAAwO8//iLlEIA57D/stm7rtm7vP6PvPzmp3+8/AAAAAAAA8D8dx3Ecx3HkP+WRUoRDwe8/Rs313KH37z/SUgixMAvtP/P3iMiHj+0/VVVVVVVV5T/wzjcluqPsPxKgvk1Gxe8/AAAAAAAA8D/QoGKqS6voP4Njkofs6O8/AAAAAAAA8D9JL3Nv4f7YPwAAAAAAAO8/AAAAAAAA8D8i+hnWS/nvP1t/yFp/yO4/AAAAAAAA8D8AAAAAAADwP9evFKj1K+8/C3lyNdd27z9sW2B9F4DiPwAAAAAAAPA/ZA2kGbqn5j8AAAAAAAAAAAAAAAAAAOY/yqxrTIna7D8NYzBzOoTsPwAAAAAAAPA/AAAAAAAA4D9zAhtbdrHvP36RwtPmV94//JsWsRq82T+10ZgKJ+7vPzmqRmLCmu8/iIiIiIiI6D8wDMMwDMPoPyoU9XGimOw/LUdFfEHq7z/1rVusi5PvP/Oaexbc+eo/PP75UbCK7z8XXXTRRRftP2DvmBrYO9Y/",
          "dtype": "f8"
         },
         "yaxis": "y2"
        },
        {
         "hovertemplate": "Player=AI Full History<br>P(Risky|Previous Low)=%{x}<br>P(Risky|Previous High)=%{y}<br>Medium=%{marker.color}<extra></extra>",
         "legendgroup": "",
         "marker": {
          "color": {
           "bdata": "ZmZmZmZmBkAzMzMzMzPTv2ZmZmZmZhJAzczMzMzMI0DNzMzMzMweQAAAAAAAABLAAAAAAAAAGEAAAAAAAAAvQAAAAAAAABjAZmZmZmZm/r+amZmZmZkfQGZmZmZmZhZAZmZmZmZmGMCamZmZmZkBQJqZmZmZmRlAZmZmZmZmEMDNzMzMzMw3wAAAAAAAACZAmpmZmZmZF0AAAAAAAADwvwAAAAAAAC/AMzMzMzOzMsBmZmZmZmYnwDMzMzMzM/M/MzMzMzMzKMCamZmZmRkxQDMzMzMzMzlAzczMzMzMI0BmZmZmZmYWQJqZmZmZmR/AAAAAAAAAJ0AzMzMzM7M0QM3MzMzMzPQ/AAAAAAAAHEAAAAAAAADgP2ZmZmZmZiJAMzMzMzMzG0BmZmZmZmYhQGZmZmZmZhTAMzMzMzMzIMCamZmZmZkZwJqZmZmZmRPAzczMzMzM/L/NzMzMzMwgwDMzMzMzMyVAAAAAAAAAHsAAAAAAAAAcQGZmZmZmZijAmpmZmZmZOcCamZmZmZkbwGZmZmZmZvY/ZmZmZmZmOcDNzMzMzMwiwJqZmZmZmRnAmpmZmZmZKUCamZmZmRkyQJqZmZmZmRnAmpmZmZmZAUAAAAAAAAAgQGZmZmZmZhLA",
           "dtype": "f8"
          },
          "coloraxis": "coloraxis",
          "symbol": "circle"
         },
         "mode": "markers",
         "name": "",
         "orientation": "v",
         "showlegend": false,
         "type": "scatter",
         "x": {
          "bdata": "72qATN9R7D8AAAAAAAAAAAAAAAAAAAAAAAAAAAAAAADe3d3d3d29PwAAAAAAAAAARV9Au7yw6j/BZ9FrEnzWP03KPFjNVJk/AAAAAAAAAAAOj79Fe7TmPwAAAAAAAAAAAAAAAAAAAAAZ7U2knEbfPwAAAAAAAAAAAAAAAAAAAADfvJp4VjRSPwAAAAAAAAAAAAAAAAAAAABVVVVVVVXNPwAAAAAAAAAAeXNCiQZuUT/tWIEw0o5lPwAAAAAAAAAAW8v09rp7Zj/HcRzHcRzHP9iCLdiCLdA/LF3B8Kut4T8AAAAAAAAAAJqZmZmZmWk/ij4Qj/gr4j8AAAAAAADQPwAAAAAAAAAAx6vTl/Hq4j8oQJXdZx2+P2730TEFgO8/AAAAAAAAAAAAAAAAAAAAAAAAAAAAAAAAAAAAAAAAAADHnSXs5rdQP+rwNLs2TJg/AAAAAAAAAAAAAAAAAAAAAMVMc2yEMOY/XpihZeuFiT8AAAAAAAAAAAAAAAAAAAAA+xOwPwH7Yz8d1EEd1EFtPwAAAAAAAAAAEziBEziBYz8eurTyqW54PwAAAAAAAAAAXtM1XdM1zT8AAAAAAADQPwAAAAAAAAAAAAAAAAAAAABW+pWjU6npP8edJezmt1A/",
          "dtype": "f8"
         },
         "xaxis": "x3",
         "y": {
          "bdata": "L7rooosu6j+eEuQpQZ5SPxJOdx4TEO8/ynuHEuky7z+CTe5dXTjvP/8XSbXAs8M/VlVVVVVV7T8Znmlo3t3uP2W1vDGCieo/7cUsgg3pzj++v8cQRx3vP8Ribt35Ee8/uc9A+7I2sT+l/pT6U+rvP4/AFAhuyu8/ovFPkwwa7z81EvDNq4nfPyO/wqdxUu8/MAIemUK57z/LFgB+dGzZP5zaT9XRb9Q/MzMzMzMz5z++vpItRn28Pxz2Y8XGYe8/F1100UUX7T+tOROx5SHvP/zgt5Rhye4/3/It3/It7z+Jf43414jvP8dxHMdxHO8/AAAAAAAA7D9qASeVpp3vPxa2OkSHo+4/MzMzMzMz4z+amZmZmZnpP6uqqqqqquo/BJ/ipyoR7z9HgoAVicPuP3Icx3Ecx+8/Fe5s/ZB44T8AAAAAAADwP536PbfEqe8/tZz32OKH0D8zShKGoSLPPwAAAAAAAOw/AAAAAAAA8D9B/0fc9rHvPwBokkdOl9M/grqsRJXk0D/bN6x9w9rvP6trwPbjBu8/lm2+HGDZ3j8T2ktoL6HpP/4k9sYyKbs/1modSigP7z97/ONH6EXvP/Kr8ASv0Mc/dzGdwzsB7j87sRM7sRPrPwX3EdxHcO8/",
          "dtype": "f8"
         },
         "yaxis": "y3"
        }
       ],
       "layout": {
        "annotations": [
         {
          "font": {},
          "showarrow": false,
          "text": "Player=Human",
          "x": 0.15999999999999998,
          "xanchor": "center",
          "xref": "paper",
          "y": 1,
          "yanchor": "bottom",
          "yref": "paper"
         },
         {
          "font": {},
          "showarrow": false,
          "text": "Player=AI Summary 20",
          "x": 0.49999999999999994,
          "xanchor": "center",
          "xref": "paper",
          "y": 1,
          "yanchor": "bottom",
          "yref": "paper"
         },
         {
          "font": {},
          "showarrow": false,
          "text": "Player=AI Full History",
          "x": 0.8399999999999999,
          "xanchor": "center",
          "xref": "paper",
          "y": 1,
          "yanchor": "bottom",
          "yref": "paper"
         }
        ],
        "coloraxis": {
         "colorbar": {
          "title": {
           "text": "Medium"
          }
         },
         "colorscale": [
          [
           0,
           "#0d0887"
          ],
          [
           0.1111111111111111,
           "#46039f"
          ],
          [
           0.2222222222222222,
           "#7201a8"
          ],
          [
           0.3333333333333333,
           "#9c179e"
          ],
          [
           0.4444444444444444,
           "#bd3786"
          ],
          [
           0.5555555555555556,
           "#d8576b"
          ],
          [
           0.6666666666666666,
           "#ed7953"
          ],
          [
           0.7777777777777778,
           "#fb9f3a"
          ],
          [
           0.8888888888888888,
           "#fdca26"
          ],
          [
           1,
           "#f0f921"
          ]
         ]
        },
        "height": 400,
        "legend": {
         "tracegroupgap": 0
        },
        "shapes": [
         {
          "line": {
           "color": "black",
           "dash": "dash",
           "width": 1
          },
          "type": "line",
          "x0": 0,
          "x1": 1,
          "xref": "x",
          "y0": 0,
          "y1": 1,
          "yref": "y"
         },
         {
          "line": {
           "color": "black",
           "dash": "dash",
           "width": 1
          },
          "type": "line",
          "x0": 0,
          "x1": 1,
          "xref": "x2",
          "y0": 0,
          "y1": 1,
          "yref": "y2"
         },
         {
          "line": {
           "color": "black",
           "dash": "dash",
           "width": 1
          },
          "type": "line",
          "x0": 0,
          "x1": 1,
          "xref": "x3",
          "y0": 0,
          "y1": 1,
          "yref": "y3"
         }
        ],
        "template": {
         "data": {
          "bar": [
           {
            "error_x": {
             "color": "#2a3f5f"
            },
            "error_y": {
             "color": "#2a3f5f"
            },
            "marker": {
             "line": {
              "color": "#E5ECF6",
              "width": 0.5
             },
             "pattern": {
              "fillmode": "overlay",
              "size": 10,
              "solidity": 0.2
             }
            },
            "type": "bar"
           }
          ],
          "barpolar": [
           {
            "marker": {
             "line": {
              "color": "#E5ECF6",
              "width": 0.5
             },
             "pattern": {
              "fillmode": "overlay",
              "size": 10,
              "solidity": 0.2
             }
            },
            "type": "barpolar"
           }
          ],
          "carpet": [
           {
            "aaxis": {
             "endlinecolor": "#2a3f5f",
             "gridcolor": "white",
             "linecolor": "white",
             "minorgridcolor": "white",
             "startlinecolor": "#2a3f5f"
            },
            "baxis": {
             "endlinecolor": "#2a3f5f",
             "gridcolor": "white",
             "linecolor": "white",
             "minorgridcolor": "white",
             "startlinecolor": "#2a3f5f"
            },
            "type": "carpet"
           }
          ],
          "choropleth": [
           {
            "colorbar": {
             "outlinewidth": 0,
             "ticks": ""
            },
            "type": "choropleth"
           }
          ],
          "contour": [
           {
            "colorbar": {
             "outlinewidth": 0,
             "ticks": ""
            },
            "colorscale": [
             [
              0,
              "#0d0887"
             ],
             [
              0.1111111111111111,
              "#46039f"
             ],
             [
              0.2222222222222222,
              "#7201a8"
             ],
             [
              0.3333333333333333,
              "#9c179e"
             ],
             [
              0.4444444444444444,
              "#bd3786"
             ],
             [
              0.5555555555555556,
              "#d8576b"
             ],
             [
              0.6666666666666666,
              "#ed7953"
             ],
             [
              0.7777777777777778,
              "#fb9f3a"
             ],
             [
              0.8888888888888888,
              "#fdca26"
             ],
             [
              1,
              "#f0f921"
             ]
            ],
            "type": "contour"
           }
          ],
          "contourcarpet": [
           {
            "colorbar": {
             "outlinewidth": 0,
             "ticks": ""
            },
            "type": "contourcarpet"
           }
          ],
          "heatmap": [
           {
            "colorbar": {
             "outlinewidth": 0,
             "ticks": ""
            },
            "colorscale": [
             [
              0,
              "#0d0887"
             ],
             [
              0.1111111111111111,
              "#46039f"
             ],
             [
              0.2222222222222222,
              "#7201a8"
             ],
             [
              0.3333333333333333,
              "#9c179e"
             ],
             [
              0.4444444444444444,
              "#bd3786"
             ],
             [
              0.5555555555555556,
              "#d8576b"
             ],
             [
              0.6666666666666666,
              "#ed7953"
             ],
             [
              0.7777777777777778,
              "#fb9f3a"
             ],
             [
              0.8888888888888888,
              "#fdca26"
             ],
             [
              1,
              "#f0f921"
             ]
            ],
            "type": "heatmap"
           }
          ],
          "histogram": [
           {
            "marker": {
             "pattern": {
              "fillmode": "overlay",
              "size": 10,
              "solidity": 0.2
             }
            },
            "type": "histogram"
           }
          ],
          "histogram2d": [
           {
            "colorbar": {
             "outlinewidth": 0,
             "ticks": ""
            },
            "colorscale": [
             [
              0,
              "#0d0887"
             ],
             [
              0.1111111111111111,
              "#46039f"
             ],
             [
              0.2222222222222222,
              "#7201a8"
             ],
             [
              0.3333333333333333,
              "#9c179e"
             ],
             [
              0.4444444444444444,
              "#bd3786"
             ],
             [
              0.5555555555555556,
              "#d8576b"
             ],
             [
              0.6666666666666666,
              "#ed7953"
             ],
             [
              0.7777777777777778,
              "#fb9f3a"
             ],
             [
              0.8888888888888888,
              "#fdca26"
             ],
             [
              1,
              "#f0f921"
             ]
            ],
            "type": "histogram2d"
           }
          ],
          "histogram2dcontour": [
           {
            "colorbar": {
             "outlinewidth": 0,
             "ticks": ""
            },
            "colorscale": [
             [
              0,
              "#0d0887"
             ],
             [
              0.1111111111111111,
              "#46039f"
             ],
             [
              0.2222222222222222,
              "#7201a8"
             ],
             [
              0.3333333333333333,
              "#9c179e"
             ],
             [
              0.4444444444444444,
              "#bd3786"
             ],
             [
              0.5555555555555556,
              "#d8576b"
             ],
             [
              0.6666666666666666,
              "#ed7953"
             ],
             [
              0.7777777777777778,
              "#fb9f3a"
             ],
             [
              0.8888888888888888,
              "#fdca26"
             ],
             [
              1,
              "#f0f921"
             ]
            ],
            "type": "histogram2dcontour"
           }
          ],
          "mesh3d": [
           {
            "colorbar": {
             "outlinewidth": 0,
             "ticks": ""
            },
            "type": "mesh3d"
           }
          ],
          "parcoords": [
           {
            "line": {
             "colorbar": {
              "outlinewidth": 0,
              "ticks": ""
             }
            },
            "type": "parcoords"
           }
          ],
          "pie": [
           {
            "automargin": true,
            "type": "pie"
           }
          ],
          "scatter": [
           {
            "fillpattern": {
             "fillmode": "overlay",
             "size": 10,
             "solidity": 0.2
            },
            "type": "scatter"
           }
          ],
          "scatter3d": [
           {
            "line": {
             "colorbar": {
              "outlinewidth": 0,
              "ticks": ""
             }
            },
            "marker": {
             "colorbar": {
              "outlinewidth": 0,
              "ticks": ""
             }
            },
            "type": "scatter3d"
           }
          ],
          "scattercarpet": [
           {
            "marker": {
             "colorbar": {
              "outlinewidth": 0,
              "ticks": ""
             }
            },
            "type": "scattercarpet"
           }
          ],
          "scattergeo": [
           {
            "marker": {
             "colorbar": {
              "outlinewidth": 0,
              "ticks": ""
             }
            },
            "type": "scattergeo"
           }
          ],
          "scattergl": [
           {
            "marker": {
             "colorbar": {
              "outlinewidth": 0,
              "ticks": ""
             }
            },
            "type": "scattergl"
           }
          ],
          "scattermap": [
           {
            "marker": {
             "colorbar": {
              "outlinewidth": 0,
              "ticks": ""
             }
            },
            "type": "scattermap"
           }
          ],
          "scattermapbox": [
           {
            "marker": {
             "colorbar": {
              "outlinewidth": 0,
              "ticks": ""
             }
            },
            "type": "scattermapbox"
           }
          ],
          "scatterpolar": [
           {
            "marker": {
             "colorbar": {
              "outlinewidth": 0,
              "ticks": ""
             }
            },
            "type": "scatterpolar"
           }
          ],
          "scatterpolargl": [
           {
            "marker": {
             "colorbar": {
              "outlinewidth": 0,
              "ticks": ""
             }
            },
            "type": "scatterpolargl"
           }
          ],
          "scatterternary": [
           {
            "marker": {
             "colorbar": {
              "outlinewidth": 0,
              "ticks": ""
             }
            },
            "type": "scatterternary"
           }
          ],
          "surface": [
           {
            "colorbar": {
             "outlinewidth": 0,
             "ticks": ""
            },
            "colorscale": [
             [
              0,
              "#0d0887"
             ],
             [
              0.1111111111111111,
              "#46039f"
             ],
             [
              0.2222222222222222,
              "#7201a8"
             ],
             [
              0.3333333333333333,
              "#9c179e"
             ],
             [
              0.4444444444444444,
              "#bd3786"
             ],
             [
              0.5555555555555556,
              "#d8576b"
             ],
             [
              0.6666666666666666,
              "#ed7953"
             ],
             [
              0.7777777777777778,
              "#fb9f3a"
             ],
             [
              0.8888888888888888,
              "#fdca26"
             ],
             [
              1,
              "#f0f921"
             ]
            ],
            "type": "surface"
           }
          ],
          "table": [
           {
            "cells": {
             "fill": {
              "color": "#EBF0F8"
             },
             "line": {
              "color": "white"
             }
            },
            "header": {
             "fill": {
              "color": "#C8D4E3"
             },
             "line": {
              "color": "white"
             }
            },
            "type": "table"
           }
          ]
         },
         "layout": {
          "annotationdefaults": {
           "arrowcolor": "#2a3f5f",
           "arrowhead": 0,
           "arrowwidth": 1
          },
          "autotypenumbers": "strict",
          "coloraxis": {
           "colorbar": {
            "outlinewidth": 0,
            "ticks": ""
           }
          },
          "colorscale": {
           "diverging": [
            [
             0,
             "#8e0152"
            ],
            [
             0.1,
             "#c51b7d"
            ],
            [
             0.2,
             "#de77ae"
            ],
            [
             0.3,
             "#f1b6da"
            ],
            [
             0.4,
             "#fde0ef"
            ],
            [
             0.5,
             "#f7f7f7"
            ],
            [
             0.6,
             "#e6f5d0"
            ],
            [
             0.7,
             "#b8e186"
            ],
            [
             0.8,
             "#7fbc41"
            ],
            [
             0.9,
             "#4d9221"
            ],
            [
             1,
             "#276419"
            ]
           ],
           "sequential": [
            [
             0,
             "#0d0887"
            ],
            [
             0.1111111111111111,
             "#46039f"
            ],
            [
             0.2222222222222222,
             "#7201a8"
            ],
            [
             0.3333333333333333,
             "#9c179e"
            ],
            [
             0.4444444444444444,
             "#bd3786"
            ],
            [
             0.5555555555555556,
             "#d8576b"
            ],
            [
             0.6666666666666666,
             "#ed7953"
            ],
            [
             0.7777777777777778,
             "#fb9f3a"
            ],
            [
             0.8888888888888888,
             "#fdca26"
            ],
            [
             1,
             "#f0f921"
            ]
           ],
           "sequentialminus": [
            [
             0,
             "#0d0887"
            ],
            [
             0.1111111111111111,
             "#46039f"
            ],
            [
             0.2222222222222222,
             "#7201a8"
            ],
            [
             0.3333333333333333,
             "#9c179e"
            ],
            [
             0.4444444444444444,
             "#bd3786"
            ],
            [
             0.5555555555555556,
             "#d8576b"
            ],
            [
             0.6666666666666666,
             "#ed7953"
            ],
            [
             0.7777777777777778,
             "#fb9f3a"
            ],
            [
             0.8888888888888888,
             "#fdca26"
            ],
            [
             1,
             "#f0f921"
            ]
           ]
          },
          "colorway": [
           "#636efa",
           "#EF553B",
           "#00cc96",
           "#ab63fa",
           "#FFA15A",
           "#19d3f3",
           "#FF6692",
           "#B6E880",
           "#FF97FF",
           "#FECB52"
          ],
          "font": {
           "color": "#2a3f5f"
          },
          "geo": {
           "bgcolor": "white",
           "lakecolor": "white",
           "landcolor": "#E5ECF6",
           "showlakes": true,
           "showland": true,
           "subunitcolor": "white"
          },
          "hoverlabel": {
           "align": "left"
          },
          "hovermode": "closest",
          "mapbox": {
           "style": "light"
          },
          "paper_bgcolor": "white",
          "plot_bgcolor": "#E5ECF6",
          "polar": {
           "angularaxis": {
            "gridcolor": "white",
            "linecolor": "white",
            "ticks": ""
           },
           "bgcolor": "#E5ECF6",
           "radialaxis": {
            "gridcolor": "white",
            "linecolor": "white",
            "ticks": ""
           }
          },
          "scene": {
           "xaxis": {
            "backgroundcolor": "#E5ECF6",
            "gridcolor": "white",
            "gridwidth": 2,
            "linecolor": "white",
            "showbackground": true,
            "ticks": "",
            "zerolinecolor": "white"
           },
           "yaxis": {
            "backgroundcolor": "#E5ECF6",
            "gridcolor": "white",
            "gridwidth": 2,
            "linecolor": "white",
            "showbackground": true,
            "ticks": "",
            "zerolinecolor": "white"
           },
           "zaxis": {
            "backgroundcolor": "#E5ECF6",
            "gridcolor": "white",
            "gridwidth": 2,
            "linecolor": "white",
            "showbackground": true,
            "ticks": "",
            "zerolinecolor": "white"
           }
          },
          "shapedefaults": {
           "line": {
            "color": "#2a3f5f"
           }
          },
          "ternary": {
           "aaxis": {
            "gridcolor": "white",
            "linecolor": "white",
            "ticks": ""
           },
           "baxis": {
            "gridcolor": "white",
            "linecolor": "white",
            "ticks": ""
           },
           "bgcolor": "#E5ECF6",
           "caxis": {
            "gridcolor": "white",
            "linecolor": "white",
            "ticks": ""
           }
          },
          "title": {
           "x": 0.05
          },
          "xaxis": {
           "automargin": true,
           "gridcolor": "white",
           "linecolor": "white",
           "ticks": "",
           "title": {
            "standoff": 15
           },
           "zerolinecolor": "white",
           "zerolinewidth": 2
          },
          "yaxis": {
           "automargin": true,
           "gridcolor": "white",
           "linecolor": "white",
           "ticks": "",
           "title": {
            "standoff": 15
           },
           "zerolinecolor": "white",
           "zerolinewidth": 2
          }
         }
        },
        "title": {
         "text": "Recency Effect Human vs. LLM"
        },
        "width": 800,
        "xaxis": {
         "anchor": "y",
         "domain": [
          0,
          0.31999999999999995
         ],
         "title": {
          "text": "P(Risky|Previous Low)"
         }
        },
        "xaxis2": {
         "anchor": "y2",
         "domain": [
          0.33999999999999997,
          0.6599999999999999
         ],
         "matches": "x",
         "title": {
          "text": "P(Risky|Previous Low)"
         }
        },
        "xaxis3": {
         "anchor": "y3",
         "domain": [
          0.6799999999999999,
          0.9999999999999999
         ],
         "matches": "x",
         "title": {
          "text": "P(Risky|Previous Low)"
         }
        },
        "yaxis": {
         "anchor": "x",
         "domain": [
          0,
          1
         ],
         "title": {
          "text": "P(Risky|Previous High)"
         }
        },
        "yaxis2": {
         "anchor": "x2",
         "domain": [
          0,
          1
         ],
         "matches": "y",
         "showticklabels": false
        },
        "yaxis3": {
         "anchor": "x3",
         "domain": [
          0,
          1
         ],
         "matches": "y",
         "showticklabels": false
        }
       }
      }
     },
     "metadata": {},
     "output_type": "display_data"
    }
   ],
   "source": [
    "# recency - for each risky choice compute the probability the next choice is risky conditioned on the previous choice payoff was high or low\n",
    "from recency import get_mean_recency\n",
    "recency = {}\n",
    "for name, df in raw_data.items():\n",
    "    print(f\"{name}: {df.shape}\")\n",
    "    recency[name] = get_mean_recency(df)\n",
    "recency_concat = pd.concat(recency, keys=recency.keys(), names=[\"Player\"]).reset_index().drop(\"level_1\", axis=1)\n",
    "fig = px.scatter(\n",
    "    recency_concat,\n",
    "    x=\"p risky given previous low\",\n",
    "    y=\"p risky given previous high\",\n",
    "    color=\"Medium\",\n",
    "    facet_col=\"Player\",\n",
    "    width=800,\n",
    "    height=400,\n",
    "    title=\"Recency Effect Human vs. LLM\",\n",
    "    labels={\"p risky given previous low\": \"P(Risky|Previous Low)\", \"p risky given previous high\": \"P(Risky|Previous High)\"},\n",
    ")\n",
    "\n",
    "# add diagonal line per facet\n",
    "for i in range(len(fig.data)):\n",
    "    fig.add_shape(type=\"line\", x0=0, x1=1, y0=0, y1=1, line=dict(color=\"black\", width=1, dash=\"dash\"), row=1, col=i+1)\n",
    "\n",
    "fig.show()\n",
    "fig.write_image(f\"{fig_folder}/recency_effect_across_players.png\")\n"
   ]
  },
  {
   "cell_type": "code",
   "execution_count": 52,
   "metadata": {},
   "outputs": [
    {
     "data": {
      "application/vnd.plotly.v1+json": {
       "config": {
        "plotlyServerURL": "https://plot.ly"
       },
       "data": [
        {
         "alignmentgroup": "True",
         "hovertemplate": "Previous Risky Outcome=Previous Low<br>Player=%{x}<br>P(Risky)=%{y}<extra></extra>",
         "legendgroup": "Previous Low",
         "marker": {
          "color": "red"
         },
         "name": "Previous Low",
         "notched": false,
         "offsetgroup": "Previous Low",
         "orientation": "v",
         "showlegend": true,
         "type": "box",
         "x": [
          "Human",
          "Human",
          "Human",
          "Human",
          "Human",
          "Human",
          "Human",
          "Human",
          "Human",
          "Human",
          "Human",
          "Human",
          "Human",
          "Human",
          "Human",
          "Human",
          "Human",
          "Human",
          "Human",
          "Human",
          "Human",
          "Human",
          "Human",
          "Human",
          "Human",
          "Human",
          "Human",
          "Human",
          "Human",
          "Human",
          "Human",
          "Human",
          "Human",
          "Human",
          "Human",
          "Human",
          "Human",
          "Human",
          "Human",
          "Human",
          "Human",
          "Human",
          "Human",
          "Human",
          "Human",
          "Human",
          "Human",
          "Human",
          "Human",
          "Human",
          "Human",
          "Human",
          "Human",
          "Human",
          "Human",
          "Human",
          "Human",
          "Human",
          "Human",
          "Human",
          "AI Summary 20",
          "AI Summary 20",
          "AI Summary 20",
          "AI Summary 20",
          "AI Summary 20",
          "AI Summary 20",
          "AI Summary 20",
          "AI Summary 20",
          "AI Summary 20",
          "AI Summary 20",
          "AI Summary 20",
          "AI Summary 20",
          "AI Summary 20",
          "AI Summary 20",
          "AI Summary 20",
          "AI Summary 20",
          "AI Summary 20",
          "AI Summary 20",
          "AI Summary 20",
          "AI Summary 20",
          "AI Summary 20",
          "AI Summary 20",
          "AI Summary 20",
          "AI Summary 20",
          "AI Summary 20",
          "AI Summary 20",
          "AI Summary 20",
          "AI Summary 20",
          "AI Summary 20",
          "AI Summary 20",
          "AI Summary 20",
          "AI Summary 20",
          "AI Summary 20",
          "AI Summary 20",
          "AI Summary 20",
          "AI Summary 20",
          "AI Summary 20",
          "AI Summary 20",
          "AI Summary 20",
          "AI Summary 20",
          "AI Summary 20",
          "AI Summary 20",
          "AI Summary 20",
          "AI Summary 20",
          "AI Summary 20",
          "AI Summary 20",
          "AI Summary 20",
          "AI Summary 20",
          "AI Summary 20",
          "AI Summary 20",
          "AI Summary 20",
          "AI Summary 20",
          "AI Summary 20",
          "AI Summary 20",
          "AI Summary 20",
          "AI Summary 20",
          "AI Summary 20",
          "AI Summary 20",
          "AI Summary 20",
          "AI Summary 20",
          "AI Full History",
          "AI Full History",
          "AI Full History",
          "AI Full History",
          "AI Full History",
          "AI Full History",
          "AI Full History",
          "AI Full History",
          "AI Full History",
          "AI Full History",
          "AI Full History",
          "AI Full History",
          "AI Full History",
          "AI Full History",
          "AI Full History",
          "AI Full History",
          "AI Full History",
          "AI Full History",
          "AI Full History",
          "AI Full History",
          "AI Full History",
          "AI Full History",
          "AI Full History",
          "AI Full History",
          "AI Full History",
          "AI Full History",
          "AI Full History",
          "AI Full History",
          "AI Full History",
          "AI Full History",
          "AI Full History",
          "AI Full History",
          "AI Full History",
          "AI Full History",
          "AI Full History",
          "AI Full History",
          "AI Full History",
          "AI Full History",
          "AI Full History",
          "AI Full History",
          "AI Full History",
          "AI Full History",
          "AI Full History",
          "AI Full History",
          "AI Full History",
          "AI Full History",
          "AI Full History",
          "AI Full History",
          "AI Full History",
          "AI Full History",
          "AI Full History",
          "AI Full History",
          "AI Full History",
          "AI Full History",
          "AI Full History",
          "AI Full History",
          "AI Full History",
          "AI Full History",
          "AI Full History",
          "AI Full History"
         ],
         "x0": " ",
         "xaxis": "x",
         "y": {
          "bdata": "q6qqqqqq2j+nDXTaQKfhPzpWuQgqT9s/c0maiwQL3j+KlttGXGzVPz31hqJb7do/A2giacI13z9QGnD8UEfNP/QBDokiXeU/6xbVt+Oh5z+mLiy92c7uP3h3d3d3d+c/Da6RESfc1T+amZmZmZnZPybHPSDF59o/mi5GT+ew2T9cIsfEh/PVPzgWoV1FPtI/cMdDCWHd3j8DMZco+WriPw6+PHE9VeE/gxVNLA7l3j9P3G1GavHWPwAAAAAAANg/Cu0ltJfQ4j+ovW7Dh9rbP9qgpT8W2ds/WcR4vyrf4T+MJb9Y8ovgP5TWAscJNuI/ra2tra2t5T9T9LA3KkXfPxZHNQ0zyNE/8l5iL9JZ3D+IoLcbeAjmP131uDJImdk/E0CPR1nN0j8hsiLgQO7lP2ff+tqCtdU/oGvjqLny2z/56OSjk4/mPwiWtJ55hNY/nkOgahBt3z/ysHPXv8PRPzjybouxVsE/VmUYzxc51z8RERERERHhP3oUrkfheuY/hQez9l0j3T/DI5J445fcPxoqO0xdbts/jCW/WPKLxT9amJBx9QTTP9CDxeakLd4/LqETVHEb4z9VVVVVVVXXP1OWznOc2d4/q6qqqqqq2j9W8M1yn1jfPwuEkXasQNg/XbIQ5XKe6j+1YAu2YAvGPxZswRZswcY/pB0rEEba5T+8u7u7u7vLP+VKTO484a4/99FXtXjS6j/5VGHkwv7ePyqXog5qQtQ/MGjp/DS2yT9zAsRNG4DjP5/neZ7neb4/ewntJbSXwD/QBE3QBE3cP8aSXyz5xdI/xAqraaZ1yT+Garmup3/DP1VVVVVVVeA/u7u7u7u7yz8soUgevBLiPwBhU/ZAfN0/hMAgAx5zwD8WzH2hwhbXP1VVVVVVVaU/MVFddnkmuT/45tXEs6LhPw502kCnDdw/Awce1Ew11T8+MEenmbCwP0uEYqQFk7Y/sOmBkquA6D+SJEmSJEniPxzHcRzHcaw/ttISU5K/5j94OC8F6QvMP773cUeICO8/AAAAAAAA0D/MAruTdNfKP9JDabCfDsM/F05vCX5DyD8z8dcobUbGP4UACxG1bro/rrDXR0pxwT+6mCAq8RvVPyV8hKcHS+o/RX8nq+WNkT/cpyCWkMPRP7dTNj4bCNM/XPWcN7dj0j9vKyi5uTHTP5qZmZmZmak/SjfwHpV7xT99c+LRyDenP4rdC/FDctM/jSw9pImx4T/kOI7jOI7jP+0b1r5h7as/H/iBH/iBrz/5LUJkt97jPzLb4keQ87o/72qATN9R7D8AAAAAAAAAAAAAAAAAAAAAAAAAAAAAAADe3d3d3d29PwAAAAAAAAAARV9Au7yw6j/BZ9FrEnzWP03KPFjNVJk/AAAAAAAAAAAOj79Fe7TmPwAAAAAAAAAAAAAAAAAAAAAZ7U2knEbfPwAAAAAAAAAAAAAAAAAAAADfvJp4VjRSPwAAAAAAAAAAAAAAAAAAAABVVVVVVVXNPwAAAAAAAAAAeXNCiQZuUT/tWIEw0o5lPwAAAAAAAAAAW8v09rp7Zj/HcRzHcRzHP9iCLdiCLdA/LF3B8Kut4T8AAAAAAAAAAJqZmZmZmWk/ij4Qj/gr4j8AAAAAAADQPwAAAAAAAAAAx6vTl/Hq4j8oQJXdZx2+P2730TEFgO8/AAAAAAAAAAAAAAAAAAAAAAAAAAAAAAAAAAAAAAAAAADHnSXs5rdQP+rwNLs2TJg/AAAAAAAAAAAAAAAAAAAAAMVMc2yEMOY/XpihZeuFiT8AAAAAAAAAAAAAAAAAAAAA+xOwPwH7Yz8d1EEd1EFtPwAAAAAAAAAAEziBEziBYz8eurTyqW54PwAAAAAAAAAAXtM1XdM1zT8AAAAAAADQPwAAAAAAAAAAAAAAAAAAAABW+pWjU6npP8edJezmt1A/",
          "dtype": "f8"
         },
         "y0": " ",
         "yaxis": "y"
        },
        {
         "alignmentgroup": "True",
         "hovertemplate": "Previous Risky Outcome=Previous High<br>Player=%{x}<br>P(Risky)=%{y}<extra></extra>",
         "legendgroup": "Previous High",
         "marker": {
          "color": "blue"
         },
         "name": "Previous High",
         "notched": false,
         "offsetgroup": "Previous High",
         "orientation": "v",
         "showlegend": true,
         "type": "box",
         "x": [
          "Human",
          "Human",
          "Human",
          "Human",
          "Human",
          "Human",
          "Human",
          "Human",
          "Human",
          "Human",
          "Human",
          "Human",
          "Human",
          "Human",
          "Human",
          "Human",
          "Human",
          "Human",
          "Human",
          "Human",
          "Human",
          "Human",
          "Human",
          "Human",
          "Human",
          "Human",
          "Human",
          "Human",
          "Human",
          "Human",
          "Human",
          "Human",
          "Human",
          "Human",
          "Human",
          "Human",
          "Human",
          "Human",
          "Human",
          "Human",
          "Human",
          "Human",
          "Human",
          "Human",
          "Human",
          "Human",
          "Human",
          "Human",
          "Human",
          "Human",
          "Human",
          "Human",
          "Human",
          "Human",
          "Human",
          "Human",
          "Human",
          "Human",
          "Human",
          "Human",
          "AI Summary 20",
          "AI Summary 20",
          "AI Summary 20",
          "AI Summary 20",
          "AI Summary 20",
          "AI Summary 20",
          "AI Summary 20",
          "AI Summary 20",
          "AI Summary 20",
          "AI Summary 20",
          "AI Summary 20",
          "AI Summary 20",
          "AI Summary 20",
          "AI Summary 20",
          "AI Summary 20",
          "AI Summary 20",
          "AI Summary 20",
          "AI Summary 20",
          "AI Summary 20",
          "AI Summary 20",
          "AI Summary 20",
          "AI Summary 20",
          "AI Summary 20",
          "AI Summary 20",
          "AI Summary 20",
          "AI Summary 20",
          "AI Summary 20",
          "AI Summary 20",
          "AI Summary 20",
          "AI Summary 20",
          "AI Summary 20",
          "AI Summary 20",
          "AI Summary 20",
          "AI Summary 20",
          "AI Summary 20",
          "AI Summary 20",
          "AI Summary 20",
          "AI Summary 20",
          "AI Summary 20",
          "AI Summary 20",
          "AI Summary 20",
          "AI Summary 20",
          "AI Summary 20",
          "AI Summary 20",
          "AI Summary 20",
          "AI Summary 20",
          "AI Summary 20",
          "AI Summary 20",
          "AI Summary 20",
          "AI Summary 20",
          "AI Summary 20",
          "AI Summary 20",
          "AI Summary 20",
          "AI Summary 20",
          "AI Summary 20",
          "AI Summary 20",
          "AI Summary 20",
          "AI Summary 20",
          "AI Summary 20",
          "AI Summary 20",
          "AI Full History",
          "AI Full History",
          "AI Full History",
          "AI Full History",
          "AI Full History",
          "AI Full History",
          "AI Full History",
          "AI Full History",
          "AI Full History",
          "AI Full History",
          "AI Full History",
          "AI Full History",
          "AI Full History",
          "AI Full History",
          "AI Full History",
          "AI Full History",
          "AI Full History",
          "AI Full History",
          "AI Full History",
          "AI Full History",
          "AI Full History",
          "AI Full History",
          "AI Full History",
          "AI Full History",
          "AI Full History",
          "AI Full History",
          "AI Full History",
          "AI Full History",
          "AI Full History",
          "AI Full History",
          "AI Full History",
          "AI Full History",
          "AI Full History",
          "AI Full History",
          "AI Full History",
          "AI Full History",
          "AI Full History",
          "AI Full History",
          "AI Full History",
          "AI Full History",
          "AI Full History",
          "AI Full History",
          "AI Full History",
          "AI Full History",
          "AI Full History",
          "AI Full History",
          "AI Full History",
          "AI Full History",
          "AI Full History",
          "AI Full History",
          "AI Full History",
          "AI Full History",
          "AI Full History",
          "AI Full History",
          "AI Full History",
          "AI Full History",
          "AI Full History",
          "AI Full History",
          "AI Full History",
          "AI Full History"
         ],
         "x0": " ",
         "xaxis": "x",
         "y": {
          "bdata": "LOFBCvDU4T+a8xg2M1rsP/5kGNmFUOY/n+vV/ug+6z+N4ziO4zjuPyoFkr4Ci+Y/3XCxWW045z8AAAAAAADsPz3vDFq7Y+s/Z51OlHyZ7D8zMzMzMzPvPyOCX4VOq+s/64Mh0STj6D9mtaJQPjbqP03YWuIFQ+Q/S63USq3U6j8AAAAAAADwP5mZmZmZmek/4DvSaScI6z8C0fUTx5flPzciTThty+g/4btJyl7V6D/oeZ7neZ7nPyBhNoP00+o/8ibG+0IO6T9aNbJARczmPwAAAAAAAPA/OnXm01yt6T++gQxnhUTqPz0rf4NTl+c/6F1zFPVY5z/bB1UMSC/nP6pn8OToINo/kiRJkiRJ6j+G6m4ayYvpP2/GlL3DM+k/AAAAAAAA4D/IYmhw3M/rP3me53me5+k/k18s+cWS5z+VfjimIATtPwAAAAAAAPA/QM5eBDUP6T8K16NwPQrnP5JfLPnFkuc/AAAAAAAA8D8uZIWrr4DrPxIJpCf6dew/X/EVX/EV5z+RI5bWOvPiP0A2FBvhJOc/qzPLHTZp2z8hVNA+nenhP0J7Ce0ltOM/TFfHp4rR6j9SEnl4R0XoP/BwdSBtYeE/8hlzyppI5z8KVLxwQMzgPwf0otur/uc/AAAAAAAA8D8d2iNTnfTKPx7Le7VFrus/Aodppp047j81Aa58IenvP4M24LF0Vek/RhdddNFF7z/zP0It0MzjP27btm3btu0/3nHZwHf17D8nK5hpU57vPwAAAAAAwO8//iLlEIA57D/stm7rtm7vP6PvPzmp3+8/AAAAAAAA8D8dx3Ecx3HkP+WRUoRDwe8/Rs313KH37z/SUgixMAvtP/P3iMiHj+0/VVVVVVVV5T/wzjcluqPsPxKgvk1Gxe8/AAAAAAAA8D/QoGKqS6voP4Njkofs6O8/AAAAAAAA8D9JL3Nv4f7YPwAAAAAAAO8/AAAAAAAA8D8i+hnWS/nvP1t/yFp/yO4/AAAAAAAA8D8AAAAAAADwP9evFKj1K+8/C3lyNdd27z9sW2B9F4DiPwAAAAAAAPA/ZA2kGbqn5j8AAAAAAAAAAAAAAAAAAOY/yqxrTIna7D8NYzBzOoTsPwAAAAAAAPA/AAAAAAAA4D9zAhtbdrHvP36RwtPmV94//JsWsRq82T+10ZgKJ+7vPzmqRmLCmu8/iIiIiIiI6D8wDMMwDMPoPyoU9XGimOw/LUdFfEHq7z/1rVusi5PvP/Oaexbc+eo/PP75UbCK7z8XXXTRRRftP2DvmBrYO9Y/L7rooosu6j+eEuQpQZ5SPxJOdx4TEO8/ynuHEuky7z+CTe5dXTjvP/8XSbXAs8M/VlVVVVVV7T8Znmlo3t3uP2W1vDGCieo/7cUsgg3pzj++v8cQRx3vP8Ribt35Ee8/uc9A+7I2sT+l/pT6U+rvP4/AFAhuyu8/ovFPkwwa7z81EvDNq4nfPyO/wqdxUu8/MAIemUK57z/LFgB+dGzZP5zaT9XRb9Q/MzMzMzMz5z++vpItRn28Pxz2Y8XGYe8/F1100UUX7T+tOROx5SHvP/zgt5Rhye4/3/It3/It7z+Jf43414jvP8dxHMdxHO8/AAAAAAAA7D9qASeVpp3vPxa2OkSHo+4/MzMzMzMz4z+amZmZmZnpP6uqqqqqquo/BJ/ipyoR7z9HgoAVicPuP3Icx3Ecx+8/Fe5s/ZB44T8AAAAAAADwP536PbfEqe8/tZz32OKH0D8zShKGoSLPPwAAAAAAAOw/AAAAAAAA8D9B/0fc9rHvPwBokkdOl9M/grqsRJXk0D/bN6x9w9rvP6trwPbjBu8/lm2+HGDZ3j8T2ktoL6HpP/4k9sYyKbs/1modSigP7z97/ONH6EXvP/Kr8ASv0Mc/dzGdwzsB7j87sRM7sRPrPwX3EdxHcO8/",
          "dtype": "f8"
         },
         "y0": " ",
         "yaxis": "y"
        }
       ],
       "layout": {
        "boxmode": "group",
        "height": 400,
        "legend": {
         "title": {
          "text": "Previous Risky Outcome"
         },
         "tracegroupgap": 0
        },
        "margin": {
         "t": 60
        },
        "template": {
         "data": {
          "bar": [
           {
            "error_x": {
             "color": "#2a3f5f"
            },
            "error_y": {
             "color": "#2a3f5f"
            },
            "marker": {
             "line": {
              "color": "#E5ECF6",
              "width": 0.5
             },
             "pattern": {
              "fillmode": "overlay",
              "size": 10,
              "solidity": 0.2
             }
            },
            "type": "bar"
           }
          ],
          "barpolar": [
           {
            "marker": {
             "line": {
              "color": "#E5ECF6",
              "width": 0.5
             },
             "pattern": {
              "fillmode": "overlay",
              "size": 10,
              "solidity": 0.2
             }
            },
            "type": "barpolar"
           }
          ],
          "carpet": [
           {
            "aaxis": {
             "endlinecolor": "#2a3f5f",
             "gridcolor": "white",
             "linecolor": "white",
             "minorgridcolor": "white",
             "startlinecolor": "#2a3f5f"
            },
            "baxis": {
             "endlinecolor": "#2a3f5f",
             "gridcolor": "white",
             "linecolor": "white",
             "minorgridcolor": "white",
             "startlinecolor": "#2a3f5f"
            },
            "type": "carpet"
           }
          ],
          "choropleth": [
           {
            "colorbar": {
             "outlinewidth": 0,
             "ticks": ""
            },
            "type": "choropleth"
           }
          ],
          "contour": [
           {
            "colorbar": {
             "outlinewidth": 0,
             "ticks": ""
            },
            "colorscale": [
             [
              0,
              "#0d0887"
             ],
             [
              0.1111111111111111,
              "#46039f"
             ],
             [
              0.2222222222222222,
              "#7201a8"
             ],
             [
              0.3333333333333333,
              "#9c179e"
             ],
             [
              0.4444444444444444,
              "#bd3786"
             ],
             [
              0.5555555555555556,
              "#d8576b"
             ],
             [
              0.6666666666666666,
              "#ed7953"
             ],
             [
              0.7777777777777778,
              "#fb9f3a"
             ],
             [
              0.8888888888888888,
              "#fdca26"
             ],
             [
              1,
              "#f0f921"
             ]
            ],
            "type": "contour"
           }
          ],
          "contourcarpet": [
           {
            "colorbar": {
             "outlinewidth": 0,
             "ticks": ""
            },
            "type": "contourcarpet"
           }
          ],
          "heatmap": [
           {
            "colorbar": {
             "outlinewidth": 0,
             "ticks": ""
            },
            "colorscale": [
             [
              0,
              "#0d0887"
             ],
             [
              0.1111111111111111,
              "#46039f"
             ],
             [
              0.2222222222222222,
              "#7201a8"
             ],
             [
              0.3333333333333333,
              "#9c179e"
             ],
             [
              0.4444444444444444,
              "#bd3786"
             ],
             [
              0.5555555555555556,
              "#d8576b"
             ],
             [
              0.6666666666666666,
              "#ed7953"
             ],
             [
              0.7777777777777778,
              "#fb9f3a"
             ],
             [
              0.8888888888888888,
              "#fdca26"
             ],
             [
              1,
              "#f0f921"
             ]
            ],
            "type": "heatmap"
           }
          ],
          "histogram": [
           {
            "marker": {
             "pattern": {
              "fillmode": "overlay",
              "size": 10,
              "solidity": 0.2
             }
            },
            "type": "histogram"
           }
          ],
          "histogram2d": [
           {
            "colorbar": {
             "outlinewidth": 0,
             "ticks": ""
            },
            "colorscale": [
             [
              0,
              "#0d0887"
             ],
             [
              0.1111111111111111,
              "#46039f"
             ],
             [
              0.2222222222222222,
              "#7201a8"
             ],
             [
              0.3333333333333333,
              "#9c179e"
             ],
             [
              0.4444444444444444,
              "#bd3786"
             ],
             [
              0.5555555555555556,
              "#d8576b"
             ],
             [
              0.6666666666666666,
              "#ed7953"
             ],
             [
              0.7777777777777778,
              "#fb9f3a"
             ],
             [
              0.8888888888888888,
              "#fdca26"
             ],
             [
              1,
              "#f0f921"
             ]
            ],
            "type": "histogram2d"
           }
          ],
          "histogram2dcontour": [
           {
            "colorbar": {
             "outlinewidth": 0,
             "ticks": ""
            },
            "colorscale": [
             [
              0,
              "#0d0887"
             ],
             [
              0.1111111111111111,
              "#46039f"
             ],
             [
              0.2222222222222222,
              "#7201a8"
             ],
             [
              0.3333333333333333,
              "#9c179e"
             ],
             [
              0.4444444444444444,
              "#bd3786"
             ],
             [
              0.5555555555555556,
              "#d8576b"
             ],
             [
              0.6666666666666666,
              "#ed7953"
             ],
             [
              0.7777777777777778,
              "#fb9f3a"
             ],
             [
              0.8888888888888888,
              "#fdca26"
             ],
             [
              1,
              "#f0f921"
             ]
            ],
            "type": "histogram2dcontour"
           }
          ],
          "mesh3d": [
           {
            "colorbar": {
             "outlinewidth": 0,
             "ticks": ""
            },
            "type": "mesh3d"
           }
          ],
          "parcoords": [
           {
            "line": {
             "colorbar": {
              "outlinewidth": 0,
              "ticks": ""
             }
            },
            "type": "parcoords"
           }
          ],
          "pie": [
           {
            "automargin": true,
            "type": "pie"
           }
          ],
          "scatter": [
           {
            "fillpattern": {
             "fillmode": "overlay",
             "size": 10,
             "solidity": 0.2
            },
            "type": "scatter"
           }
          ],
          "scatter3d": [
           {
            "line": {
             "colorbar": {
              "outlinewidth": 0,
              "ticks": ""
             }
            },
            "marker": {
             "colorbar": {
              "outlinewidth": 0,
              "ticks": ""
             }
            },
            "type": "scatter3d"
           }
          ],
          "scattercarpet": [
           {
            "marker": {
             "colorbar": {
              "outlinewidth": 0,
              "ticks": ""
             }
            },
            "type": "scattercarpet"
           }
          ],
          "scattergeo": [
           {
            "marker": {
             "colorbar": {
              "outlinewidth": 0,
              "ticks": ""
             }
            },
            "type": "scattergeo"
           }
          ],
          "scattergl": [
           {
            "marker": {
             "colorbar": {
              "outlinewidth": 0,
              "ticks": ""
             }
            },
            "type": "scattergl"
           }
          ],
          "scattermap": [
           {
            "marker": {
             "colorbar": {
              "outlinewidth": 0,
              "ticks": ""
             }
            },
            "type": "scattermap"
           }
          ],
          "scattermapbox": [
           {
            "marker": {
             "colorbar": {
              "outlinewidth": 0,
              "ticks": ""
             }
            },
            "type": "scattermapbox"
           }
          ],
          "scatterpolar": [
           {
            "marker": {
             "colorbar": {
              "outlinewidth": 0,
              "ticks": ""
             }
            },
            "type": "scatterpolar"
           }
          ],
          "scatterpolargl": [
           {
            "marker": {
             "colorbar": {
              "outlinewidth": 0,
              "ticks": ""
             }
            },
            "type": "scatterpolargl"
           }
          ],
          "scatterternary": [
           {
            "marker": {
             "colorbar": {
              "outlinewidth": 0,
              "ticks": ""
             }
            },
            "type": "scatterternary"
           }
          ],
          "surface": [
           {
            "colorbar": {
             "outlinewidth": 0,
             "ticks": ""
            },
            "colorscale": [
             [
              0,
              "#0d0887"
             ],
             [
              0.1111111111111111,
              "#46039f"
             ],
             [
              0.2222222222222222,
              "#7201a8"
             ],
             [
              0.3333333333333333,
              "#9c179e"
             ],
             [
              0.4444444444444444,
              "#bd3786"
             ],
             [
              0.5555555555555556,
              "#d8576b"
             ],
             [
              0.6666666666666666,
              "#ed7953"
             ],
             [
              0.7777777777777778,
              "#fb9f3a"
             ],
             [
              0.8888888888888888,
              "#fdca26"
             ],
             [
              1,
              "#f0f921"
             ]
            ],
            "type": "surface"
           }
          ],
          "table": [
           {
            "cells": {
             "fill": {
              "color": "#EBF0F8"
             },
             "line": {
              "color": "white"
             }
            },
            "header": {
             "fill": {
              "color": "#C8D4E3"
             },
             "line": {
              "color": "white"
             }
            },
            "type": "table"
           }
          ]
         },
         "layout": {
          "annotationdefaults": {
           "arrowcolor": "#2a3f5f",
           "arrowhead": 0,
           "arrowwidth": 1
          },
          "autotypenumbers": "strict",
          "coloraxis": {
           "colorbar": {
            "outlinewidth": 0,
            "ticks": ""
           }
          },
          "colorscale": {
           "diverging": [
            [
             0,
             "#8e0152"
            ],
            [
             0.1,
             "#c51b7d"
            ],
            [
             0.2,
             "#de77ae"
            ],
            [
             0.3,
             "#f1b6da"
            ],
            [
             0.4,
             "#fde0ef"
            ],
            [
             0.5,
             "#f7f7f7"
            ],
            [
             0.6,
             "#e6f5d0"
            ],
            [
             0.7,
             "#b8e186"
            ],
            [
             0.8,
             "#7fbc41"
            ],
            [
             0.9,
             "#4d9221"
            ],
            [
             1,
             "#276419"
            ]
           ],
           "sequential": [
            [
             0,
             "#0d0887"
            ],
            [
             0.1111111111111111,
             "#46039f"
            ],
            [
             0.2222222222222222,
             "#7201a8"
            ],
            [
             0.3333333333333333,
             "#9c179e"
            ],
            [
             0.4444444444444444,
             "#bd3786"
            ],
            [
             0.5555555555555556,
             "#d8576b"
            ],
            [
             0.6666666666666666,
             "#ed7953"
            ],
            [
             0.7777777777777778,
             "#fb9f3a"
            ],
            [
             0.8888888888888888,
             "#fdca26"
            ],
            [
             1,
             "#f0f921"
            ]
           ],
           "sequentialminus": [
            [
             0,
             "#0d0887"
            ],
            [
             0.1111111111111111,
             "#46039f"
            ],
            [
             0.2222222222222222,
             "#7201a8"
            ],
            [
             0.3333333333333333,
             "#9c179e"
            ],
            [
             0.4444444444444444,
             "#bd3786"
            ],
            [
             0.5555555555555556,
             "#d8576b"
            ],
            [
             0.6666666666666666,
             "#ed7953"
            ],
            [
             0.7777777777777778,
             "#fb9f3a"
            ],
            [
             0.8888888888888888,
             "#fdca26"
            ],
            [
             1,
             "#f0f921"
            ]
           ]
          },
          "colorway": [
           "#636efa",
           "#EF553B",
           "#00cc96",
           "#ab63fa",
           "#FFA15A",
           "#19d3f3",
           "#FF6692",
           "#B6E880",
           "#FF97FF",
           "#FECB52"
          ],
          "font": {
           "color": "#2a3f5f"
          },
          "geo": {
           "bgcolor": "white",
           "lakecolor": "white",
           "landcolor": "#E5ECF6",
           "showlakes": true,
           "showland": true,
           "subunitcolor": "white"
          },
          "hoverlabel": {
           "align": "left"
          },
          "hovermode": "closest",
          "mapbox": {
           "style": "light"
          },
          "paper_bgcolor": "white",
          "plot_bgcolor": "#E5ECF6",
          "polar": {
           "angularaxis": {
            "gridcolor": "white",
            "linecolor": "white",
            "ticks": ""
           },
           "bgcolor": "#E5ECF6",
           "radialaxis": {
            "gridcolor": "white",
            "linecolor": "white",
            "ticks": ""
           }
          },
          "scene": {
           "xaxis": {
            "backgroundcolor": "#E5ECF6",
            "gridcolor": "white",
            "gridwidth": 2,
            "linecolor": "white",
            "showbackground": true,
            "ticks": "",
            "zerolinecolor": "white"
           },
           "yaxis": {
            "backgroundcolor": "#E5ECF6",
            "gridcolor": "white",
            "gridwidth": 2,
            "linecolor": "white",
            "showbackground": true,
            "ticks": "",
            "zerolinecolor": "white"
           },
           "zaxis": {
            "backgroundcolor": "#E5ECF6",
            "gridcolor": "white",
            "gridwidth": 2,
            "linecolor": "white",
            "showbackground": true,
            "ticks": "",
            "zerolinecolor": "white"
           }
          },
          "shapedefaults": {
           "line": {
            "color": "#2a3f5f"
           }
          },
          "ternary": {
           "aaxis": {
            "gridcolor": "white",
            "linecolor": "white",
            "ticks": ""
           },
           "baxis": {
            "gridcolor": "white",
            "linecolor": "white",
            "ticks": ""
           },
           "bgcolor": "#E5ECF6",
           "caxis": {
            "gridcolor": "white",
            "linecolor": "white",
            "ticks": ""
           }
          },
          "title": {
           "x": 0.05
          },
          "xaxis": {
           "automargin": true,
           "gridcolor": "white",
           "linecolor": "white",
           "ticks": "",
           "title": {
            "standoff": 15
           },
           "zerolinecolor": "white",
           "zerolinewidth": 2
          },
          "yaxis": {
           "automargin": true,
           "gridcolor": "white",
           "linecolor": "white",
           "ticks": "",
           "title": {
            "standoff": 15
           },
           "zerolinecolor": "white",
           "zerolinewidth": 2
          }
         }
        },
        "width": 800,
        "xaxis": {
         "anchor": "y",
         "domain": [
          0,
          1
         ],
         "title": {
          "text": "Player"
         }
        },
        "yaxis": {
         "anchor": "x",
         "domain": [
          0,
          1
         ],
         "title": {
          "text": "P(Risky)"
         }
        }
       }
      }
     },
     "metadata": {},
     "output_type": "display_data"
    }
   ],
   "source": [
    "recency_concat.rename(columns={\"p risky given previous low\": \"Previous Low\", \"p risky given previous high\": \"Previous High\"}, inplace=True)\n",
    "recency_concat_melted = recency_concat.melt(value_vars = [\"Previous Low\", \"Previous High\"], id_vars=[\"Player\", \"Medium\", \"Problem\"], value_name=\"P(Risky)\", var_name=\"Previous Risky Outcome\")\n",
    "fig = px.box(recency_concat_melted, x=\"Player\", y=\"P(Risky)\", color=\"Previous Risky Outcome\",  width=800, height=400, color_discrete_map={\"Previous Low\": \"red\", \"Previous High\": \"blue\"})\n",
    "fig.show()\n",
    "fig.write_image(f\"{fig_folder}/recency_effect_across_players_boxplot.png\")\n"
   ]
  }
 ],
 "metadata": {
  "kernelspec": {
   "display_name": ".venv",
   "language": "python",
   "name": "python3"
  },
  "language_info": {
   "codemirror_mode": {
    "name": "ipython",
    "version": 3
   },
   "file_extension": ".py",
   "mimetype": "text/x-python",
   "name": "python",
   "nbconvert_exporter": "python",
   "pygments_lexer": "ipython3",
   "version": "3.13.2"
  }
 },
 "nbformat": 4,
 "nbformat_minor": 2
}
