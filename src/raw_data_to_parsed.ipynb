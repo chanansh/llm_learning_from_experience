{
 "cells": [
  {
   "cell_type": "markdown",
   "metadata": {},
   "source": [
    "# Raw Data\n",
    "Data is splitted to Estimation (aka train) and Competition (aka test) sets \n",
    "## Description Data\n",
    "From https://web.archive.org/web/20201018045339/https://sites.google.com/site/techpredcomp/rawdecrisk\n",
    "## Experience Data\n",
    "https://web.archive.org/web/20201018045340/https://sites.google.com/site/techpredcomp/raw-data-experience\n"
   ]
  },
  {
   "cell_type": "code",
   "execution_count": 1,
   "metadata": {},
   "outputs": [],
   "source": [
    "import pandas as pd\n",
    "import os\n",
    "from glob import glob"
   ]
  },
  {
   "cell_type": "code",
   "execution_count": 2,
   "metadata": {},
   "outputs": [],
   "source": [
    "input_path = \"../data/2010/raw\"\n",
    "output_path = \"../data/2010/processed\"\n",
    "description_folders = {\n",
    "    \"RawDecRiskEstComp08\": \"description_comp.csv\",\n",
    "    \"RawDesComp\": \"description_est.csv\",\n",
    "}\n",
    "experience_files = {\n",
    "    \"RawExpEst_Mar08.txt\": \"experience_est.csv\",\n",
    "    \"RawExpComp_May08.txt\": \"experience_comp.csv\",\n",
    "}\n",
    "# The variables are organized as follows: Problem, Order, High, P(high), Low, Medium, Choice.\n",
    "description_header = [\"Problem\", \"Order\", \"High\", \"Phigh\", \"Low\", \"Medium\", \"Choice\"]"
   ]
  },
  {
   "cell_type": "code",
   "execution_count": 3,
   "metadata": {},
   "outputs": [
    {
     "name": "stdout",
     "output_type": "stream",
     "text": [
      "reading RawExpEst_Mar08.txt\n",
      "writing experience_est.csv\n",
      "Processed RawExpEst_Mar08.txt to experience_est.csv\n",
      "reading RawExpComp_May08.txt\n",
      "writing experience_comp.csv\n",
      "Processed RawExpComp_May08.txt to experience_comp.csv\n"
     ]
    }
   ],
   "source": [
    "os.makedirs(output_path, exist_ok=True)\n",
    "# experience files\n",
    "def parse_experience(input, output):\n",
    "    print(f\"reading {input}\")\n",
    "    df = pd.read_csv(f\"{input_path}/{input}\", sep=r\"\\s+\")\n",
    "    # Camel case column names\n",
    "    df.columns = df.columns.str.lower().str.capitalize()\n",
    "    # rename risk to choice\n",
    "    df = df.rename(columns={\"Risk\": \"Choice\"})\n",
    "    print(f\"writing {output}\")\n",
    "    df.to_csv(f\"{output_path}/{output}\", index=False)\n",
    "    print(f\"Processed {input} to {output}\")\n",
    "\n",
    "\n",
    "for input, ouput in experience_files.items():\n",
    "    input_filename = f\"{input_path}/{input}\"\n",
    "    output_filename = f\"{output_path}/{ouput}\"\n",
    "    parse_experience(input, ouput)"
   ]
  },
  {
   "cell_type": "code",
   "execution_count": 4,
   "metadata": {},
   "outputs": [
    {
     "name": "stdout",
     "output_type": "stream",
     "text": [
      "Found 20 files\n",
      "writing description_comp.csv\n",
      "Processed RawDecRiskEstComp08 to description_comp.csv\n",
      "Found 20 files\n",
      "writing description_est.csv\n",
      "Processed RawDesComp to description_est.csv\n"
     ]
    }
   ],
   "source": [
    "# description files\n",
    "def parse_description(input_folder, output_filename):\n",
    "    files = glob(f\"{input_path}/{input_folder}/*.txt\")\n",
    "    print(f\"Found {len(files)} files\")\n",
    "    df_list = []\n",
    "    for input_filename in files:\n",
    "        df = pd.read_csv(input_filename, sep=r\"\\s+\", header=None, names=description_header)\n",
    "        df_list.append(df)\n",
    "    df = pd.concat(df_list)\n",
    "    print(f\"writing {output_filename}\")\n",
    "    df.to_csv(f\"{output_path}/{output_filename}\", index=False)\n",
    "    print(f\"Processed {input_folder} to {output_filename}\")\n",
    "\n",
    "\n",
    "for folder_name, output_filename in description_folders.items():\n",
    "    parse_description(folder_name, output_filename)"
   ]
  }
 ],
 "metadata": {
  "kernelspec": {
   "display_name": ".venv",
   "language": "python",
   "name": "python3"
  },
  "language_info": {
   "codemirror_mode": {
    "name": "ipython",
    "version": 3
   },
   "file_extension": ".py",
   "mimetype": "text/x-python",
   "name": "python",
   "nbconvert_exporter": "python",
   "pygments_lexer": "ipython3",
   "version": "3.13.2"
  }
 },
 "nbformat": 4,
 "nbformat_minor": 2
}
