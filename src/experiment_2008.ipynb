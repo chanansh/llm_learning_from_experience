{
 "cells": [
  {
   "cell_type": "code",
   "execution_count": null,
   "metadata": {},
   "outputs": [],
   "source": [
    "%reload_ext autoreload\n",
    "%autoreload 2\n",
    "import pandas as pd\n",
    "import scipy.io\n",
    "from joblib import Memory\n",
    "import plotly.express as px\n"
   ]
  },
  {
   "cell_type": "code",
   "execution_count": 2,
   "metadata": {},
   "outputs": [],
   "source": [
    "filename = '../artifacts/2010/clicking_comp_dat.txt'"
   ]
  },
  {
   "cell_type": "code",
   "execution_count": 3,
   "metadata": {},
   "outputs": [],
   "source": [
    "df = pd.read_csv(filename, sep=r'\\s+')"
   ]
  },
  {
   "cell_type": "code",
   "execution_count": 7,
   "metadata": {},
   "outputs": [],
   "source": [
    "#load matlab mat file\n",
    "memory = Memory(location='.', verbose=0)\n",
    "@memory.cache\n",
    "def load_mat(filename):\n",
    "    mat = scipy.io.loadmat(filename)\n",
    "    columns = pd.Series([name for name in mat['titles'].dtype.names])\n",
    "    values = mat['data']\n",
    "    column_order = pd.Series([int(x[0][0]) for x in mat['titles'][0][0]]) -1\n",
    "# inverse the order so that the value represetns the column index\n",
    "    column_order = column_order.argsort()\n",
    "    df = pd.DataFrame(values, columns=columns[column_order])\n",
    "    return df\n",
    "comp = load_mat('../artifacts/2008/competition_data.mat')\n",
    "est = load_mat('../artifacts/2008/estimation_data.mat')"
   ]
  },
  {
   "cell_type": "code",
   "execution_count": 5,
   "metadata": {},
   "outputs": [
    {
     "data": {
      "text/plain": [
       "Index(['Id', 'Problem', 'Trial', 'Order', 'High', 'Phigh', 'Low', 'Medium',\n",
       "       'Choice', 'Payoff'],\n",
       "      dtype='object')"
      ]
     },
     "execution_count": 5,
     "metadata": {},
     "output_type": "execute_result"
    }
   ],
   "source": [
    "est.columns"
   ]
  },
  {
   "cell_type": "code",
   "execution_count": 28,
   "metadata": {},
   "outputs": [
    {
     "data": {
      "application/vnd.plotly.v1+json": {
       "config": {
        "plotlyServerURL": "https://plot.ly"
       },
       "data": [
        {
         "hovertemplate": "Phigh=%{x}<br>Choice=%{y}<br>Medium=%{marker.color}<extra></extra>",
         "legendgroup": "",
         "marker": {
          "color": {
           "bdata": "MzMzMzMz078AAAAAAADwv2ZmZmZmZijAmpmZmZmZOcBmZmZmZmb+v5qZmZmZmRnAZmZmZmZmJ8AAAAAAAAAYwGZmZmZmZhjAzczMzMzM/L8zMzMzMzMowJqZmZmZmRnAzczMzMzMIsAAAAAAAAAvwGZmZmZmZjnAMzMzMzOzMsDNzMzMzMw3wDMzMzMzMyDAzczMzMzMIMAAAAAAAAASwGZmZmZmZhLAZmZmZmZmIUBmZmZmZmYWQAAAAAAAAB7AmpmZmZmZGcCamZmZmZkTwDMzMzMzM/M/ZmZmZmZmEkAAAAAAAAAcQGZmZmZmZvY/mpmZmZmZGUBmZmZmZmYWQDMzMzMzMxtAZmZmZmZmEMCamZmZmZkBQJqZmZmZmR/AzczMzMzM9D9mZmZmZmYUwJqZmZmZmRvAmpmZmZmZF0AAAAAAAAAvQJqZmZmZGTFAZmZmZmZmIkDNzMzMzMwjQJqZmZmZmQFAAAAAAAAAIEAzMzMzMzMlQJqZmZmZGTJAzczMzMzMI0BmZmZmZmYGQJqZmZmZmSlAAAAAAAAA4D8AAAAAAAAnQAAAAAAAABxAAAAAAAAAJkAzMzMzMzM5QJqZmZmZmR9AMzMzMzOzNEAAAAAAAAAYQM3MzMzMzB5A",
           "dtype": "f8"
          },
          "coloraxis": "coloraxis",
          "symbol": "circle"
         },
         "mode": "markers",
         "name": "",
         "orientation": "v",
         "showlegend": false,
         "type": "scatter",
         "x": {
          "bdata": "uB6F61G47j9mZmZmZmbuPzMzMzMzM9M/mpmZmZmZyT/NzMzMzMzsP65H4XoUru8/ZmZmZmZm5j+amZmZmZm5P2ZmZmZmZu4/cT0K16Nw7T97FK5H4XqUPxSuR+F6FO4/mpmZmZmZqT8zMzMzMzPjP3sUrkfherQ/7FG4HoXrsT+amZmZmZm5P5qZmZmZmck/zczMzMzM7D8zMzMzMzPjP5qZmZmZmbk/H4XrUbge7T+amZmZmZnpP5qZmZmZmak/exSuR+F6lD+amZmZmZmpP8P1KFyPwu0/mpmZmZmZ6T9xPQrXo3DtPx+F61G4Hu0/ZmZmZmZm7j/D9Shcj8LtP7gehetRuO4/mpmZmZmZqT/D9Shcj8LtP3sUrkfherQ/mpmZmZmZ6T/sUbgeheuxPzMzMzMzM9M/XI/C9Shc7z+amZmZmZnpP3E9CtejcO0/uB6F61G4rj+4HoXrUbjuP5qZmZmZmek/mpmZmZmZuT97FK5H4XqkP1yPwvUoXO8/AAAAAAAA4D97FK5H4XqkPxSuR+F6FO4/CtejcD0Ktz+amZmZmZm5P3sUrkfheoQ/CtejcD0K7z8UrkfhehTuPzMzMzMzM+M/rkfhehSu7z8zMzMzMzPTP3E9CtejcO0/",
          "dtype": "f8"
         },
         "xaxis": "x",
         "y": {
          "bdata": "9ihcj8L11D9U46WbxCDgP7Kd76fGS88/TmIQWDm01D8hsHJoke3cPwRWDi2yneU/AiuHFtnO1z8dWmQ730/RP4PAyqFFtts/VOOlm8Qg3D9OYhBYObTQP4PAyqFFtuE/eekmMQisvD/2KFyPwvXkP/7UeOkmMcg/7nw/NV661T+BlUOLbOfXP/Cnxks3idU/sHJoke183z9zaJHtfD+1P3npJjEIrLw/ke18PzVe2j/LoUW28/3YPxsv3SQGgbU/pHA9CtejyD/2KFyPwvXIPwIrhxbZzt8/46WbxCCw4j8Sg8DKoUXgP+XQItv5fto/UI2XbhKD4D/b+X5qvHTfP/hT46WbxOQ/MzMzMzMz0z8rhxbZzvfbP65H4XoUrrc/RIts5/up0T8QWDm0yHbSPzvfT42XbuI/sHJoke184z85tMh2vp/gP2Dl0CLb+d4/VOOlm8Qg7D8AAAAAAADiP2ZmZmZmZt4/UrgehetR1D/VeOkmMQjQP7bz/dR46eI//tR46SYxwD9mZmZmZmbWP2IQWDm0yOA/TmIQWDm00D91kxgEVg69Pw4tsp3vp8Y/SgwCK4cW5T8K16NwPQrhP3WTGARWDt0/f2q8dJMY5D99PzVeuknUP1K4HoXrUdw/",
          "dtype": "f8"
         },
         "yaxis": "y"
        },
        {
         "hovertemplate": "<b>OLS trendline</b><br>Choice = 0.28441 * Phigh + 0.2384<br>R<sup>2</sup>=0.409414<br><br>Phigh=%{x}<br>Choice=%{y} <b>(trend)</b><extra></extra>",
         "legendgroup": "",
         "marker": {
          "symbol": "circle"
         },
         "mode": "lines",
         "name": "",
         "showlegend": false,
         "type": "scatter",
         "x": {
          "bdata": "exSuR+F6hD97FK5H4XqUP3sUrkfhepQ/exSuR+F6pD97FK5H4XqkP5qZmZmZmak/mpmZmZmZqT+amZmZmZmpP5qZmZmZmak/uB6F61G4rj/sUbgeheuxP+xRuB6F67E/exSuR+F6tD97FK5H4Xq0PwrXo3A9Crc/mpmZmZmZuT+amZmZmZm5P5qZmZmZmbk/mpmZmZmZuT+amZmZmZm5P5qZmZmZmck/mpmZmZmZyT8zMzMzMzPTPzMzMzMzM9M/MzMzMzMz0z8AAAAAAADgPzMzMzMzM+M/MzMzMzMz4z8zMzMzMzPjP2ZmZmZmZuY/mpmZmZmZ6T+amZmZmZnpP5qZmZmZmek/mpmZmZmZ6T+amZmZmZnpP83MzMzMzOw/zczMzMzM7D8fhetRuB7tPx+F61G4Hu0/cT0K16Nw7T9xPQrXo3DtP3E9CtejcO0/cT0K16Nw7T/D9Shcj8LtP8P1KFyPwu0/w/UoXI/C7T8UrkfhehTuPxSuR+F6FO4/FK5H4XoU7j9mZmZmZmbuP2ZmZmZmZu4/ZmZmZmZm7j+4HoXrUbjuP7gehetRuO4/uB6F61G47j8K16NwPQrvP1yPwvUoXO8/XI/C9Shc7z+uR+F6FK7vP65H4XoUru8/",
          "dtype": "f8"
         },
         "xaxis": "x",
         "y": {
          "bdata": "Lfhg/xPhzj9HV8gRRj7PP0dXyBFGPs8/fBWXNqr4zz98FZc2qvjPP0s6fyTuKtA/Szp/JO4q0D9LOn8k7irQP0s6fyTuKtA/2OmyLYdZ0D9lmeY2IIjQP2WZ5jYgiNA/8kgaQLm20D/ySBpAubbQP4D4TUlS5dA/DaiBUusT0T8NqIFS6xPRPw2ogVLrE9E/DaiBUusT0T8NqIFS6xPRP5CDhq7l5dI/kIOGruXl0j8TX4sK4LfUPxNfiwrgt9Q/E1+LCuC31D8ZFpXC1FvYP5zxmR7PLdo/nPGZHs8t2j+c8Zkezy3aPx/NnnrJ/9s/oqij1sPR3T+iqKPWw9HdP6Koo9bD0d0/oqij1sPR3T+iqKPWw9HdPyaEqDK+o98/JoSoMr6j3z+yM9w7V9LfP7Iz3DtX0t8/oPGHIngA4D+g8YcieADgP6DxhyJ4AOA/oPGHIngA4D9mySGnxBfgP2bJIafEF+A/Zskhp8QX4D8tobsrES/gPy2huysRL+A/LaG7KxEv4D/zeFWwXUbgP/N4VbBdRuA/83hVsF1G4D+6UO80ql3gP7pQ7zSqXeA/ulDvNKpd4D+BKIm59nTgP0cAIz5DjOA/RwAjPkOM4D8O2LzCj6PgPw7YvMKPo+A/",
          "dtype": "f8"
         },
         "yaxis": "y"
        }
       ],
       "layout": {
        "autosize": false,
        "coloraxis": {
         "colorbar": {
          "title": {
           "text": "Medium"
          }
         },
         "colorscale": [
          [
           0,
           "#0d0887"
          ],
          [
           0.1111111111111111,
           "#46039f"
          ],
          [
           0.2222222222222222,
           "#7201a8"
          ],
          [
           0.3333333333333333,
           "#9c179e"
          ],
          [
           0.4444444444444444,
           "#bd3786"
          ],
          [
           0.5555555555555556,
           "#d8576b"
          ],
          [
           0.6666666666666666,
           "#ed7953"
          ],
          [
           0.7777777777777778,
           "#fb9f3a"
          ],
          [
           0.8888888888888888,
           "#fdca26"
          ],
          [
           1,
           "#f0f921"
          ]
         ]
        },
        "height": 500,
        "legend": {
         "tracegroupgap": 0
        },
        "margin": {
         "b": 0,
         "l": 0,
         "pad": 4,
         "r": 0,
         "t": 0
        },
        "template": {
         "data": {
          "bar": [
           {
            "error_x": {
             "color": "#2a3f5f"
            },
            "error_y": {
             "color": "#2a3f5f"
            },
            "marker": {
             "line": {
              "color": "#E5ECF6",
              "width": 0.5
             },
             "pattern": {
              "fillmode": "overlay",
              "size": 10,
              "solidity": 0.2
             }
            },
            "type": "bar"
           }
          ],
          "barpolar": [
           {
            "marker": {
             "line": {
              "color": "#E5ECF6",
              "width": 0.5
             },
             "pattern": {
              "fillmode": "overlay",
              "size": 10,
              "solidity": 0.2
             }
            },
            "type": "barpolar"
           }
          ],
          "carpet": [
           {
            "aaxis": {
             "endlinecolor": "#2a3f5f",
             "gridcolor": "white",
             "linecolor": "white",
             "minorgridcolor": "white",
             "startlinecolor": "#2a3f5f"
            },
            "baxis": {
             "endlinecolor": "#2a3f5f",
             "gridcolor": "white",
             "linecolor": "white",
             "minorgridcolor": "white",
             "startlinecolor": "#2a3f5f"
            },
            "type": "carpet"
           }
          ],
          "choropleth": [
           {
            "colorbar": {
             "outlinewidth": 0,
             "ticks": ""
            },
            "type": "choropleth"
           }
          ],
          "contour": [
           {
            "colorbar": {
             "outlinewidth": 0,
             "ticks": ""
            },
            "colorscale": [
             [
              0,
              "#0d0887"
             ],
             [
              0.1111111111111111,
              "#46039f"
             ],
             [
              0.2222222222222222,
              "#7201a8"
             ],
             [
              0.3333333333333333,
              "#9c179e"
             ],
             [
              0.4444444444444444,
              "#bd3786"
             ],
             [
              0.5555555555555556,
              "#d8576b"
             ],
             [
              0.6666666666666666,
              "#ed7953"
             ],
             [
              0.7777777777777778,
              "#fb9f3a"
             ],
             [
              0.8888888888888888,
              "#fdca26"
             ],
             [
              1,
              "#f0f921"
             ]
            ],
            "type": "contour"
           }
          ],
          "contourcarpet": [
           {
            "colorbar": {
             "outlinewidth": 0,
             "ticks": ""
            },
            "type": "contourcarpet"
           }
          ],
          "heatmap": [
           {
            "colorbar": {
             "outlinewidth": 0,
             "ticks": ""
            },
            "colorscale": [
             [
              0,
              "#0d0887"
             ],
             [
              0.1111111111111111,
              "#46039f"
             ],
             [
              0.2222222222222222,
              "#7201a8"
             ],
             [
              0.3333333333333333,
              "#9c179e"
             ],
             [
              0.4444444444444444,
              "#bd3786"
             ],
             [
              0.5555555555555556,
              "#d8576b"
             ],
             [
              0.6666666666666666,
              "#ed7953"
             ],
             [
              0.7777777777777778,
              "#fb9f3a"
             ],
             [
              0.8888888888888888,
              "#fdca26"
             ],
             [
              1,
              "#f0f921"
             ]
            ],
            "type": "heatmap"
           }
          ],
          "histogram": [
           {
            "marker": {
             "pattern": {
              "fillmode": "overlay",
              "size": 10,
              "solidity": 0.2
             }
            },
            "type": "histogram"
           }
          ],
          "histogram2d": [
           {
            "colorbar": {
             "outlinewidth": 0,
             "ticks": ""
            },
            "colorscale": [
             [
              0,
              "#0d0887"
             ],
             [
              0.1111111111111111,
              "#46039f"
             ],
             [
              0.2222222222222222,
              "#7201a8"
             ],
             [
              0.3333333333333333,
              "#9c179e"
             ],
             [
              0.4444444444444444,
              "#bd3786"
             ],
             [
              0.5555555555555556,
              "#d8576b"
             ],
             [
              0.6666666666666666,
              "#ed7953"
             ],
             [
              0.7777777777777778,
              "#fb9f3a"
             ],
             [
              0.8888888888888888,
              "#fdca26"
             ],
             [
              1,
              "#f0f921"
             ]
            ],
            "type": "histogram2d"
           }
          ],
          "histogram2dcontour": [
           {
            "colorbar": {
             "outlinewidth": 0,
             "ticks": ""
            },
            "colorscale": [
             [
              0,
              "#0d0887"
             ],
             [
              0.1111111111111111,
              "#46039f"
             ],
             [
              0.2222222222222222,
              "#7201a8"
             ],
             [
              0.3333333333333333,
              "#9c179e"
             ],
             [
              0.4444444444444444,
              "#bd3786"
             ],
             [
              0.5555555555555556,
              "#d8576b"
             ],
             [
              0.6666666666666666,
              "#ed7953"
             ],
             [
              0.7777777777777778,
              "#fb9f3a"
             ],
             [
              0.8888888888888888,
              "#fdca26"
             ],
             [
              1,
              "#f0f921"
             ]
            ],
            "type": "histogram2dcontour"
           }
          ],
          "mesh3d": [
           {
            "colorbar": {
             "outlinewidth": 0,
             "ticks": ""
            },
            "type": "mesh3d"
           }
          ],
          "parcoords": [
           {
            "line": {
             "colorbar": {
              "outlinewidth": 0,
              "ticks": ""
             }
            },
            "type": "parcoords"
           }
          ],
          "pie": [
           {
            "automargin": true,
            "type": "pie"
           }
          ],
          "scatter": [
           {
            "fillpattern": {
             "fillmode": "overlay",
             "size": 10,
             "solidity": 0.2
            },
            "type": "scatter"
           }
          ],
          "scatter3d": [
           {
            "line": {
             "colorbar": {
              "outlinewidth": 0,
              "ticks": ""
             }
            },
            "marker": {
             "colorbar": {
              "outlinewidth": 0,
              "ticks": ""
             }
            },
            "type": "scatter3d"
           }
          ],
          "scattercarpet": [
           {
            "marker": {
             "colorbar": {
              "outlinewidth": 0,
              "ticks": ""
             }
            },
            "type": "scattercarpet"
           }
          ],
          "scattergeo": [
           {
            "marker": {
             "colorbar": {
              "outlinewidth": 0,
              "ticks": ""
             }
            },
            "type": "scattergeo"
           }
          ],
          "scattergl": [
           {
            "marker": {
             "colorbar": {
              "outlinewidth": 0,
              "ticks": ""
             }
            },
            "type": "scattergl"
           }
          ],
          "scattermap": [
           {
            "marker": {
             "colorbar": {
              "outlinewidth": 0,
              "ticks": ""
             }
            },
            "type": "scattermap"
           }
          ],
          "scattermapbox": [
           {
            "marker": {
             "colorbar": {
              "outlinewidth": 0,
              "ticks": ""
             }
            },
            "type": "scattermapbox"
           }
          ],
          "scatterpolar": [
           {
            "marker": {
             "colorbar": {
              "outlinewidth": 0,
              "ticks": ""
             }
            },
            "type": "scatterpolar"
           }
          ],
          "scatterpolargl": [
           {
            "marker": {
             "colorbar": {
              "outlinewidth": 0,
              "ticks": ""
             }
            },
            "type": "scatterpolargl"
           }
          ],
          "scatterternary": [
           {
            "marker": {
             "colorbar": {
              "outlinewidth": 0,
              "ticks": ""
             }
            },
            "type": "scatterternary"
           }
          ],
          "surface": [
           {
            "colorbar": {
             "outlinewidth": 0,
             "ticks": ""
            },
            "colorscale": [
             [
              0,
              "#0d0887"
             ],
             [
              0.1111111111111111,
              "#46039f"
             ],
             [
              0.2222222222222222,
              "#7201a8"
             ],
             [
              0.3333333333333333,
              "#9c179e"
             ],
             [
              0.4444444444444444,
              "#bd3786"
             ],
             [
              0.5555555555555556,
              "#d8576b"
             ],
             [
              0.6666666666666666,
              "#ed7953"
             ],
             [
              0.7777777777777778,
              "#fb9f3a"
             ],
             [
              0.8888888888888888,
              "#fdca26"
             ],
             [
              1,
              "#f0f921"
             ]
            ],
            "type": "surface"
           }
          ],
          "table": [
           {
            "cells": {
             "fill": {
              "color": "#EBF0F8"
             },
             "line": {
              "color": "white"
             }
            },
            "header": {
             "fill": {
              "color": "#C8D4E3"
             },
             "line": {
              "color": "white"
             }
            },
            "type": "table"
           }
          ]
         },
         "layout": {
          "annotationdefaults": {
           "arrowcolor": "#2a3f5f",
           "arrowhead": 0,
           "arrowwidth": 1
          },
          "autotypenumbers": "strict",
          "coloraxis": {
           "colorbar": {
            "outlinewidth": 0,
            "ticks": ""
           }
          },
          "colorscale": {
           "diverging": [
            [
             0,
             "#8e0152"
            ],
            [
             0.1,
             "#c51b7d"
            ],
            [
             0.2,
             "#de77ae"
            ],
            [
             0.3,
             "#f1b6da"
            ],
            [
             0.4,
             "#fde0ef"
            ],
            [
             0.5,
             "#f7f7f7"
            ],
            [
             0.6,
             "#e6f5d0"
            ],
            [
             0.7,
             "#b8e186"
            ],
            [
             0.8,
             "#7fbc41"
            ],
            [
             0.9,
             "#4d9221"
            ],
            [
             1,
             "#276419"
            ]
           ],
           "sequential": [
            [
             0,
             "#0d0887"
            ],
            [
             0.1111111111111111,
             "#46039f"
            ],
            [
             0.2222222222222222,
             "#7201a8"
            ],
            [
             0.3333333333333333,
             "#9c179e"
            ],
            [
             0.4444444444444444,
             "#bd3786"
            ],
            [
             0.5555555555555556,
             "#d8576b"
            ],
            [
             0.6666666666666666,
             "#ed7953"
            ],
            [
             0.7777777777777778,
             "#fb9f3a"
            ],
            [
             0.8888888888888888,
             "#fdca26"
            ],
            [
             1,
             "#f0f921"
            ]
           ],
           "sequentialminus": [
            [
             0,
             "#0d0887"
            ],
            [
             0.1111111111111111,
             "#46039f"
            ],
            [
             0.2222222222222222,
             "#7201a8"
            ],
            [
             0.3333333333333333,
             "#9c179e"
            ],
            [
             0.4444444444444444,
             "#bd3786"
            ],
            [
             0.5555555555555556,
             "#d8576b"
            ],
            [
             0.6666666666666666,
             "#ed7953"
            ],
            [
             0.7777777777777778,
             "#fb9f3a"
            ],
            [
             0.8888888888888888,
             "#fdca26"
            ],
            [
             1,
             "#f0f921"
            ]
           ]
          },
          "colorway": [
           "#636efa",
           "#EF553B",
           "#00cc96",
           "#ab63fa",
           "#FFA15A",
           "#19d3f3",
           "#FF6692",
           "#B6E880",
           "#FF97FF",
           "#FECB52"
          ],
          "font": {
           "color": "#2a3f5f"
          },
          "geo": {
           "bgcolor": "white",
           "lakecolor": "white",
           "landcolor": "#E5ECF6",
           "showlakes": true,
           "showland": true,
           "subunitcolor": "white"
          },
          "hoverlabel": {
           "align": "left"
          },
          "hovermode": "closest",
          "mapbox": {
           "style": "light"
          },
          "paper_bgcolor": "white",
          "plot_bgcolor": "#E5ECF6",
          "polar": {
           "angularaxis": {
            "gridcolor": "white",
            "linecolor": "white",
            "ticks": ""
           },
           "bgcolor": "#E5ECF6",
           "radialaxis": {
            "gridcolor": "white",
            "linecolor": "white",
            "ticks": ""
           }
          },
          "scene": {
           "xaxis": {
            "backgroundcolor": "#E5ECF6",
            "gridcolor": "white",
            "gridwidth": 2,
            "linecolor": "white",
            "showbackground": true,
            "ticks": "",
            "zerolinecolor": "white"
           },
           "yaxis": {
            "backgroundcolor": "#E5ECF6",
            "gridcolor": "white",
            "gridwidth": 2,
            "linecolor": "white",
            "showbackground": true,
            "ticks": "",
            "zerolinecolor": "white"
           },
           "zaxis": {
            "backgroundcolor": "#E5ECF6",
            "gridcolor": "white",
            "gridwidth": 2,
            "linecolor": "white",
            "showbackground": true,
            "ticks": "",
            "zerolinecolor": "white"
           }
          },
          "shapedefaults": {
           "line": {
            "color": "#2a3f5f"
           }
          },
          "ternary": {
           "aaxis": {
            "gridcolor": "white",
            "linecolor": "white",
            "ticks": ""
           },
           "baxis": {
            "gridcolor": "white",
            "linecolor": "white",
            "ticks": ""
           },
           "bgcolor": "#E5ECF6",
           "caxis": {
            "gridcolor": "white",
            "linecolor": "white",
            "ticks": ""
           }
          },
          "title": {
           "x": 0.05
          },
          "xaxis": {
           "automargin": true,
           "gridcolor": "white",
           "linecolor": "white",
           "ticks": "",
           "title": {
            "standoff": 15
           },
           "zerolinecolor": "white",
           "zerolinewidth": 2
          },
          "yaxis": {
           "automargin": true,
           "gridcolor": "white",
           "linecolor": "white",
           "ticks": "",
           "title": {
            "standoff": 15
           },
           "zerolinecolor": "white",
           "zerolinewidth": 2
          }
         }
        },
        "width": 500,
        "xaxis": {
         "anchor": "y",
         "domain": [
          0,
          1
         ],
         "range": [
          0.01,
          0.99
         ],
         "scaleanchor": "y",
         "scaleratio": 1,
         "title": {
          "text": "Phigh"
         }
        },
        "yaxis": {
         "anchor": "x",
         "domain": [
          0,
          1
         ],
         "range": [
          0.01,
          0.99
         ],
         "scaleanchor": "x",
         "scaleratio": 1,
         "title": {
          "text": "Choice"
         }
        }
       }
      }
     },
     "metadata": {},
     "output_type": "display_data"
    },
    {
     "name": "stdout",
     "output_type": "stream",
     "text": [
      "                            OLS Regression Results                            \n",
      "==============================================================================\n",
      "Dep. Variable:                      y   R-squared:                       0.409\n",
      "Model:                            OLS   Adj. R-squared:                  0.399\n",
      "Method:                 Least Squares   F-statistic:                     40.21\n",
      "Date:                Sun, 02 Mar 2025   Prob (F-statistic):           3.71e-08\n",
      "Time:                        17:49:52   Log-Likelihood:                 34.996\n",
      "No. Observations:                  60   AIC:                            -65.99\n",
      "Df Residuals:                      58   BIC:                            -61.80\n",
      "Df Model:                           1                                         \n",
      "Covariance Type:            nonrobust                                         \n",
      "==============================================================================\n",
      "                 coef    std err          t      P>|t|      [0.025      0.975]\n",
      "------------------------------------------------------------------------------\n",
      "const          0.2384      0.030      7.827      0.000       0.177       0.299\n",
      "x1             0.2844      0.045      6.341      0.000       0.195       0.374\n",
      "==============================================================================\n",
      "Omnibus:                       31.619   Durbin-Watson:                   2.065\n",
      "Prob(Omnibus):                  0.000   Jarque-Bera (JB):              113.006\n",
      "Skew:                           1.368   Prob(JB):                     2.89e-25\n",
      "Kurtosis:                       9.142   Cond. No.                         3.40\n",
      "==============================================================================\n",
      "\n",
      "Notes:\n",
      "[1] Standard Errors assume that the covariance matrix of the errors is correctly specified.\n"
     ]
    }
   ],
   "source": [
    "est_agg = est.groupby(['Problem', 'Phigh', 'Medium'])['Choice'].mean().reset_index()\n",
    "# Create scatter plot\n",
    "fig = px.scatter(est_agg, x='Phigh', y='Choice', color='Medium', trendline='ols')\n",
    "\n",
    "# Define axis range to match both axes\n",
    "axis_min = min(est_agg[\"Phigh\"].min(), est_agg[\"Choice\"].min())\n",
    "axis_max = max(est_agg[\"Phigh\"].max(), est_agg[\"Choice\"].max())\n",
    "\n",
    "# Update layout to force square aspect ratio\n",
    "fig.update_layout(\n",
    "    autosize=False,\n",
    "    width=500,\n",
    "    height=500,\n",
    "    margin=dict(l=0, r=0, b=0, t=0, pad=4),\n",
    "    xaxis=dict(\n",
    "        scaleanchor=\"y\",\n",
    "        scaleratio=1,\n",
    "        range=[axis_min, axis_max]  # Ensuring same range\n",
    "    ),\n",
    "    yaxis=dict(\n",
    "        scaleanchor=\"x\",\n",
    "        scaleratio=1,\n",
    "        range=[axis_min, axis_max]  # Ensuring same range\n",
    "    )\n",
    ")\n",
    "\n",
    "# Show figure\n",
    "fig.show()\n",
    "results = px.get_trendline_results(fig)\n",
    "print(results['px_fit_results'].values[0].summary())"
   ]
  },
  {
   "cell_type": "code",
   "execution_count": 29,
   "metadata": {},
   "outputs": [],
   "source": [
    "import pandas as pd\n",
    "from glob import glob\n",
    "folder = '../results/2008'\n",
    "@memory.cache\n",
    "def load_llm_results(folder = '../results/2008'):\n",
    "    df_list = []\n",
    "    for filename in glob(f'{folder}/*.csv'):\n",
    "        df_list.append(pd.read_csv(filename))\n",
    "    df_llm = pd.concat(df_list)\n",
    "    return df_llm\n",
    "df_llm = load_llm_results(folder)\n"
   ]
  },
  {
   "cell_type": "code",
   "execution_count": 26,
   "metadata": {},
   "outputs": [
    {
     "data": {
      "application/vnd.plotly.v1+json": {
       "config": {
        "plotlyServerURL": "https://plot.ly"
       },
       "data": [
        {
         "hovertemplate": "Phigh=%{x}<br>Choice=%{y}<br>Medium=%{marker.color}<extra></extra>",
         "legendgroup": "",
         "marker": {
          "color": {
           "bdata": "MzMzMzMz078AAAAAAADwv2ZmZmZmZijAmpmZmZmZOcBmZmZmZmb+v5qZmZmZmRnAZmZmZmZmJ8AAAAAAAAAYwGZmZmZmZhjAzczMzMzM/L8zMzMzMzMowJqZmZmZmRnAzczMzMzMIsAAAAAAAAAvwGZmZmZmZjnAMzMzMzOzMsDNzMzMzMw3wDMzMzMzMyDAzczMzMzMIMAAAAAAAAASwGZmZmZmZhLAZmZmZmZmIUBmZmZmZmYWQAAAAAAAAB7AmpmZmZmZGcCamZmZmZkTwDMzMzMzM/M/ZmZmZmZmEkAAAAAAAAAcQGZmZmZmZvY/mpmZmZmZGUBmZmZmZmYWQDMzMzMzMxtAZmZmZmZmEMCamZmZmZkBQJqZmZmZmR/AzczMzMzM9D9mZmZmZmYUwJqZmZmZmRvAmpmZmZmZF0AAAAAAAAAvQJqZmZmZGTFAZmZmZmZmIkDNzMzMzMwjQJqZmZmZmQFAAAAAAAAAIEAzMzMzMzMlQJqZmZmZGTJAzczMzMzMI0BmZmZmZmYGQJqZmZmZmSlAAAAAAAAA4D8AAAAAAAAnQAAAAAAAABxAAAAAAAAAJkAzMzMzMzM5QJqZmZmZmR9AMzMzMzOzNEAAAAAAAAAYQM3MzMzMzB5A",
           "dtype": "f8"
          },
          "coloraxis": "coloraxis",
          "symbol": "circle"
         },
         "mode": "markers",
         "name": "",
         "orientation": "v",
         "showlegend": false,
         "type": "scatter",
         "x": {
          "bdata": "uB6F61G47j9mZmZmZmbuPzMzMzMzM9M/mpmZmZmZyT/NzMzMzMzsP65H4XoUru8/ZmZmZmZm5j+amZmZmZm5P2ZmZmZmZu4/cT0K16Nw7T97FK5H4XqUPxSuR+F6FO4/mpmZmZmZqT8zMzMzMzPjP3sUrkfherQ/7FG4HoXrsT+amZmZmZm5P5qZmZmZmck/zczMzMzM7D8zMzMzMzPjP5qZmZmZmbk/H4XrUbge7T+amZmZmZnpP5qZmZmZmak/exSuR+F6lD+amZmZmZmpP8P1KFyPwu0/mpmZmZmZ6T9xPQrXo3DtPx+F61G4Hu0/ZmZmZmZm7j/D9Shcj8LtP7gehetRuO4/mpmZmZmZqT/D9Shcj8LtP3sUrkfherQ/mpmZmZmZ6T/sUbgeheuxPzMzMzMzM9M/XI/C9Shc7z+amZmZmZnpP3E9CtejcO0/uB6F61G4rj+4HoXrUbjuP5qZmZmZmek/mpmZmZmZuT97FK5H4XqkP1yPwvUoXO8/AAAAAAAA4D97FK5H4XqkPxSuR+F6FO4/CtejcD0Ktz+amZmZmZm5P3sUrkfheoQ/CtejcD0K7z8UrkfhehTuPzMzMzMzM+M/rkfhehSu7z8zMzMzMzPTP3E9CtejcO0/",
          "dtype": "f8"
         },
         "xaxis": "x",
         "y": {
          "bdata": "Di2yne+n4D8EVg4tsp3rP4/C9Shcj9I/exSuR+F61D/ufD81XrrnPyGwcmiR7eo/0SLb+X5q5j+sHFpkO9/HP9Ei2/l+auo/HVpkO99P5z8MAiuHFtm+P8/3U+Olm+o/8tJNYhBYwT9t5/up8dLlPyPb+X5qvMQ/i2zn+6nxwj956SYxCKzEP3npJjEIrMw/vp8aL90k6j+YbhKDwMrRPwisHFpkO8c/exSuR+F64D85tMh2vp/KP39qvHSTGLQ/WDm0yHa+vz+F61G4HoXDPy2yne+nxsM/fT81XrpJvD+uR+F6FK7PP+XQItv5fro/eekmMQis3D/0/dR46SbBP3npJjEIrNA/bef7qfHSxT8730+Nl27KP4XrUbgehcM/eekmMQisrD/RItv5fmrEP9v5fmq8dNs/TDeJQWDl1D/hehSuR+HeP9Ei2/l+auY/F9nO91Pj6z8nMQisHFroPzVeukkMAtM/d76fGi/d0D9U46WbxCDcPxSuR+F6FOA/UrgehetRuD9Ei2zn+6nVPwaBlUOLbNs/PQrXo3A9uj+mm8QgsHLUP4GVQ4ts59M/exSuR+F62D/TTWIQWDnYP3E9CtejcNE/YhBYObTI4D++nxov3STSP6RwPQrXo9A/",
          "dtype": "f8"
         },
         "yaxis": "y"
        },
        {
         "hovertemplate": "<b>OLS trendline</b><br>Choice = 0.282178 * Phigh + 0.207699<br>R<sup>2</sup>=0.213810<br><br>Phigh=%{x}<br>Choice=%{y} <b>(trend)</b><extra></extra>",
         "legendgroup": "",
         "marker": {
          "symbol": "circle"
         },
         "mode": "lines",
         "name": "",
         "showlegend": false,
         "type": "scatter",
         "x": {
          "bdata": "exSuR+F6hD97FK5H4XqUP3sUrkfhepQ/exSuR+F6pD97FK5H4XqkP5qZmZmZmak/mpmZmZmZqT+amZmZmZmpP5qZmZmZmak/uB6F61G4rj/sUbgeheuxP+xRuB6F67E/exSuR+F6tD97FK5H4Xq0PwrXo3A9Crc/mpmZmZmZuT+amZmZmZm5P5qZmZmZmbk/mpmZmZmZuT+amZmZmZm5P5qZmZmZmck/mpmZmZmZyT8zMzMzMzPTPzMzMzMzM9M/MzMzMzMz0z8AAAAAAADgPzMzMzMzM+M/MzMzMzMz4z8zMzMzMzPjP2ZmZmZmZuY/mpmZmZmZ6T+amZmZmZnpP5qZmZmZmek/mpmZmZmZ6T+amZmZmZnpP83MzMzMzOw/zczMzMzM7D8fhetRuB7tPx+F61G4Hu0/cT0K16Nw7T9xPQrXo3DtP3E9CtejcO0/cT0K16Nw7T/D9Shcj8LtP8P1KFyPwu0/w/UoXI/C7T8UrkfhehTuPxSuR+F6FO4/FK5H4XoU7j9mZmZmZmbuP2ZmZmZmZu4/ZmZmZmZm7j+4HoXrUbjuP7gehetRuO4/uB6F61G47j8K16NwPQrvP1yPwvUoXO8/XI/C9Shc7z+uR+F6FK7vP65H4XoUru8/",
          "dtype": "f8"
         },
         "xaxis": "x",
         "y": {
          "bdata": "7gkqbFnyyj9sIyg30E7LP2wjKDfQTss/ZlYkzb0HzD9mViTNvQfMP+RvIpg0ZMw/5G8imDRkzD/kbyKYNGTMP+RvIpg0ZMw/YYkgY6vAzD/foh4uIh3NP9+iHi4iHc0/XLwc+Zh5zT9cvBz5mHnNP9nVGsQP1s0/V+8Yj4Yyzj9X7xiPhjLOP1fvGI+GMs4/V+8Yj4Yyzj9X7xiPhjLOPx73gj6V59A/HveCPpXn0D+Rdnk157XSP5F2eTXntdI/kXZ5Nee10j93dWYji1LWP+r0XBrdINg/6vRcGt0g2D/q9Fwa3SDYP1x0UxEv79k/0PNJCIG92z/Q80kIgb3bP9DzSQiBvds/0PNJCIG92z/Q80kIgb3bP0JzQP/Si90/QnNA/9KL3T8CgL9kDrrdPwKAv2QOut0/wIw+ykno3T/AjD7KSejdP8CMPspJ6N0/wIw+ykno3T9+mb0vhRbeP36ZvS+FFt4/fpm9L4UW3j8+pjyVwETePz6mPJXARN4/PqY8lcBE3j/8srv6+3LeP/yyu/r7ct4//LK7+vty3j+6vzpgN6HeP7q/OmA3od4/ur86YDeh3j96zLnFcs/ePzjZOCuu/d4/ONk4K6793j/25beQ6SvfP/blt5DpK98/",
          "dtype": "f8"
         },
         "yaxis": "y"
        }
       ],
       "layout": {
        "autosize": false,
        "coloraxis": {
         "colorbar": {
          "title": {
           "text": "Medium"
          }
         },
         "colorscale": [
          [
           0,
           "#0d0887"
          ],
          [
           0.1111111111111111,
           "#46039f"
          ],
          [
           0.2222222222222222,
           "#7201a8"
          ],
          [
           0.3333333333333333,
           "#9c179e"
          ],
          [
           0.4444444444444444,
           "#bd3786"
          ],
          [
           0.5555555555555556,
           "#d8576b"
          ],
          [
           0.6666666666666666,
           "#ed7953"
          ],
          [
           0.7777777777777778,
           "#fb9f3a"
          ],
          [
           0.8888888888888888,
           "#fdca26"
          ],
          [
           1,
           "#f0f921"
          ]
         ]
        },
        "height": 500,
        "legend": {
         "tracegroupgap": 0
        },
        "margin": {
         "b": 0,
         "l": 0,
         "pad": 4,
         "r": 0,
         "t": 0
        },
        "template": {
         "data": {
          "bar": [
           {
            "error_x": {
             "color": "#2a3f5f"
            },
            "error_y": {
             "color": "#2a3f5f"
            },
            "marker": {
             "line": {
              "color": "#E5ECF6",
              "width": 0.5
             },
             "pattern": {
              "fillmode": "overlay",
              "size": 10,
              "solidity": 0.2
             }
            },
            "type": "bar"
           }
          ],
          "barpolar": [
           {
            "marker": {
             "line": {
              "color": "#E5ECF6",
              "width": 0.5
             },
             "pattern": {
              "fillmode": "overlay",
              "size": 10,
              "solidity": 0.2
             }
            },
            "type": "barpolar"
           }
          ],
          "carpet": [
           {
            "aaxis": {
             "endlinecolor": "#2a3f5f",
             "gridcolor": "white",
             "linecolor": "white",
             "minorgridcolor": "white",
             "startlinecolor": "#2a3f5f"
            },
            "baxis": {
             "endlinecolor": "#2a3f5f",
             "gridcolor": "white",
             "linecolor": "white",
             "minorgridcolor": "white",
             "startlinecolor": "#2a3f5f"
            },
            "type": "carpet"
           }
          ],
          "choropleth": [
           {
            "colorbar": {
             "outlinewidth": 0,
             "ticks": ""
            },
            "type": "choropleth"
           }
          ],
          "contour": [
           {
            "colorbar": {
             "outlinewidth": 0,
             "ticks": ""
            },
            "colorscale": [
             [
              0,
              "#0d0887"
             ],
             [
              0.1111111111111111,
              "#46039f"
             ],
             [
              0.2222222222222222,
              "#7201a8"
             ],
             [
              0.3333333333333333,
              "#9c179e"
             ],
             [
              0.4444444444444444,
              "#bd3786"
             ],
             [
              0.5555555555555556,
              "#d8576b"
             ],
             [
              0.6666666666666666,
              "#ed7953"
             ],
             [
              0.7777777777777778,
              "#fb9f3a"
             ],
             [
              0.8888888888888888,
              "#fdca26"
             ],
             [
              1,
              "#f0f921"
             ]
            ],
            "type": "contour"
           }
          ],
          "contourcarpet": [
           {
            "colorbar": {
             "outlinewidth": 0,
             "ticks": ""
            },
            "type": "contourcarpet"
           }
          ],
          "heatmap": [
           {
            "colorbar": {
             "outlinewidth": 0,
             "ticks": ""
            },
            "colorscale": [
             [
              0,
              "#0d0887"
             ],
             [
              0.1111111111111111,
              "#46039f"
             ],
             [
              0.2222222222222222,
              "#7201a8"
             ],
             [
              0.3333333333333333,
              "#9c179e"
             ],
             [
              0.4444444444444444,
              "#bd3786"
             ],
             [
              0.5555555555555556,
              "#d8576b"
             ],
             [
              0.6666666666666666,
              "#ed7953"
             ],
             [
              0.7777777777777778,
              "#fb9f3a"
             ],
             [
              0.8888888888888888,
              "#fdca26"
             ],
             [
              1,
              "#f0f921"
             ]
            ],
            "type": "heatmap"
           }
          ],
          "histogram": [
           {
            "marker": {
             "pattern": {
              "fillmode": "overlay",
              "size": 10,
              "solidity": 0.2
             }
            },
            "type": "histogram"
           }
          ],
          "histogram2d": [
           {
            "colorbar": {
             "outlinewidth": 0,
             "ticks": ""
            },
            "colorscale": [
             [
              0,
              "#0d0887"
             ],
             [
              0.1111111111111111,
              "#46039f"
             ],
             [
              0.2222222222222222,
              "#7201a8"
             ],
             [
              0.3333333333333333,
              "#9c179e"
             ],
             [
              0.4444444444444444,
              "#bd3786"
             ],
             [
              0.5555555555555556,
              "#d8576b"
             ],
             [
              0.6666666666666666,
              "#ed7953"
             ],
             [
              0.7777777777777778,
              "#fb9f3a"
             ],
             [
              0.8888888888888888,
              "#fdca26"
             ],
             [
              1,
              "#f0f921"
             ]
            ],
            "type": "histogram2d"
           }
          ],
          "histogram2dcontour": [
           {
            "colorbar": {
             "outlinewidth": 0,
             "ticks": ""
            },
            "colorscale": [
             [
              0,
              "#0d0887"
             ],
             [
              0.1111111111111111,
              "#46039f"
             ],
             [
              0.2222222222222222,
              "#7201a8"
             ],
             [
              0.3333333333333333,
              "#9c179e"
             ],
             [
              0.4444444444444444,
              "#bd3786"
             ],
             [
              0.5555555555555556,
              "#d8576b"
             ],
             [
              0.6666666666666666,
              "#ed7953"
             ],
             [
              0.7777777777777778,
              "#fb9f3a"
             ],
             [
              0.8888888888888888,
              "#fdca26"
             ],
             [
              1,
              "#f0f921"
             ]
            ],
            "type": "histogram2dcontour"
           }
          ],
          "mesh3d": [
           {
            "colorbar": {
             "outlinewidth": 0,
             "ticks": ""
            },
            "type": "mesh3d"
           }
          ],
          "parcoords": [
           {
            "line": {
             "colorbar": {
              "outlinewidth": 0,
              "ticks": ""
             }
            },
            "type": "parcoords"
           }
          ],
          "pie": [
           {
            "automargin": true,
            "type": "pie"
           }
          ],
          "scatter": [
           {
            "fillpattern": {
             "fillmode": "overlay",
             "size": 10,
             "solidity": 0.2
            },
            "type": "scatter"
           }
          ],
          "scatter3d": [
           {
            "line": {
             "colorbar": {
              "outlinewidth": 0,
              "ticks": ""
             }
            },
            "marker": {
             "colorbar": {
              "outlinewidth": 0,
              "ticks": ""
             }
            },
            "type": "scatter3d"
           }
          ],
          "scattercarpet": [
           {
            "marker": {
             "colorbar": {
              "outlinewidth": 0,
              "ticks": ""
             }
            },
            "type": "scattercarpet"
           }
          ],
          "scattergeo": [
           {
            "marker": {
             "colorbar": {
              "outlinewidth": 0,
              "ticks": ""
             }
            },
            "type": "scattergeo"
           }
          ],
          "scattergl": [
           {
            "marker": {
             "colorbar": {
              "outlinewidth": 0,
              "ticks": ""
             }
            },
            "type": "scattergl"
           }
          ],
          "scattermap": [
           {
            "marker": {
             "colorbar": {
              "outlinewidth": 0,
              "ticks": ""
             }
            },
            "type": "scattermap"
           }
          ],
          "scattermapbox": [
           {
            "marker": {
             "colorbar": {
              "outlinewidth": 0,
              "ticks": ""
             }
            },
            "type": "scattermapbox"
           }
          ],
          "scatterpolar": [
           {
            "marker": {
             "colorbar": {
              "outlinewidth": 0,
              "ticks": ""
             }
            },
            "type": "scatterpolar"
           }
          ],
          "scatterpolargl": [
           {
            "marker": {
             "colorbar": {
              "outlinewidth": 0,
              "ticks": ""
             }
            },
            "type": "scatterpolargl"
           }
          ],
          "scatterternary": [
           {
            "marker": {
             "colorbar": {
              "outlinewidth": 0,
              "ticks": ""
             }
            },
            "type": "scatterternary"
           }
          ],
          "surface": [
           {
            "colorbar": {
             "outlinewidth": 0,
             "ticks": ""
            },
            "colorscale": [
             [
              0,
              "#0d0887"
             ],
             [
              0.1111111111111111,
              "#46039f"
             ],
             [
              0.2222222222222222,
              "#7201a8"
             ],
             [
              0.3333333333333333,
              "#9c179e"
             ],
             [
              0.4444444444444444,
              "#bd3786"
             ],
             [
              0.5555555555555556,
              "#d8576b"
             ],
             [
              0.6666666666666666,
              "#ed7953"
             ],
             [
              0.7777777777777778,
              "#fb9f3a"
             ],
             [
              0.8888888888888888,
              "#fdca26"
             ],
             [
              1,
              "#f0f921"
             ]
            ],
            "type": "surface"
           }
          ],
          "table": [
           {
            "cells": {
             "fill": {
              "color": "#EBF0F8"
             },
             "line": {
              "color": "white"
             }
            },
            "header": {
             "fill": {
              "color": "#C8D4E3"
             },
             "line": {
              "color": "white"
             }
            },
            "type": "table"
           }
          ]
         },
         "layout": {
          "annotationdefaults": {
           "arrowcolor": "#2a3f5f",
           "arrowhead": 0,
           "arrowwidth": 1
          },
          "autotypenumbers": "strict",
          "coloraxis": {
           "colorbar": {
            "outlinewidth": 0,
            "ticks": ""
           }
          },
          "colorscale": {
           "diverging": [
            [
             0,
             "#8e0152"
            ],
            [
             0.1,
             "#c51b7d"
            ],
            [
             0.2,
             "#de77ae"
            ],
            [
             0.3,
             "#f1b6da"
            ],
            [
             0.4,
             "#fde0ef"
            ],
            [
             0.5,
             "#f7f7f7"
            ],
            [
             0.6,
             "#e6f5d0"
            ],
            [
             0.7,
             "#b8e186"
            ],
            [
             0.8,
             "#7fbc41"
            ],
            [
             0.9,
             "#4d9221"
            ],
            [
             1,
             "#276419"
            ]
           ],
           "sequential": [
            [
             0,
             "#0d0887"
            ],
            [
             0.1111111111111111,
             "#46039f"
            ],
            [
             0.2222222222222222,
             "#7201a8"
            ],
            [
             0.3333333333333333,
             "#9c179e"
            ],
            [
             0.4444444444444444,
             "#bd3786"
            ],
            [
             0.5555555555555556,
             "#d8576b"
            ],
            [
             0.6666666666666666,
             "#ed7953"
            ],
            [
             0.7777777777777778,
             "#fb9f3a"
            ],
            [
             0.8888888888888888,
             "#fdca26"
            ],
            [
             1,
             "#f0f921"
            ]
           ],
           "sequentialminus": [
            [
             0,
             "#0d0887"
            ],
            [
             0.1111111111111111,
             "#46039f"
            ],
            [
             0.2222222222222222,
             "#7201a8"
            ],
            [
             0.3333333333333333,
             "#9c179e"
            ],
            [
             0.4444444444444444,
             "#bd3786"
            ],
            [
             0.5555555555555556,
             "#d8576b"
            ],
            [
             0.6666666666666666,
             "#ed7953"
            ],
            [
             0.7777777777777778,
             "#fb9f3a"
            ],
            [
             0.8888888888888888,
             "#fdca26"
            ],
            [
             1,
             "#f0f921"
            ]
           ]
          },
          "colorway": [
           "#636efa",
           "#EF553B",
           "#00cc96",
           "#ab63fa",
           "#FFA15A",
           "#19d3f3",
           "#FF6692",
           "#B6E880",
           "#FF97FF",
           "#FECB52"
          ],
          "font": {
           "color": "#2a3f5f"
          },
          "geo": {
           "bgcolor": "white",
           "lakecolor": "white",
           "landcolor": "#E5ECF6",
           "showlakes": true,
           "showland": true,
           "subunitcolor": "white"
          },
          "hoverlabel": {
           "align": "left"
          },
          "hovermode": "closest",
          "mapbox": {
           "style": "light"
          },
          "paper_bgcolor": "white",
          "plot_bgcolor": "#E5ECF6",
          "polar": {
           "angularaxis": {
            "gridcolor": "white",
            "linecolor": "white",
            "ticks": ""
           },
           "bgcolor": "#E5ECF6",
           "radialaxis": {
            "gridcolor": "white",
            "linecolor": "white",
            "ticks": ""
           }
          },
          "scene": {
           "xaxis": {
            "backgroundcolor": "#E5ECF6",
            "gridcolor": "white",
            "gridwidth": 2,
            "linecolor": "white",
            "showbackground": true,
            "ticks": "",
            "zerolinecolor": "white"
           },
           "yaxis": {
            "backgroundcolor": "#E5ECF6",
            "gridcolor": "white",
            "gridwidth": 2,
            "linecolor": "white",
            "showbackground": true,
            "ticks": "",
            "zerolinecolor": "white"
           },
           "zaxis": {
            "backgroundcolor": "#E5ECF6",
            "gridcolor": "white",
            "gridwidth": 2,
            "linecolor": "white",
            "showbackground": true,
            "ticks": "",
            "zerolinecolor": "white"
           }
          },
          "shapedefaults": {
           "line": {
            "color": "#2a3f5f"
           }
          },
          "ternary": {
           "aaxis": {
            "gridcolor": "white",
            "linecolor": "white",
            "ticks": ""
           },
           "baxis": {
            "gridcolor": "white",
            "linecolor": "white",
            "ticks": ""
           },
           "bgcolor": "#E5ECF6",
           "caxis": {
            "gridcolor": "white",
            "linecolor": "white",
            "ticks": ""
           }
          },
          "title": {
           "x": 0.05
          },
          "xaxis": {
           "automargin": true,
           "gridcolor": "white",
           "linecolor": "white",
           "ticks": "",
           "title": {
            "standoff": 15
           },
           "zerolinecolor": "white",
           "zerolinewidth": 2
          },
          "yaxis": {
           "automargin": true,
           "gridcolor": "white",
           "linecolor": "white",
           "ticks": "",
           "title": {
            "standoff": 15
           },
           "zerolinecolor": "white",
           "zerolinewidth": 2
          }
         }
        },
        "width": 500,
        "xaxis": {
         "anchor": "y",
         "domain": [
          0,
          1
         ],
         "range": [
          0.01,
          0.99
         ],
         "scaleanchor": "y",
         "scaleratio": 1,
         "title": {
          "text": "Phigh"
         }
        },
        "yaxis": {
         "anchor": "x",
         "domain": [
          0,
          1
         ],
         "range": [
          0.01,
          0.99
         ],
         "scaleanchor": "x",
         "scaleratio": 1,
         "title": {
          "text": "Choice"
         }
        }
       }
      }
     },
     "metadata": {},
     "output_type": "display_data"
    },
    {
     "name": "stdout",
     "output_type": "stream",
     "text": [
      "                            OLS Regression Results                            \n",
      "==============================================================================\n",
      "Dep. Variable:                      y   R-squared:                       0.214\n",
      "Model:                            OLS   Adj. R-squared:                  0.200\n",
      "Method:                 Least Squares   F-statistic:                     15.77\n",
      "Date:                Sun, 02 Mar 2025   Prob (F-statistic):           0.000200\n",
      "Time:                        17:49:03   Log-Likelihood:                 7.3973\n",
      "No. Observations:                  60   AIC:                            -10.79\n",
      "Df Residuals:                      58   BIC:                            -6.606\n",
      "Df Model:                           1                                         \n",
      "Covariance Type:            nonrobust                                         \n",
      "==============================================================================\n",
      "                 coef    std err          t      P>|t|      [0.025      0.975]\n",
      "------------------------------------------------------------------------------\n",
      "const          0.2077      0.048      4.305      0.000       0.111       0.304\n",
      "x1             0.2822      0.071      3.972      0.000       0.140       0.424\n",
      "==============================================================================\n",
      "Omnibus:                        4.240   Durbin-Watson:                   1.988\n",
      "Prob(Omnibus):                  0.120   Jarque-Bera (JB):                3.640\n",
      "Skew:                           0.601   Prob(JB):                        0.162\n",
      "Kurtosis:                       3.117   Cond. No.                         3.40\n",
      "==============================================================================\n",
      "\n",
      "Notes:\n",
      "[1] Standard Errors assume that the covariance matrix of the errors is correctly specified.\n"
     ]
    }
   ],
   "source": [
    "\n",
    "# Create scatter plot\n",
    "df_llm_agg = df_llm.groupby(['Problem', 'Phigh', 'Medium'])['Choice'].mean().reset_index()\n",
    "fig = px.scatter(df_llm_agg, x='Phigh', y='Choice', color='Medium', trendline=\"ols\",)\n",
    "\n",
    "# Define axis range to match both axes\n",
    "axis_min = min(df_llm_agg[\"Phigh\"].min(), df_llm_agg[\"Choice\"].min())\n",
    "axis_max = max(df_llm_agg[\"Phigh\"].max(), df_llm_agg[\"Choice\"].max())\n",
    "\n",
    "# Update layout to force square aspect ratio\n",
    "fig.update_layout(\n",
    "    autosize=False,\n",
    "    width=500,\n",
    "    height=500,\n",
    "    margin=dict(l=0, r=0, b=0, t=0, pad=4),\n",
    "    xaxis=dict(\n",
    "        scaleanchor=\"y\",\n",
    "        scaleratio=1,\n",
    "        range=[axis_min, axis_max]  # Ensuring same range\n",
    "    ),\n",
    "    yaxis=dict(\n",
    "        scaleanchor=\"x\",\n",
    "        scaleratio=1,\n",
    "        range=[axis_min, axis_max]  # Ensuring same range\n",
    "    )\n",
    ")\n",
    "\n",
    "# Show figure\n",
    "fig.show()\n",
    "results = px.get_trendline_results(fig)\n",
    "print(results['px_fit_results'].values[0].summary())"
   ]
  },
  {
   "cell_type": "code",
   "execution_count": 68,
   "metadata": {},
   "outputs": [
    {
     "data": {
      "application/vnd.plotly.v1+json": {
       "config": {
        "plotlyServerURL": "https://plot.ly"
       },
       "data": [
        {
         "hovertemplate": "player=human<br>Phigh=%{x}<br>Choice=%{y}<extra></extra>",
         "legendgroup": "",
         "marker": {
          "color": "#636efa",
          "symbol": "circle"
         },
         "mode": "markers",
         "name": "",
         "orientation": "v",
         "showlegend": false,
         "type": "scatter",
         "x": {
          "bdata": "uB6F61G47j9mZmZmZmbuPzMzMzMzM9M/mpmZmZmZyT/NzMzMzMzsP65H4XoUru8/ZmZmZmZm5j+amZmZmZm5P2ZmZmZmZu4/cT0K16Nw7T97FK5H4XqUPxSuR+F6FO4/mpmZmZmZqT8zMzMzMzPjP3sUrkfherQ/7FG4HoXrsT+amZmZmZm5P5qZmZmZmck/zczMzMzM7D8zMzMzMzPjP5qZmZmZmbk/H4XrUbge7T+amZmZmZnpP5qZmZmZmak/exSuR+F6lD+amZmZmZmpP8P1KFyPwu0/mpmZmZmZ6T9xPQrXo3DtPx+F61G4Hu0/ZmZmZmZm7j/D9Shcj8LtP7gehetRuO4/mpmZmZmZqT/D9Shcj8LtP3sUrkfherQ/mpmZmZmZ6T/sUbgeheuxPzMzMzMzM9M/XI/C9Shc7z+amZmZmZnpP3E9CtejcO0/uB6F61G4rj+4HoXrUbjuP5qZmZmZmek/mpmZmZmZuT97FK5H4XqkP1yPwvUoXO8/AAAAAAAA4D97FK5H4XqkPxSuR+F6FO4/CtejcD0Ktz+amZmZmZm5P3sUrkfheoQ/CtejcD0K7z8UrkfhehTuPzMzMzMzM+M/rkfhehSu7z8zMzMzMzPTP3E9CtejcO0/",
          "dtype": "f8"
         },
         "xaxis": "x",
         "y": {
          "bdata": "9ihcj8L11D9U46WbxCDgP7Kd76fGS88/TmIQWDm01D8hsHJoke3cPwRWDi2yneU/AiuHFtnO1z8dWmQ730/RP4PAyqFFtts/VOOlm8Qg3D9OYhBYObTQP4PAyqFFtuE/eekmMQisvD/2KFyPwvXkP/7UeOkmMcg/7nw/NV661T+BlUOLbOfXP/Cnxks3idU/sHJoke183z9zaJHtfD+1P3npJjEIrLw/ke18PzVe2j/LoUW28/3YPxsv3SQGgbU/pHA9CtejyD/2KFyPwvXIPwIrhxbZzt8/46WbxCCw4j8Sg8DKoUXgP+XQItv5fto/UI2XbhKD4D/b+X5qvHTfP/hT46WbxOQ/MzMzMzMz0z8rhxbZzvfbP65H4XoUrrc/RIts5/up0T8QWDm0yHbSPzvfT42XbuI/sHJoke184z85tMh2vp/gP2Dl0CLb+d4/VOOlm8Qg7D8AAAAAAADiP2ZmZmZmZt4/UrgehetR1D/VeOkmMQjQP7bz/dR46eI//tR46SYxwD9mZmZmZmbWP2IQWDm0yOA/TmIQWDm00D91kxgEVg69Pw4tsp3vp8Y/SgwCK4cW5T8K16NwPQrhP3WTGARWDt0/f2q8dJMY5D99PzVeuknUP1K4HoXrUdw/",
          "dtype": "f8"
         },
         "yaxis": "y"
        },
        {
         "hovertemplate": "<b>OLS trendline</b><br>Choice = 0.28441 * Phigh + 0.2384<br>R<sup>2</sup>=0.409414<br><br>player=human<br>Phigh=%{x}<br>Choice=%{y} <b>(trend)</b><extra></extra>",
         "legendgroup": "",
         "line": {
          "color": "red"
         },
         "marker": {
          "color": "#636efa",
          "symbol": "circle"
         },
         "mode": "lines",
         "name": "",
         "showlegend": false,
         "type": "scatter",
         "x": {
          "bdata": "exSuR+F6hD97FK5H4XqUP3sUrkfhepQ/exSuR+F6pD97FK5H4XqkP5qZmZmZmak/mpmZmZmZqT+amZmZmZmpP5qZmZmZmak/uB6F61G4rj/sUbgeheuxP+xRuB6F67E/exSuR+F6tD97FK5H4Xq0PwrXo3A9Crc/mpmZmZmZuT+amZmZmZm5P5qZmZmZmbk/mpmZmZmZuT+amZmZmZm5P5qZmZmZmck/mpmZmZmZyT8zMzMzMzPTPzMzMzMzM9M/MzMzMzMz0z8AAAAAAADgPzMzMzMzM+M/MzMzMzMz4z8zMzMzMzPjP2ZmZmZmZuY/mpmZmZmZ6T+amZmZmZnpP5qZmZmZmek/mpmZmZmZ6T+amZmZmZnpP83MzMzMzOw/zczMzMzM7D8fhetRuB7tPx+F61G4Hu0/cT0K16Nw7T9xPQrXo3DtP3E9CtejcO0/cT0K16Nw7T/D9Shcj8LtP8P1KFyPwu0/w/UoXI/C7T8UrkfhehTuPxSuR+F6FO4/FK5H4XoU7j9mZmZmZmbuP2ZmZmZmZu4/ZmZmZmZm7j+4HoXrUbjuP7gehetRuO4/uB6F61G47j8K16NwPQrvP1yPwvUoXO8/XI/C9Shc7z+uR+F6FK7vP65H4XoUru8/",
          "dtype": "f8"
         },
         "xaxis": "x",
         "y": {
          "bdata": "Lfhg/xPhzj9HV8gRRj7PP0dXyBFGPs8/fBWXNqr4zz98FZc2qvjPP0s6fyTuKtA/Szp/JO4q0D9LOn8k7irQP0s6fyTuKtA/2OmyLYdZ0D9lmeY2IIjQP2WZ5jYgiNA/8kgaQLm20D/ySBpAubbQP4D4TUlS5dA/DaiBUusT0T8NqIFS6xPRPw2ogVLrE9E/DaiBUusT0T8NqIFS6xPRP5CDhq7l5dI/kIOGruXl0j8TX4sK4LfUPxNfiwrgt9Q/E1+LCuC31D8ZFpXC1FvYP5zxmR7PLdo/nPGZHs8t2j+c8Zkezy3aPx/NnnrJ/9s/oqij1sPR3T+iqKPWw9HdP6Koo9bD0d0/oqij1sPR3T+iqKPWw9HdPyaEqDK+o98/JoSoMr6j3z+yM9w7V9LfP7Iz3DtX0t8/oPGHIngA4D+g8YcieADgP6DxhyJ4AOA/oPGHIngA4D9mySGnxBfgP2bJIafEF+A/Zskhp8QX4D8tobsrES/gPy2huysRL+A/LaG7KxEv4D/zeFWwXUbgP/N4VbBdRuA/83hVsF1G4D+6UO80ql3gP7pQ7zSqXeA/ulDvNKpd4D+BKIm59nTgP0cAIz5DjOA/RwAjPkOM4D8O2LzCj6PgPw7YvMKPo+A/",
          "dtype": "f8"
         },
         "yaxis": "y"
        },
        {
         "hovertemplate": "player=llm<br>Phigh=%{x}<br>Choice=%{y}<extra></extra>",
         "legendgroup": "",
         "marker": {
          "color": "#636efa",
          "symbol": "circle"
         },
         "mode": "markers",
         "name": "",
         "orientation": "v",
         "showlegend": false,
         "type": "scatter",
         "x": {
          "bdata": "uB6F61G47j9mZmZmZmbuPzMzMzMzM9M/mpmZmZmZyT/NzMzMzMzsP65H4XoUru8/ZmZmZmZm5j+amZmZmZm5P2ZmZmZmZu4/cT0K16Nw7T97FK5H4XqUPxSuR+F6FO4/mpmZmZmZqT8zMzMzMzPjP3sUrkfherQ/7FG4HoXrsT+amZmZmZm5P5qZmZmZmck/zczMzMzM7D8zMzMzMzPjP5qZmZmZmbk/H4XrUbge7T+amZmZmZnpP5qZmZmZmak/exSuR+F6lD+amZmZmZmpP8P1KFyPwu0/mpmZmZmZ6T9xPQrXo3DtPx+F61G4Hu0/ZmZmZmZm7j/D9Shcj8LtP7gehetRuO4/mpmZmZmZqT/D9Shcj8LtP3sUrkfherQ/mpmZmZmZ6T/sUbgeheuxPzMzMzMzM9M/XI/C9Shc7z+amZmZmZnpP3E9CtejcO0/uB6F61G4rj+4HoXrUbjuP5qZmZmZmek/mpmZmZmZuT97FK5H4XqkP1yPwvUoXO8/AAAAAAAA4D97FK5H4XqkPxSuR+F6FO4/CtejcD0Ktz+amZmZmZm5P3sUrkfheoQ/CtejcD0K7z8UrkfhehTuPzMzMzMzM+M/rkfhehSu7z8zMzMzMzPTP3E9CtejcO0/",
          "dtype": "f8"
         },
         "xaxis": "x2",
         "y": {
          "bdata": "Di2yne+n4D8EVg4tsp3rP4/C9Shcj9I/exSuR+F61D/ufD81XrrnPyGwcmiR7eo/0SLb+X5q5j+sHFpkO9/HP9Ei2/l+auo/HVpkO99P5z8MAiuHFtm+P8/3U+Olm+o/8tJNYhBYwT9t5/up8dLlPyPb+X5qvMQ/i2zn+6nxwj956SYxCKzEP3npJjEIrMw/vp8aL90k6j+YbhKDwMrRPwisHFpkO8c/exSuR+F64D85tMh2vp/KP39qvHSTGLQ/WDm0yHa+vz+F61G4HoXDPy2yne+nxsM/fT81XrpJvD+uR+F6FK7PP+XQItv5fro/eekmMQis3D/0/dR46SbBP3npJjEIrNA/bef7qfHSxT8730+Nl27KP4XrUbgehcM/eekmMQisrD/RItv5fmrEP9v5fmq8dNs/TDeJQWDl1D/hehSuR+HeP9Ei2/l+auY/F9nO91Pj6z8nMQisHFroPzVeukkMAtM/d76fGi/d0D9U46WbxCDcPxSuR+F6FOA/UrgehetRuD9Ei2zn+6nVPwaBlUOLbNs/PQrXo3A9uj+mm8QgsHLUP4GVQ4ts59M/exSuR+F62D/TTWIQWDnYP3E9CtejcNE/YhBYObTI4D++nxov3STSP6RwPQrXo9A/",
          "dtype": "f8"
         },
         "yaxis": "y2"
        },
        {
         "hovertemplate": "<b>OLS trendline</b><br>Choice = 0.282178 * Phigh + 0.207699<br>R<sup>2</sup>=0.213810<br><br>player=llm<br>Phigh=%{x}<br>Choice=%{y} <b>(trend)</b><extra></extra>",
         "legendgroup": "",
         "line": {
          "color": "red"
         },
         "marker": {
          "color": "#636efa",
          "symbol": "circle"
         },
         "mode": "lines",
         "name": "",
         "showlegend": false,
         "type": "scatter",
         "x": {
          "bdata": "exSuR+F6hD97FK5H4XqUP3sUrkfhepQ/exSuR+F6pD97FK5H4XqkP5qZmZmZmak/mpmZmZmZqT+amZmZmZmpP5qZmZmZmak/uB6F61G4rj/sUbgeheuxP+xRuB6F67E/exSuR+F6tD97FK5H4Xq0PwrXo3A9Crc/mpmZmZmZuT+amZmZmZm5P5qZmZmZmbk/mpmZmZmZuT+amZmZmZm5P5qZmZmZmck/mpmZmZmZyT8zMzMzMzPTPzMzMzMzM9M/MzMzMzMz0z8AAAAAAADgPzMzMzMzM+M/MzMzMzMz4z8zMzMzMzPjP2ZmZmZmZuY/mpmZmZmZ6T+amZmZmZnpP5qZmZmZmek/mpmZmZmZ6T+amZmZmZnpP83MzMzMzOw/zczMzMzM7D8fhetRuB7tPx+F61G4Hu0/cT0K16Nw7T9xPQrXo3DtP3E9CtejcO0/cT0K16Nw7T/D9Shcj8LtP8P1KFyPwu0/w/UoXI/C7T8UrkfhehTuPxSuR+F6FO4/FK5H4XoU7j9mZmZmZmbuP2ZmZmZmZu4/ZmZmZmZm7j+4HoXrUbjuP7gehetRuO4/uB6F61G47j8K16NwPQrvP1yPwvUoXO8/XI/C9Shc7z+uR+F6FK7vP65H4XoUru8/",
          "dtype": "f8"
         },
         "xaxis": "x2",
         "y": {
          "bdata": "7gkqbFnyyj9sIyg30E7LP2wjKDfQTss/ZlYkzb0HzD9mViTNvQfMP+RvIpg0ZMw/5G8imDRkzD/kbyKYNGTMP+RvIpg0ZMw/YYkgY6vAzD/foh4uIh3NP9+iHi4iHc0/XLwc+Zh5zT9cvBz5mHnNP9nVGsQP1s0/V+8Yj4Yyzj9X7xiPhjLOP1fvGI+GMs4/V+8Yj4Yyzj9X7xiPhjLOPx73gj6V59A/HveCPpXn0D+Rdnk157XSP5F2eTXntdI/kXZ5Nee10j93dWYji1LWP+r0XBrdINg/6vRcGt0g2D/q9Fwa3SDYP1x0UxEv79k/0PNJCIG92z/Q80kIgb3bP9DzSQiBvds/0PNJCIG92z/Q80kIgb3bP0JzQP/Si90/QnNA/9KL3T8CgL9kDrrdPwKAv2QOut0/wIw+ykno3T/AjD7KSejdP8CMPspJ6N0/wIw+ykno3T9+mb0vhRbeP36ZvS+FFt4/fpm9L4UW3j8+pjyVwETePz6mPJXARN4/PqY8lcBE3j/8srv6+3LeP/yyu/r7ct4//LK7+vty3j+6vzpgN6HeP7q/OmA3od4/ur86YDeh3j96zLnFcs/ePzjZOCuu/d4/ONk4K6793j/25beQ6SvfP/blt5DpK98/",
          "dtype": "f8"
         },
         "yaxis": "y2"
        }
       ],
       "layout": {
        "annotations": [
         {
          "showarrow": false,
          "text": "player=human",
          "x": 0.245,
          "xanchor": "center",
          "xref": "paper",
          "y": 1,
          "yanchor": "bottom",
          "yref": "paper"
         },
         {
          "showarrow": false,
          "text": "player=llm",
          "x": 0.755,
          "xanchor": "center",
          "xref": "paper",
          "y": 1,
          "yanchor": "bottom",
          "yref": "paper"
         },
         {
          "text": "Prisky ~ 0.28*Phigh + 0.24",
          "x": 0.5,
          "y": 0.5
         },
         {
          "text": "Prisky ~ 0.28*Phigh + 0.21",
          "x": 0.5,
          "xref": "x2",
          "y": 0.5,
          "yref": "y2"
         }
        ],
        "height": 500,
        "legend": {
         "tracegroupgap": 0
        },
        "margin": {
         "t": 60
        },
        "template": {
         "data": {
          "bar": [
           {
            "error_x": {
             "color": "#2a3f5f"
            },
            "error_y": {
             "color": "#2a3f5f"
            },
            "marker": {
             "line": {
              "color": "#E5ECF6",
              "width": 0.5
             },
             "pattern": {
              "fillmode": "overlay",
              "size": 10,
              "solidity": 0.2
             }
            },
            "type": "bar"
           }
          ],
          "barpolar": [
           {
            "marker": {
             "line": {
              "color": "#E5ECF6",
              "width": 0.5
             },
             "pattern": {
              "fillmode": "overlay",
              "size": 10,
              "solidity": 0.2
             }
            },
            "type": "barpolar"
           }
          ],
          "carpet": [
           {
            "aaxis": {
             "endlinecolor": "#2a3f5f",
             "gridcolor": "white",
             "linecolor": "white",
             "minorgridcolor": "white",
             "startlinecolor": "#2a3f5f"
            },
            "baxis": {
             "endlinecolor": "#2a3f5f",
             "gridcolor": "white",
             "linecolor": "white",
             "minorgridcolor": "white",
             "startlinecolor": "#2a3f5f"
            },
            "type": "carpet"
           }
          ],
          "choropleth": [
           {
            "colorbar": {
             "outlinewidth": 0,
             "ticks": ""
            },
            "type": "choropleth"
           }
          ],
          "contour": [
           {
            "colorbar": {
             "outlinewidth": 0,
             "ticks": ""
            },
            "colorscale": [
             [
              0,
              "#0d0887"
             ],
             [
              0.1111111111111111,
              "#46039f"
             ],
             [
              0.2222222222222222,
              "#7201a8"
             ],
             [
              0.3333333333333333,
              "#9c179e"
             ],
             [
              0.4444444444444444,
              "#bd3786"
             ],
             [
              0.5555555555555556,
              "#d8576b"
             ],
             [
              0.6666666666666666,
              "#ed7953"
             ],
             [
              0.7777777777777778,
              "#fb9f3a"
             ],
             [
              0.8888888888888888,
              "#fdca26"
             ],
             [
              1,
              "#f0f921"
             ]
            ],
            "type": "contour"
           }
          ],
          "contourcarpet": [
           {
            "colorbar": {
             "outlinewidth": 0,
             "ticks": ""
            },
            "type": "contourcarpet"
           }
          ],
          "heatmap": [
           {
            "colorbar": {
             "outlinewidth": 0,
             "ticks": ""
            },
            "colorscale": [
             [
              0,
              "#0d0887"
             ],
             [
              0.1111111111111111,
              "#46039f"
             ],
             [
              0.2222222222222222,
              "#7201a8"
             ],
             [
              0.3333333333333333,
              "#9c179e"
             ],
             [
              0.4444444444444444,
              "#bd3786"
             ],
             [
              0.5555555555555556,
              "#d8576b"
             ],
             [
              0.6666666666666666,
              "#ed7953"
             ],
             [
              0.7777777777777778,
              "#fb9f3a"
             ],
             [
              0.8888888888888888,
              "#fdca26"
             ],
             [
              1,
              "#f0f921"
             ]
            ],
            "type": "heatmap"
           }
          ],
          "histogram": [
           {
            "marker": {
             "pattern": {
              "fillmode": "overlay",
              "size": 10,
              "solidity": 0.2
             }
            },
            "type": "histogram"
           }
          ],
          "histogram2d": [
           {
            "colorbar": {
             "outlinewidth": 0,
             "ticks": ""
            },
            "colorscale": [
             [
              0,
              "#0d0887"
             ],
             [
              0.1111111111111111,
              "#46039f"
             ],
             [
              0.2222222222222222,
              "#7201a8"
             ],
             [
              0.3333333333333333,
              "#9c179e"
             ],
             [
              0.4444444444444444,
              "#bd3786"
             ],
             [
              0.5555555555555556,
              "#d8576b"
             ],
             [
              0.6666666666666666,
              "#ed7953"
             ],
             [
              0.7777777777777778,
              "#fb9f3a"
             ],
             [
              0.8888888888888888,
              "#fdca26"
             ],
             [
              1,
              "#f0f921"
             ]
            ],
            "type": "histogram2d"
           }
          ],
          "histogram2dcontour": [
           {
            "colorbar": {
             "outlinewidth": 0,
             "ticks": ""
            },
            "colorscale": [
             [
              0,
              "#0d0887"
             ],
             [
              0.1111111111111111,
              "#46039f"
             ],
             [
              0.2222222222222222,
              "#7201a8"
             ],
             [
              0.3333333333333333,
              "#9c179e"
             ],
             [
              0.4444444444444444,
              "#bd3786"
             ],
             [
              0.5555555555555556,
              "#d8576b"
             ],
             [
              0.6666666666666666,
              "#ed7953"
             ],
             [
              0.7777777777777778,
              "#fb9f3a"
             ],
             [
              0.8888888888888888,
              "#fdca26"
             ],
             [
              1,
              "#f0f921"
             ]
            ],
            "type": "histogram2dcontour"
           }
          ],
          "mesh3d": [
           {
            "colorbar": {
             "outlinewidth": 0,
             "ticks": ""
            },
            "type": "mesh3d"
           }
          ],
          "parcoords": [
           {
            "line": {
             "colorbar": {
              "outlinewidth": 0,
              "ticks": ""
             }
            },
            "type": "parcoords"
           }
          ],
          "pie": [
           {
            "automargin": true,
            "type": "pie"
           }
          ],
          "scatter": [
           {
            "fillpattern": {
             "fillmode": "overlay",
             "size": 10,
             "solidity": 0.2
            },
            "type": "scatter"
           }
          ],
          "scatter3d": [
           {
            "line": {
             "colorbar": {
              "outlinewidth": 0,
              "ticks": ""
             }
            },
            "marker": {
             "colorbar": {
              "outlinewidth": 0,
              "ticks": ""
             }
            },
            "type": "scatter3d"
           }
          ],
          "scattercarpet": [
           {
            "marker": {
             "colorbar": {
              "outlinewidth": 0,
              "ticks": ""
             }
            },
            "type": "scattercarpet"
           }
          ],
          "scattergeo": [
           {
            "marker": {
             "colorbar": {
              "outlinewidth": 0,
              "ticks": ""
             }
            },
            "type": "scattergeo"
           }
          ],
          "scattergl": [
           {
            "marker": {
             "colorbar": {
              "outlinewidth": 0,
              "ticks": ""
             }
            },
            "type": "scattergl"
           }
          ],
          "scattermap": [
           {
            "marker": {
             "colorbar": {
              "outlinewidth": 0,
              "ticks": ""
             }
            },
            "type": "scattermap"
           }
          ],
          "scattermapbox": [
           {
            "marker": {
             "colorbar": {
              "outlinewidth": 0,
              "ticks": ""
             }
            },
            "type": "scattermapbox"
           }
          ],
          "scatterpolar": [
           {
            "marker": {
             "colorbar": {
              "outlinewidth": 0,
              "ticks": ""
             }
            },
            "type": "scatterpolar"
           }
          ],
          "scatterpolargl": [
           {
            "marker": {
             "colorbar": {
              "outlinewidth": 0,
              "ticks": ""
             }
            },
            "type": "scatterpolargl"
           }
          ],
          "scatterternary": [
           {
            "marker": {
             "colorbar": {
              "outlinewidth": 0,
              "ticks": ""
             }
            },
            "type": "scatterternary"
           }
          ],
          "surface": [
           {
            "colorbar": {
             "outlinewidth": 0,
             "ticks": ""
            },
            "colorscale": [
             [
              0,
              "#0d0887"
             ],
             [
              0.1111111111111111,
              "#46039f"
             ],
             [
              0.2222222222222222,
              "#7201a8"
             ],
             [
              0.3333333333333333,
              "#9c179e"
             ],
             [
              0.4444444444444444,
              "#bd3786"
             ],
             [
              0.5555555555555556,
              "#d8576b"
             ],
             [
              0.6666666666666666,
              "#ed7953"
             ],
             [
              0.7777777777777778,
              "#fb9f3a"
             ],
             [
              0.8888888888888888,
              "#fdca26"
             ],
             [
              1,
              "#f0f921"
             ]
            ],
            "type": "surface"
           }
          ],
          "table": [
           {
            "cells": {
             "fill": {
              "color": "#EBF0F8"
             },
             "line": {
              "color": "white"
             }
            },
            "header": {
             "fill": {
              "color": "#C8D4E3"
             },
             "line": {
              "color": "white"
             }
            },
            "type": "table"
           }
          ]
         },
         "layout": {
          "annotationdefaults": {
           "arrowcolor": "#2a3f5f",
           "arrowhead": 0,
           "arrowwidth": 1
          },
          "autotypenumbers": "strict",
          "coloraxis": {
           "colorbar": {
            "outlinewidth": 0,
            "ticks": ""
           }
          },
          "colorscale": {
           "diverging": [
            [
             0,
             "#8e0152"
            ],
            [
             0.1,
             "#c51b7d"
            ],
            [
             0.2,
             "#de77ae"
            ],
            [
             0.3,
             "#f1b6da"
            ],
            [
             0.4,
             "#fde0ef"
            ],
            [
             0.5,
             "#f7f7f7"
            ],
            [
             0.6,
             "#e6f5d0"
            ],
            [
             0.7,
             "#b8e186"
            ],
            [
             0.8,
             "#7fbc41"
            ],
            [
             0.9,
             "#4d9221"
            ],
            [
             1,
             "#276419"
            ]
           ],
           "sequential": [
            [
             0,
             "#0d0887"
            ],
            [
             0.1111111111111111,
             "#46039f"
            ],
            [
             0.2222222222222222,
             "#7201a8"
            ],
            [
             0.3333333333333333,
             "#9c179e"
            ],
            [
             0.4444444444444444,
             "#bd3786"
            ],
            [
             0.5555555555555556,
             "#d8576b"
            ],
            [
             0.6666666666666666,
             "#ed7953"
            ],
            [
             0.7777777777777778,
             "#fb9f3a"
            ],
            [
             0.8888888888888888,
             "#fdca26"
            ],
            [
             1,
             "#f0f921"
            ]
           ],
           "sequentialminus": [
            [
             0,
             "#0d0887"
            ],
            [
             0.1111111111111111,
             "#46039f"
            ],
            [
             0.2222222222222222,
             "#7201a8"
            ],
            [
             0.3333333333333333,
             "#9c179e"
            ],
            [
             0.4444444444444444,
             "#bd3786"
            ],
            [
             0.5555555555555556,
             "#d8576b"
            ],
            [
             0.6666666666666666,
             "#ed7953"
            ],
            [
             0.7777777777777778,
             "#fb9f3a"
            ],
            [
             0.8888888888888888,
             "#fdca26"
            ],
            [
             1,
             "#f0f921"
            ]
           ]
          },
          "colorway": [
           "#636efa",
           "#EF553B",
           "#00cc96",
           "#ab63fa",
           "#FFA15A",
           "#19d3f3",
           "#FF6692",
           "#B6E880",
           "#FF97FF",
           "#FECB52"
          ],
          "font": {
           "color": "#2a3f5f"
          },
          "geo": {
           "bgcolor": "white",
           "lakecolor": "white",
           "landcolor": "#E5ECF6",
           "showlakes": true,
           "showland": true,
           "subunitcolor": "white"
          },
          "hoverlabel": {
           "align": "left"
          },
          "hovermode": "closest",
          "mapbox": {
           "style": "light"
          },
          "paper_bgcolor": "white",
          "plot_bgcolor": "#E5ECF6",
          "polar": {
           "angularaxis": {
            "gridcolor": "white",
            "linecolor": "white",
            "ticks": ""
           },
           "bgcolor": "#E5ECF6",
           "radialaxis": {
            "gridcolor": "white",
            "linecolor": "white",
            "ticks": ""
           }
          },
          "scene": {
           "xaxis": {
            "backgroundcolor": "#E5ECF6",
            "gridcolor": "white",
            "gridwidth": 2,
            "linecolor": "white",
            "showbackground": true,
            "ticks": "",
            "zerolinecolor": "white"
           },
           "yaxis": {
            "backgroundcolor": "#E5ECF6",
            "gridcolor": "white",
            "gridwidth": 2,
            "linecolor": "white",
            "showbackground": true,
            "ticks": "",
            "zerolinecolor": "white"
           },
           "zaxis": {
            "backgroundcolor": "#E5ECF6",
            "gridcolor": "white",
            "gridwidth": 2,
            "linecolor": "white",
            "showbackground": true,
            "ticks": "",
            "zerolinecolor": "white"
           }
          },
          "shapedefaults": {
           "line": {
            "color": "#2a3f5f"
           }
          },
          "ternary": {
           "aaxis": {
            "gridcolor": "white",
            "linecolor": "white",
            "ticks": ""
           },
           "baxis": {
            "gridcolor": "white",
            "linecolor": "white",
            "ticks": ""
           },
           "bgcolor": "#E5ECF6",
           "caxis": {
            "gridcolor": "white",
            "linecolor": "white",
            "ticks": ""
           }
          },
          "title": {
           "x": 0.05
          },
          "xaxis": {
           "automargin": true,
           "gridcolor": "white",
           "linecolor": "white",
           "ticks": "",
           "title": {
            "standoff": 15
           },
           "zerolinecolor": "white",
           "zerolinewidth": 2
          },
          "yaxis": {
           "automargin": true,
           "gridcolor": "white",
           "linecolor": "white",
           "ticks": "",
           "title": {
            "standoff": 15
           },
           "zerolinecolor": "white",
           "zerolinewidth": 2
          }
         }
        },
        "width": 800,
        "xaxis": {
         "anchor": "y",
         "domain": [
          0,
          0.49
         ],
         "title": {
          "text": "Phigh"
         }
        },
        "xaxis2": {
         "anchor": "y2",
         "domain": [
          0.51,
          1
         ],
         "matches": "x",
         "title": {
          "text": "Phigh"
         }
        },
        "yaxis": {
         "anchor": "x",
         "domain": [
          0,
          1
         ],
         "title": {
          "text": "Choice"
         }
        },
        "yaxis2": {
         "anchor": "x2",
         "domain": [
          0,
          1
         ],
         "matches": "y",
         "showticklabels": false
        }
       }
      }
     },
     "metadata": {},
     "output_type": "display_data"
    }
   ],
   "source": [
    "est_agg['player'] = 'human'\n",
    "df_llm_agg['player'] = 'llm'\n",
    "combined = pd.concat([est_agg, df_llm_agg])\n",
    "fig = px.scatter(combined, x='Phigh', y='Choice', trendline=\"ols\", facet_col='player', trendline_color_override='red', width=800, height=500,)\n",
    "results = px.get_trendline_results(fig)\n",
    "stats0 = results['px_fit_results'].values[0]\n",
    "stats1 = results['px_fit_results'].values[1]\n",
    "# add the slop and intercept of the trendline to the plot \n",
    "fig.add_annotation(x=0.5, y=0.5, text=f\"Prisky ~ {stats0.params[1]:.2f}*Phigh + {stats0.params[0]:.2f}\")\n",
    "fig.add_annotation(x=0.5, y=0.5, text=f\"Prisky ~ {stats1.params[1]:.2f}*Phigh + {stats1.params[0]:.2f}\", col=2, row=1)\n",
    "\n",
    "fig.show()\n"
   ]
  },
  {
   "cell_type": "code",
   "execution_count": null,
   "metadata": {},
   "outputs": [
    {
     "data": {
      "application/vnd.plotly.v1+json": {
       "config": {
        "plotlyServerURL": "https://plot.ly"
       },
       "data": [
        {
         "hovertemplate": "Human Prisky=%{x}<br>LLM Prisky=%{y}<extra></extra>",
         "legendgroup": "",
         "marker": {
          "color": "#636efa",
          "symbol": "circle"
         },
         "mode": "markers",
         "name": "",
         "orientation": "v",
         "showlegend": false,
         "type": "scatter",
         "x": {
          "bdata": "9ihcj8L11D9U46WbxCDgP7Kd76fGS88/TmIQWDm01D8hsHJoke3cPwRWDi2yneU/AiuHFtnO1z8dWmQ730/RP4PAyqFFtts/VOOlm8Qg3D9OYhBYObTQP4PAyqFFtuE/eekmMQisvD/2KFyPwvXkP/7UeOkmMcg/7nw/NV661T+BlUOLbOfXP/Cnxks3idU/sHJoke183z9zaJHtfD+1P3npJjEIrLw/ke18PzVe2j/LoUW28/3YPxsv3SQGgbU/pHA9CtejyD/2KFyPwvXIPwIrhxbZzt8/46WbxCCw4j8Sg8DKoUXgP+XQItv5fto/UI2XbhKD4D/b+X5qvHTfP/hT46WbxOQ/MzMzMzMz0z8rhxbZzvfbP65H4XoUrrc/RIts5/up0T8QWDm0yHbSPzvfT42XbuI/sHJoke184z85tMh2vp/gP2Dl0CLb+d4/VOOlm8Qg7D8AAAAAAADiP2ZmZmZmZt4/UrgehetR1D/VeOkmMQjQP7bz/dR46eI//tR46SYxwD9mZmZmZmbWP2IQWDm0yOA/TmIQWDm00D91kxgEVg69Pw4tsp3vp8Y/SgwCK4cW5T8K16NwPQrhP3WTGARWDt0/f2q8dJMY5D99PzVeuknUP1K4HoXrUdw/",
          "dtype": "f8"
         },
         "xaxis": "x",
         "y": {
          "bdata": "Di2yne+n4D8EVg4tsp3rP4/C9Shcj9I/exSuR+F61D/ufD81XrrnPyGwcmiR7eo/0SLb+X5q5j+sHFpkO9/HP9Ei2/l+auo/HVpkO99P5z8MAiuHFtm+P8/3U+Olm+o/8tJNYhBYwT9t5/up8dLlPyPb+X5qvMQ/i2zn+6nxwj956SYxCKzEP3npJjEIrMw/vp8aL90k6j+YbhKDwMrRPwisHFpkO8c/exSuR+F64D85tMh2vp/KP39qvHSTGLQ/WDm0yHa+vz+F61G4HoXDPy2yne+nxsM/fT81XrpJvD+uR+F6FK7PP+XQItv5fro/eekmMQis3D/0/dR46SbBP3npJjEIrNA/bef7qfHSxT8730+Nl27KP4XrUbgehcM/eekmMQisrD/RItv5fmrEP9v5fmq8dNs/TDeJQWDl1D/hehSuR+HeP9Ei2/l+auY/F9nO91Pj6z8nMQisHFroPzVeukkMAtM/d76fGi/d0D9U46WbxCDcPxSuR+F6FOA/UrgehetRuD9Ei2zn+6nVPwaBlUOLbNs/PQrXo3A9uj+mm8QgsHLUP4GVQ4ts59M/exSuR+F62D/TTWIQWDnYP3E9CtejcNE/YhBYObTI4D++nxov3STSP6RwPQrXo9A/",
          "dtype": "f8"
         },
         "yaxis": "y"
        },
        {
         "hovertemplate": "<b>OLS trendline</b><br>Choice_llm = 0.785933 * Choice_human + 0.0527176<br>R<sup>2</sup>=0.327705<br><br>Human Prisky=%{x}<br>LLM Prisky=%{y} <b>(trend)</b><extra></extra>",
         "legendgroup": "",
         "marker": {
          "color": "#636efa",
          "symbol": "circle"
         },
         "mode": "lines",
         "name": "",
         "showlegend": false,
         "type": "scatter",
         "x": {
          "bdata": "c2iR7Xw/tT8bL90kBoG1P65H4XoUrrc/eekmMQisvD956SYxCKy8P3WTGARWDr0//tR46SYxwD8OLbKd76fGP/7UeOkmMcg/pHA9CtejyD/2KFyPwvXIP7Kd76fGS88/1XjpJjEI0D9OYhBYObTQP05iEFg5tNA/HVpkO99P0T9Ei2zn+6nRPxBYObTIdtI/MzMzMzMz0z99PzVeuknUP1K4HoXrUdQ/TmIQWDm01D/2KFyPwvXUP/Cnxks3idU/7nw/NV661T9mZmZmZmbWPwIrhxbZztc/gZVDi2zn1z/LoUW28/3YP5HtfD81Xto/5dAi2/l+2j+DwMqhRbbbPyuHFtnO99s/VOOlm8Qg3D9SuB6F61HcPyGwcmiR7dw/dZMYBFYO3T9mZmZmZmbeP2Dl0CLb+d4/2/l+arx03z+wcmiR7XzfPwIrhxbZzt8/VOOlm8Qg4D8Sg8DKoUXgP1CNl24Sg+A/ObTIdr6f4D9iEFg5tMjgPwrXo3A9CuE/g8DKoUW24T8AAAAAAADiPzvfT42XbuI/46WbxCCw4j+28/3UeOniP7ByaJHtfOM/f2q8dJMY5D/4U+Olm8TkP/YoXI/C9eQ/SgwCK4cW5T8EVg4tsp3lP1TjpZvEIOw/",
          "dtype": "f8"
         },
         "xaxis": "x",
         "y": {
          "bdata": "LJQEG/kxvj9A3sPgemW+P+/pzvikDcA/JPzXQNYDwj8k/NdA1gPCP7JzJ5V3KsI/K9WCGkN5wz+A46Dbz43IP/CfHH7awsk/kWErmP0cyj8oflrPX13KP3TnmK0rWM8/rMXW/rDyzz9HhYEmjYDQP0eFgSaNgNA/M9UnXOH60D8M2w7Ms0HRP4aiBFap4tE/e5eKbr520j9Lkvf2pVHTP417ry8WWNM/qWpO2Fil0z+7tA2e2tjTP2Ub/Jq+TNQ/85JL719z1D9jtWGWlPrUP8rM/VXeFdY/kYglAC8p1j9gg5KIFgTXP4Sxdg/wGNg/jVZW8rAy2D9m9qJdWSfZP3hAYiPbWtk/xM75Pgx72T9SRkmTraHZPz6W78gBHNo/RzvPq8I12j8ogPv5K0TbP9Lm6fYPuNs/tZGwSaMY3D/4emiCEx/cP4+Xl7l1X9w/MFmm05i53D+EjB3SivPcP2g35CQeVN0/N5jrsS+B3T/OtBrpkcHdP/RImXSVKN4/1o3Fwv423z9/9LO/4qrfPz/HjF1cLOA/UhFMI95f4D8iclOw74zgP8zYQa3TAOE/uCjo4id74T8pS/6JXALiP7fCTd79KOI/wWctwb5C4j+H8Adp+qziP8DcOX8vy+c/",
          "dtype": "f8"
         },
         "yaxis": "y"
        }
       ],
       "layout": {
        "annotations": [
         {
          "text": "LLM Prisky ~ 0.79*Human Prisky + 0.05",
          "x": 0.5,
          "y": 0.5
         }
        ],
        "autosize": false,
        "height": 500,
        "legend": {
         "tracegroupgap": 0
        },
        "margin": {
         "b": 0,
         "l": 0,
         "pad": 4,
         "r": 0,
         "t": 0
        },
        "template": {
         "data": {
          "bar": [
           {
            "error_x": {
             "color": "#2a3f5f"
            },
            "error_y": {
             "color": "#2a3f5f"
            },
            "marker": {
             "line": {
              "color": "#E5ECF6",
              "width": 0.5
             },
             "pattern": {
              "fillmode": "overlay",
              "size": 10,
              "solidity": 0.2
             }
            },
            "type": "bar"
           }
          ],
          "barpolar": [
           {
            "marker": {
             "line": {
              "color": "#E5ECF6",
              "width": 0.5
             },
             "pattern": {
              "fillmode": "overlay",
              "size": 10,
              "solidity": 0.2
             }
            },
            "type": "barpolar"
           }
          ],
          "carpet": [
           {
            "aaxis": {
             "endlinecolor": "#2a3f5f",
             "gridcolor": "white",
             "linecolor": "white",
             "minorgridcolor": "white",
             "startlinecolor": "#2a3f5f"
            },
            "baxis": {
             "endlinecolor": "#2a3f5f",
             "gridcolor": "white",
             "linecolor": "white",
             "minorgridcolor": "white",
             "startlinecolor": "#2a3f5f"
            },
            "type": "carpet"
           }
          ],
          "choropleth": [
           {
            "colorbar": {
             "outlinewidth": 0,
             "ticks": ""
            },
            "type": "choropleth"
           }
          ],
          "contour": [
           {
            "colorbar": {
             "outlinewidth": 0,
             "ticks": ""
            },
            "colorscale": [
             [
              0,
              "#0d0887"
             ],
             [
              0.1111111111111111,
              "#46039f"
             ],
             [
              0.2222222222222222,
              "#7201a8"
             ],
             [
              0.3333333333333333,
              "#9c179e"
             ],
             [
              0.4444444444444444,
              "#bd3786"
             ],
             [
              0.5555555555555556,
              "#d8576b"
             ],
             [
              0.6666666666666666,
              "#ed7953"
             ],
             [
              0.7777777777777778,
              "#fb9f3a"
             ],
             [
              0.8888888888888888,
              "#fdca26"
             ],
             [
              1,
              "#f0f921"
             ]
            ],
            "type": "contour"
           }
          ],
          "contourcarpet": [
           {
            "colorbar": {
             "outlinewidth": 0,
             "ticks": ""
            },
            "type": "contourcarpet"
           }
          ],
          "heatmap": [
           {
            "colorbar": {
             "outlinewidth": 0,
             "ticks": ""
            },
            "colorscale": [
             [
              0,
              "#0d0887"
             ],
             [
              0.1111111111111111,
              "#46039f"
             ],
             [
              0.2222222222222222,
              "#7201a8"
             ],
             [
              0.3333333333333333,
              "#9c179e"
             ],
             [
              0.4444444444444444,
              "#bd3786"
             ],
             [
              0.5555555555555556,
              "#d8576b"
             ],
             [
              0.6666666666666666,
              "#ed7953"
             ],
             [
              0.7777777777777778,
              "#fb9f3a"
             ],
             [
              0.8888888888888888,
              "#fdca26"
             ],
             [
              1,
              "#f0f921"
             ]
            ],
            "type": "heatmap"
           }
          ],
          "histogram": [
           {
            "marker": {
             "pattern": {
              "fillmode": "overlay",
              "size": 10,
              "solidity": 0.2
             }
            },
            "type": "histogram"
           }
          ],
          "histogram2d": [
           {
            "colorbar": {
             "outlinewidth": 0,
             "ticks": ""
            },
            "colorscale": [
             [
              0,
              "#0d0887"
             ],
             [
              0.1111111111111111,
              "#46039f"
             ],
             [
              0.2222222222222222,
              "#7201a8"
             ],
             [
              0.3333333333333333,
              "#9c179e"
             ],
             [
              0.4444444444444444,
              "#bd3786"
             ],
             [
              0.5555555555555556,
              "#d8576b"
             ],
             [
              0.6666666666666666,
              "#ed7953"
             ],
             [
              0.7777777777777778,
              "#fb9f3a"
             ],
             [
              0.8888888888888888,
              "#fdca26"
             ],
             [
              1,
              "#f0f921"
             ]
            ],
            "type": "histogram2d"
           }
          ],
          "histogram2dcontour": [
           {
            "colorbar": {
             "outlinewidth": 0,
             "ticks": ""
            },
            "colorscale": [
             [
              0,
              "#0d0887"
             ],
             [
              0.1111111111111111,
              "#46039f"
             ],
             [
              0.2222222222222222,
              "#7201a8"
             ],
             [
              0.3333333333333333,
              "#9c179e"
             ],
             [
              0.4444444444444444,
              "#bd3786"
             ],
             [
              0.5555555555555556,
              "#d8576b"
             ],
             [
              0.6666666666666666,
              "#ed7953"
             ],
             [
              0.7777777777777778,
              "#fb9f3a"
             ],
             [
              0.8888888888888888,
              "#fdca26"
             ],
             [
              1,
              "#f0f921"
             ]
            ],
            "type": "histogram2dcontour"
           }
          ],
          "mesh3d": [
           {
            "colorbar": {
             "outlinewidth": 0,
             "ticks": ""
            },
            "type": "mesh3d"
           }
          ],
          "parcoords": [
           {
            "line": {
             "colorbar": {
              "outlinewidth": 0,
              "ticks": ""
             }
            },
            "type": "parcoords"
           }
          ],
          "pie": [
           {
            "automargin": true,
            "type": "pie"
           }
          ],
          "scatter": [
           {
            "fillpattern": {
             "fillmode": "overlay",
             "size": 10,
             "solidity": 0.2
            },
            "type": "scatter"
           }
          ],
          "scatter3d": [
           {
            "line": {
             "colorbar": {
              "outlinewidth": 0,
              "ticks": ""
             }
            },
            "marker": {
             "colorbar": {
              "outlinewidth": 0,
              "ticks": ""
             }
            },
            "type": "scatter3d"
           }
          ],
          "scattercarpet": [
           {
            "marker": {
             "colorbar": {
              "outlinewidth": 0,
              "ticks": ""
             }
            },
            "type": "scattercarpet"
           }
          ],
          "scattergeo": [
           {
            "marker": {
             "colorbar": {
              "outlinewidth": 0,
              "ticks": ""
             }
            },
            "type": "scattergeo"
           }
          ],
          "scattergl": [
           {
            "marker": {
             "colorbar": {
              "outlinewidth": 0,
              "ticks": ""
             }
            },
            "type": "scattergl"
           }
          ],
          "scattermap": [
           {
            "marker": {
             "colorbar": {
              "outlinewidth": 0,
              "ticks": ""
             }
            },
            "type": "scattermap"
           }
          ],
          "scattermapbox": [
           {
            "marker": {
             "colorbar": {
              "outlinewidth": 0,
              "ticks": ""
             }
            },
            "type": "scattermapbox"
           }
          ],
          "scatterpolar": [
           {
            "marker": {
             "colorbar": {
              "outlinewidth": 0,
              "ticks": ""
             }
            },
            "type": "scatterpolar"
           }
          ],
          "scatterpolargl": [
           {
            "marker": {
             "colorbar": {
              "outlinewidth": 0,
              "ticks": ""
             }
            },
            "type": "scatterpolargl"
           }
          ],
          "scatterternary": [
           {
            "marker": {
             "colorbar": {
              "outlinewidth": 0,
              "ticks": ""
             }
            },
            "type": "scatterternary"
           }
          ],
          "surface": [
           {
            "colorbar": {
             "outlinewidth": 0,
             "ticks": ""
            },
            "colorscale": [
             [
              0,
              "#0d0887"
             ],
             [
              0.1111111111111111,
              "#46039f"
             ],
             [
              0.2222222222222222,
              "#7201a8"
             ],
             [
              0.3333333333333333,
              "#9c179e"
             ],
             [
              0.4444444444444444,
              "#bd3786"
             ],
             [
              0.5555555555555556,
              "#d8576b"
             ],
             [
              0.6666666666666666,
              "#ed7953"
             ],
             [
              0.7777777777777778,
              "#fb9f3a"
             ],
             [
              0.8888888888888888,
              "#fdca26"
             ],
             [
              1,
              "#f0f921"
             ]
            ],
            "type": "surface"
           }
          ],
          "table": [
           {
            "cells": {
             "fill": {
              "color": "#EBF0F8"
             },
             "line": {
              "color": "white"
             }
            },
            "header": {
             "fill": {
              "color": "#C8D4E3"
             },
             "line": {
              "color": "white"
             }
            },
            "type": "table"
           }
          ]
         },
         "layout": {
          "annotationdefaults": {
           "arrowcolor": "#2a3f5f",
           "arrowhead": 0,
           "arrowwidth": 1
          },
          "autotypenumbers": "strict",
          "coloraxis": {
           "colorbar": {
            "outlinewidth": 0,
            "ticks": ""
           }
          },
          "colorscale": {
           "diverging": [
            [
             0,
             "#8e0152"
            ],
            [
             0.1,
             "#c51b7d"
            ],
            [
             0.2,
             "#de77ae"
            ],
            [
             0.3,
             "#f1b6da"
            ],
            [
             0.4,
             "#fde0ef"
            ],
            [
             0.5,
             "#f7f7f7"
            ],
            [
             0.6,
             "#e6f5d0"
            ],
            [
             0.7,
             "#b8e186"
            ],
            [
             0.8,
             "#7fbc41"
            ],
            [
             0.9,
             "#4d9221"
            ],
            [
             1,
             "#276419"
            ]
           ],
           "sequential": [
            [
             0,
             "#0d0887"
            ],
            [
             0.1111111111111111,
             "#46039f"
            ],
            [
             0.2222222222222222,
             "#7201a8"
            ],
            [
             0.3333333333333333,
             "#9c179e"
            ],
            [
             0.4444444444444444,
             "#bd3786"
            ],
            [
             0.5555555555555556,
             "#d8576b"
            ],
            [
             0.6666666666666666,
             "#ed7953"
            ],
            [
             0.7777777777777778,
             "#fb9f3a"
            ],
            [
             0.8888888888888888,
             "#fdca26"
            ],
            [
             1,
             "#f0f921"
            ]
           ],
           "sequentialminus": [
            [
             0,
             "#0d0887"
            ],
            [
             0.1111111111111111,
             "#46039f"
            ],
            [
             0.2222222222222222,
             "#7201a8"
            ],
            [
             0.3333333333333333,
             "#9c179e"
            ],
            [
             0.4444444444444444,
             "#bd3786"
            ],
            [
             0.5555555555555556,
             "#d8576b"
            ],
            [
             0.6666666666666666,
             "#ed7953"
            ],
            [
             0.7777777777777778,
             "#fb9f3a"
            ],
            [
             0.8888888888888888,
             "#fdca26"
            ],
            [
             1,
             "#f0f921"
            ]
           ]
          },
          "colorway": [
           "#636efa",
           "#EF553B",
           "#00cc96",
           "#ab63fa",
           "#FFA15A",
           "#19d3f3",
           "#FF6692",
           "#B6E880",
           "#FF97FF",
           "#FECB52"
          ],
          "font": {
           "color": "#2a3f5f"
          },
          "geo": {
           "bgcolor": "white",
           "lakecolor": "white",
           "landcolor": "#E5ECF6",
           "showlakes": true,
           "showland": true,
           "subunitcolor": "white"
          },
          "hoverlabel": {
           "align": "left"
          },
          "hovermode": "closest",
          "mapbox": {
           "style": "light"
          },
          "paper_bgcolor": "white",
          "plot_bgcolor": "#E5ECF6",
          "polar": {
           "angularaxis": {
            "gridcolor": "white",
            "linecolor": "white",
            "ticks": ""
           },
           "bgcolor": "#E5ECF6",
           "radialaxis": {
            "gridcolor": "white",
            "linecolor": "white",
            "ticks": ""
           }
          },
          "scene": {
           "xaxis": {
            "backgroundcolor": "#E5ECF6",
            "gridcolor": "white",
            "gridwidth": 2,
            "linecolor": "white",
            "showbackground": true,
            "ticks": "",
            "zerolinecolor": "white"
           },
           "yaxis": {
            "backgroundcolor": "#E5ECF6",
            "gridcolor": "white",
            "gridwidth": 2,
            "linecolor": "white",
            "showbackground": true,
            "ticks": "",
            "zerolinecolor": "white"
           },
           "zaxis": {
            "backgroundcolor": "#E5ECF6",
            "gridcolor": "white",
            "gridwidth": 2,
            "linecolor": "white",
            "showbackground": true,
            "ticks": "",
            "zerolinecolor": "white"
           }
          },
          "shapedefaults": {
           "line": {
            "color": "#2a3f5f"
           }
          },
          "ternary": {
           "aaxis": {
            "gridcolor": "white",
            "linecolor": "white",
            "ticks": ""
           },
           "baxis": {
            "gridcolor": "white",
            "linecolor": "white",
            "ticks": ""
           },
           "bgcolor": "#E5ECF6",
           "caxis": {
            "gridcolor": "white",
            "linecolor": "white",
            "ticks": ""
           }
          },
          "title": {
           "x": 0.05
          },
          "xaxis": {
           "automargin": true,
           "gridcolor": "white",
           "linecolor": "white",
           "ticks": "",
           "title": {
            "standoff": 15
           },
           "zerolinecolor": "white",
           "zerolinewidth": 2
          },
          "yaxis": {
           "automargin": true,
           "gridcolor": "white",
           "linecolor": "white",
           "ticks": "",
           "title": {
            "standoff": 15
           },
           "zerolinecolor": "white",
           "zerolinewidth": 2
          }
         }
        },
        "width": 500,
        "xaxis": {
         "anchor": "y",
         "domain": [
          0,
          1
         ],
         "range": [
          0,
          1
         ],
         "scaleanchor": "y",
         "scaleratio": 1,
         "title": {
          "text": "Human Prisky"
         }
        },
        "yaxis": {
         "anchor": "x",
         "domain": [
          0,
          1
         ],
         "range": [
          0,
          1
         ],
         "scaleanchor": "x",
         "scaleratio": 1,
         "title": {
          "text": "LLM Prisky"
         }
        }
       }
      }
     },
     "metadata": {},
     "output_type": "display_data"
    }
   ],
   "source": [
    "# scatter plot of human (x-axis) vs llm (y-axis)\n",
    "merged = pd.merge(est_agg, df_llm_agg, on=['Problem', 'Phigh', 'Medium'], suffixes=('_human', '_llm'))\n",
    "fig = px.scatter(merged, x='Choice_human', y='Choice_llm', trendline='ols', width=500, height=500, labels={'Choice_human': 'Human Prisky', 'Choice_llm': 'LLM Prisky'})\n",
    "# Update layout to force square aspect ratio\n",
    "fig.update_layout(\n",
    "    autosize=False,\n",
    "    width=500,\n",
    "    height=500,\n",
    "    margin=dict(l=0, r=0, b=0, t=0, pad=4),\n",
    "    xaxis=dict(\n",
    "        scaleanchor=\"y\",\n",
    "        scaleratio=1,\n",
    "        range=[0, 1]  # Ensuring same range\n",
    "    ),\n",
    "    yaxis=dict(\n",
    "        scaleanchor=\"x\",\n",
    "        scaleratio=1,\n",
    "        range=[0, 1]  # Ensuring same range\n",
    "    )\n",
    ")\n",
    "# add the slop and intercept of the trendline to the plot\n",
    "results = px.get_trendline_results(fig)\n",
    "stats = results['px_fit_results'].values[0]\n",
    "fig.add_annotation(x=0.5, y=0.5, text=f\"LLM Prisky ~ {stats.params[1]:.2f}*Human Prisky + {stats.params[0]:.2f} R^2={stats.rsquared:.2f}\")\n",
    "fig.show()"
   ]
  },
  {
   "cell_type": "code",
   "execution_count": 49,
   "metadata": {},
   "outputs": [
    {
     "data": {
      "text/plain": [
       "(array([0.23839974, 0.28441038]), array([0.20769914, 0.28217784]))"
      ]
     },
     "execution_count": 49,
     "metadata": {},
     "output_type": "execute_result"
    }
   ],
   "source": [
    "stats0.params, stats1.params"
   ]
  },
  {
   "cell_type": "code",
   "execution_count": 50,
   "metadata": {},
   "outputs": [
    {
     "data": {
      "text/html": [
       "<table class=\"simpletable\">\n",
       "<caption>OLS Regression Results</caption>\n",
       "<tr>\n",
       "  <th>Dep. Variable:</th>            <td>y</td>        <th>  R-squared:         </th> <td>   0.409</td>\n",
       "</tr>\n",
       "<tr>\n",
       "  <th>Model:</th>                   <td>OLS</td>       <th>  Adj. R-squared:    </th> <td>   0.399</td>\n",
       "</tr>\n",
       "<tr>\n",
       "  <th>Method:</th>             <td>Least Squares</td>  <th>  F-statistic:       </th> <td>   40.21</td>\n",
       "</tr>\n",
       "<tr>\n",
       "  <th>Date:</th>             <td>Sun, 02 Mar 2025</td> <th>  Prob (F-statistic):</th> <td>3.71e-08</td>\n",
       "</tr>\n",
       "<tr>\n",
       "  <th>Time:</th>                 <td>17:58:54</td>     <th>  Log-Likelihood:    </th> <td>  34.996</td>\n",
       "</tr>\n",
       "<tr>\n",
       "  <th>No. Observations:</th>      <td>    60</td>      <th>  AIC:               </th> <td>  -65.99</td>\n",
       "</tr>\n",
       "<tr>\n",
       "  <th>Df Residuals:</th>          <td>    58</td>      <th>  BIC:               </th> <td>  -61.80</td>\n",
       "</tr>\n",
       "<tr>\n",
       "  <th>Df Model:</th>              <td>     1</td>      <th>                     </th>     <td> </td>   \n",
       "</tr>\n",
       "<tr>\n",
       "  <th>Covariance Type:</th>      <td>nonrobust</td>    <th>                     </th>     <td> </td>   \n",
       "</tr>\n",
       "</table>\n",
       "<table class=\"simpletable\">\n",
       "<tr>\n",
       "    <td></td>       <th>coef</th>     <th>std err</th>      <th>t</th>      <th>P>|t|</th>  <th>[0.025</th>    <th>0.975]</th>  \n",
       "</tr>\n",
       "<tr>\n",
       "  <th>const</th> <td>    0.2384</td> <td>    0.030</td> <td>    7.827</td> <td> 0.000</td> <td>    0.177</td> <td>    0.299</td>\n",
       "</tr>\n",
       "<tr>\n",
       "  <th>x1</th>    <td>    0.2844</td> <td>    0.045</td> <td>    6.341</td> <td> 0.000</td> <td>    0.195</td> <td>    0.374</td>\n",
       "</tr>\n",
       "</table>\n",
       "<table class=\"simpletable\">\n",
       "<tr>\n",
       "  <th>Omnibus:</th>       <td>31.619</td> <th>  Durbin-Watson:     </th> <td>   2.065</td>\n",
       "</tr>\n",
       "<tr>\n",
       "  <th>Prob(Omnibus):</th> <td> 0.000</td> <th>  Jarque-Bera (JB):  </th> <td> 113.006</td>\n",
       "</tr>\n",
       "<tr>\n",
       "  <th>Skew:</th>          <td> 1.368</td> <th>  Prob(JB):          </th> <td>2.89e-25</td>\n",
       "</tr>\n",
       "<tr>\n",
       "  <th>Kurtosis:</th>      <td> 9.142</td> <th>  Cond. No.          </th> <td>    3.40</td>\n",
       "</tr>\n",
       "</table><br/><br/>Notes:<br/>[1] Standard Errors assume that the covariance matrix of the errors is correctly specified."
      ],
      "text/latex": [
       "\\begin{center}\n",
       "\\begin{tabular}{lclc}\n",
       "\\toprule\n",
       "\\textbf{Dep. Variable:}    &        y         & \\textbf{  R-squared:         } &     0.409   \\\\\n",
       "\\textbf{Model:}            &       OLS        & \\textbf{  Adj. R-squared:    } &     0.399   \\\\\n",
       "\\textbf{Method:}           &  Least Squares   & \\textbf{  F-statistic:       } &     40.21   \\\\\n",
       "\\textbf{Date:}             & Sun, 02 Mar 2025 & \\textbf{  Prob (F-statistic):} &  3.71e-08   \\\\\n",
       "\\textbf{Time:}             &     17:58:54     & \\textbf{  Log-Likelihood:    } &    34.996   \\\\\n",
       "\\textbf{No. Observations:} &          60      & \\textbf{  AIC:               } &    -65.99   \\\\\n",
       "\\textbf{Df Residuals:}     &          58      & \\textbf{  BIC:               } &    -61.80   \\\\\n",
       "\\textbf{Df Model:}         &           1      & \\textbf{                     } &             \\\\\n",
       "\\textbf{Covariance Type:}  &    nonrobust     & \\textbf{                     } &             \\\\\n",
       "\\bottomrule\n",
       "\\end{tabular}\n",
       "\\begin{tabular}{lcccccc}\n",
       "               & \\textbf{coef} & \\textbf{std err} & \\textbf{t} & \\textbf{P$> |$t$|$} & \\textbf{[0.025} & \\textbf{0.975]}  \\\\\n",
       "\\midrule\n",
       "\\textbf{const} &       0.2384  &        0.030     &     7.827  &         0.000        &        0.177    &        0.299     \\\\\n",
       "\\textbf{x1}    &       0.2844  &        0.045     &     6.341  &         0.000        &        0.195    &        0.374     \\\\\n",
       "\\bottomrule\n",
       "\\end{tabular}\n",
       "\\begin{tabular}{lclc}\n",
       "\\textbf{Omnibus:}       & 31.619 & \\textbf{  Durbin-Watson:     } &    2.065  \\\\\n",
       "\\textbf{Prob(Omnibus):} &  0.000 & \\textbf{  Jarque-Bera (JB):  } &  113.006  \\\\\n",
       "\\textbf{Skew:}          &  1.368 & \\textbf{  Prob(JB):          } & 2.89e-25  \\\\\n",
       "\\textbf{Kurtosis:}      &  9.142 & \\textbf{  Cond. No.          } &     3.40  \\\\\n",
       "\\bottomrule\n",
       "\\end{tabular}\n",
       "%\\caption{OLS Regression Results}\n",
       "\\end{center}\n",
       "\n",
       "Notes: \\newline\n",
       " [1] Standard Errors assume that the covariance matrix of the errors is correctly specified."
      ],
      "text/plain": [
       "<class 'statsmodels.iolib.summary.Summary'>\n",
       "\"\"\"\n",
       "                            OLS Regression Results                            \n",
       "==============================================================================\n",
       "Dep. Variable:                      y   R-squared:                       0.409\n",
       "Model:                            OLS   Adj. R-squared:                  0.399\n",
       "Method:                 Least Squares   F-statistic:                     40.21\n",
       "Date:                Sun, 02 Mar 2025   Prob (F-statistic):           3.71e-08\n",
       "Time:                        17:58:54   Log-Likelihood:                 34.996\n",
       "No. Observations:                  60   AIC:                            -65.99\n",
       "Df Residuals:                      58   BIC:                            -61.80\n",
       "Df Model:                           1                                         \n",
       "Covariance Type:            nonrobust                                         \n",
       "==============================================================================\n",
       "                 coef    std err          t      P>|t|      [0.025      0.975]\n",
       "------------------------------------------------------------------------------\n",
       "const          0.2384      0.030      7.827      0.000       0.177       0.299\n",
       "x1             0.2844      0.045      6.341      0.000       0.195       0.374\n",
       "==============================================================================\n",
       "Omnibus:                       31.619   Durbin-Watson:                   2.065\n",
       "Prob(Omnibus):                  0.000   Jarque-Bera (JB):              113.006\n",
       "Skew:                           1.368   Prob(JB):                     2.89e-25\n",
       "Kurtosis:                       9.142   Cond. No.                         3.40\n",
       "==============================================================================\n",
       "\n",
       "Notes:\n",
       "[1] Standard Errors assume that the covariance matrix of the errors is correctly specified.\n",
       "\"\"\""
      ]
     },
     "execution_count": 50,
     "metadata": {},
     "output_type": "execute_result"
    }
   ],
   "source": [
    "stats0.summary()"
   ]
  }
 ],
 "metadata": {
  "kernelspec": {
   "display_name": ".venv",
   "language": "python",
   "name": "python3"
  },
  "language_info": {
   "codemirror_mode": {
    "name": "ipython",
    "version": 3
   },
   "file_extension": ".py",
   "mimetype": "text/x-python",
   "name": "python",
   "nbconvert_exporter": "python",
   "pygments_lexer": "ipython3",
   "version": "3.13.2"
  }
 },
 "nbformat": 4,
 "nbformat_minor": 2
}
