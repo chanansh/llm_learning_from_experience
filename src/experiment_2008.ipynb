{
 "cells": [
  {
   "cell_type": "code",
   "execution_count": 45,
   "metadata": {},
   "outputs": [],
   "source": [
    "%reload_ext autoreload\n",
    "%autoreload 2\n",
    "import pandas as pd\n",
    "import scipy.io\n",
    "from joblib import Memory\n",
    "import plotly.express as px\n"
   ]
  },
  {
   "cell_type": "code",
   "execution_count": 46,
   "metadata": {},
   "outputs": [],
   "source": [
    "# load matlab mat file\n",
    "memory = Memory(location=\".\", verbose=0)\n",
    "\n",
    "\n",
    "@memory.cache\n",
    "def load_mat(filename):\n",
    "    mat = scipy.io.loadmat(filename)\n",
    "    columns = pd.Series([name for name in mat[\"titles\"].dtype.names])\n",
    "    values = mat[\"data\"]\n",
    "    column_order = pd.Series([int(x[0][0]) for x in mat[\"titles\"][0][0]]) - 1\n",
    "    # inverse the order so that the value represetns the column index\n",
    "    column_order = column_order.argsort()\n",
    "    df = pd.DataFrame(values, columns=columns[column_order])\n",
    "    return df\n",
    "\n",
    "\n",
    "comp = load_mat(\"../artifacts/2008/competition_data.mat\")\n",
    "est = load_mat(\"../artifacts/2008/estimation_data.mat\")"
   ]
  },
  {
   "cell_type": "code",
   "execution_count": 47,
   "metadata": {},
   "outputs": [
    {
     "data": {
      "text/plain": [
       "Index(['Id', 'Problem', 'Trial', 'Order', 'High', 'Phigh', 'Low', 'Medium',\n",
       "       'Choice', 'Payoff'],\n",
       "      dtype='object')"
      ]
     },
     "execution_count": 47,
     "metadata": {},
     "output_type": "execute_result"
    }
   ],
   "source": [
    "est.columns"
   ]
  },
  {
   "cell_type": "code",
   "execution_count": 67,
   "metadata": {},
   "outputs": [
    {
     "data": {
      "application/vnd.plotly.v1+json": {
       "config": {
        "plotlyServerURL": "https://plot.ly"
       },
       "data": [
        {
         "hovertemplate": "Phigh=%{x}<br>Choice=%{y}<br>Medium=%{marker.color}<extra></extra>",
         "legendgroup": "",
         "marker": {
          "color": {
           "bdata": "MzMzMzMz078AAAAAAADwv2ZmZmZmZijAmpmZmZmZOcBmZmZmZmb+v5qZmZmZmRnAZmZmZmZmJ8AAAAAAAAAYwGZmZmZmZhjAzczMzMzM/L8zMzMzMzMowJqZmZmZmRnAzczMzMzMIsAAAAAAAAAvwGZmZmZmZjnAMzMzMzOzMsDNzMzMzMw3wDMzMzMzMyDAzczMzMzMIMAAAAAAAAASwGZmZmZmZhLAZmZmZmZmIUBmZmZmZmYWQAAAAAAAAB7AmpmZmZmZGcCamZmZmZkTwDMzMzMzM/M/ZmZmZmZmEkAAAAAAAAAcQGZmZmZmZvY/mpmZmZmZGUBmZmZmZmYWQDMzMzMzMxtAZmZmZmZmEMCamZmZmZkBQJqZmZmZmR/AzczMzMzM9D9mZmZmZmYUwJqZmZmZmRvAmpmZmZmZF0AAAAAAAAAvQJqZmZmZGTFAZmZmZmZmIkDNzMzMzMwjQJqZmZmZmQFAAAAAAAAAIEAzMzMzMzMlQJqZmZmZGTJAzczMzMzMI0BmZmZmZmYGQJqZmZmZmSlAAAAAAAAA4D8AAAAAAAAnQAAAAAAAABxAAAAAAAAAJkAzMzMzMzM5QJqZmZmZmR9AMzMzMzOzNEAAAAAAAAAYQM3MzMzMzB5A",
           "dtype": "f8"
          },
          "coloraxis": "coloraxis",
          "symbol": "circle"
         },
         "mode": "markers",
         "name": "",
         "orientation": "v",
         "showlegend": false,
         "type": "scatter",
         "x": {
          "bdata": "uB6F61G47j9mZmZmZmbuPzMzMzMzM9M/mpmZmZmZyT/NzMzMzMzsP65H4XoUru8/ZmZmZmZm5j+amZmZmZm5P2ZmZmZmZu4/cT0K16Nw7T97FK5H4XqUPxSuR+F6FO4/mpmZmZmZqT8zMzMzMzPjP3sUrkfherQ/7FG4HoXrsT+amZmZmZm5P5qZmZmZmck/zczMzMzM7D8zMzMzMzPjP5qZmZmZmbk/H4XrUbge7T+amZmZmZnpP5qZmZmZmak/exSuR+F6lD+amZmZmZmpP8P1KFyPwu0/mpmZmZmZ6T9xPQrXo3DtPx+F61G4Hu0/ZmZmZmZm7j/D9Shcj8LtP7gehetRuO4/mpmZmZmZqT/D9Shcj8LtP3sUrkfherQ/mpmZmZmZ6T/sUbgeheuxPzMzMzMzM9M/XI/C9Shc7z+amZmZmZnpP3E9CtejcO0/uB6F61G4rj+4HoXrUbjuP5qZmZmZmek/mpmZmZmZuT97FK5H4XqkP1yPwvUoXO8/AAAAAAAA4D97FK5H4XqkPxSuR+F6FO4/CtejcD0Ktz+amZmZmZm5P3sUrkfheoQ/CtejcD0K7z8UrkfhehTuPzMzMzMzM+M/rkfhehSu7z8zMzMzMzPTP3E9CtejcO0/",
          "dtype": "f8"
         },
         "xaxis": "x",
         "y": {
          "bdata": "9ihcj8L11D9U46WbxCDgP7Kd76fGS88/TmIQWDm01D8hsHJoke3cPwRWDi2yneU/AiuHFtnO1z8dWmQ730/RP4PAyqFFtts/VOOlm8Qg3D9OYhBYObTQP4PAyqFFtuE/eekmMQisvD/2KFyPwvXkP/7UeOkmMcg/7nw/NV661T+BlUOLbOfXP/Cnxks3idU/sHJoke183z9zaJHtfD+1P3npJjEIrLw/ke18PzVe2j/LoUW28/3YPxsv3SQGgbU/pHA9CtejyD/2KFyPwvXIPwIrhxbZzt8/46WbxCCw4j8Sg8DKoUXgP+XQItv5fto/UI2XbhKD4D/b+X5qvHTfP/hT46WbxOQ/MzMzMzMz0z8rhxbZzvfbP65H4XoUrrc/RIts5/up0T8QWDm0yHbSPzvfT42XbuI/sHJoke184z85tMh2vp/gP2Dl0CLb+d4/VOOlm8Qg7D8AAAAAAADiP2ZmZmZmZt4/UrgehetR1D/VeOkmMQjQP7bz/dR46eI//tR46SYxwD9mZmZmZmbWP2IQWDm0yOA/TmIQWDm00D91kxgEVg69Pw4tsp3vp8Y/SgwCK4cW5T8K16NwPQrhP3WTGARWDt0/f2q8dJMY5D99PzVeuknUP1K4HoXrUdw/",
          "dtype": "f8"
         },
         "yaxis": "y"
        },
        {
         "hovertemplate": "<b>OLS trendline</b><br>Choice = 0.28441 * Phigh + 0.2384<br>R<sup>2</sup>=0.409414<br><br>Phigh=%{x}<br>Choice=%{y} <b>(trend)</b><extra></extra>",
         "legendgroup": "",
         "marker": {
          "symbol": "circle"
         },
         "mode": "lines",
         "name": "",
         "showlegend": false,
         "type": "scatter",
         "x": {
          "bdata": "exSuR+F6hD97FK5H4XqUP3sUrkfhepQ/exSuR+F6pD97FK5H4XqkP5qZmZmZmak/mpmZmZmZqT+amZmZmZmpP5qZmZmZmak/uB6F61G4rj/sUbgeheuxP+xRuB6F67E/exSuR+F6tD97FK5H4Xq0PwrXo3A9Crc/mpmZmZmZuT+amZmZmZm5P5qZmZmZmbk/mpmZmZmZuT+amZmZmZm5P5qZmZmZmck/mpmZmZmZyT8zMzMzMzPTPzMzMzMzM9M/MzMzMzMz0z8AAAAAAADgPzMzMzMzM+M/MzMzMzMz4z8zMzMzMzPjP2ZmZmZmZuY/mpmZmZmZ6T+amZmZmZnpP5qZmZmZmek/mpmZmZmZ6T+amZmZmZnpP83MzMzMzOw/zczMzMzM7D8fhetRuB7tPx+F61G4Hu0/cT0K16Nw7T9xPQrXo3DtP3E9CtejcO0/cT0K16Nw7T/D9Shcj8LtP8P1KFyPwu0/w/UoXI/C7T8UrkfhehTuPxSuR+F6FO4/FK5H4XoU7j9mZmZmZmbuP2ZmZmZmZu4/ZmZmZmZm7j+4HoXrUbjuP7gehetRuO4/uB6F61G47j8K16NwPQrvP1yPwvUoXO8/XI/C9Shc7z+uR+F6FK7vP65H4XoUru8/",
          "dtype": "f8"
         },
         "xaxis": "x",
         "y": {
          "bdata": "Lfhg/xPhzj9HV8gRRj7PP0dXyBFGPs8/fBWXNqr4zz98FZc2qvjPP0s6fyTuKtA/Szp/JO4q0D9LOn8k7irQP0s6fyTuKtA/2OmyLYdZ0D9lmeY2IIjQP2WZ5jYgiNA/8kgaQLm20D/ySBpAubbQP4D4TUlS5dA/DaiBUusT0T8NqIFS6xPRPw2ogVLrE9E/DaiBUusT0T8NqIFS6xPRP5CDhq7l5dI/kIOGruXl0j8TX4sK4LfUPxNfiwrgt9Q/E1+LCuC31D8ZFpXC1FvYP5zxmR7PLdo/nPGZHs8t2j+c8Zkezy3aPx/NnnrJ/9s/oqij1sPR3T+iqKPWw9HdP6Koo9bD0d0/oqij1sPR3T+iqKPWw9HdPyaEqDK+o98/JoSoMr6j3z+yM9w7V9LfP7Iz3DtX0t8/oPGHIngA4D+g8YcieADgP6DxhyJ4AOA/oPGHIngA4D9mySGnxBfgP2bJIafEF+A/Zskhp8QX4D8tobsrES/gPy2huysRL+A/LaG7KxEv4D/zeFWwXUbgP/N4VbBdRuA/83hVsF1G4D+6UO80ql3gP7pQ7zSqXeA/ulDvNKpd4D+BKIm59nTgP0cAIz5DjOA/RwAjPkOM4D8O2LzCj6PgPw7YvMKPo+A/",
          "dtype": "f8"
         },
         "yaxis": "y"
        }
       ],
       "layout": {
        "autosize": false,
        "coloraxis": {
         "colorbar": {
          "title": {
           "text": "Medium"
          }
         },
         "colorscale": [
          [
           0,
           "#0d0887"
          ],
          [
           0.1111111111111111,
           "#46039f"
          ],
          [
           0.2222222222222222,
           "#7201a8"
          ],
          [
           0.3333333333333333,
           "#9c179e"
          ],
          [
           0.4444444444444444,
           "#bd3786"
          ],
          [
           0.5555555555555556,
           "#d8576b"
          ],
          [
           0.6666666666666666,
           "#ed7953"
          ],
          [
           0.7777777777777778,
           "#fb9f3a"
          ],
          [
           0.8888888888888888,
           "#fdca26"
          ],
          [
           1,
           "#f0f921"
          ]
         ]
        },
        "height": 500,
        "legend": {
         "tracegroupgap": 0
        },
        "margin": {
         "b": 0,
         "l": 0,
         "pad": 4,
         "r": 0,
         "t": 0
        },
        "template": {
         "data": {
          "bar": [
           {
            "error_x": {
             "color": "#2a3f5f"
            },
            "error_y": {
             "color": "#2a3f5f"
            },
            "marker": {
             "line": {
              "color": "#E5ECF6",
              "width": 0.5
             },
             "pattern": {
              "fillmode": "overlay",
              "size": 10,
              "solidity": 0.2
             }
            },
            "type": "bar"
           }
          ],
          "barpolar": [
           {
            "marker": {
             "line": {
              "color": "#E5ECF6",
              "width": 0.5
             },
             "pattern": {
              "fillmode": "overlay",
              "size": 10,
              "solidity": 0.2
             }
            },
            "type": "barpolar"
           }
          ],
          "carpet": [
           {
            "aaxis": {
             "endlinecolor": "#2a3f5f",
             "gridcolor": "white",
             "linecolor": "white",
             "minorgridcolor": "white",
             "startlinecolor": "#2a3f5f"
            },
            "baxis": {
             "endlinecolor": "#2a3f5f",
             "gridcolor": "white",
             "linecolor": "white",
             "minorgridcolor": "white",
             "startlinecolor": "#2a3f5f"
            },
            "type": "carpet"
           }
          ],
          "choropleth": [
           {
            "colorbar": {
             "outlinewidth": 0,
             "ticks": ""
            },
            "type": "choropleth"
           }
          ],
          "contour": [
           {
            "colorbar": {
             "outlinewidth": 0,
             "ticks": ""
            },
            "colorscale": [
             [
              0,
              "#0d0887"
             ],
             [
              0.1111111111111111,
              "#46039f"
             ],
             [
              0.2222222222222222,
              "#7201a8"
             ],
             [
              0.3333333333333333,
              "#9c179e"
             ],
             [
              0.4444444444444444,
              "#bd3786"
             ],
             [
              0.5555555555555556,
              "#d8576b"
             ],
             [
              0.6666666666666666,
              "#ed7953"
             ],
             [
              0.7777777777777778,
              "#fb9f3a"
             ],
             [
              0.8888888888888888,
              "#fdca26"
             ],
             [
              1,
              "#f0f921"
             ]
            ],
            "type": "contour"
           }
          ],
          "contourcarpet": [
           {
            "colorbar": {
             "outlinewidth": 0,
             "ticks": ""
            },
            "type": "contourcarpet"
           }
          ],
          "heatmap": [
           {
            "colorbar": {
             "outlinewidth": 0,
             "ticks": ""
            },
            "colorscale": [
             [
              0,
              "#0d0887"
             ],
             [
              0.1111111111111111,
              "#46039f"
             ],
             [
              0.2222222222222222,
              "#7201a8"
             ],
             [
              0.3333333333333333,
              "#9c179e"
             ],
             [
              0.4444444444444444,
              "#bd3786"
             ],
             [
              0.5555555555555556,
              "#d8576b"
             ],
             [
              0.6666666666666666,
              "#ed7953"
             ],
             [
              0.7777777777777778,
              "#fb9f3a"
             ],
             [
              0.8888888888888888,
              "#fdca26"
             ],
             [
              1,
              "#f0f921"
             ]
            ],
            "type": "heatmap"
           }
          ],
          "histogram": [
           {
            "marker": {
             "pattern": {
              "fillmode": "overlay",
              "size": 10,
              "solidity": 0.2
             }
            },
            "type": "histogram"
           }
          ],
          "histogram2d": [
           {
            "colorbar": {
             "outlinewidth": 0,
             "ticks": ""
            },
            "colorscale": [
             [
              0,
              "#0d0887"
             ],
             [
              0.1111111111111111,
              "#46039f"
             ],
             [
              0.2222222222222222,
              "#7201a8"
             ],
             [
              0.3333333333333333,
              "#9c179e"
             ],
             [
              0.4444444444444444,
              "#bd3786"
             ],
             [
              0.5555555555555556,
              "#d8576b"
             ],
             [
              0.6666666666666666,
              "#ed7953"
             ],
             [
              0.7777777777777778,
              "#fb9f3a"
             ],
             [
              0.8888888888888888,
              "#fdca26"
             ],
             [
              1,
              "#f0f921"
             ]
            ],
            "type": "histogram2d"
           }
          ],
          "histogram2dcontour": [
           {
            "colorbar": {
             "outlinewidth": 0,
             "ticks": ""
            },
            "colorscale": [
             [
              0,
              "#0d0887"
             ],
             [
              0.1111111111111111,
              "#46039f"
             ],
             [
              0.2222222222222222,
              "#7201a8"
             ],
             [
              0.3333333333333333,
              "#9c179e"
             ],
             [
              0.4444444444444444,
              "#bd3786"
             ],
             [
              0.5555555555555556,
              "#d8576b"
             ],
             [
              0.6666666666666666,
              "#ed7953"
             ],
             [
              0.7777777777777778,
              "#fb9f3a"
             ],
             [
              0.8888888888888888,
              "#fdca26"
             ],
             [
              1,
              "#f0f921"
             ]
            ],
            "type": "histogram2dcontour"
           }
          ],
          "mesh3d": [
           {
            "colorbar": {
             "outlinewidth": 0,
             "ticks": ""
            },
            "type": "mesh3d"
           }
          ],
          "parcoords": [
           {
            "line": {
             "colorbar": {
              "outlinewidth": 0,
              "ticks": ""
             }
            },
            "type": "parcoords"
           }
          ],
          "pie": [
           {
            "automargin": true,
            "type": "pie"
           }
          ],
          "scatter": [
           {
            "fillpattern": {
             "fillmode": "overlay",
             "size": 10,
             "solidity": 0.2
            },
            "type": "scatter"
           }
          ],
          "scatter3d": [
           {
            "line": {
             "colorbar": {
              "outlinewidth": 0,
              "ticks": ""
             }
            },
            "marker": {
             "colorbar": {
              "outlinewidth": 0,
              "ticks": ""
             }
            },
            "type": "scatter3d"
           }
          ],
          "scattercarpet": [
           {
            "marker": {
             "colorbar": {
              "outlinewidth": 0,
              "ticks": ""
             }
            },
            "type": "scattercarpet"
           }
          ],
          "scattergeo": [
           {
            "marker": {
             "colorbar": {
              "outlinewidth": 0,
              "ticks": ""
             }
            },
            "type": "scattergeo"
           }
          ],
          "scattergl": [
           {
            "marker": {
             "colorbar": {
              "outlinewidth": 0,
              "ticks": ""
             }
            },
            "type": "scattergl"
           }
          ],
          "scattermap": [
           {
            "marker": {
             "colorbar": {
              "outlinewidth": 0,
              "ticks": ""
             }
            },
            "type": "scattermap"
           }
          ],
          "scattermapbox": [
           {
            "marker": {
             "colorbar": {
              "outlinewidth": 0,
              "ticks": ""
             }
            },
            "type": "scattermapbox"
           }
          ],
          "scatterpolar": [
           {
            "marker": {
             "colorbar": {
              "outlinewidth": 0,
              "ticks": ""
             }
            },
            "type": "scatterpolar"
           }
          ],
          "scatterpolargl": [
           {
            "marker": {
             "colorbar": {
              "outlinewidth": 0,
              "ticks": ""
             }
            },
            "type": "scatterpolargl"
           }
          ],
          "scatterternary": [
           {
            "marker": {
             "colorbar": {
              "outlinewidth": 0,
              "ticks": ""
             }
            },
            "type": "scatterternary"
           }
          ],
          "surface": [
           {
            "colorbar": {
             "outlinewidth": 0,
             "ticks": ""
            },
            "colorscale": [
             [
              0,
              "#0d0887"
             ],
             [
              0.1111111111111111,
              "#46039f"
             ],
             [
              0.2222222222222222,
              "#7201a8"
             ],
             [
              0.3333333333333333,
              "#9c179e"
             ],
             [
              0.4444444444444444,
              "#bd3786"
             ],
             [
              0.5555555555555556,
              "#d8576b"
             ],
             [
              0.6666666666666666,
              "#ed7953"
             ],
             [
              0.7777777777777778,
              "#fb9f3a"
             ],
             [
              0.8888888888888888,
              "#fdca26"
             ],
             [
              1,
              "#f0f921"
             ]
            ],
            "type": "surface"
           }
          ],
          "table": [
           {
            "cells": {
             "fill": {
              "color": "#EBF0F8"
             },
             "line": {
              "color": "white"
             }
            },
            "header": {
             "fill": {
              "color": "#C8D4E3"
             },
             "line": {
              "color": "white"
             }
            },
            "type": "table"
           }
          ]
         },
         "layout": {
          "annotationdefaults": {
           "arrowcolor": "#2a3f5f",
           "arrowhead": 0,
           "arrowwidth": 1
          },
          "autotypenumbers": "strict",
          "coloraxis": {
           "colorbar": {
            "outlinewidth": 0,
            "ticks": ""
           }
          },
          "colorscale": {
           "diverging": [
            [
             0,
             "#8e0152"
            ],
            [
             0.1,
             "#c51b7d"
            ],
            [
             0.2,
             "#de77ae"
            ],
            [
             0.3,
             "#f1b6da"
            ],
            [
             0.4,
             "#fde0ef"
            ],
            [
             0.5,
             "#f7f7f7"
            ],
            [
             0.6,
             "#e6f5d0"
            ],
            [
             0.7,
             "#b8e186"
            ],
            [
             0.8,
             "#7fbc41"
            ],
            [
             0.9,
             "#4d9221"
            ],
            [
             1,
             "#276419"
            ]
           ],
           "sequential": [
            [
             0,
             "#0d0887"
            ],
            [
             0.1111111111111111,
             "#46039f"
            ],
            [
             0.2222222222222222,
             "#7201a8"
            ],
            [
             0.3333333333333333,
             "#9c179e"
            ],
            [
             0.4444444444444444,
             "#bd3786"
            ],
            [
             0.5555555555555556,
             "#d8576b"
            ],
            [
             0.6666666666666666,
             "#ed7953"
            ],
            [
             0.7777777777777778,
             "#fb9f3a"
            ],
            [
             0.8888888888888888,
             "#fdca26"
            ],
            [
             1,
             "#f0f921"
            ]
           ],
           "sequentialminus": [
            [
             0,
             "#0d0887"
            ],
            [
             0.1111111111111111,
             "#46039f"
            ],
            [
             0.2222222222222222,
             "#7201a8"
            ],
            [
             0.3333333333333333,
             "#9c179e"
            ],
            [
             0.4444444444444444,
             "#bd3786"
            ],
            [
             0.5555555555555556,
             "#d8576b"
            ],
            [
             0.6666666666666666,
             "#ed7953"
            ],
            [
             0.7777777777777778,
             "#fb9f3a"
            ],
            [
             0.8888888888888888,
             "#fdca26"
            ],
            [
             1,
             "#f0f921"
            ]
           ]
          },
          "colorway": [
           "#636efa",
           "#EF553B",
           "#00cc96",
           "#ab63fa",
           "#FFA15A",
           "#19d3f3",
           "#FF6692",
           "#B6E880",
           "#FF97FF",
           "#FECB52"
          ],
          "font": {
           "color": "#2a3f5f"
          },
          "geo": {
           "bgcolor": "white",
           "lakecolor": "white",
           "landcolor": "#E5ECF6",
           "showlakes": true,
           "showland": true,
           "subunitcolor": "white"
          },
          "hoverlabel": {
           "align": "left"
          },
          "hovermode": "closest",
          "mapbox": {
           "style": "light"
          },
          "paper_bgcolor": "white",
          "plot_bgcolor": "#E5ECF6",
          "polar": {
           "angularaxis": {
            "gridcolor": "white",
            "linecolor": "white",
            "ticks": ""
           },
           "bgcolor": "#E5ECF6",
           "radialaxis": {
            "gridcolor": "white",
            "linecolor": "white",
            "ticks": ""
           }
          },
          "scene": {
           "xaxis": {
            "backgroundcolor": "#E5ECF6",
            "gridcolor": "white",
            "gridwidth": 2,
            "linecolor": "white",
            "showbackground": true,
            "ticks": "",
            "zerolinecolor": "white"
           },
           "yaxis": {
            "backgroundcolor": "#E5ECF6",
            "gridcolor": "white",
            "gridwidth": 2,
            "linecolor": "white",
            "showbackground": true,
            "ticks": "",
            "zerolinecolor": "white"
           },
           "zaxis": {
            "backgroundcolor": "#E5ECF6",
            "gridcolor": "white",
            "gridwidth": 2,
            "linecolor": "white",
            "showbackground": true,
            "ticks": "",
            "zerolinecolor": "white"
           }
          },
          "shapedefaults": {
           "line": {
            "color": "#2a3f5f"
           }
          },
          "ternary": {
           "aaxis": {
            "gridcolor": "white",
            "linecolor": "white",
            "ticks": ""
           },
           "baxis": {
            "gridcolor": "white",
            "linecolor": "white",
            "ticks": ""
           },
           "bgcolor": "#E5ECF6",
           "caxis": {
            "gridcolor": "white",
            "linecolor": "white",
            "ticks": ""
           }
          },
          "title": {
           "x": 0.05
          },
          "xaxis": {
           "automargin": true,
           "gridcolor": "white",
           "linecolor": "white",
           "ticks": "",
           "title": {
            "standoff": 15
           },
           "zerolinecolor": "white",
           "zerolinewidth": 2
          },
          "yaxis": {
           "automargin": true,
           "gridcolor": "white",
           "linecolor": "white",
           "ticks": "",
           "title": {
            "standoff": 15
           },
           "zerolinecolor": "white",
           "zerolinewidth": 2
          }
         }
        },
        "width": 500,
        "xaxis": {
         "anchor": "y",
         "domain": [
          0,
          1
         ],
         "range": [
          0.01,
          0.99
         ],
         "scaleanchor": "y",
         "scaleratio": 1,
         "title": {
          "text": "Phigh"
         }
        },
        "yaxis": {
         "anchor": "x",
         "domain": [
          0,
          1
         ],
         "range": [
          0.01,
          0.99
         ],
         "scaleanchor": "x",
         "scaleratio": 1,
         "title": {
          "text": "Choice"
         }
        }
       }
      }
     },
     "metadata": {},
     "output_type": "display_data"
    },
    {
     "name": "stdout",
     "output_type": "stream",
     "text": [
      "                            OLS Regression Results                            \n",
      "==============================================================================\n",
      "Dep. Variable:                      y   R-squared:                       0.409\n",
      "Model:                            OLS   Adj. R-squared:                  0.399\n",
      "Method:                 Least Squares   F-statistic:                     40.21\n",
      "Date:                Wed, 05 Mar 2025   Prob (F-statistic):           3.71e-08\n",
      "Time:                        18:45:30   Log-Likelihood:                 34.996\n",
      "No. Observations:                  60   AIC:                            -65.99\n",
      "Df Residuals:                      58   BIC:                            -61.80\n",
      "Df Model:                           1                                         \n",
      "Covariance Type:            nonrobust                                         \n",
      "==============================================================================\n",
      "                 coef    std err          t      P>|t|      [0.025      0.975]\n",
      "------------------------------------------------------------------------------\n",
      "const          0.2384      0.030      7.827      0.000       0.177       0.299\n",
      "x1             0.2844      0.045      6.341      0.000       0.195       0.374\n",
      "==============================================================================\n",
      "Omnibus:                       31.619   Durbin-Watson:                   2.065\n",
      "Prob(Omnibus):                  0.000   Jarque-Bera (JB):              113.006\n",
      "Skew:                           1.368   Prob(JB):                     2.89e-25\n",
      "Kurtosis:                       9.142   Cond. No.                         3.40\n",
      "==============================================================================\n",
      "\n",
      "Notes:\n",
      "[1] Standard Errors assume that the covariance matrix of the errors is correctly specified.\n"
     ]
    }
   ],
   "source": [
    "est_agg = est.groupby([\"Problem\", \"Phigh\", \"Medium\", \"High\", \"Low\"])[\"Choice\"].mean().reset_index()\n",
    "# Create scatter plot\n",
    "fig = px.scatter(est_agg, x=\"Phigh\", y=\"Choice\", color=\"Medium\", trendline=\"ols\")\n",
    "\n",
    "# Define axis range to match both axes\n",
    "axis_min = min(est_agg[\"Phigh\"].min(), est_agg[\"Choice\"].min())\n",
    "axis_max = max(est_agg[\"Phigh\"].max(), est_agg[\"Choice\"].max())\n",
    "\n",
    "# Update layout to force square aspect ratio\n",
    "fig.update_layout(\n",
    "    autosize=False,\n",
    "    width=500,\n",
    "    height=500,\n",
    "    margin=dict(l=0, r=0, b=0, t=0, pad=4),\n",
    "    xaxis=dict(\n",
    "        scaleanchor=\"y\", scaleratio=1, range=[axis_min, axis_max]  # Ensuring same range\n",
    "    ),\n",
    "    yaxis=dict(\n",
    "        scaleanchor=\"x\", scaleratio=1, range=[axis_min, axis_max]  # Ensuring same range\n",
    "    ),\n",
    ")\n",
    "\n",
    "# Show figure\n",
    "fig.show()\n",
    "results = px.get_trendline_results(fig)\n",
    "print(results[\"px_fit_results\"].values[0].summary())"
   ]
  },
  {
   "cell_type": "code",
   "execution_count": 49,
   "metadata": {},
   "outputs": [],
   "source": [
    "import pandas as pd\n",
    "from glob import glob\n",
    "\n",
    "folder = \"../results/2008/memory_inf\"\n",
    "\n",
    "\n",
    "@memory.cache\n",
    "def load_llm_results(folder=\"../results/2008\"):\n",
    "    df_list = []\n",
    "    for filename in glob(f\"{folder}/*.csv\"):\n",
    "        df_list.append(pd.read_csv(filename))\n",
    "    df_llm = pd.concat(df_list)\n",
    "    return df_llm\n",
    "\n",
    "\n",
    "df_llm = load_llm_results(folder)"
   ]
  },
  {
   "cell_type": "code",
   "execution_count": 56,
   "metadata": {},
   "outputs": [],
   "source": [
    "# Create scatter plot\n",
    "df_llm_agg = (\n",
    "    df_llm.groupby([\"Problem\", \"Phigh\", \"Medium\"])[\"Choice\"].mean().reset_index()\n",
    ")"
   ]
  },
  {
   "cell_type": "code",
   "execution_count": 57,
   "metadata": {},
   "outputs": [
    {
     "data": {
      "application/vnd.plotly.v1+json": {
       "config": {
        "plotlyServerURL": "https://plot.ly"
       },
       "data": [
        {
         "hovertemplate": "player=human<br>Pr(High)=%{x}<br>P(Risky)=%{y}<br>Medium=%{marker.color}<extra></extra>",
         "legendgroup": "",
         "marker": {
          "color": {
           "bdata": "MzMzMzMz078AAAAAAADwv2ZmZmZmZijAmpmZmZmZOcBmZmZmZmb+v5qZmZmZmRnAZmZmZmZmJ8AAAAAAAAAYwGZmZmZmZhjAzczMzMzM/L8zMzMzMzMowJqZmZmZmRnAzczMzMzMIsAAAAAAAAAvwGZmZmZmZjnAMzMzMzOzMsDNzMzMzMw3wDMzMzMzMyDAzczMzMzMIMAAAAAAAAASwGZmZmZmZhLAZmZmZmZmIUBmZmZmZmYWQAAAAAAAAB7AmpmZmZmZGcCamZmZmZkTwDMzMzMzM/M/ZmZmZmZmEkAAAAAAAAAcQGZmZmZmZvY/mpmZmZmZGUBmZmZmZmYWQDMzMzMzMxtAZmZmZmZmEMCamZmZmZkBQJqZmZmZmR/AzczMzMzM9D9mZmZmZmYUwJqZmZmZmRvAmpmZmZmZF0AAAAAAAAAvQJqZmZmZGTFAZmZmZmZmIkDNzMzMzMwjQJqZmZmZmQFAAAAAAAAAIEAzMzMzMzMlQJqZmZmZGTJAzczMzMzMI0BmZmZmZmYGQJqZmZmZmSlAAAAAAAAA4D8AAAAAAAAnQAAAAAAAABxAAAAAAAAAJkAzMzMzMzM5QJqZmZmZmR9AMzMzMzOzNEAAAAAAAAAYQM3MzMzMzB5A",
           "dtype": "f8"
          },
          "coloraxis": "coloraxis",
          "symbol": "circle"
         },
         "mode": "markers",
         "name": "",
         "orientation": "v",
         "showlegend": false,
         "type": "scatter",
         "x": {
          "bdata": "uB6F61G47j9mZmZmZmbuPzMzMzMzM9M/mpmZmZmZyT/NzMzMzMzsP65H4XoUru8/ZmZmZmZm5j+amZmZmZm5P2ZmZmZmZu4/cT0K16Nw7T97FK5H4XqUPxSuR+F6FO4/mpmZmZmZqT8zMzMzMzPjP3sUrkfherQ/7FG4HoXrsT+amZmZmZm5P5qZmZmZmck/zczMzMzM7D8zMzMzMzPjP5qZmZmZmbk/H4XrUbge7T+amZmZmZnpP5qZmZmZmak/exSuR+F6lD+amZmZmZmpP8P1KFyPwu0/mpmZmZmZ6T9xPQrXo3DtPx+F61G4Hu0/ZmZmZmZm7j/D9Shcj8LtP7gehetRuO4/mpmZmZmZqT/D9Shcj8LtP3sUrkfherQ/mpmZmZmZ6T/sUbgeheuxPzMzMzMzM9M/XI/C9Shc7z+amZmZmZnpP3E9CtejcO0/uB6F61G4rj+4HoXrUbjuP5qZmZmZmek/mpmZmZmZuT97FK5H4XqkP1yPwvUoXO8/AAAAAAAA4D97FK5H4XqkPxSuR+F6FO4/CtejcD0Ktz+amZmZmZm5P3sUrkfheoQ/CtejcD0K7z8UrkfhehTuPzMzMzMzM+M/rkfhehSu7z8zMzMzMzPTP3E9CtejcO0/",
          "dtype": "f8"
         },
         "xaxis": "x",
         "y": {
          "bdata": "9ihcj8L11D9U46WbxCDgP7Kd76fGS88/TmIQWDm01D8hsHJoke3cPwRWDi2yneU/AiuHFtnO1z8dWmQ730/RP4PAyqFFtts/VOOlm8Qg3D9OYhBYObTQP4PAyqFFtuE/eekmMQisvD/2KFyPwvXkP/7UeOkmMcg/7nw/NV661T+BlUOLbOfXP/Cnxks3idU/sHJoke183z9zaJHtfD+1P3npJjEIrLw/ke18PzVe2j/LoUW28/3YPxsv3SQGgbU/pHA9CtejyD/2KFyPwvXIPwIrhxbZzt8/46WbxCCw4j8Sg8DKoUXgP+XQItv5fto/UI2XbhKD4D/b+X5qvHTfP/hT46WbxOQ/MzMzMzMz0z8rhxbZzvfbP65H4XoUrrc/RIts5/up0T8QWDm0yHbSPzvfT42XbuI/sHJoke184z85tMh2vp/gP2Dl0CLb+d4/VOOlm8Qg7D8AAAAAAADiP2ZmZmZmZt4/UrgehetR1D/VeOkmMQjQP7bz/dR46eI//tR46SYxwD9mZmZmZmbWP2IQWDm0yOA/TmIQWDm00D91kxgEVg69Pw4tsp3vp8Y/SgwCK4cW5T8K16NwPQrhP3WTGARWDt0/f2q8dJMY5D99PzVeuknUP1K4HoXrUdw/",
          "dtype": "f8"
         },
         "yaxis": "y"
        },
        {
         "hovertemplate": "<b>OLS trendline</b><br>Choice = 0.28441 * Phigh + 0.2384<br>R<sup>2</sup>=0.409414<br><br>player=human<br>Pr(High)=%{x}<br>P(Risky)=%{y} <b>(trend)</b><extra></extra>",
         "legendgroup": "",
         "line": {
          "color": "red"
         },
         "marker": {
          "symbol": "circle"
         },
         "mode": "lines",
         "name": "",
         "showlegend": false,
         "type": "scatter",
         "x": {
          "bdata": "exSuR+F6hD97FK5H4XqUP3sUrkfhepQ/exSuR+F6pD97FK5H4XqkP5qZmZmZmak/mpmZmZmZqT+amZmZmZmpP5qZmZmZmak/uB6F61G4rj/sUbgeheuxP+xRuB6F67E/exSuR+F6tD97FK5H4Xq0PwrXo3A9Crc/mpmZmZmZuT+amZmZmZm5P5qZmZmZmbk/mpmZmZmZuT+amZmZmZm5P5qZmZmZmck/mpmZmZmZyT8zMzMzMzPTPzMzMzMzM9M/MzMzMzMz0z8AAAAAAADgPzMzMzMzM+M/MzMzMzMz4z8zMzMzMzPjP2ZmZmZmZuY/mpmZmZmZ6T+amZmZmZnpP5qZmZmZmek/mpmZmZmZ6T+amZmZmZnpP83MzMzMzOw/zczMzMzM7D8fhetRuB7tPx+F61G4Hu0/cT0K16Nw7T9xPQrXo3DtP3E9CtejcO0/cT0K16Nw7T/D9Shcj8LtP8P1KFyPwu0/w/UoXI/C7T8UrkfhehTuPxSuR+F6FO4/FK5H4XoU7j9mZmZmZmbuP2ZmZmZmZu4/ZmZmZmZm7j+4HoXrUbjuP7gehetRuO4/uB6F61G47j8K16NwPQrvP1yPwvUoXO8/XI/C9Shc7z+uR+F6FK7vP65H4XoUru8/",
          "dtype": "f8"
         },
         "xaxis": "x",
         "y": {
          "bdata": "Lfhg/xPhzj9HV8gRRj7PP0dXyBFGPs8/fBWXNqr4zz98FZc2qvjPP0s6fyTuKtA/Szp/JO4q0D9LOn8k7irQP0s6fyTuKtA/2OmyLYdZ0D9lmeY2IIjQP2WZ5jYgiNA/8kgaQLm20D/ySBpAubbQP4D4TUlS5dA/DaiBUusT0T8NqIFS6xPRPw2ogVLrE9E/DaiBUusT0T8NqIFS6xPRP5CDhq7l5dI/kIOGruXl0j8TX4sK4LfUPxNfiwrgt9Q/E1+LCuC31D8ZFpXC1FvYP5zxmR7PLdo/nPGZHs8t2j+c8Zkezy3aPx/NnnrJ/9s/oqij1sPR3T+iqKPWw9HdP6Koo9bD0d0/oqij1sPR3T+iqKPWw9HdPyaEqDK+o98/JoSoMr6j3z+yM9w7V9LfP7Iz3DtX0t8/oPGHIngA4D+g8YcieADgP6DxhyJ4AOA/oPGHIngA4D9mySGnxBfgP2bJIafEF+A/Zskhp8QX4D8tobsrES/gPy2huysRL+A/LaG7KxEv4D/zeFWwXUbgP/N4VbBdRuA/83hVsF1G4D+6UO80ql3gP7pQ7zSqXeA/ulDvNKpd4D+BKIm59nTgP0cAIz5DjOA/RwAjPkOM4D8O2LzCj6PgPw7YvMKPo+A/",
          "dtype": "f8"
         },
         "yaxis": "y"
        },
        {
         "hovertemplate": "player=llm<br>Pr(High)=%{x}<br>P(Risky)=%{y}<br>Medium=%{marker.color}<extra></extra>",
         "legendgroup": "",
         "marker": {
          "color": {
           "bdata": "MzMzMzMz078AAAAAAADwv2ZmZmZmZijAmpmZmZmZOcBmZmZmZmb+v5qZmZmZmRnAZmZmZmZmJ8AAAAAAAAAYwGZmZmZmZhjAzczMzMzM/L8zMzMzMzMowJqZmZmZmRnAzczMzMzMIsAAAAAAAAAvwGZmZmZmZjnAMzMzMzOzMsDNzMzMzMw3wDMzMzMzMyDAzczMzMzMIMAAAAAAAAASwGZmZmZmZhLAZmZmZmZmIUBmZmZmZmYWQAAAAAAAAB7AmpmZmZmZGcCamZmZmZkTwDMzMzMzM/M/ZmZmZmZmEkAAAAAAAAAcQGZmZmZmZvY/mpmZmZmZGUBmZmZmZmYWQDMzMzMzMxtAZmZmZmZmEMCamZmZmZkBQJqZmZmZmR/AzczMzMzM9D9mZmZmZmYUwJqZmZmZmRvAmpmZmZmZF0AAAAAAAAAvQJqZmZmZGTFAZmZmZmZmIkDNzMzMzMwjQJqZmZmZmQFAAAAAAAAAIEAzMzMzMzMlQJqZmZmZGTJAzczMzMzMI0BmZmZmZmYGQJqZmZmZmSlAAAAAAAAA4D8AAAAAAAAnQAAAAAAAABxAAAAAAAAAJkAzMzMzMzM5QJqZmZmZmR9AMzMzMzOzNEAAAAAAAAAYQM3MzMzMzB5A",
           "dtype": "f8"
          },
          "coloraxis": "coloraxis",
          "symbol": "circle"
         },
         "mode": "markers",
         "name": "",
         "orientation": "v",
         "showlegend": false,
         "type": "scatter",
         "x": {
          "bdata": "uB6F61G47j9mZmZmZmbuPzMzMzMzM9M/mpmZmZmZyT/NzMzMzMzsP65H4XoUru8/ZmZmZmZm5j+amZmZmZm5P2ZmZmZmZu4/cT0K16Nw7T97FK5H4XqUPxSuR+F6FO4/mpmZmZmZqT8zMzMzMzPjP3sUrkfherQ/7FG4HoXrsT+amZmZmZm5P5qZmZmZmck/zczMzMzM7D8zMzMzMzPjP5qZmZmZmbk/H4XrUbge7T+amZmZmZnpP5qZmZmZmak/exSuR+F6lD+amZmZmZmpP8P1KFyPwu0/mpmZmZmZ6T9xPQrXo3DtPx+F61G4Hu0/ZmZmZmZm7j/D9Shcj8LtP7gehetRuO4/mpmZmZmZqT/D9Shcj8LtP3sUrkfherQ/mpmZmZmZ6T/sUbgeheuxPzMzMzMzM9M/XI/C9Shc7z+amZmZmZnpP3E9CtejcO0/uB6F61G4rj+4HoXrUbjuP5qZmZmZmek/mpmZmZmZuT97FK5H4XqkP1yPwvUoXO8/AAAAAAAA4D97FK5H4XqkPxSuR+F6FO4/CtejcD0Ktz+amZmZmZm5P3sUrkfheoQ/CtejcD0K7z8UrkfhehTuPzMzMzMzM+M/rkfhehSu7z8zMzMzMzPTP3E9CtejcO0/",
          "dtype": "f8"
         },
         "xaxis": "x2",
         "y": {
          "bdata": "arx0kxgE4D/4U+Olm8TkPwRWDi2ynd8/PQrXo3A94D8CK4cW2c7hP65H4XoUruE/5dAi2/l+4D+DwMqhRbbbP2Q730+Nl+A/O99PjZdu4j8K16NwPQrbP4ts5/up8eA/7FG4HoXr3T+HFtnO91PhP9ejcD0K198/Di2yne+n3j8nMQisHFrgPxBYObTIduA/kxgEVg4t4j89CtejcD3gP5ZDi2zn+90/sHJoke18xz/VeOkmMQi8Px+F61G4Ht0//tR46SYx3D+HFtnO91PbP7bz/dR46cY/qvHSTWIQwD/FILByaJHFP23n+6nx0tE/hxbZzvdT0z/ByqFFtvPFP0w3iUFg5cg/PQrXo3A94D+6SQwCK4fOP5huEoPAyt0/MzMzMzMzwz/FILByaJHdP1g5tMh2vuE/tvP91Hjpzj+kcD0K16PUP90kBoGVQ8s/iUFg5dAi4T9aZDvfT43PP9ejcD0K19c/j8L1KFyP2j/D9Shcj8LVP/p+arx0k9g/tvP91Hjp1j8j2/l+arzYP05iEFg5tNA/4XoUrkfhqj9oke18PzXSPy2yne+nxsM/j8L1KFyP0j9oke18PzXWP8HKoUW28+M/MQisHFpk2z8tsp3vp8bbP90kBoGVQ8s/",
          "dtype": "f8"
         },
         "yaxis": "y2"
        },
        {
         "hovertemplate": "<b>OLS trendline</b><br>Choice = -0.0949198 * Phigh + 0.437845<br>R<sup>2</sup>=0.064484<br><br>player=llm<br>Pr(High)=%{x}<br>P(Risky)=%{y} <b>(trend)</b><extra></extra>",
         "legendgroup": "",
         "line": {
          "color": "red"
         },
         "marker": {
          "symbol": "circle"
         },
         "mode": "lines",
         "name": "",
         "showlegend": false,
         "type": "scatter",
         "x": {
          "bdata": "exSuR+F6hD97FK5H4XqUP3sUrkfhepQ/exSuR+F6pD97FK5H4XqkP5qZmZmZmak/mpmZmZmZqT+amZmZmZmpP5qZmZmZmak/uB6F61G4rj/sUbgeheuxP+xRuB6F67E/exSuR+F6tD97FK5H4Xq0PwrXo3A9Crc/mpmZmZmZuT+amZmZmZm5P5qZmZmZmbk/mpmZmZmZuT+amZmZmZm5P5qZmZmZmck/mpmZmZmZyT8zMzMzMzPTPzMzMzMzM9M/MzMzMzMz0z8AAAAAAADgPzMzMzMzM+M/MzMzMzMz4z8zMzMzMzPjP2ZmZmZmZuY/mpmZmZmZ6T+amZmZmZnpP5qZmZmZmek/mpmZmZmZ6T+amZmZmZnpP83MzMzMzOw/zczMzMzM7D8fhetRuB7tPx+F61G4Hu0/cT0K16Nw7T9xPQrXo3DtP3E9CtejcO0/cT0K16Nw7T/D9Shcj8LtP8P1KFyPwu0/w/UoXI/C7T8UrkfhehTuPxSuR+F6FO4/FK5H4XoU7j9mZmZmZmbuP2ZmZmZmZu4/ZmZmZmZm7j+4HoXrUbjuP7gehetRuO4/uB6F61G47j8K16NwPQrvP1yPwvUoXO8/XI/C9Shc7z+uR+F6FK7vP65H4XoUru8/",
          "dtype": "f8"
         },
         "xaxis": "x2",
         "y": {
          "bdata": "iF2MOBn22z9KJmv/i+bbP0oma/+L5ts/zbcojXHH2z/NtyiNccfbP4+AB1Tkt9s/j4AHVOS32z+PgAdU5LfbP4+AB1Tkt9s/UUnmGleo2z8SEsXhyZjbPxISxeHJmNs/1NqjqDyJ2z/U2qOoPInbP5ajgm+veds/WGxhNiJq2z9YbGE2ImrbP1hsYTYiats/WGxhNiJq2z9YbGE2ImrbP+lDFfudzto/6UMV+53O2j97G8m/GTPaP3sbyb8ZM9o/exvJvxkz2j+eyjBJEfzYPzCi5A2NYNg/MKLkDY1g2D8wouQNjWDYP8J5mNIIxdc/U1FMl4Qp1z9TUUyXhCnXP1NRTJeEKdc/U1FMl4Qp1z9TUUyXhCnXP+UoAFwAjtY/5SgAXACO1j+m8d4ic37WP6bx3iJzftY/aLq96eVu1j9our3p5W7WP2i6venlbtY/aLq96eVu1j8qg5ywWF/WPyqDnLBYX9Y/KoOcsFhf1j/sS3t3y0/WP+xLe3fLT9Y/7Et7d8tP1j+uFFo+PkDWP64UWj4+QNY/rhRaPj5A1j9w3TgFsTDWP3DdOAWxMNY/cN04BbEw1j8xphfMIyHWP/Nu9pKWEdY/8272kpYR1j+1N9VZCQLWP7U31VkJAtY/",
          "dtype": "f8"
         },
         "yaxis": "y2"
        }
       ],
       "layout": {
        "annotations": [
         {
          "showarrow": false,
          "text": "player=human",
          "x": 0.245,
          "xanchor": "center",
          "xref": "paper",
          "y": 1,
          "yanchor": "bottom",
          "yref": "paper"
         },
         {
          "showarrow": false,
          "text": "player=llm",
          "x": 0.755,
          "xanchor": "center",
          "xref": "paper",
          "y": 1,
          "yanchor": "bottom",
          "yref": "paper"
         },
         {
          "text": "Prisky ~ 0.28*Phigh + 0.24",
          "x": 0.5,
          "y": 0.5
         },
         {
          "text": "Prisky ~ -0.09*Phigh + 0.44",
          "x": 0.5,
          "xref": "x2",
          "y": 0.5,
          "yref": "y2"
         }
        ],
        "coloraxis": {
         "colorbar": {
          "title": {
           "text": "Medium"
          }
         },
         "colorscale": [
          [
           0,
           "#0d0887"
          ],
          [
           0.1111111111111111,
           "#46039f"
          ],
          [
           0.2222222222222222,
           "#7201a8"
          ],
          [
           0.3333333333333333,
           "#9c179e"
          ],
          [
           0.4444444444444444,
           "#bd3786"
          ],
          [
           0.5555555555555556,
           "#d8576b"
          ],
          [
           0.6666666666666666,
           "#ed7953"
          ],
          [
           0.7777777777777778,
           "#fb9f3a"
          ],
          [
           0.8888888888888888,
           "#fdca26"
          ],
          [
           1,
           "#f0f921"
          ]
         ]
        },
        "height": 500,
        "legend": {
         "tracegroupgap": 0
        },
        "margin": {
         "t": 60
        },
        "template": {
         "data": {
          "bar": [
           {
            "error_x": {
             "color": "#2a3f5f"
            },
            "error_y": {
             "color": "#2a3f5f"
            },
            "marker": {
             "line": {
              "color": "#E5ECF6",
              "width": 0.5
             },
             "pattern": {
              "fillmode": "overlay",
              "size": 10,
              "solidity": 0.2
             }
            },
            "type": "bar"
           }
          ],
          "barpolar": [
           {
            "marker": {
             "line": {
              "color": "#E5ECF6",
              "width": 0.5
             },
             "pattern": {
              "fillmode": "overlay",
              "size": 10,
              "solidity": 0.2
             }
            },
            "type": "barpolar"
           }
          ],
          "carpet": [
           {
            "aaxis": {
             "endlinecolor": "#2a3f5f",
             "gridcolor": "white",
             "linecolor": "white",
             "minorgridcolor": "white",
             "startlinecolor": "#2a3f5f"
            },
            "baxis": {
             "endlinecolor": "#2a3f5f",
             "gridcolor": "white",
             "linecolor": "white",
             "minorgridcolor": "white",
             "startlinecolor": "#2a3f5f"
            },
            "type": "carpet"
           }
          ],
          "choropleth": [
           {
            "colorbar": {
             "outlinewidth": 0,
             "ticks": ""
            },
            "type": "choropleth"
           }
          ],
          "contour": [
           {
            "colorbar": {
             "outlinewidth": 0,
             "ticks": ""
            },
            "colorscale": [
             [
              0,
              "#0d0887"
             ],
             [
              0.1111111111111111,
              "#46039f"
             ],
             [
              0.2222222222222222,
              "#7201a8"
             ],
             [
              0.3333333333333333,
              "#9c179e"
             ],
             [
              0.4444444444444444,
              "#bd3786"
             ],
             [
              0.5555555555555556,
              "#d8576b"
             ],
             [
              0.6666666666666666,
              "#ed7953"
             ],
             [
              0.7777777777777778,
              "#fb9f3a"
             ],
             [
              0.8888888888888888,
              "#fdca26"
             ],
             [
              1,
              "#f0f921"
             ]
            ],
            "type": "contour"
           }
          ],
          "contourcarpet": [
           {
            "colorbar": {
             "outlinewidth": 0,
             "ticks": ""
            },
            "type": "contourcarpet"
           }
          ],
          "heatmap": [
           {
            "colorbar": {
             "outlinewidth": 0,
             "ticks": ""
            },
            "colorscale": [
             [
              0,
              "#0d0887"
             ],
             [
              0.1111111111111111,
              "#46039f"
             ],
             [
              0.2222222222222222,
              "#7201a8"
             ],
             [
              0.3333333333333333,
              "#9c179e"
             ],
             [
              0.4444444444444444,
              "#bd3786"
             ],
             [
              0.5555555555555556,
              "#d8576b"
             ],
             [
              0.6666666666666666,
              "#ed7953"
             ],
             [
              0.7777777777777778,
              "#fb9f3a"
             ],
             [
              0.8888888888888888,
              "#fdca26"
             ],
             [
              1,
              "#f0f921"
             ]
            ],
            "type": "heatmap"
           }
          ],
          "histogram": [
           {
            "marker": {
             "pattern": {
              "fillmode": "overlay",
              "size": 10,
              "solidity": 0.2
             }
            },
            "type": "histogram"
           }
          ],
          "histogram2d": [
           {
            "colorbar": {
             "outlinewidth": 0,
             "ticks": ""
            },
            "colorscale": [
             [
              0,
              "#0d0887"
             ],
             [
              0.1111111111111111,
              "#46039f"
             ],
             [
              0.2222222222222222,
              "#7201a8"
             ],
             [
              0.3333333333333333,
              "#9c179e"
             ],
             [
              0.4444444444444444,
              "#bd3786"
             ],
             [
              0.5555555555555556,
              "#d8576b"
             ],
             [
              0.6666666666666666,
              "#ed7953"
             ],
             [
              0.7777777777777778,
              "#fb9f3a"
             ],
             [
              0.8888888888888888,
              "#fdca26"
             ],
             [
              1,
              "#f0f921"
             ]
            ],
            "type": "histogram2d"
           }
          ],
          "histogram2dcontour": [
           {
            "colorbar": {
             "outlinewidth": 0,
             "ticks": ""
            },
            "colorscale": [
             [
              0,
              "#0d0887"
             ],
             [
              0.1111111111111111,
              "#46039f"
             ],
             [
              0.2222222222222222,
              "#7201a8"
             ],
             [
              0.3333333333333333,
              "#9c179e"
             ],
             [
              0.4444444444444444,
              "#bd3786"
             ],
             [
              0.5555555555555556,
              "#d8576b"
             ],
             [
              0.6666666666666666,
              "#ed7953"
             ],
             [
              0.7777777777777778,
              "#fb9f3a"
             ],
             [
              0.8888888888888888,
              "#fdca26"
             ],
             [
              1,
              "#f0f921"
             ]
            ],
            "type": "histogram2dcontour"
           }
          ],
          "mesh3d": [
           {
            "colorbar": {
             "outlinewidth": 0,
             "ticks": ""
            },
            "type": "mesh3d"
           }
          ],
          "parcoords": [
           {
            "line": {
             "colorbar": {
              "outlinewidth": 0,
              "ticks": ""
             }
            },
            "type": "parcoords"
           }
          ],
          "pie": [
           {
            "automargin": true,
            "type": "pie"
           }
          ],
          "scatter": [
           {
            "fillpattern": {
             "fillmode": "overlay",
             "size": 10,
             "solidity": 0.2
            },
            "type": "scatter"
           }
          ],
          "scatter3d": [
           {
            "line": {
             "colorbar": {
              "outlinewidth": 0,
              "ticks": ""
             }
            },
            "marker": {
             "colorbar": {
              "outlinewidth": 0,
              "ticks": ""
             }
            },
            "type": "scatter3d"
           }
          ],
          "scattercarpet": [
           {
            "marker": {
             "colorbar": {
              "outlinewidth": 0,
              "ticks": ""
             }
            },
            "type": "scattercarpet"
           }
          ],
          "scattergeo": [
           {
            "marker": {
             "colorbar": {
              "outlinewidth": 0,
              "ticks": ""
             }
            },
            "type": "scattergeo"
           }
          ],
          "scattergl": [
           {
            "marker": {
             "colorbar": {
              "outlinewidth": 0,
              "ticks": ""
             }
            },
            "type": "scattergl"
           }
          ],
          "scattermap": [
           {
            "marker": {
             "colorbar": {
              "outlinewidth": 0,
              "ticks": ""
             }
            },
            "type": "scattermap"
           }
          ],
          "scattermapbox": [
           {
            "marker": {
             "colorbar": {
              "outlinewidth": 0,
              "ticks": ""
             }
            },
            "type": "scattermapbox"
           }
          ],
          "scatterpolar": [
           {
            "marker": {
             "colorbar": {
              "outlinewidth": 0,
              "ticks": ""
             }
            },
            "type": "scatterpolar"
           }
          ],
          "scatterpolargl": [
           {
            "marker": {
             "colorbar": {
              "outlinewidth": 0,
              "ticks": ""
             }
            },
            "type": "scatterpolargl"
           }
          ],
          "scatterternary": [
           {
            "marker": {
             "colorbar": {
              "outlinewidth": 0,
              "ticks": ""
             }
            },
            "type": "scatterternary"
           }
          ],
          "surface": [
           {
            "colorbar": {
             "outlinewidth": 0,
             "ticks": ""
            },
            "colorscale": [
             [
              0,
              "#0d0887"
             ],
             [
              0.1111111111111111,
              "#46039f"
             ],
             [
              0.2222222222222222,
              "#7201a8"
             ],
             [
              0.3333333333333333,
              "#9c179e"
             ],
             [
              0.4444444444444444,
              "#bd3786"
             ],
             [
              0.5555555555555556,
              "#d8576b"
             ],
             [
              0.6666666666666666,
              "#ed7953"
             ],
             [
              0.7777777777777778,
              "#fb9f3a"
             ],
             [
              0.8888888888888888,
              "#fdca26"
             ],
             [
              1,
              "#f0f921"
             ]
            ],
            "type": "surface"
           }
          ],
          "table": [
           {
            "cells": {
             "fill": {
              "color": "#EBF0F8"
             },
             "line": {
              "color": "white"
             }
            },
            "header": {
             "fill": {
              "color": "#C8D4E3"
             },
             "line": {
              "color": "white"
             }
            },
            "type": "table"
           }
          ]
         },
         "layout": {
          "annotationdefaults": {
           "arrowcolor": "#2a3f5f",
           "arrowhead": 0,
           "arrowwidth": 1
          },
          "autotypenumbers": "strict",
          "coloraxis": {
           "colorbar": {
            "outlinewidth": 0,
            "ticks": ""
           }
          },
          "colorscale": {
           "diverging": [
            [
             0,
             "#8e0152"
            ],
            [
             0.1,
             "#c51b7d"
            ],
            [
             0.2,
             "#de77ae"
            ],
            [
             0.3,
             "#f1b6da"
            ],
            [
             0.4,
             "#fde0ef"
            ],
            [
             0.5,
             "#f7f7f7"
            ],
            [
             0.6,
             "#e6f5d0"
            ],
            [
             0.7,
             "#b8e186"
            ],
            [
             0.8,
             "#7fbc41"
            ],
            [
             0.9,
             "#4d9221"
            ],
            [
             1,
             "#276419"
            ]
           ],
           "sequential": [
            [
             0,
             "#0d0887"
            ],
            [
             0.1111111111111111,
             "#46039f"
            ],
            [
             0.2222222222222222,
             "#7201a8"
            ],
            [
             0.3333333333333333,
             "#9c179e"
            ],
            [
             0.4444444444444444,
             "#bd3786"
            ],
            [
             0.5555555555555556,
             "#d8576b"
            ],
            [
             0.6666666666666666,
             "#ed7953"
            ],
            [
             0.7777777777777778,
             "#fb9f3a"
            ],
            [
             0.8888888888888888,
             "#fdca26"
            ],
            [
             1,
             "#f0f921"
            ]
           ],
           "sequentialminus": [
            [
             0,
             "#0d0887"
            ],
            [
             0.1111111111111111,
             "#46039f"
            ],
            [
             0.2222222222222222,
             "#7201a8"
            ],
            [
             0.3333333333333333,
             "#9c179e"
            ],
            [
             0.4444444444444444,
             "#bd3786"
            ],
            [
             0.5555555555555556,
             "#d8576b"
            ],
            [
             0.6666666666666666,
             "#ed7953"
            ],
            [
             0.7777777777777778,
             "#fb9f3a"
            ],
            [
             0.8888888888888888,
             "#fdca26"
            ],
            [
             1,
             "#f0f921"
            ]
           ]
          },
          "colorway": [
           "#636efa",
           "#EF553B",
           "#00cc96",
           "#ab63fa",
           "#FFA15A",
           "#19d3f3",
           "#FF6692",
           "#B6E880",
           "#FF97FF",
           "#FECB52"
          ],
          "font": {
           "color": "#2a3f5f"
          },
          "geo": {
           "bgcolor": "white",
           "lakecolor": "white",
           "landcolor": "#E5ECF6",
           "showlakes": true,
           "showland": true,
           "subunitcolor": "white"
          },
          "hoverlabel": {
           "align": "left"
          },
          "hovermode": "closest",
          "mapbox": {
           "style": "light"
          },
          "paper_bgcolor": "white",
          "plot_bgcolor": "#E5ECF6",
          "polar": {
           "angularaxis": {
            "gridcolor": "white",
            "linecolor": "white",
            "ticks": ""
           },
           "bgcolor": "#E5ECF6",
           "radialaxis": {
            "gridcolor": "white",
            "linecolor": "white",
            "ticks": ""
           }
          },
          "scene": {
           "xaxis": {
            "backgroundcolor": "#E5ECF6",
            "gridcolor": "white",
            "gridwidth": 2,
            "linecolor": "white",
            "showbackground": true,
            "ticks": "",
            "zerolinecolor": "white"
           },
           "yaxis": {
            "backgroundcolor": "#E5ECF6",
            "gridcolor": "white",
            "gridwidth": 2,
            "linecolor": "white",
            "showbackground": true,
            "ticks": "",
            "zerolinecolor": "white"
           },
           "zaxis": {
            "backgroundcolor": "#E5ECF6",
            "gridcolor": "white",
            "gridwidth": 2,
            "linecolor": "white",
            "showbackground": true,
            "ticks": "",
            "zerolinecolor": "white"
           }
          },
          "shapedefaults": {
           "line": {
            "color": "#2a3f5f"
           }
          },
          "ternary": {
           "aaxis": {
            "gridcolor": "white",
            "linecolor": "white",
            "ticks": ""
           },
           "baxis": {
            "gridcolor": "white",
            "linecolor": "white",
            "ticks": ""
           },
           "bgcolor": "#E5ECF6",
           "caxis": {
            "gridcolor": "white",
            "linecolor": "white",
            "ticks": ""
           }
          },
          "title": {
           "x": 0.05
          },
          "xaxis": {
           "automargin": true,
           "gridcolor": "white",
           "linecolor": "white",
           "ticks": "",
           "title": {
            "standoff": 15
           },
           "zerolinecolor": "white",
           "zerolinewidth": 2
          },
          "yaxis": {
           "automargin": true,
           "gridcolor": "white",
           "linecolor": "white",
           "ticks": "",
           "title": {
            "standoff": 15
           },
           "zerolinecolor": "white",
           "zerolinewidth": 2
          }
         }
        },
        "width": 800,
        "xaxis": {
         "anchor": "y",
         "domain": [
          0,
          0.49
         ],
         "title": {
          "text": "Pr(High)"
         }
        },
        "xaxis2": {
         "anchor": "y2",
         "domain": [
          0.51,
          1
         ],
         "matches": "x",
         "title": {
          "text": "Pr(High)"
         }
        },
        "yaxis": {
         "anchor": "x",
         "domain": [
          0,
          1
         ],
         "title": {
          "text": "P(Risky)"
         }
        },
        "yaxis2": {
         "anchor": "x2",
         "domain": [
          0,
          1
         ],
         "matches": "y",
         "showticklabels": false
        }
       }
      }
     },
     "metadata": {},
     "output_type": "display_data"
    }
   ],
   "source": [
    "est_agg[\"player\"] = \"human\"\n",
    "df_llm_agg[\"player\"] = \"llm\"\n",
    "combined = pd.concat([est_agg, df_llm_agg])\n",
    "fig = px.scatter(\n",
    "    combined,\n",
    "    x=\"Phigh\",\n",
    "    y=\"Choice\",\n",
    "    color=\"Medium\",\n",
    "    trendline=\"ols\",\n",
    "    facet_col=\"player\",\n",
    "    trendline_color_override=\"red\",\n",
    "    width=800,\n",
    "    height=500,\n",
    "    labels={\"Choice\": \"P(Risky)\", \"Phigh\": \"Pr(High)\"}\n",
    ")\n",
    "results = px.get_trendline_results(fig)\n",
    "stats0 = results[\"px_fit_results\"].values[0]\n",
    "stats1 = results[\"px_fit_results\"].values[1]\n",
    "# add the slop and intercept of the trendline to the plot\n",
    "fig.add_annotation(\n",
    "    x=0.5, y=0.5, text=f\"Prisky ~ {stats0.params[1]:.2f}*Phigh + {stats0.params[0]:.2f}\"\n",
    ")\n",
    "fig.add_annotation(\n",
    "    x=0.5,\n",
    "    y=0.5,\n",
    "    text=f\"Prisky ~ {stats1.params[1]:.2f}*Phigh + {stats1.params[0]:.2f}\",\n",
    "    col=2,\n",
    "    row=1,\n",
    ")\n",
    "\n",
    "fig.show()"
   ]
  },
  {
   "cell_type": "code",
   "execution_count": 59,
   "metadata": {},
   "outputs": [
    {
     "data": {
      "application/vnd.plotly.v1+json": {
       "config": {
        "plotlyServerURL": "https://plot.ly"
       },
       "data": [
        {
         "hovertemplate": "Human Prisky=%{x}<br>LLM Prisky=%{y}<extra></extra>",
         "legendgroup": "",
         "marker": {
          "color": "#636efa",
          "symbol": "circle"
         },
         "mode": "markers",
         "name": "",
         "orientation": "v",
         "showlegend": false,
         "type": "scatter",
         "x": {
          "bdata": "9ihcj8L11D9U46WbxCDgP7Kd76fGS88/TmIQWDm01D8hsHJoke3cPwRWDi2yneU/AiuHFtnO1z8dWmQ730/RP4PAyqFFtts/VOOlm8Qg3D9OYhBYObTQP4PAyqFFtuE/eekmMQisvD/2KFyPwvXkP/7UeOkmMcg/7nw/NV661T+BlUOLbOfXP/Cnxks3idU/sHJoke183z9zaJHtfD+1P3npJjEIrLw/ke18PzVe2j/LoUW28/3YPxsv3SQGgbU/pHA9CtejyD/2KFyPwvXIPwIrhxbZzt8/46WbxCCw4j8Sg8DKoUXgP+XQItv5fto/UI2XbhKD4D/b+X5qvHTfP/hT46WbxOQ/MzMzMzMz0z8rhxbZzvfbP65H4XoUrrc/RIts5/up0T8QWDm0yHbSPzvfT42XbuI/sHJoke184z85tMh2vp/gP2Dl0CLb+d4/VOOlm8Qg7D8AAAAAAADiP2ZmZmZmZt4/UrgehetR1D/VeOkmMQjQP7bz/dR46eI//tR46SYxwD9mZmZmZmbWP2IQWDm0yOA/TmIQWDm00D91kxgEVg69Pw4tsp3vp8Y/SgwCK4cW5T8K16NwPQrhP3WTGARWDt0/f2q8dJMY5D99PzVeuknUP1K4HoXrUdw/",
          "dtype": "f8"
         },
         "xaxis": "x",
         "y": {
          "bdata": "arx0kxgE4D/4U+Olm8TkPwRWDi2ynd8/PQrXo3A94D8CK4cW2c7hP65H4XoUruE/5dAi2/l+4D+DwMqhRbbbP2Q730+Nl+A/O99PjZdu4j8K16NwPQrbP4ts5/up8eA/7FG4HoXr3T+HFtnO91PhP9ejcD0K198/Di2yne+n3j8nMQisHFrgPxBYObTIduA/kxgEVg4t4j89CtejcD3gP5ZDi2zn+90/sHJoke18xz/VeOkmMQi8Px+F61G4Ht0//tR46SYx3D+HFtnO91PbP7bz/dR46cY/qvHSTWIQwD/FILByaJHFP23n+6nx0tE/hxbZzvdT0z/ByqFFtvPFP0w3iUFg5cg/PQrXo3A94D+6SQwCK4fOP5huEoPAyt0/MzMzMzMzwz/FILByaJHdP1g5tMh2vuE/tvP91Hjpzj+kcD0K16PUP90kBoGVQ8s/iUFg5dAi4T9aZDvfT43PP9ejcD0K19c/j8L1KFyP2j/D9Shcj8LVP/p+arx0k9g/tvP91Hjp1j8j2/l+arzYP05iEFg5tNA/4XoUrkfhqj9oke18PzXSPy2yne+nxsM/j8L1KFyP0j9oke18PzXWP8HKoUW28+M/MQisHFpk2z8tsp3vp8bbP90kBoGVQ8s/",
          "dtype": "f8"
         },
         "yaxis": "y"
        },
        {
         "hovertemplate": "<b>OLS trendline</b><br>Choice_llm = -0.0575073 * Choice_human + 0.408174<br>R<sup>2</sup>=0.004676<br><br>Human Prisky=%{x}<br>LLM Prisky=%{y} <b>(trend)</b><extra></extra>",
         "legendgroup": "",
         "line": {
          "color": "red"
         },
         "marker": {
          "color": "#636efa",
          "symbol": "circle"
         },
         "mode": "lines",
         "name": "",
         "showlegend": false,
         "type": "scatter",
         "x": {
          "bdata": "c2iR7Xw/tT8bL90kBoG1P65H4XoUrrc/eekmMQisvD956SYxCKy8P3WTGARWDr0//tR46SYxwD8OLbKd76fGP/7UeOkmMcg/pHA9CtejyD/2KFyPwvXIP7Kd76fGS88/1XjpJjEI0D9OYhBYObTQP05iEFg5tNA/HVpkO99P0T9Ei2zn+6nRPxBYObTIdtI/MzMzMzMz0z99PzVeuknUP1K4HoXrUdQ/TmIQWDm01D/2KFyPwvXUP/Cnxks3idU/7nw/NV661T9mZmZmZmbWPwIrhxbZztc/gZVDi2zn1z/LoUW28/3YP5HtfD81Xto/5dAi2/l+2j+DwMqhRbbbPyuHFtnO99s/VOOlm8Qg3D9SuB6F61HcPyGwcmiR7dw/dZMYBFYO3T9mZmZmZmbeP2Dl0CLb+d4/2/l+arx03z+wcmiR7XzfPwIrhxbZzt8/VOOlm8Qg4D8Sg8DKoUXgP1CNl24Sg+A/ObTIdr6f4D9iEFg5tMjgPwrXo3A9CuE/g8DKoUW24T8AAAAAAADiPzvfT42XbuI/46WbxCCw4j+28/3UeOniP7ByaJHtfOM/f2q8dJMY5D/4U+Olm8TkP/YoXI/C9eQ/SgwCK4cW5T8EVg4tsp3lP1TjpZvEIOw/",
          "dtype": "f8"
         },
         "xaxis": "x",
         "y": {
          "bdata": "Cf+Qe1LR2T/ECZBHYdDZP/bkhw1fyNk/LjZ1l/+12T8uNnWX/7XZP0bGc8mVtNk/wFFnJVao2T+S7zZjwXjZP1FwK/Nybdk/3xUovSZq2T+xsCW7y2fZP8hD9iwoOdk/KITw9IAz2T/QdOZSnCnZP9B05lKcKdk/vVrd5Kgg2T+/FdhGehvZP9wbzDyzD9k/PxfBZt0E2T+kzbDy2PTYPwFTsFhg9Ng/YZOqILnu2D9LvqZQ9OrYP9sennx54tg/Cz+b4KXf2D+zL5E+wdXYP70bfMYGwdg/1at6+Jy/2D86YmqEmK/YP+bIVaZWm9g/XN5TPnSZ2D82qkFijYfYPyHVPZLIg9g/8287kG2B2D8jkDj0mX7YPxB2L4amddg/hYstHsRz2D/VbBna+l/YP2XNEAaAV9g/3Z0JAG9Q2D86Iwlm9k/YP99YBGJAS9g/+qP99adE2D9CVPmLakDYP7kk8oVZOdg/R8ruTw022D/s/+lLVzHYP8FV4qvNKdg/EDfOZwQW2D+gl8WTiQ3YP3iouFXRANg/Tf6wtUf51z9oSapJr/LXP4cKmaG54dc/YdaGxdLP1z+xt3KBCbzXPxD4bElittc/+yJpeZ2y1z8DVFmfEaPXP2BblshU49Y/",
          "dtype": "f8"
         },
         "yaxis": "y"
        }
       ],
       "layout": {
        "annotations": [
         {
          "text": "LLM Prisky ~ -0.06*Human Prisky + 0.41",
          "x": 0.5,
          "y": 0.5
         }
        ],
        "autosize": false,
        "height": 500,
        "legend": {
         "tracegroupgap": 0
        },
        "margin": {
         "t": 60
        },
        "template": {
         "data": {
          "bar": [
           {
            "error_x": {
             "color": "#2a3f5f"
            },
            "error_y": {
             "color": "#2a3f5f"
            },
            "marker": {
             "line": {
              "color": "#E5ECF6",
              "width": 0.5
             },
             "pattern": {
              "fillmode": "overlay",
              "size": 10,
              "solidity": 0.2
             }
            },
            "type": "bar"
           }
          ],
          "barpolar": [
           {
            "marker": {
             "line": {
              "color": "#E5ECF6",
              "width": 0.5
             },
             "pattern": {
              "fillmode": "overlay",
              "size": 10,
              "solidity": 0.2
             }
            },
            "type": "barpolar"
           }
          ],
          "carpet": [
           {
            "aaxis": {
             "endlinecolor": "#2a3f5f",
             "gridcolor": "white",
             "linecolor": "white",
             "minorgridcolor": "white",
             "startlinecolor": "#2a3f5f"
            },
            "baxis": {
             "endlinecolor": "#2a3f5f",
             "gridcolor": "white",
             "linecolor": "white",
             "minorgridcolor": "white",
             "startlinecolor": "#2a3f5f"
            },
            "type": "carpet"
           }
          ],
          "choropleth": [
           {
            "colorbar": {
             "outlinewidth": 0,
             "ticks": ""
            },
            "type": "choropleth"
           }
          ],
          "contour": [
           {
            "colorbar": {
             "outlinewidth": 0,
             "ticks": ""
            },
            "colorscale": [
             [
              0,
              "#0d0887"
             ],
             [
              0.1111111111111111,
              "#46039f"
             ],
             [
              0.2222222222222222,
              "#7201a8"
             ],
             [
              0.3333333333333333,
              "#9c179e"
             ],
             [
              0.4444444444444444,
              "#bd3786"
             ],
             [
              0.5555555555555556,
              "#d8576b"
             ],
             [
              0.6666666666666666,
              "#ed7953"
             ],
             [
              0.7777777777777778,
              "#fb9f3a"
             ],
             [
              0.8888888888888888,
              "#fdca26"
             ],
             [
              1,
              "#f0f921"
             ]
            ],
            "type": "contour"
           }
          ],
          "contourcarpet": [
           {
            "colorbar": {
             "outlinewidth": 0,
             "ticks": ""
            },
            "type": "contourcarpet"
           }
          ],
          "heatmap": [
           {
            "colorbar": {
             "outlinewidth": 0,
             "ticks": ""
            },
            "colorscale": [
             [
              0,
              "#0d0887"
             ],
             [
              0.1111111111111111,
              "#46039f"
             ],
             [
              0.2222222222222222,
              "#7201a8"
             ],
             [
              0.3333333333333333,
              "#9c179e"
             ],
             [
              0.4444444444444444,
              "#bd3786"
             ],
             [
              0.5555555555555556,
              "#d8576b"
             ],
             [
              0.6666666666666666,
              "#ed7953"
             ],
             [
              0.7777777777777778,
              "#fb9f3a"
             ],
             [
              0.8888888888888888,
              "#fdca26"
             ],
             [
              1,
              "#f0f921"
             ]
            ],
            "type": "heatmap"
           }
          ],
          "histogram": [
           {
            "marker": {
             "pattern": {
              "fillmode": "overlay",
              "size": 10,
              "solidity": 0.2
             }
            },
            "type": "histogram"
           }
          ],
          "histogram2d": [
           {
            "colorbar": {
             "outlinewidth": 0,
             "ticks": ""
            },
            "colorscale": [
             [
              0,
              "#0d0887"
             ],
             [
              0.1111111111111111,
              "#46039f"
             ],
             [
              0.2222222222222222,
              "#7201a8"
             ],
             [
              0.3333333333333333,
              "#9c179e"
             ],
             [
              0.4444444444444444,
              "#bd3786"
             ],
             [
              0.5555555555555556,
              "#d8576b"
             ],
             [
              0.6666666666666666,
              "#ed7953"
             ],
             [
              0.7777777777777778,
              "#fb9f3a"
             ],
             [
              0.8888888888888888,
              "#fdca26"
             ],
             [
              1,
              "#f0f921"
             ]
            ],
            "type": "histogram2d"
           }
          ],
          "histogram2dcontour": [
           {
            "colorbar": {
             "outlinewidth": 0,
             "ticks": ""
            },
            "colorscale": [
             [
              0,
              "#0d0887"
             ],
             [
              0.1111111111111111,
              "#46039f"
             ],
             [
              0.2222222222222222,
              "#7201a8"
             ],
             [
              0.3333333333333333,
              "#9c179e"
             ],
             [
              0.4444444444444444,
              "#bd3786"
             ],
             [
              0.5555555555555556,
              "#d8576b"
             ],
             [
              0.6666666666666666,
              "#ed7953"
             ],
             [
              0.7777777777777778,
              "#fb9f3a"
             ],
             [
              0.8888888888888888,
              "#fdca26"
             ],
             [
              1,
              "#f0f921"
             ]
            ],
            "type": "histogram2dcontour"
           }
          ],
          "mesh3d": [
           {
            "colorbar": {
             "outlinewidth": 0,
             "ticks": ""
            },
            "type": "mesh3d"
           }
          ],
          "parcoords": [
           {
            "line": {
             "colorbar": {
              "outlinewidth": 0,
              "ticks": ""
             }
            },
            "type": "parcoords"
           }
          ],
          "pie": [
           {
            "automargin": true,
            "type": "pie"
           }
          ],
          "scatter": [
           {
            "fillpattern": {
             "fillmode": "overlay",
             "size": 10,
             "solidity": 0.2
            },
            "type": "scatter"
           }
          ],
          "scatter3d": [
           {
            "line": {
             "colorbar": {
              "outlinewidth": 0,
              "ticks": ""
             }
            },
            "marker": {
             "colorbar": {
              "outlinewidth": 0,
              "ticks": ""
             }
            },
            "type": "scatter3d"
           }
          ],
          "scattercarpet": [
           {
            "marker": {
             "colorbar": {
              "outlinewidth": 0,
              "ticks": ""
             }
            },
            "type": "scattercarpet"
           }
          ],
          "scattergeo": [
           {
            "marker": {
             "colorbar": {
              "outlinewidth": 0,
              "ticks": ""
             }
            },
            "type": "scattergeo"
           }
          ],
          "scattergl": [
           {
            "marker": {
             "colorbar": {
              "outlinewidth": 0,
              "ticks": ""
             }
            },
            "type": "scattergl"
           }
          ],
          "scattermap": [
           {
            "marker": {
             "colorbar": {
              "outlinewidth": 0,
              "ticks": ""
             }
            },
            "type": "scattermap"
           }
          ],
          "scattermapbox": [
           {
            "marker": {
             "colorbar": {
              "outlinewidth": 0,
              "ticks": ""
             }
            },
            "type": "scattermapbox"
           }
          ],
          "scatterpolar": [
           {
            "marker": {
             "colorbar": {
              "outlinewidth": 0,
              "ticks": ""
             }
            },
            "type": "scatterpolar"
           }
          ],
          "scatterpolargl": [
           {
            "marker": {
             "colorbar": {
              "outlinewidth": 0,
              "ticks": ""
             }
            },
            "type": "scatterpolargl"
           }
          ],
          "scatterternary": [
           {
            "marker": {
             "colorbar": {
              "outlinewidth": 0,
              "ticks": ""
             }
            },
            "type": "scatterternary"
           }
          ],
          "surface": [
           {
            "colorbar": {
             "outlinewidth": 0,
             "ticks": ""
            },
            "colorscale": [
             [
              0,
              "#0d0887"
             ],
             [
              0.1111111111111111,
              "#46039f"
             ],
             [
              0.2222222222222222,
              "#7201a8"
             ],
             [
              0.3333333333333333,
              "#9c179e"
             ],
             [
              0.4444444444444444,
              "#bd3786"
             ],
             [
              0.5555555555555556,
              "#d8576b"
             ],
             [
              0.6666666666666666,
              "#ed7953"
             ],
             [
              0.7777777777777778,
              "#fb9f3a"
             ],
             [
              0.8888888888888888,
              "#fdca26"
             ],
             [
              1,
              "#f0f921"
             ]
            ],
            "type": "surface"
           }
          ],
          "table": [
           {
            "cells": {
             "fill": {
              "color": "#EBF0F8"
             },
             "line": {
              "color": "white"
             }
            },
            "header": {
             "fill": {
              "color": "#C8D4E3"
             },
             "line": {
              "color": "white"
             }
            },
            "type": "table"
           }
          ]
         },
         "layout": {
          "annotationdefaults": {
           "arrowcolor": "#2a3f5f",
           "arrowhead": 0,
           "arrowwidth": 1
          },
          "autotypenumbers": "strict",
          "coloraxis": {
           "colorbar": {
            "outlinewidth": 0,
            "ticks": ""
           }
          },
          "colorscale": {
           "diverging": [
            [
             0,
             "#8e0152"
            ],
            [
             0.1,
             "#c51b7d"
            ],
            [
             0.2,
             "#de77ae"
            ],
            [
             0.3,
             "#f1b6da"
            ],
            [
             0.4,
             "#fde0ef"
            ],
            [
             0.5,
             "#f7f7f7"
            ],
            [
             0.6,
             "#e6f5d0"
            ],
            [
             0.7,
             "#b8e186"
            ],
            [
             0.8,
             "#7fbc41"
            ],
            [
             0.9,
             "#4d9221"
            ],
            [
             1,
             "#276419"
            ]
           ],
           "sequential": [
            [
             0,
             "#0d0887"
            ],
            [
             0.1111111111111111,
             "#46039f"
            ],
            [
             0.2222222222222222,
             "#7201a8"
            ],
            [
             0.3333333333333333,
             "#9c179e"
            ],
            [
             0.4444444444444444,
             "#bd3786"
            ],
            [
             0.5555555555555556,
             "#d8576b"
            ],
            [
             0.6666666666666666,
             "#ed7953"
            ],
            [
             0.7777777777777778,
             "#fb9f3a"
            ],
            [
             0.8888888888888888,
             "#fdca26"
            ],
            [
             1,
             "#f0f921"
            ]
           ],
           "sequentialminus": [
            [
             0,
             "#0d0887"
            ],
            [
             0.1111111111111111,
             "#46039f"
            ],
            [
             0.2222222222222222,
             "#7201a8"
            ],
            [
             0.3333333333333333,
             "#9c179e"
            ],
            [
             0.4444444444444444,
             "#bd3786"
            ],
            [
             0.5555555555555556,
             "#d8576b"
            ],
            [
             0.6666666666666666,
             "#ed7953"
            ],
            [
             0.7777777777777778,
             "#fb9f3a"
            ],
            [
             0.8888888888888888,
             "#fdca26"
            ],
            [
             1,
             "#f0f921"
            ]
           ]
          },
          "colorway": [
           "#636efa",
           "#EF553B",
           "#00cc96",
           "#ab63fa",
           "#FFA15A",
           "#19d3f3",
           "#FF6692",
           "#B6E880",
           "#FF97FF",
           "#FECB52"
          ],
          "font": {
           "color": "#2a3f5f"
          },
          "geo": {
           "bgcolor": "white",
           "lakecolor": "white",
           "landcolor": "#E5ECF6",
           "showlakes": true,
           "showland": true,
           "subunitcolor": "white"
          },
          "hoverlabel": {
           "align": "left"
          },
          "hovermode": "closest",
          "mapbox": {
           "style": "light"
          },
          "paper_bgcolor": "white",
          "plot_bgcolor": "#E5ECF6",
          "polar": {
           "angularaxis": {
            "gridcolor": "white",
            "linecolor": "white",
            "ticks": ""
           },
           "bgcolor": "#E5ECF6",
           "radialaxis": {
            "gridcolor": "white",
            "linecolor": "white",
            "ticks": ""
           }
          },
          "scene": {
           "xaxis": {
            "backgroundcolor": "#E5ECF6",
            "gridcolor": "white",
            "gridwidth": 2,
            "linecolor": "white",
            "showbackground": true,
            "ticks": "",
            "zerolinecolor": "white"
           },
           "yaxis": {
            "backgroundcolor": "#E5ECF6",
            "gridcolor": "white",
            "gridwidth": 2,
            "linecolor": "white",
            "showbackground": true,
            "ticks": "",
            "zerolinecolor": "white"
           },
           "zaxis": {
            "backgroundcolor": "#E5ECF6",
            "gridcolor": "white",
            "gridwidth": 2,
            "linecolor": "white",
            "showbackground": true,
            "ticks": "",
            "zerolinecolor": "white"
           }
          },
          "shapedefaults": {
           "line": {
            "color": "#2a3f5f"
           }
          },
          "ternary": {
           "aaxis": {
            "gridcolor": "white",
            "linecolor": "white",
            "ticks": ""
           },
           "baxis": {
            "gridcolor": "white",
            "linecolor": "white",
            "ticks": ""
           },
           "bgcolor": "#E5ECF6",
           "caxis": {
            "gridcolor": "white",
            "linecolor": "white",
            "ticks": ""
           }
          },
          "title": {
           "x": 0.05
          },
          "xaxis": {
           "automargin": true,
           "gridcolor": "white",
           "linecolor": "white",
           "ticks": "",
           "title": {
            "standoff": 15
           },
           "zerolinecolor": "white",
           "zerolinewidth": 2
          },
          "yaxis": {
           "automargin": true,
           "gridcolor": "white",
           "linecolor": "white",
           "ticks": "",
           "title": {
            "standoff": 15
           },
           "zerolinecolor": "white",
           "zerolinewidth": 2
          }
         }
        },
        "width": 500,
        "xaxis": {
         "anchor": "y",
         "domain": [
          0,
          1
         ],
         "range": [
          0,
          1
         ],
         "scaleanchor": "y",
         "scaleratio": 1,
         "title": {
          "text": "Human Prisky"
         }
        },
        "yaxis": {
         "anchor": "x",
         "domain": [
          0,
          1
         ],
         "range": [
          0,
          1
         ],
         "scaleanchor": "x",
         "scaleratio": 1,
         "title": {
          "text": "LLM Prisky"
         }
        }
       }
      }
     },
     "metadata": {},
     "output_type": "display_data"
    }
   ],
   "source": [
    "# scatter plot of human (x-axis) vs llm (y-axis)\n",
    "merged = pd.merge(\n",
    "    est_agg, df_llm_agg, on=[\"Problem\", \"Phigh\", \"Medium\"], suffixes=(\"_human\", \"_llm\")\n",
    ")\n",
    "fig = px.scatter(\n",
    "    merged,\n",
    "    x=\"Choice_human\",\n",
    "    y=\"Choice_llm\",\n",
    "    trendline=\"ols\",\n",
    "    width=500,\n",
    "    height=500,\n",
    "    labels={\"Choice_human\": \"Human Prisky\", \"Choice_llm\": \"LLM Prisky\"},\n",
    "    trendline_color_override=\"red\",\n",
    ")\n",
    "# Update layout to force square aspect ratio\n",
    "fig.update_layout(\n",
    "    autosize=False,\n",
    "    width=500,\n",
    "    height=500,\n",
    "    xaxis=dict(scaleanchor=\"y\", scaleratio=1, range=[0, 1]),  # Ensuring same range\n",
    "    yaxis=dict(scaleanchor=\"x\", scaleratio=1, range=[0, 1]),  # Ensuring same range\n",
    ")\n",
    "# add the slop and intercept of the trendline to the plot\n",
    "results = px.get_trendline_results(fig)\n",
    "stats = results[\"px_fit_results\"].values[0]\n",
    "fig.add_annotation(\n",
    "    x=0.5,\n",
    "    y=0.5,\n",
    "    text=f\"LLM Prisky ~ {stats.params[1]:.2f}*Human Prisky + {stats.params[0]:.2f}\",\n",
    ")\n",
    "fig.show()"
   ]
  },
  {
   "cell_type": "code",
   "execution_count": 58,
   "metadata": {},
   "outputs": [
    {
     "data": {
      "application/vnd.plotly.v1+json": {
       "config": {
        "plotlyServerURL": "https://plot.ly"
       },
       "data": [
        {
         "hovertemplate": "Human Pr(Risky)=%{x}<br>LLM Pr(Risky)=%{y}<extra></extra>",
         "legendgroup": "",
         "marker": {
          "color": "#636efa",
          "symbol": "circle"
         },
         "mode": "markers",
         "name": "",
         "orientation": "v",
         "showlegend": false,
         "type": "scatter",
         "x": {
          "bdata": "9ihcj8L11D9U46WbxCDgP7Kd76fGS88/TmIQWDm01D8hsHJoke3cPwRWDi2yneU/AiuHFtnO1z8dWmQ730/RP4PAyqFFtts/VOOlm8Qg3D9OYhBYObTQP4PAyqFFtuE/eekmMQisvD/2KFyPwvXkP/7UeOkmMcg/7nw/NV661T+BlUOLbOfXP/Cnxks3idU/sHJoke183z9zaJHtfD+1P3npJjEIrLw/ke18PzVe2j/LoUW28/3YPxsv3SQGgbU/pHA9CtejyD/2KFyPwvXIPwIrhxbZzt8/46WbxCCw4j8Sg8DKoUXgP+XQItv5fto/UI2XbhKD4D/b+X5qvHTfP/hT46WbxOQ/MzMzMzMz0z8rhxbZzvfbP65H4XoUrrc/RIts5/up0T8QWDm0yHbSPzvfT42XbuI/sHJoke184z85tMh2vp/gP2Dl0CLb+d4/VOOlm8Qg7D8AAAAAAADiP2ZmZmZmZt4/UrgehetR1D/VeOkmMQjQP7bz/dR46eI//tR46SYxwD9mZmZmZmbWP2IQWDm0yOA/TmIQWDm00D91kxgEVg69Pw4tsp3vp8Y/SgwCK4cW5T8K16NwPQrhP3WTGARWDt0/f2q8dJMY5D99PzVeuknUP1K4HoXrUdw/",
          "dtype": "f8"
         },
         "xaxis": "x",
         "y": {
          "bdata": "arx0kxgE4D/4U+Olm8TkPwRWDi2ynd8/PQrXo3A94D8CK4cW2c7hP65H4XoUruE/5dAi2/l+4D+DwMqhRbbbP2Q730+Nl+A/O99PjZdu4j8K16NwPQrbP4ts5/up8eA/7FG4HoXr3T+HFtnO91PhP9ejcD0K198/Di2yne+n3j8nMQisHFrgPxBYObTIduA/kxgEVg4t4j89CtejcD3gP5ZDi2zn+90/sHJoke18xz/VeOkmMQi8Px+F61G4Ht0//tR46SYx3D+HFtnO91PbP7bz/dR46cY/qvHSTWIQwD/FILByaJHFP23n+6nx0tE/hxbZzvdT0z/ByqFFtvPFP0w3iUFg5cg/PQrXo3A94D+6SQwCK4fOP5huEoPAyt0/MzMzMzMzwz/FILByaJHdP1g5tMh2vuE/tvP91Hjpzj+kcD0K16PUP90kBoGVQ8s/iUFg5dAi4T9aZDvfT43PP9ejcD0K19c/j8L1KFyP2j/D9Shcj8LVP/p+arx0k9g/tvP91Hjp1j8j2/l+arzYP05iEFg5tNA/4XoUrkfhqj9oke18PzXSPy2yne+nxsM/j8L1KFyP0j9oke18PzXWP8HKoUW28+M/MQisHFpk2z8tsp3vp8bbP90kBoGVQ8s/",
          "dtype": "f8"
         },
         "yaxis": "y"
        },
        {
         "hovertemplate": "x=%{x}<br>y=%{y}<extra></extra>",
         "legendgroup": "",
         "line": {
          "color": "red",
          "dash": "solid"
         },
         "marker": {
          "symbol": "circle"
         },
         "mode": "lines",
         "name": "",
         "orientation": "v",
         "showlegend": false,
         "type": "scatter",
         "x": {
          "bdata": "c2iR7Xw/tT9U46WbxCDsPw==",
          "dtype": "f8"
         },
         "xaxis": "x",
         "y": {
          "bdata": "Cdoy7wlz3D9U8p3uotDSPw==",
          "dtype": "f8"
         },
         "yaxis": "y"
        }
       ],
       "layout": {
        "annotations": [
         {
          "text": "LLM Pr(Risky) ~ -0.19 * Human Pr(Risky) + 0.46",
          "x": 0.481,
          "y": 0.3692527850231241
         }
        ],
        "autosize": false,
        "height": 500,
        "legend": {
         "tracegroupgap": 0
        },
        "margin": {
         "t": 60
        },
        "template": {
         "data": {
          "bar": [
           {
            "error_x": {
             "color": "#2a3f5f"
            },
            "error_y": {
             "color": "#2a3f5f"
            },
            "marker": {
             "line": {
              "color": "#E5ECF6",
              "width": 0.5
             },
             "pattern": {
              "fillmode": "overlay",
              "size": 10,
              "solidity": 0.2
             }
            },
            "type": "bar"
           }
          ],
          "barpolar": [
           {
            "marker": {
             "line": {
              "color": "#E5ECF6",
              "width": 0.5
             },
             "pattern": {
              "fillmode": "overlay",
              "size": 10,
              "solidity": 0.2
             }
            },
            "type": "barpolar"
           }
          ],
          "carpet": [
           {
            "aaxis": {
             "endlinecolor": "#2a3f5f",
             "gridcolor": "white",
             "linecolor": "white",
             "minorgridcolor": "white",
             "startlinecolor": "#2a3f5f"
            },
            "baxis": {
             "endlinecolor": "#2a3f5f",
             "gridcolor": "white",
             "linecolor": "white",
             "minorgridcolor": "white",
             "startlinecolor": "#2a3f5f"
            },
            "type": "carpet"
           }
          ],
          "choropleth": [
           {
            "colorbar": {
             "outlinewidth": 0,
             "ticks": ""
            },
            "type": "choropleth"
           }
          ],
          "contour": [
           {
            "colorbar": {
             "outlinewidth": 0,
             "ticks": ""
            },
            "colorscale": [
             [
              0,
              "#0d0887"
             ],
             [
              0.1111111111111111,
              "#46039f"
             ],
             [
              0.2222222222222222,
              "#7201a8"
             ],
             [
              0.3333333333333333,
              "#9c179e"
             ],
             [
              0.4444444444444444,
              "#bd3786"
             ],
             [
              0.5555555555555556,
              "#d8576b"
             ],
             [
              0.6666666666666666,
              "#ed7953"
             ],
             [
              0.7777777777777778,
              "#fb9f3a"
             ],
             [
              0.8888888888888888,
              "#fdca26"
             ],
             [
              1,
              "#f0f921"
             ]
            ],
            "type": "contour"
           }
          ],
          "contourcarpet": [
           {
            "colorbar": {
             "outlinewidth": 0,
             "ticks": ""
            },
            "type": "contourcarpet"
           }
          ],
          "heatmap": [
           {
            "colorbar": {
             "outlinewidth": 0,
             "ticks": ""
            },
            "colorscale": [
             [
              0,
              "#0d0887"
             ],
             [
              0.1111111111111111,
              "#46039f"
             ],
             [
              0.2222222222222222,
              "#7201a8"
             ],
             [
              0.3333333333333333,
              "#9c179e"
             ],
             [
              0.4444444444444444,
              "#bd3786"
             ],
             [
              0.5555555555555556,
              "#d8576b"
             ],
             [
              0.6666666666666666,
              "#ed7953"
             ],
             [
              0.7777777777777778,
              "#fb9f3a"
             ],
             [
              0.8888888888888888,
              "#fdca26"
             ],
             [
              1,
              "#f0f921"
             ]
            ],
            "type": "heatmap"
           }
          ],
          "histogram": [
           {
            "marker": {
             "pattern": {
              "fillmode": "overlay",
              "size": 10,
              "solidity": 0.2
             }
            },
            "type": "histogram"
           }
          ],
          "histogram2d": [
           {
            "colorbar": {
             "outlinewidth": 0,
             "ticks": ""
            },
            "colorscale": [
             [
              0,
              "#0d0887"
             ],
             [
              0.1111111111111111,
              "#46039f"
             ],
             [
              0.2222222222222222,
              "#7201a8"
             ],
             [
              0.3333333333333333,
              "#9c179e"
             ],
             [
              0.4444444444444444,
              "#bd3786"
             ],
             [
              0.5555555555555556,
              "#d8576b"
             ],
             [
              0.6666666666666666,
              "#ed7953"
             ],
             [
              0.7777777777777778,
              "#fb9f3a"
             ],
             [
              0.8888888888888888,
              "#fdca26"
             ],
             [
              1,
              "#f0f921"
             ]
            ],
            "type": "histogram2d"
           }
          ],
          "histogram2dcontour": [
           {
            "colorbar": {
             "outlinewidth": 0,
             "ticks": ""
            },
            "colorscale": [
             [
              0,
              "#0d0887"
             ],
             [
              0.1111111111111111,
              "#46039f"
             ],
             [
              0.2222222222222222,
              "#7201a8"
             ],
             [
              0.3333333333333333,
              "#9c179e"
             ],
             [
              0.4444444444444444,
              "#bd3786"
             ],
             [
              0.5555555555555556,
              "#d8576b"
             ],
             [
              0.6666666666666666,
              "#ed7953"
             ],
             [
              0.7777777777777778,
              "#fb9f3a"
             ],
             [
              0.8888888888888888,
              "#fdca26"
             ],
             [
              1,
              "#f0f921"
             ]
            ],
            "type": "histogram2dcontour"
           }
          ],
          "mesh3d": [
           {
            "colorbar": {
             "outlinewidth": 0,
             "ticks": ""
            },
            "type": "mesh3d"
           }
          ],
          "parcoords": [
           {
            "line": {
             "colorbar": {
              "outlinewidth": 0,
              "ticks": ""
             }
            },
            "type": "parcoords"
           }
          ],
          "pie": [
           {
            "automargin": true,
            "type": "pie"
           }
          ],
          "scatter": [
           {
            "fillpattern": {
             "fillmode": "overlay",
             "size": 10,
             "solidity": 0.2
            },
            "type": "scatter"
           }
          ],
          "scatter3d": [
           {
            "line": {
             "colorbar": {
              "outlinewidth": 0,
              "ticks": ""
             }
            },
            "marker": {
             "colorbar": {
              "outlinewidth": 0,
              "ticks": ""
             }
            },
            "type": "scatter3d"
           }
          ],
          "scattercarpet": [
           {
            "marker": {
             "colorbar": {
              "outlinewidth": 0,
              "ticks": ""
             }
            },
            "type": "scattercarpet"
           }
          ],
          "scattergeo": [
           {
            "marker": {
             "colorbar": {
              "outlinewidth": 0,
              "ticks": ""
             }
            },
            "type": "scattergeo"
           }
          ],
          "scattergl": [
           {
            "marker": {
             "colorbar": {
              "outlinewidth": 0,
              "ticks": ""
             }
            },
            "type": "scattergl"
           }
          ],
          "scattermap": [
           {
            "marker": {
             "colorbar": {
              "outlinewidth": 0,
              "ticks": ""
             }
            },
            "type": "scattermap"
           }
          ],
          "scattermapbox": [
           {
            "marker": {
             "colorbar": {
              "outlinewidth": 0,
              "ticks": ""
             }
            },
            "type": "scattermapbox"
           }
          ],
          "scatterpolar": [
           {
            "marker": {
             "colorbar": {
              "outlinewidth": 0,
              "ticks": ""
             }
            },
            "type": "scatterpolar"
           }
          ],
          "scatterpolargl": [
           {
            "marker": {
             "colorbar": {
              "outlinewidth": 0,
              "ticks": ""
             }
            },
            "type": "scatterpolargl"
           }
          ],
          "scatterternary": [
           {
            "marker": {
             "colorbar": {
              "outlinewidth": 0,
              "ticks": ""
             }
            },
            "type": "scatterternary"
           }
          ],
          "surface": [
           {
            "colorbar": {
             "outlinewidth": 0,
             "ticks": ""
            },
            "colorscale": [
             [
              0,
              "#0d0887"
             ],
             [
              0.1111111111111111,
              "#46039f"
             ],
             [
              0.2222222222222222,
              "#7201a8"
             ],
             [
              0.3333333333333333,
              "#9c179e"
             ],
             [
              0.4444444444444444,
              "#bd3786"
             ],
             [
              0.5555555555555556,
              "#d8576b"
             ],
             [
              0.6666666666666666,
              "#ed7953"
             ],
             [
              0.7777777777777778,
              "#fb9f3a"
             ],
             [
              0.8888888888888888,
              "#fdca26"
             ],
             [
              1,
              "#f0f921"
             ]
            ],
            "type": "surface"
           }
          ],
          "table": [
           {
            "cells": {
             "fill": {
              "color": "#EBF0F8"
             },
             "line": {
              "color": "white"
             }
            },
            "header": {
             "fill": {
              "color": "#C8D4E3"
             },
             "line": {
              "color": "white"
             }
            },
            "type": "table"
           }
          ]
         },
         "layout": {
          "annotationdefaults": {
           "arrowcolor": "#2a3f5f",
           "arrowhead": 0,
           "arrowwidth": 1
          },
          "autotypenumbers": "strict",
          "coloraxis": {
           "colorbar": {
            "outlinewidth": 0,
            "ticks": ""
           }
          },
          "colorscale": {
           "diverging": [
            [
             0,
             "#8e0152"
            ],
            [
             0.1,
             "#c51b7d"
            ],
            [
             0.2,
             "#de77ae"
            ],
            [
             0.3,
             "#f1b6da"
            ],
            [
             0.4,
             "#fde0ef"
            ],
            [
             0.5,
             "#f7f7f7"
            ],
            [
             0.6,
             "#e6f5d0"
            ],
            [
             0.7,
             "#b8e186"
            ],
            [
             0.8,
             "#7fbc41"
            ],
            [
             0.9,
             "#4d9221"
            ],
            [
             1,
             "#276419"
            ]
           ],
           "sequential": [
            [
             0,
             "#0d0887"
            ],
            [
             0.1111111111111111,
             "#46039f"
            ],
            [
             0.2222222222222222,
             "#7201a8"
            ],
            [
             0.3333333333333333,
             "#9c179e"
            ],
            [
             0.4444444444444444,
             "#bd3786"
            ],
            [
             0.5555555555555556,
             "#d8576b"
            ],
            [
             0.6666666666666666,
             "#ed7953"
            ],
            [
             0.7777777777777778,
             "#fb9f3a"
            ],
            [
             0.8888888888888888,
             "#fdca26"
            ],
            [
             1,
             "#f0f921"
            ]
           ],
           "sequentialminus": [
            [
             0,
             "#0d0887"
            ],
            [
             0.1111111111111111,
             "#46039f"
            ],
            [
             0.2222222222222222,
             "#7201a8"
            ],
            [
             0.3333333333333333,
             "#9c179e"
            ],
            [
             0.4444444444444444,
             "#bd3786"
            ],
            [
             0.5555555555555556,
             "#d8576b"
            ],
            [
             0.6666666666666666,
             "#ed7953"
            ],
            [
             0.7777777777777778,
             "#fb9f3a"
            ],
            [
             0.8888888888888888,
             "#fdca26"
            ],
            [
             1,
             "#f0f921"
            ]
           ]
          },
          "colorway": [
           "#636efa",
           "#EF553B",
           "#00cc96",
           "#ab63fa",
           "#FFA15A",
           "#19d3f3",
           "#FF6692",
           "#B6E880",
           "#FF97FF",
           "#FECB52"
          ],
          "font": {
           "color": "#2a3f5f"
          },
          "geo": {
           "bgcolor": "white",
           "lakecolor": "white",
           "landcolor": "#E5ECF6",
           "showlakes": true,
           "showland": true,
           "subunitcolor": "white"
          },
          "hoverlabel": {
           "align": "left"
          },
          "hovermode": "closest",
          "mapbox": {
           "style": "light"
          },
          "paper_bgcolor": "white",
          "plot_bgcolor": "#E5ECF6",
          "polar": {
           "angularaxis": {
            "gridcolor": "white",
            "linecolor": "white",
            "ticks": ""
           },
           "bgcolor": "#E5ECF6",
           "radialaxis": {
            "gridcolor": "white",
            "linecolor": "white",
            "ticks": ""
           }
          },
          "scene": {
           "xaxis": {
            "backgroundcolor": "#E5ECF6",
            "gridcolor": "white",
            "gridwidth": 2,
            "linecolor": "white",
            "showbackground": true,
            "ticks": "",
            "zerolinecolor": "white"
           },
           "yaxis": {
            "backgroundcolor": "#E5ECF6",
            "gridcolor": "white",
            "gridwidth": 2,
            "linecolor": "white",
            "showbackground": true,
            "ticks": "",
            "zerolinecolor": "white"
           },
           "zaxis": {
            "backgroundcolor": "#E5ECF6",
            "gridcolor": "white",
            "gridwidth": 2,
            "linecolor": "white",
            "showbackground": true,
            "ticks": "",
            "zerolinecolor": "white"
           }
          },
          "shapedefaults": {
           "line": {
            "color": "#2a3f5f"
           }
          },
          "ternary": {
           "aaxis": {
            "gridcolor": "white",
            "linecolor": "white",
            "ticks": ""
           },
           "baxis": {
            "gridcolor": "white",
            "linecolor": "white",
            "ticks": ""
           },
           "bgcolor": "#E5ECF6",
           "caxis": {
            "gridcolor": "white",
            "linecolor": "white",
            "ticks": ""
           }
          },
          "title": {
           "x": 0.05
          },
          "xaxis": {
           "automargin": true,
           "gridcolor": "white",
           "linecolor": "white",
           "ticks": "",
           "title": {
            "standoff": 15
           },
           "zerolinecolor": "white",
           "zerolinewidth": 2
          },
          "yaxis": {
           "automargin": true,
           "gridcolor": "white",
           "linecolor": "white",
           "ticks": "",
           "title": {
            "standoff": 15
           },
           "zerolinecolor": "white",
           "zerolinewidth": 2
          }
         }
        },
        "width": 500,
        "xaxis": {
         "anchor": "y",
         "domain": [
          0,
          1
         ],
         "range": [
          0.083,
          0.879
         ],
         "scaleanchor": "y",
         "scaleratio": 1,
         "title": {
          "text": "Human Pr(Risky)"
         }
        },
        "yaxis": {
         "anchor": "x",
         "domain": [
          0,
          1
         ],
         "range": [
          0.44452141150705465,
          0.2939841585391936
         ],
         "scaleanchor": "x",
         "scaleratio": 1,
         "title": {
          "text": "LLM Pr(Risky)"
         }
        }
       }
      }
     },
     "metadata": {},
     "output_type": "display_data"
    }
   ],
   "source": [
    "import pandas as pd\n",
    "import numpy as np\n",
    "import plotly.express as px\n",
    "import scipy.odr as odr\n",
    "\n",
    "# Merge human and LLM data\n",
    "merged = pd.merge(\n",
    "    est_agg, df_llm_agg, on=[\"Problem\", \"Phigh\", \"Medium\"], suffixes=(\"_human\", \"_llm\")\n",
    ")\n",
    "\n",
    "x = merged[\"Choice_human\"].values\n",
    "y = merged[\"Choice_llm\"].values\n",
    "\n",
    "# Define TLS (Deming regression) model\n",
    "def linear_func(B, x):\n",
    "    return B[0] * x + B[1]  # B[0] = slope, B[1] = intercept\n",
    "\n",
    "# Create ODR model\n",
    "model = odr.Model(linear_func)\n",
    "data = odr.Data(x, y)\n",
    "\n",
    "# Set initial guess from OLS\n",
    "beta0 = np.polyfit(x, y, 1)  # OLS-based initial guess\n",
    "odr_instance = odr.ODR(data, model, beta0=beta0)\n",
    "odr_result = odr_instance.run()\n",
    "\n",
    "# Extract TLS regression parameters\n",
    "slope, intercept = odr_result.beta\n",
    "\n",
    "# Create scatter plot\n",
    "fig = px.scatter(\n",
    "    merged,\n",
    "    x=\"Choice_human\",\n",
    "    y=\"Choice_llm\",\n",
    "    width=500,\n",
    "    height=500,\n",
    "    labels={\"Choice_human\": \"Human Pr(Risky)\", \"Choice_llm\": \"LLM Pr(Risky)\"},\n",
    ")\n",
    "\n",
    "# Get min and max x values from actual data\n",
    "x_min, x_max = x.min(), x.max()\n",
    "y_min, y_max = slope * x_min + intercept, slope * x_max + intercept\n",
    "\n",
    "# Add TLS regression line using just two points\n",
    "fig.add_trace(px.line(x=[x_min, x_max], y=[y_min, y_max]).data[0])\n",
    "fig.data[-1].line.color = \"red\"\n",
    "\n",
    "# Add annotation for regression equation\n",
    "fig.add_annotation(\n",
    "    x=0.5 * (x_min + x_max),  # Centered annotation\n",
    "    y=0.5 * (y_min + y_max),\n",
    "    text=f\"LLM Pr(Risky) ~ {slope:.2f} * Human Pr(Risky) + {intercept:.2f}\",\n",
    ")\n",
    "\n",
    "# Set square aspect ratio\n",
    "fig.update_layout(\n",
    "    autosize=False,\n",
    "    width=500,\n",
    "    height=500,\n",
    "    xaxis=dict(scaleanchor=\"y\", scaleratio=1, range=[x_min, x_max]),\n",
    "    yaxis=dict(scaleanchor=\"x\", scaleratio=1, range=[y_min, y_max]),\n",
    ")\n",
    "\n",
    "fig.show()\n"
   ]
  },
  {
   "cell_type": "code",
   "execution_count": 54,
   "metadata": {},
   "outputs": [
    {
     "data": {
      "application/vnd.plotly.v1+json": {
       "config": {
        "plotlyServerURL": "https://plot.ly"
       },
       "data": [
        {
         "hovertemplate": "First Risky High=False<br>player=human<br>Trial=%{x}<br>P(Risky)=%{y}<extra></extra>",
         "legendgroup": "False",
         "line": {
          "color": "red",
          "dash": "solid"
         },
         "marker": {
          "symbol": "circle"
         },
         "mode": "lines",
         "name": "False",
         "orientation": "v",
         "showlegend": true,
         "type": "scatter",
         "x": {
          "bdata": "AAAAAAAA8D8AAAAAAAAAQAAAAAAAAAhAAAAAAAAAEEAAAAAAAAAUQAAAAAAAABhAAAAAAAAAHEAAAAAAAAAgQAAAAAAAACJAAAAAAAAAJEAAAAAAAAAmQAAAAAAAAChAAAAAAAAAKkAAAAAAAAAsQAAAAAAAAC5AAAAAAAAAMEAAAAAAAAAxQAAAAAAAADJAAAAAAAAAM0AAAAAAAAA0QAAAAAAAADVAAAAAAAAANkAAAAAAAAA3QAAAAAAAADhAAAAAAAAAOUAAAAAAAAA6QAAAAAAAADtAAAAAAAAAPEAAAAAAAAA9QAAAAAAAAD5AAAAAAAAAP0AAAAAAAABAQAAAAAAAgEBAAAAAAAAAQUAAAAAAAIBBQAAAAAAAAEJAAAAAAACAQkAAAAAAAABDQAAAAAAAgENAAAAAAAAAREAAAAAAAIBEQAAAAAAAAEVAAAAAAACARUAAAAAAAABGQAAAAAAAgEZAAAAAAAAAR0AAAAAAAIBHQAAAAAAAAEhAAAAAAACASEAAAAAAAABJQAAAAAAAgElAAAAAAAAASkAAAAAAAIBKQAAAAAAAAEtAAAAAAACAS0AAAAAAAABMQAAAAAAAgExAAAAAAAAATUAAAAAAAIBNQAAAAAAAAE5AAAAAAACATkAAAAAAAABPQAAAAAAAgE9AAAAAAAAAUEAAAAAAAEBQQAAAAAAAgFBAAAAAAADAUEAAAAAAAABRQAAAAAAAQFFAAAAAAACAUUAAAAAAAMBRQAAAAAAAAFJAAAAAAABAUkAAAAAAAIBSQAAAAAAAwFJAAAAAAAAAU0AAAAAAAEBTQAAAAAAAgFNAAAAAAADAU0AAAAAAAABUQAAAAAAAQFRAAAAAAACAVEAAAAAAAMBUQAAAAAAAAFVAAAAAAABAVUAAAAAAAIBVQAAAAAAAwFVAAAAAAAAAVkAAAAAAAEBWQAAAAAAAgFZAAAAAAADAVkAAAAAAAABXQAAAAAAAQFdAAAAAAACAV0AAAAAAAMBXQAAAAAAAAFhAAAAAAABAWEAAAAAAAIBYQAAAAAAAwFhAAAAAAAAAWUA=",
          "dtype": "f8"
         },
         "xaxis": "x",
         "y": {
          "bdata": "w8qc2kBW4T+qfLogNu3gP2SN0d9Z/M0/BwgyC4a9yz8STfTDQmPQP+/7SxXsp8k/y2nSpqNPzT9roDQMXbvOP25S8xo1atE/T1B6U84F1D8PRm+zwTvOPwcU+S7DmtM/ZMcdj8px0T8mJZAjZkrTP9BdjXnsUdI/HPOuoCaE0j+oLiE8BnLSP9hLsTF8MtE/dK9WJqXF0j/XfuPOrKXQPwna7XoVldI/Q3mi5vRu0T9D6087GRLVP9Ch30VbEtY/EtUDW2EJ1j8dwBEFtevUP7bfuDNrKdI/orcD5Juk0z8I+xXgS3TTP5OZ1qdQStI/1yVaxMKYzz8XVLrPhvrUP5Jw/i0ajdI/GSBdLtfQ0D/5E95JciHTP/z+vQM8j9Q/dr5KUGNb0T/6bNJSnVPSPwXpibHLANA/rKysrKyszD94tPAsaaXRPwyUG6MqstE/BgVwA0Yq0z9oFrh0++3QP3da+yI9ctE/zR3nvXlr0T9IyH3H6FrTPzRCvF6wo9M/b7IrOR5U0D/M8w1DQq3QPy20psGL988/x2b5ph4Czj9Adp/j8WvOPzEhfQE1Csw/tslW8XAm0D+JTRHVmFzQP7qmGX//SdA/WalySQX3zD9WENiEZ97MP4+3ZgjFS84/uoNaFgiOyz+4qJmKe2zNP+1l3lbPR9A/FXBfJj60zT/eGleTzwvQP6vsO3Da2M4/p9qvQVplyz+gue7tWOzOP8j1t1E8hdE/VM3av/WJ0T+GM6uOmlXSP09UZ1+NT9E/qNzbRtoc0T/YPCgG/8HQP0fnDileXdA/uhabzqM1zj8gVb+9k7rPP7gwqSGaEtM/8uNpx3WC0j8GGjxDgFHSPwJTsfRte9A/gubRr6hr0j/4YyE9nHTSP+8jI44hZNA/Qpo1Smxz0D/QyIu6ERjQP5d6G0NdktE/hZ4+0X720T9iR30R6TnQPydHJIjeT9M/xHgt4pZL0D/V33D0kvvPP7OjlIV2Z9A/aMy3lY5R0D8QoSTDKwDNP+tOpRZS+dA/5AsmW1rF0D/+FYxFeLjNPyTdD1B10M8/DZCZlayNyj8=",
          "dtype": "f8"
         },
         "yaxis": "y"
        },
        {
         "hovertemplate": "First Risky High=False<br>player=llm<br>Trial=%{x}<br>P(Risky)=%{y}<extra></extra>",
         "legendgroup": "False",
         "line": {
          "color": "red",
          "dash": "solid"
         },
         "marker": {
          "symbol": "circle"
         },
         "mode": "lines",
         "name": "False",
         "orientation": "v",
         "showlegend": false,
         "type": "scatter",
         "x": {
          "bdata": "AAAAAAAA8D8AAAAAAAAAQAAAAAAAAAhAAAAAAAAAEEAAAAAAAAAUQAAAAAAAABhAAAAAAAAAHEAAAAAAAAAgQAAAAAAAACJAAAAAAAAAJEAAAAAAAAAmQAAAAAAAAChAAAAAAAAAKkAAAAAAAAAsQAAAAAAAAC5AAAAAAAAAMEAAAAAAAAAxQAAAAAAAADJAAAAAAAAAM0AAAAAAAAA0QAAAAAAAADVAAAAAAAAANkAAAAAAAAA3QAAAAAAAADhAAAAAAAAAOUAAAAAAAAA6QAAAAAAAADtAAAAAAAAAPEAAAAAAAAA9QAAAAAAAAD5AAAAAAAAAP0AAAAAAAABAQAAAAAAAgEBAAAAAAAAAQUAAAAAAAIBBQAAAAAAAAEJAAAAAAACAQkAAAAAAAABDQAAAAAAAgENAAAAAAAAAREAAAAAAAIBEQAAAAAAAAEVAAAAAAACARUAAAAAAAABGQAAAAAAAgEZAAAAAAAAAR0AAAAAAAIBHQAAAAAAAAEhAAAAAAACASEAAAAAAAABJQAAAAAAAgElAAAAAAAAASkAAAAAAAIBKQAAAAAAAAEtAAAAAAACAS0AAAAAAAABMQAAAAAAAgExAAAAAAAAATUAAAAAAAIBNQAAAAAAAAE5AAAAAAACATkAAAAAAAABPQAAAAAAAgE9AAAAAAAAAUEAAAAAAAEBQQAAAAAAAgFBAAAAAAADAUEAAAAAAAABRQAAAAAAAQFFAAAAAAACAUUAAAAAAAMBRQAAAAAAAAFJAAAAAAABAUkAAAAAAAIBSQAAAAAAAwFJAAAAAAAAAU0AAAAAAAEBTQAAAAAAAgFNAAAAAAADAU0AAAAAAAABUQAAAAAAAQFRAAAAAAACAVEAAAAAAAMBUQAAAAAAAAFVAAAAAAABAVUAAAAAAAIBVQAAAAAAAwFVAAAAAAAAAVkAAAAAAAEBWQAAAAAAAgFZAAAAAAADAVkAAAAAAAABXQAAAAAAAQFdAAAAAAACAV0AAAAAAAMBXQAAAAAAAAFhAAAAAAABAWEAAAAAAAIBYQAAAAAAAwFhAAAAAAAAAWUA=",
          "dtype": "f8"
         },
         "xaxis": "x2",
         "y": {
          "bdata": "W9hHWzN54j+wW/Mj0gfgP4tH26BhMdY/bKRBhSuP4T+FMS9sievWPxtxLI5S1OA/4F353Rrb0T8GIoSG4LDhP8Mnp1oRvtQ/c03ImuMk3j/3tVWxOxbaP1GrX91uhts/BbIrGRYf2D8QUnf289DaP1vDUbOgUtc/GBkFfQTj3T+eO52qzVLTPxclpnQVn94/ik0YCBt12D+3P4riAPLaP//sF/zaUdg/ArkzWpY03j8EZcluOvjUP/z/a948f9s/ewt9AlnJ1z8P81jA1zPbP+nVlLPFldY/1dw/xP6I3T8+TVhBZ8/UP967KU3+T9o/7DnHq9ow2j/7OzTC14LXPzlQb4JgTdk/1evvTmWa2T9JOvAgDyfYP5wC8xZ8ndk/E8FVG+7E3D9Oa8SQqpbbP4puWCFgINs/RgkWe2Oy2T8msE2vvN/cP29NJPUFBN0/61mYIUmh1T+fKKol4YndP2mUWdUXOto/QihY4Otd2D/Y+B4kn5vaP4DpFKafNdg/pKUx8fGu1j/EmqqPcpjbP8dRFrBHIto/76vhgTCy1D/jdfvHL2jbP2HZVeI8Udo/2o/dEmfT1z/kPP7FeRHbPxIWgvRSldk/r2XVqa0O1z/yykFTKDLcPwkGNdaL1Ng/eA0LD//S2D9eJHq22NPZP5qHGnouj9c/Gx6wKIe+2D/lQ2gHZOrZP8plxqE6/dg/e7D4BL2K2j+HWGbntVbYP1X+HSlW+9k/+EAWvfR32T+5r3WGNRXZP5OQk3XNpto/+HJ0lKDb1D98NuTYaMncP6Y9/2rxYNc/ZpXK3mh02j/vncoUEv/UP78nz/7QAto/KK4r1BR71j/91rC2jcnXP0+51Ix6G9c/kk5dxemz2z/oKVeZ5YrTP3eZ6ce98d4/M8PD/LLE1z/3bDhyvTvcP3wAiFA/INg/n4f3hQCq2T+S9U/V8jXWP7F+5TOhJtw/flbHH5cm1j/oN1UfOPLcP1XKRaBwwtY/4q/GNSiB2j/4wDBt/jvZPziJB0XyFd0/lHFuRVZJ2D/PpJBVG4TbP/AudrG3zNg/v5YzSyAf1z8=",
          "dtype": "f8"
         },
         "yaxis": "y2"
        },
        {
         "hovertemplate": "First Risky High=True<br>player=human<br>Trial=%{x}<br>P(Risky)=%{y}<extra></extra>",
         "legendgroup": "True",
         "line": {
          "color": "blue",
          "dash": "solid"
         },
         "marker": {
          "symbol": "circle"
         },
         "mode": "lines",
         "name": "True",
         "orientation": "v",
         "showlegend": true,
         "type": "scatter",
         "x": {
          "bdata": "AAAAAAAA8D8AAAAAAAAAQAAAAAAAAAhAAAAAAAAAEEAAAAAAAAAUQAAAAAAAABhAAAAAAAAAHEAAAAAAAAAgQAAAAAAAACJAAAAAAAAAJEAAAAAAAAAmQAAAAAAAAChAAAAAAAAAKkAAAAAAAAAsQAAAAAAAAC5AAAAAAAAAMEAAAAAAAAAxQAAAAAAAADJAAAAAAAAAM0AAAAAAAAA0QAAAAAAAADVAAAAAAAAANkAAAAAAAAA3QAAAAAAAADhAAAAAAAAAOUAAAAAAAAA6QAAAAAAAADtAAAAAAAAAPEAAAAAAAAA9QAAAAAAAAD5AAAAAAAAAP0AAAAAAAABAQAAAAAAAgEBAAAAAAAAAQUAAAAAAAIBBQAAAAAAAAEJAAAAAAACAQkAAAAAAAABDQAAAAAAAgENAAAAAAAAAREAAAAAAAIBEQAAAAAAAAEVAAAAAAACARUAAAAAAAABGQAAAAAAAgEZAAAAAAAAAR0AAAAAAAIBHQAAAAAAAAEhAAAAAAACASEAAAAAAAABJQAAAAAAAgElAAAAAAAAASkAAAAAAAIBKQAAAAAAAAEtAAAAAAACAS0AAAAAAAABMQAAAAAAAgExAAAAAAAAATUAAAAAAAIBNQAAAAAAAAE5AAAAAAACATkAAAAAAAABPQAAAAAAAgE9AAAAAAAAAUEAAAAAAAEBQQAAAAAAAgFBAAAAAAADAUEAAAAAAAABRQAAAAAAAQFFAAAAAAACAUUAAAAAAAMBRQAAAAAAAAFJAAAAAAABAUkAAAAAAAIBSQAAAAAAAwFJAAAAAAAAAU0AAAAAAAEBTQAAAAAAAgFNAAAAAAADAU0AAAAAAAABUQAAAAAAAQFRAAAAAAACAVEAAAAAAAMBUQAAAAAAAAFVAAAAAAABAVUAAAAAAAIBVQAAAAAAAwFVAAAAAAAAAVkAAAAAAAEBWQAAAAAAAgFZAAAAAAADAVkAAAAAAAABXQAAAAAAAQFdAAAAAAACAV0AAAAAAAMBXQAAAAAAAAFhAAAAAAABAWEAAAAAAAIBYQAAAAAAAwFhAAAAAAAAAWUA=",
          "dtype": "f8"
         },
         "xaxis": "x",
         "y": {
          "bdata": "G9BmOZTe3T/AO0QzVRHhP6NEAIl3muY/J+1geUiq4j8V2FFeRXfjP5FWy+G0DuM/khcMI/VQ5T+jn6aYtHziP7fCqtp6OuM/+yXQeyTT5T8nedUcjqviP1xDdBLWTuM/mrV+7BDI4z9Plgcl6l/kPxW6cAPeKOM/EUzVwued4z/JexXiSHvkPwqpauft4OI//GiPQtyo4z90lVLYzOPjPwK5Sidu4OE/zEZQPWMX4z+uFkXooS7hP46DmG7CGuI/k17G9pVX4j8iwoECAQTiP2MkoaeatOI/6Z8xDlXH4j8DpWDp1/rgPzYyOipKCuA/UiR/yTRe3z93RKredUfgPxsEMdeKI+A/Sd6zCF+y3z8AYZ4jGS7gP9Ct8mh8VeE/PID5Buwh4j/U9LQ0NTTgP0h6Ft5ObeA/lLZw/OQT3j/ZeDq3vbDeP75aIpOxdOA/7H1cnxkl3j/ED3inSAbfPyQvGEbqoeA/3tXmxAiB4D8gnaGYqobeP1PR087YxOA/aBm2fO8J4T9NqfBhf0TgP5yhmKqGzt4/0ui5F1zT3D8JNN+INdzePxV/qlMBptw/Uq72ZYdE3j95HNZiSXzeP0mo6mVvXN4/fL45QzBW3j+ZPfWFZKfZP4DjG6uMyds/RLnPovxI3D+SaroaWtvcP4fYNnrzAN4/nBUjCD7S3T/nAcw3YA/dP1yUJQNIvt0/FPMys7Kz3T+8pNF3K8TaPya8j+g2mts/rbiiznYm2z/8fHt+eITcP10EtlIZjNo/DiX4UZ4F2z8U0FZJZC7aP/+HdplT39c/keU8jusw2j8dg7hNI3jaP+fv3gC9RN0/srerw5Pz2z9ZL4LcJ5HaPzwPaLYZU9g/QxRxtypE2T8Ih4mEjnraP6bnY2tceto/nDcBbpRH2T/j/cczXAvZP/jJJW7d/ts/R8TKvdej2z/BqtZ+Ls/ZP3mxQCJf5dg/21lbWF5S2j/kmC0EV7HYPwfqJK+aw9k/loKqWvq62T8kcdcKpHHaP7nbliANNNo/hOMjo6Sh1z+zWQuobuHXP7I5KUoIjNg/DLhfEK9x2D8=",
          "dtype": "f8"
         },
         "yaxis": "y"
        },
        {
         "hovertemplate": "First Risky High=True<br>player=llm<br>Trial=%{x}<br>P(Risky)=%{y}<extra></extra>",
         "legendgroup": "True",
         "line": {
          "color": "blue",
          "dash": "solid"
         },
         "marker": {
          "symbol": "circle"
         },
         "mode": "lines",
         "name": "True",
         "orientation": "v",
         "showlegend": false,
         "type": "scatter",
         "x": {
          "bdata": "AAAAAAAA8D8AAAAAAAAAQAAAAAAAAAhAAAAAAAAAEEAAAAAAAAAUQAAAAAAAABhAAAAAAAAAHEAAAAAAAAAgQAAAAAAAACJAAAAAAAAAJEAAAAAAAAAmQAAAAAAAAChAAAAAAAAAKkAAAAAAAAAsQAAAAAAAAC5AAAAAAAAAMEAAAAAAAAAxQAAAAAAAADJAAAAAAAAAM0AAAAAAAAA0QAAAAAAAADVAAAAAAAAANkAAAAAAAAA3QAAAAAAAADhAAAAAAAAAOUAAAAAAAAA6QAAAAAAAADtAAAAAAAAAPEAAAAAAAAA9QAAAAAAAAD5AAAAAAAAAP0AAAAAAAABAQAAAAAAAgEBAAAAAAAAAQUAAAAAAAIBBQAAAAAAAAEJAAAAAAACAQkAAAAAAAABDQAAAAAAAgENAAAAAAAAAREAAAAAAAIBEQAAAAAAAAEVAAAAAAACARUAAAAAAAABGQAAAAAAAgEZAAAAAAAAAR0AAAAAAAIBHQAAAAAAAAEhAAAAAAACASEAAAAAAAABJQAAAAAAAgElAAAAAAAAASkAAAAAAAIBKQAAAAAAAAEtAAAAAAACAS0AAAAAAAABMQAAAAAAAgExAAAAAAAAATUAAAAAAAIBNQAAAAAAAAE5AAAAAAACATkAAAAAAAABPQAAAAAAAgE9AAAAAAAAAUEAAAAAAAEBQQAAAAAAAgFBAAAAAAADAUEAAAAAAAABRQAAAAAAAQFFAAAAAAACAUUAAAAAAAMBRQAAAAAAAAFJAAAAAAABAUkAAAAAAAIBSQAAAAAAAwFJAAAAAAAAAU0AAAAAAAEBTQAAAAAAAgFNAAAAAAADAU0AAAAAAAABUQAAAAAAAQFRAAAAAAACAVEAAAAAAAMBUQAAAAAAAAFVAAAAAAABAVUAAAAAAAIBVQAAAAAAAwFVAAAAAAAAAVkAAAAAAAEBWQAAAAAAAgFZAAAAAAADAVkAAAAAAAABXQAAAAAAAQFdAAAAAAACAV0AAAAAAAMBXQAAAAAAAAFhAAAAAAABAWEAAAAAAAIBYQAAAAAAAwFhAAAAAAAAAWUA=",
          "dtype": "f8"
         },
         "xaxis": "x2",
         "y": {
          "bdata": "iIa/pWWA4z8VTGQJ8mjlP3m2hRTxv+I/YBIBQKJe4z+ZNumevtzhP6/AHnksR+A/Exwn4M4c4D+57jougrrcP97jWY+ZS+A/BWpwtFC63T+bgS4wq3rhP0f68nOUWN8/Rnc7ZTIS4z8Lxeq0/jbgP0tRFzY6UOI/zfQAobI93z8ppOWGV53gP+ws0vbj9t8/BhIvZLmY4D/zSj1u8MrcP6C/lkMsYuE/hb52l0+K3j9+tAEV7NvhPzaZ8EamkN8/OTTVmGVZ4j9hsKnnXTffP5XVKpHMI+E/HyI0uxgB2j+CBdu/KY3gPzGrmch+g9Y/dhqBTlnq3T/LYuBSQwbZP4C78GJymN8/Ap4b+D6Z2D+WBOjOgUPgP288OohDTNY/NezL+pN63D/ZERPCGI/XP0qRO+cwht8/ydRUYcjB1j/cDrNN2BHgP8YZXPoKXdg/jApKBlcV4D/KFszQFcXZP8XO40NRp90/rQ1G9jn41z9VozlD+WneP1VKTGt6z9Q/OqSzAcNn4T/iYpWEzkDXP3OxRlDCt+A/roM556kS2j+13LN1QfzeP7k5/dFTJNc/E/Xd6w494D/Qoiud3hvXP8IVeZAn2Ns/hRVfpIUB2T/eg6b3chzbP2NXDPcIM9c/sEIhwxni3z8KVHM44orWP777kdJJWN0/sAj78Vve2D84xoftWc/cPysDbcRCLtY/PtrPruDU3j+nuA1cwjrWP9BTd+B/et0/BTjK0XO62z+rr6OtQaXfP6Y8IQMo+NY/1rbugaB/4D95xjgcAYzWP660APjuQN0/9JXAKuCD1T+sGVDVft3bP/4ZUJBHA9I/fleeKN0+4D/Sp2h5Ee3RP35UvMEkTN0/MylBfMZR1T+5FQrxWkbgP6c961cMmdY/ZutlzrOL4T/VNCiT6AvWPwvjf+7SZuA/VzIOzojn1j9OPjFpvWjgP/nXLC4UYtU/F49z10SX4D/JltuLpcHRP5CuMAlYJeA/UL7vqQSw1D+V4Vf/4rzfP24nmFK6Vdc/0OL6c9M54D8QKEvOtiTWP1SCSa9SJN8/XLa6HGze1T8=",
          "dtype": "f8"
         },
         "yaxis": "y2"
        }
       ],
       "layout": {
        "annotations": [
         {
          "font": {},
          "showarrow": false,
          "text": "player=human",
          "x": 0.245,
          "xanchor": "center",
          "xref": "paper",
          "y": 1,
          "yanchor": "bottom",
          "yref": "paper"
         },
         {
          "font": {},
          "showarrow": false,
          "text": "player=llm",
          "x": 0.755,
          "xanchor": "center",
          "xref": "paper",
          "y": 1,
          "yanchor": "bottom",
          "yref": "paper"
         }
        ],
        "height": 500,
        "legend": {
         "title": {
          "text": "First Risky High"
         },
         "tracegroupgap": 0
        },
        "template": {
         "data": {
          "bar": [
           {
            "error_x": {
             "color": "#2a3f5f"
            },
            "error_y": {
             "color": "#2a3f5f"
            },
            "marker": {
             "line": {
              "color": "#E5ECF6",
              "width": 0.5
             },
             "pattern": {
              "fillmode": "overlay",
              "size": 10,
              "solidity": 0.2
             }
            },
            "type": "bar"
           }
          ],
          "barpolar": [
           {
            "marker": {
             "line": {
              "color": "#E5ECF6",
              "width": 0.5
             },
             "pattern": {
              "fillmode": "overlay",
              "size": 10,
              "solidity": 0.2
             }
            },
            "type": "barpolar"
           }
          ],
          "carpet": [
           {
            "aaxis": {
             "endlinecolor": "#2a3f5f",
             "gridcolor": "white",
             "linecolor": "white",
             "minorgridcolor": "white",
             "startlinecolor": "#2a3f5f"
            },
            "baxis": {
             "endlinecolor": "#2a3f5f",
             "gridcolor": "white",
             "linecolor": "white",
             "minorgridcolor": "white",
             "startlinecolor": "#2a3f5f"
            },
            "type": "carpet"
           }
          ],
          "choropleth": [
           {
            "colorbar": {
             "outlinewidth": 0,
             "ticks": ""
            },
            "type": "choropleth"
           }
          ],
          "contour": [
           {
            "colorbar": {
             "outlinewidth": 0,
             "ticks": ""
            },
            "colorscale": [
             [
              0,
              "#0d0887"
             ],
             [
              0.1111111111111111,
              "#46039f"
             ],
             [
              0.2222222222222222,
              "#7201a8"
             ],
             [
              0.3333333333333333,
              "#9c179e"
             ],
             [
              0.4444444444444444,
              "#bd3786"
             ],
             [
              0.5555555555555556,
              "#d8576b"
             ],
             [
              0.6666666666666666,
              "#ed7953"
             ],
             [
              0.7777777777777778,
              "#fb9f3a"
             ],
             [
              0.8888888888888888,
              "#fdca26"
             ],
             [
              1,
              "#f0f921"
             ]
            ],
            "type": "contour"
           }
          ],
          "contourcarpet": [
           {
            "colorbar": {
             "outlinewidth": 0,
             "ticks": ""
            },
            "type": "contourcarpet"
           }
          ],
          "heatmap": [
           {
            "colorbar": {
             "outlinewidth": 0,
             "ticks": ""
            },
            "colorscale": [
             [
              0,
              "#0d0887"
             ],
             [
              0.1111111111111111,
              "#46039f"
             ],
             [
              0.2222222222222222,
              "#7201a8"
             ],
             [
              0.3333333333333333,
              "#9c179e"
             ],
             [
              0.4444444444444444,
              "#bd3786"
             ],
             [
              0.5555555555555556,
              "#d8576b"
             ],
             [
              0.6666666666666666,
              "#ed7953"
             ],
             [
              0.7777777777777778,
              "#fb9f3a"
             ],
             [
              0.8888888888888888,
              "#fdca26"
             ],
             [
              1,
              "#f0f921"
             ]
            ],
            "type": "heatmap"
           }
          ],
          "histogram": [
           {
            "marker": {
             "pattern": {
              "fillmode": "overlay",
              "size": 10,
              "solidity": 0.2
             }
            },
            "type": "histogram"
           }
          ],
          "histogram2d": [
           {
            "colorbar": {
             "outlinewidth": 0,
             "ticks": ""
            },
            "colorscale": [
             [
              0,
              "#0d0887"
             ],
             [
              0.1111111111111111,
              "#46039f"
             ],
             [
              0.2222222222222222,
              "#7201a8"
             ],
             [
              0.3333333333333333,
              "#9c179e"
             ],
             [
              0.4444444444444444,
              "#bd3786"
             ],
             [
              0.5555555555555556,
              "#d8576b"
             ],
             [
              0.6666666666666666,
              "#ed7953"
             ],
             [
              0.7777777777777778,
              "#fb9f3a"
             ],
             [
              0.8888888888888888,
              "#fdca26"
             ],
             [
              1,
              "#f0f921"
             ]
            ],
            "type": "histogram2d"
           }
          ],
          "histogram2dcontour": [
           {
            "colorbar": {
             "outlinewidth": 0,
             "ticks": ""
            },
            "colorscale": [
             [
              0,
              "#0d0887"
             ],
             [
              0.1111111111111111,
              "#46039f"
             ],
             [
              0.2222222222222222,
              "#7201a8"
             ],
             [
              0.3333333333333333,
              "#9c179e"
             ],
             [
              0.4444444444444444,
              "#bd3786"
             ],
             [
              0.5555555555555556,
              "#d8576b"
             ],
             [
              0.6666666666666666,
              "#ed7953"
             ],
             [
              0.7777777777777778,
              "#fb9f3a"
             ],
             [
              0.8888888888888888,
              "#fdca26"
             ],
             [
              1,
              "#f0f921"
             ]
            ],
            "type": "histogram2dcontour"
           }
          ],
          "mesh3d": [
           {
            "colorbar": {
             "outlinewidth": 0,
             "ticks": ""
            },
            "type": "mesh3d"
           }
          ],
          "parcoords": [
           {
            "line": {
             "colorbar": {
              "outlinewidth": 0,
              "ticks": ""
             }
            },
            "type": "parcoords"
           }
          ],
          "pie": [
           {
            "automargin": true,
            "type": "pie"
           }
          ],
          "scatter": [
           {
            "fillpattern": {
             "fillmode": "overlay",
             "size": 10,
             "solidity": 0.2
            },
            "type": "scatter"
           }
          ],
          "scatter3d": [
           {
            "line": {
             "colorbar": {
              "outlinewidth": 0,
              "ticks": ""
             }
            },
            "marker": {
             "colorbar": {
              "outlinewidth": 0,
              "ticks": ""
             }
            },
            "type": "scatter3d"
           }
          ],
          "scattercarpet": [
           {
            "marker": {
             "colorbar": {
              "outlinewidth": 0,
              "ticks": ""
             }
            },
            "type": "scattercarpet"
           }
          ],
          "scattergeo": [
           {
            "marker": {
             "colorbar": {
              "outlinewidth": 0,
              "ticks": ""
             }
            },
            "type": "scattergeo"
           }
          ],
          "scattergl": [
           {
            "marker": {
             "colorbar": {
              "outlinewidth": 0,
              "ticks": ""
             }
            },
            "type": "scattergl"
           }
          ],
          "scattermap": [
           {
            "marker": {
             "colorbar": {
              "outlinewidth": 0,
              "ticks": ""
             }
            },
            "type": "scattermap"
           }
          ],
          "scattermapbox": [
           {
            "marker": {
             "colorbar": {
              "outlinewidth": 0,
              "ticks": ""
             }
            },
            "type": "scattermapbox"
           }
          ],
          "scatterpolar": [
           {
            "marker": {
             "colorbar": {
              "outlinewidth": 0,
              "ticks": ""
             }
            },
            "type": "scatterpolar"
           }
          ],
          "scatterpolargl": [
           {
            "marker": {
             "colorbar": {
              "outlinewidth": 0,
              "ticks": ""
             }
            },
            "type": "scatterpolargl"
           }
          ],
          "scatterternary": [
           {
            "marker": {
             "colorbar": {
              "outlinewidth": 0,
              "ticks": ""
             }
            },
            "type": "scatterternary"
           }
          ],
          "surface": [
           {
            "colorbar": {
             "outlinewidth": 0,
             "ticks": ""
            },
            "colorscale": [
             [
              0,
              "#0d0887"
             ],
             [
              0.1111111111111111,
              "#46039f"
             ],
             [
              0.2222222222222222,
              "#7201a8"
             ],
             [
              0.3333333333333333,
              "#9c179e"
             ],
             [
              0.4444444444444444,
              "#bd3786"
             ],
             [
              0.5555555555555556,
              "#d8576b"
             ],
             [
              0.6666666666666666,
              "#ed7953"
             ],
             [
              0.7777777777777778,
              "#fb9f3a"
             ],
             [
              0.8888888888888888,
              "#fdca26"
             ],
             [
              1,
              "#f0f921"
             ]
            ],
            "type": "surface"
           }
          ],
          "table": [
           {
            "cells": {
             "fill": {
              "color": "#EBF0F8"
             },
             "line": {
              "color": "white"
             }
            },
            "header": {
             "fill": {
              "color": "#C8D4E3"
             },
             "line": {
              "color": "white"
             }
            },
            "type": "table"
           }
          ]
         },
         "layout": {
          "annotationdefaults": {
           "arrowcolor": "#2a3f5f",
           "arrowhead": 0,
           "arrowwidth": 1
          },
          "autotypenumbers": "strict",
          "coloraxis": {
           "colorbar": {
            "outlinewidth": 0,
            "ticks": ""
           }
          },
          "colorscale": {
           "diverging": [
            [
             0,
             "#8e0152"
            ],
            [
             0.1,
             "#c51b7d"
            ],
            [
             0.2,
             "#de77ae"
            ],
            [
             0.3,
             "#f1b6da"
            ],
            [
             0.4,
             "#fde0ef"
            ],
            [
             0.5,
             "#f7f7f7"
            ],
            [
             0.6,
             "#e6f5d0"
            ],
            [
             0.7,
             "#b8e186"
            ],
            [
             0.8,
             "#7fbc41"
            ],
            [
             0.9,
             "#4d9221"
            ],
            [
             1,
             "#276419"
            ]
           ],
           "sequential": [
            [
             0,
             "#0d0887"
            ],
            [
             0.1111111111111111,
             "#46039f"
            ],
            [
             0.2222222222222222,
             "#7201a8"
            ],
            [
             0.3333333333333333,
             "#9c179e"
            ],
            [
             0.4444444444444444,
             "#bd3786"
            ],
            [
             0.5555555555555556,
             "#d8576b"
            ],
            [
             0.6666666666666666,
             "#ed7953"
            ],
            [
             0.7777777777777778,
             "#fb9f3a"
            ],
            [
             0.8888888888888888,
             "#fdca26"
            ],
            [
             1,
             "#f0f921"
            ]
           ],
           "sequentialminus": [
            [
             0,
             "#0d0887"
            ],
            [
             0.1111111111111111,
             "#46039f"
            ],
            [
             0.2222222222222222,
             "#7201a8"
            ],
            [
             0.3333333333333333,
             "#9c179e"
            ],
            [
             0.4444444444444444,
             "#bd3786"
            ],
            [
             0.5555555555555556,
             "#d8576b"
            ],
            [
             0.6666666666666666,
             "#ed7953"
            ],
            [
             0.7777777777777778,
             "#fb9f3a"
            ],
            [
             0.8888888888888888,
             "#fdca26"
            ],
            [
             1,
             "#f0f921"
            ]
           ]
          },
          "colorway": [
           "#636efa",
           "#EF553B",
           "#00cc96",
           "#ab63fa",
           "#FFA15A",
           "#19d3f3",
           "#FF6692",
           "#B6E880",
           "#FF97FF",
           "#FECB52"
          ],
          "font": {
           "color": "#2a3f5f"
          },
          "geo": {
           "bgcolor": "white",
           "lakecolor": "white",
           "landcolor": "#E5ECF6",
           "showlakes": true,
           "showland": true,
           "subunitcolor": "white"
          },
          "hoverlabel": {
           "align": "left"
          },
          "hovermode": "closest",
          "mapbox": {
           "style": "light"
          },
          "paper_bgcolor": "white",
          "plot_bgcolor": "#E5ECF6",
          "polar": {
           "angularaxis": {
            "gridcolor": "white",
            "linecolor": "white",
            "ticks": ""
           },
           "bgcolor": "#E5ECF6",
           "radialaxis": {
            "gridcolor": "white",
            "linecolor": "white",
            "ticks": ""
           }
          },
          "scene": {
           "xaxis": {
            "backgroundcolor": "#E5ECF6",
            "gridcolor": "white",
            "gridwidth": 2,
            "linecolor": "white",
            "showbackground": true,
            "ticks": "",
            "zerolinecolor": "white"
           },
           "yaxis": {
            "backgroundcolor": "#E5ECF6",
            "gridcolor": "white",
            "gridwidth": 2,
            "linecolor": "white",
            "showbackground": true,
            "ticks": "",
            "zerolinecolor": "white"
           },
           "zaxis": {
            "backgroundcolor": "#E5ECF6",
            "gridcolor": "white",
            "gridwidth": 2,
            "linecolor": "white",
            "showbackground": true,
            "ticks": "",
            "zerolinecolor": "white"
           }
          },
          "shapedefaults": {
           "line": {
            "color": "#2a3f5f"
           }
          },
          "ternary": {
           "aaxis": {
            "gridcolor": "white",
            "linecolor": "white",
            "ticks": ""
           },
           "baxis": {
            "gridcolor": "white",
            "linecolor": "white",
            "ticks": ""
           },
           "bgcolor": "#E5ECF6",
           "caxis": {
            "gridcolor": "white",
            "linecolor": "white",
            "ticks": ""
           }
          },
          "title": {
           "x": 0.05
          },
          "xaxis": {
           "automargin": true,
           "gridcolor": "white",
           "linecolor": "white",
           "ticks": "",
           "title": {
            "standoff": 15
           },
           "zerolinecolor": "white",
           "zerolinewidth": 2
          },
          "yaxis": {
           "automargin": true,
           "gridcolor": "white",
           "linecolor": "white",
           "ticks": "",
           "title": {
            "standoff": 15
           },
           "zerolinecolor": "white",
           "zerolinewidth": 2
          }
         }
        },
        "title": {
         "text": "Primacy Effect Human"
        },
        "width": 800,
        "xaxis": {
         "anchor": "y",
         "domain": [
          0,
          0.49
         ],
         "title": {
          "text": "Trial"
         }
        },
        "xaxis2": {
         "anchor": "y2",
         "domain": [
          0.51,
          1
         ],
         "matches": "x",
         "title": {
          "text": "Trial"
         }
        },
        "yaxis": {
         "anchor": "x",
         "domain": [
          0,
          1
         ],
         "title": {
          "text": "P(Risky)"
         }
        },
        "yaxis2": {
         "anchor": "x2",
         "domain": [
          0,
          1
         ],
         "matches": "y",
         "showticklabels": false
        }
       }
      }
     },
     "metadata": {},
     "output_type": "display_data"
    }
   ],
   "source": [
    "# measure primacy effect\n",
    "\n",
    "from primacy import get_primacy_effect\n",
    "\n",
    "primacy_effect = get_primacy_effect(est)\n",
    "llm_primacy_effect = get_primacy_effect(df_llm)\n",
    "primacy_effect[\"player\"] = \"human\"\n",
    "llm_primacy_effect[\"player\"] = \"llm\"\n",
    "llm_primacy_concat = pd.concat([primacy_effect, llm_primacy_effect])\n",
    "\n",
    "fig = px.line(\n",
    "    llm_primacy_concat,\n",
    "    x=\"Trial\",\n",
    "    y=\"Choice\",\n",
    "    color=\"First Risky High\",\n",
    "    facet_col=\"player\",\n",
    "    width=800,\n",
    "    height=500,\n",
    "    title=\"Primacy Effect Human\",\n",
    "    color_discrete_map={True: \"blue\", False: \"red\"},\n",
    "    labels={\"Choice\": \"P(Risky)\", \"Trial\": \"Trial\"},\n",
    ")\n",
    "fig.show()"
   ]
  },
  {
   "cell_type": "markdown",
   "metadata": {},
   "source": [
    "# TODO:\n",
    "1. memory cutoff of 20 trials WITHOUT summarization\n",
    "2. correct logging of summarization so that we can correlate the trace with summarization\n",
    "3. recency - P(risky | high) - P(risky |low)"
   ]
  },
  {
   "cell_type": "code",
   "execution_count": 60,
   "metadata": {},
   "outputs": [
    {
     "data": {
      "application/vnd.plotly.v1+json": {
       "config": {
        "plotlyServerURL": "https://plot.ly"
       },
       "data": [
        {
         "hovertemplate": "player=human<br>P(Risky|Previous Low)=%{x}<br>P(Risky|Previous High)=%{y}<br>Medium=%{marker.color}<extra></extra>",
         "legendgroup": "",
         "marker": {
          "color": {
           "bdata": "MzMzMzMz07+amZmZmRkxQAAAAAAAAPC/ZmZmZmZmIUBmZmZmZmYWQAAAAAAAAC9AZmZmZmZmEsAAAAAAAAAewJqZmZmZmTnAZmZmZmZmKMDNzMzMzMwjQGZmZmZmZiJAmpmZmZmZE8AAAAAAAAAgQGZmZmZmZv6/mpmZmZkZMkAAAAAAAAAYwDMzMzMzMyVAmpmZmZmZGcBmZmZmZmYnwGZmZmZmZhJAmpmZmZmZAUCamZmZmZkZwDMzMzMzM/M/ZmZmZmZmFkDNzMzMzMwjQGZmZmZmZgZAmpmZmZmZGcBmZmZmZmb2P83MzMzMzPy/AAAAAAAA4D+amZmZmZkZQAAAAAAAABxAMzMzMzMzKMCamZmZmZkpQGZmZmZmZhjAMzMzMzMzG0CamZmZmZkBQM3MzMzMzCLAMzMzMzMzOUAAAAAAAAAmQAAAAAAAACdAZmZmZmZmOcBmZmZmZmYQwAAAAAAAABxAmpmZmZmZH8AzMzMzM7MywAAAAAAAAC/AMzMzMzMzIMAAAAAAAAASwM3MzMzMzDfAzczMzMzMHkAzMzMzM7M0QAAAAAAAABhAZmZmZmZmFMCamZmZmZkXQM3MzMzMzPQ/mpmZmZmZG8DNzMzMzMwgwJqZmZmZmR9A",
           "dtype": "f8"
          },
          "coloraxis": "coloraxis",
          "symbol": "circle"
         },
         "mode": "markers",
         "name": "",
         "orientation": "v",
         "showlegend": false,
         "type": "scatter",
         "x": {
          "bdata": "q6qqqqqq2j/rFtW346HnP6cNdNpAp+E/PfWGolvt2j8DaCJpwjXfP/QBDokiXeU/ipbbRlxs1T9QGnD8UEfNP3NJmosEC94/Ola5CCpP2z94d3d3d3fnP6YuLL3Zzu4/OBahXUU+0j+DFU0sDuXePw2ukREn3NU/AAAAAAAA2D+aLkZP57DZP0/cbUZq8dY/XCLHxIfz1T8mxz0gxefaPwMxlyj5auI/Dr48cT1V4T+amZmZmZnZP3DHQwlh3d4/U/SwNypF3z8WRzUNM8jRP/JeYi/SWdw/WcR4vyrf4T+U1gLHCTbiP6i9bsOH2ts/XfW4MkiZ2T+tra2tra3lP4wlv1jyi+A/2qClPxbZ2z+IoLcbeAjmPwrtJbSX0OI/+ejko5OP5j+eQ6BqEG3fPxNAj0dZzdI/ehSuR+F65j8RERERERHhPzjybouxVsE/Z9/62oK11T8IlrSeeYTWP1ZlGM8XOdc/8rBz17/D0T+ga+OoufLbPyGyIuBA7uU/wyOSeOOX3D+MJb9Y8ovFP4UHs/ZdI90/C4SRdqxA2D+rqqqqqqraP1bwzXKfWN8/0IPF5qQt3j9VVVVVVVXXP1qYkHH1BNM/LqETVHEb4z8aKjtMXW7bP1OWznOc2d4/",
          "dtype": "f8"
         },
         "xaxis": "x",
         "y": {
          "bdata": "LOFBCvDU4T9nnU6UfJnsP5rzGDYzWuw/KgWSvgKL5j/dcLFZbTjnPz3vDFq7Y+s/jeM4juM47j8AAAAAAADsP5/r1f7oPus//mQY2YVQ5j8jgl+FTqvrPzMzMzMzM+8/mZmZmZmZ6T/hu0nKXtXoP+uDIdEk4+g/IGE2g/TT6j9LrdRKrdTqP+h5nud5nuc/AAAAAAAA8D9N2FriBUPkPwLR9RPHl+U/NyJNOG3L6D9mtaJQPjbqP+A70mknCOs/2wdVDEgv5z+qZ/Dk6CDaP5IkSZIkSeo/OnXm01yt6T89K3+DU5fnP1o1skBFzOY/b8aUvcMz6T/oXXMU9VjnP76BDGeFROo/AAAAAAAA8D+G6m4ayYvpP/ImxvtCDuk/lX44piAE7T9Azl4ENQ/pPwAAAAAAAOA/EgmkJ/p17D8uZIWrr4DrP5JfLPnFkuc/eZ7neZ7n6T8AAAAAAADwPwAAAAAAAPA/CtejcD0K5z+TXyz5xZLnP8hiaHDcz+s/kSOW1jrz4j+rM8sdNmnbP1/xFV/xFec/B/Si26v+5z/yGXPKmkjnPwpUvHBAzOA/QnsJ7SW04z9SEnl4R0XoPyFU0D6d6eE/TFfHp4rR6j9ANhQb4STnP/BwdSBtYeE/",
          "dtype": "f8"
         },
         "yaxis": "y"
        },
        {
         "hovertemplate": "player=llm<br>P(Risky|Previous Low)=%{x}<br>P(Risky|Previous High)=%{y}<br>Medium=%{marker.color}<extra></extra>",
         "legendgroup": "",
         "marker": {
          "color": {
           "bdata": "ZmZmZmZmBkAzMzMzMzPTv2ZmZmZmZhJAzczMzMzMI0DNzMzMzMweQAAAAAAAABLAAAAAAAAAGEAAAAAAAAAvQAAAAAAAABjAZmZmZmZm/r+amZmZmZkfQGZmZmZmZhZAZmZmZmZmGMCamZmZmZkBQJqZmZmZmRlAZmZmZmZmEMDNzMzMzMw3wAAAAAAAACZAmpmZmZmZF0AAAAAAAADwvwAAAAAAAC/AMzMzMzOzMsBmZmZmZmYnwDMzMzMzM/M/MzMzMzMzKMCamZmZmRkxQDMzMzMzMzlAzczMzMzMI0BmZmZmZmYWQJqZmZmZmR/AAAAAAAAAJ0AzMzMzM7M0QM3MzMzMzPQ/AAAAAAAAHEAAAAAAAADgP2ZmZmZmZiJAMzMzMzMzG0BmZmZmZmYhQGZmZmZmZhTAMzMzMzMzIMCamZmZmZkZwJqZmZmZmRPAzczMzMzM/L/NzMzMzMwgwDMzMzMzMyVAAAAAAAAAHsAAAAAAAAAcQGZmZmZmZijAmpmZmZmZOcCamZmZmZkbwGZmZmZmZvY/ZmZmZmZmOcDNzMzMzMwiwJqZmZmZmRnAmpmZmZmZKUCamZmZmRkyQJqZmZmZmRnAmpmZmZmZAUAAAAAAAAAgQGZmZmZmZhLA",
           "dtype": "f8"
          },
          "coloraxis": "coloraxis",
          "symbol": "circle"
         },
         "mode": "markers",
         "name": "",
         "orientation": "v",
         "showlegend": false,
         "type": "scatter",
         "x": {
          "bdata": "72qATN9R7D8AAAAAAAAAAAAAAAAAAAAAAAAAAAAAAADe3d3d3d29PwAAAAAAAAAARV9Au7yw6j/BZ9FrEnzWP03KPFjNVJk/AAAAAAAAAAAOj79Fe7TmPwAAAAAAAAAAAAAAAAAAAAAZ7U2knEbfPwAAAAAAAAAAAAAAAAAAAADfvJp4VjRSPwAAAAAAAAAAAAAAAAAAAABVVVVVVVXNPwAAAAAAAAAAeXNCiQZuUT/tWIEw0o5lPwAAAAAAAAAAW8v09rp7Zj/HcRzHcRzHP9iCLdiCLdA/LF3B8Kut4T8AAAAAAAAAAJqZmZmZmWk/ij4Qj/gr4j8AAAAAAADQPwAAAAAAAAAAx6vTl/Hq4j8oQJXdZx2+P2730TEFgO8/AAAAAAAAAAAAAAAAAAAAAAAAAAAAAAAAAAAAAAAAAADHnSXs5rdQP+rwNLs2TJg/AAAAAAAAAAAAAAAAAAAAAMVMc2yEMOY/XpihZeuFiT8AAAAAAAAAAAAAAAAAAAAA+xOwPwH7Yz8d1EEd1EFtPwAAAAAAAAAAEziBEziBYz8eurTyqW54PwAAAAAAAAAAXtM1XdM1zT8AAAAAAADQPwAAAAAAAAAAAAAAAAAAAABW+pWjU6npP8edJezmt1A/",
          "dtype": "f8"
         },
         "xaxis": "x2",
         "y": {
          "bdata": "L7rooosu6j+eEuQpQZ5SPxJOdx4TEO8/ynuHEuky7z+CTe5dXTjvP/8XSbXAs8M/VlVVVVVV7T8Znmlo3t3uP2W1vDGCieo/7cUsgg3pzj++v8cQRx3vP8Ribt35Ee8/uc9A+7I2sT+l/pT6U+rvP4/AFAhuyu8/ovFPkwwa7z81EvDNq4nfPyO/wqdxUu8/MAIemUK57z/LFgB+dGzZP5zaT9XRb9Q/MzMzMzMz5z++vpItRn28Pxz2Y8XGYe8/F1100UUX7T+tOROx5SHvP/zgt5Rhye4/3/It3/It7z+Jf43414jvP8dxHMdxHO8/AAAAAAAA7D9qASeVpp3vPxa2OkSHo+4/MzMzMzMz4z+amZmZmZnpP6uqqqqqquo/BJ/ipyoR7z9HgoAVicPuP3Icx3Ecx+8/Fe5s/ZB44T8AAAAAAADwP536PbfEqe8/tZz32OKH0D8zShKGoSLPPwAAAAAAAOw/AAAAAAAA8D9B/0fc9rHvPwBokkdOl9M/grqsRJXk0D/bN6x9w9rvP6trwPbjBu8/lm2+HGDZ3j8T2ktoL6HpP/4k9sYyKbs/1modSigP7z97/ONH6EXvP/Kr8ASv0Mc/dzGdwzsB7j87sRM7sRPrPwX3EdxHcO8/",
          "dtype": "f8"
         },
         "yaxis": "y2"
        },
        {
         "hovertemplate": "x=%{x}<br>y=%{y}<extra></extra>",
         "legendgroup": "",
         "line": {
          "color": "#636efa",
          "dash": "solid"
         },
         "marker": {
          "symbol": "circle"
         },
         "mode": "lines",
         "name": "",
         "orientation": "v",
         "showlegend": false,
         "type": "scatter",
         "x": {
          "bdata": "AAE=",
          "dtype": "i1"
         },
         "xaxis": "x",
         "y": {
          "bdata": "AAE=",
          "dtype": "i1"
         },
         "yaxis": "y"
        },
        {
         "hovertemplate": "x=%{x}<br>y=%{y}<extra></extra>",
         "legendgroup": "",
         "line": {
          "color": "#636efa",
          "dash": "solid"
         },
         "marker": {
          "symbol": "circle"
         },
         "mode": "lines",
         "name": "",
         "orientation": "v",
         "showlegend": false,
         "type": "scatter",
         "x": {
          "bdata": "AAE=",
          "dtype": "i1"
         },
         "xaxis": "x2",
         "y": {
          "bdata": "AAE=",
          "dtype": "i1"
         },
         "yaxis": "y2"
        }
       ],
       "layout": {
        "annotations": [
         {
          "font": {},
          "showarrow": false,
          "text": "player=human",
          "x": 0.245,
          "xanchor": "center",
          "xref": "paper",
          "y": 1,
          "yanchor": "bottom",
          "yref": "paper"
         },
         {
          "font": {},
          "showarrow": false,
          "text": "player=llm",
          "x": 0.755,
          "xanchor": "center",
          "xref": "paper",
          "y": 1,
          "yanchor": "bottom",
          "yref": "paper"
         }
        ],
        "coloraxis": {
         "colorbar": {
          "title": {
           "text": "Medium"
          }
         },
         "colorscale": [
          [
           0,
           "#0d0887"
          ],
          [
           0.1111111111111111,
           "#46039f"
          ],
          [
           0.2222222222222222,
           "#7201a8"
          ],
          [
           0.3333333333333333,
           "#9c179e"
          ],
          [
           0.4444444444444444,
           "#bd3786"
          ],
          [
           0.5555555555555556,
           "#d8576b"
          ],
          [
           0.6666666666666666,
           "#ed7953"
          ],
          [
           0.7777777777777778,
           "#fb9f3a"
          ],
          [
           0.8888888888888888,
           "#fdca26"
          ],
          [
           1,
           "#f0f921"
          ]
         ]
        },
        "height": 500,
        "legend": {
         "tracegroupgap": 0
        },
        "template": {
         "data": {
          "bar": [
           {
            "error_x": {
             "color": "#2a3f5f"
            },
            "error_y": {
             "color": "#2a3f5f"
            },
            "marker": {
             "line": {
              "color": "#E5ECF6",
              "width": 0.5
             },
             "pattern": {
              "fillmode": "overlay",
              "size": 10,
              "solidity": 0.2
             }
            },
            "type": "bar"
           }
          ],
          "barpolar": [
           {
            "marker": {
             "line": {
              "color": "#E5ECF6",
              "width": 0.5
             },
             "pattern": {
              "fillmode": "overlay",
              "size": 10,
              "solidity": 0.2
             }
            },
            "type": "barpolar"
           }
          ],
          "carpet": [
           {
            "aaxis": {
             "endlinecolor": "#2a3f5f",
             "gridcolor": "white",
             "linecolor": "white",
             "minorgridcolor": "white",
             "startlinecolor": "#2a3f5f"
            },
            "baxis": {
             "endlinecolor": "#2a3f5f",
             "gridcolor": "white",
             "linecolor": "white",
             "minorgridcolor": "white",
             "startlinecolor": "#2a3f5f"
            },
            "type": "carpet"
           }
          ],
          "choropleth": [
           {
            "colorbar": {
             "outlinewidth": 0,
             "ticks": ""
            },
            "type": "choropleth"
           }
          ],
          "contour": [
           {
            "colorbar": {
             "outlinewidth": 0,
             "ticks": ""
            },
            "colorscale": [
             [
              0,
              "#0d0887"
             ],
             [
              0.1111111111111111,
              "#46039f"
             ],
             [
              0.2222222222222222,
              "#7201a8"
             ],
             [
              0.3333333333333333,
              "#9c179e"
             ],
             [
              0.4444444444444444,
              "#bd3786"
             ],
             [
              0.5555555555555556,
              "#d8576b"
             ],
             [
              0.6666666666666666,
              "#ed7953"
             ],
             [
              0.7777777777777778,
              "#fb9f3a"
             ],
             [
              0.8888888888888888,
              "#fdca26"
             ],
             [
              1,
              "#f0f921"
             ]
            ],
            "type": "contour"
           }
          ],
          "contourcarpet": [
           {
            "colorbar": {
             "outlinewidth": 0,
             "ticks": ""
            },
            "type": "contourcarpet"
           }
          ],
          "heatmap": [
           {
            "colorbar": {
             "outlinewidth": 0,
             "ticks": ""
            },
            "colorscale": [
             [
              0,
              "#0d0887"
             ],
             [
              0.1111111111111111,
              "#46039f"
             ],
             [
              0.2222222222222222,
              "#7201a8"
             ],
             [
              0.3333333333333333,
              "#9c179e"
             ],
             [
              0.4444444444444444,
              "#bd3786"
             ],
             [
              0.5555555555555556,
              "#d8576b"
             ],
             [
              0.6666666666666666,
              "#ed7953"
             ],
             [
              0.7777777777777778,
              "#fb9f3a"
             ],
             [
              0.8888888888888888,
              "#fdca26"
             ],
             [
              1,
              "#f0f921"
             ]
            ],
            "type": "heatmap"
           }
          ],
          "histogram": [
           {
            "marker": {
             "pattern": {
              "fillmode": "overlay",
              "size": 10,
              "solidity": 0.2
             }
            },
            "type": "histogram"
           }
          ],
          "histogram2d": [
           {
            "colorbar": {
             "outlinewidth": 0,
             "ticks": ""
            },
            "colorscale": [
             [
              0,
              "#0d0887"
             ],
             [
              0.1111111111111111,
              "#46039f"
             ],
             [
              0.2222222222222222,
              "#7201a8"
             ],
             [
              0.3333333333333333,
              "#9c179e"
             ],
             [
              0.4444444444444444,
              "#bd3786"
             ],
             [
              0.5555555555555556,
              "#d8576b"
             ],
             [
              0.6666666666666666,
              "#ed7953"
             ],
             [
              0.7777777777777778,
              "#fb9f3a"
             ],
             [
              0.8888888888888888,
              "#fdca26"
             ],
             [
              1,
              "#f0f921"
             ]
            ],
            "type": "histogram2d"
           }
          ],
          "histogram2dcontour": [
           {
            "colorbar": {
             "outlinewidth": 0,
             "ticks": ""
            },
            "colorscale": [
             [
              0,
              "#0d0887"
             ],
             [
              0.1111111111111111,
              "#46039f"
             ],
             [
              0.2222222222222222,
              "#7201a8"
             ],
             [
              0.3333333333333333,
              "#9c179e"
             ],
             [
              0.4444444444444444,
              "#bd3786"
             ],
             [
              0.5555555555555556,
              "#d8576b"
             ],
             [
              0.6666666666666666,
              "#ed7953"
             ],
             [
              0.7777777777777778,
              "#fb9f3a"
             ],
             [
              0.8888888888888888,
              "#fdca26"
             ],
             [
              1,
              "#f0f921"
             ]
            ],
            "type": "histogram2dcontour"
           }
          ],
          "mesh3d": [
           {
            "colorbar": {
             "outlinewidth": 0,
             "ticks": ""
            },
            "type": "mesh3d"
           }
          ],
          "parcoords": [
           {
            "line": {
             "colorbar": {
              "outlinewidth": 0,
              "ticks": ""
             }
            },
            "type": "parcoords"
           }
          ],
          "pie": [
           {
            "automargin": true,
            "type": "pie"
           }
          ],
          "scatter": [
           {
            "fillpattern": {
             "fillmode": "overlay",
             "size": 10,
             "solidity": 0.2
            },
            "type": "scatter"
           }
          ],
          "scatter3d": [
           {
            "line": {
             "colorbar": {
              "outlinewidth": 0,
              "ticks": ""
             }
            },
            "marker": {
             "colorbar": {
              "outlinewidth": 0,
              "ticks": ""
             }
            },
            "type": "scatter3d"
           }
          ],
          "scattercarpet": [
           {
            "marker": {
             "colorbar": {
              "outlinewidth": 0,
              "ticks": ""
             }
            },
            "type": "scattercarpet"
           }
          ],
          "scattergeo": [
           {
            "marker": {
             "colorbar": {
              "outlinewidth": 0,
              "ticks": ""
             }
            },
            "type": "scattergeo"
           }
          ],
          "scattergl": [
           {
            "marker": {
             "colorbar": {
              "outlinewidth": 0,
              "ticks": ""
             }
            },
            "type": "scattergl"
           }
          ],
          "scattermap": [
           {
            "marker": {
             "colorbar": {
              "outlinewidth": 0,
              "ticks": ""
             }
            },
            "type": "scattermap"
           }
          ],
          "scattermapbox": [
           {
            "marker": {
             "colorbar": {
              "outlinewidth": 0,
              "ticks": ""
             }
            },
            "type": "scattermapbox"
           }
          ],
          "scatterpolar": [
           {
            "marker": {
             "colorbar": {
              "outlinewidth": 0,
              "ticks": ""
             }
            },
            "type": "scatterpolar"
           }
          ],
          "scatterpolargl": [
           {
            "marker": {
             "colorbar": {
              "outlinewidth": 0,
              "ticks": ""
             }
            },
            "type": "scatterpolargl"
           }
          ],
          "scatterternary": [
           {
            "marker": {
             "colorbar": {
              "outlinewidth": 0,
              "ticks": ""
             }
            },
            "type": "scatterternary"
           }
          ],
          "surface": [
           {
            "colorbar": {
             "outlinewidth": 0,
             "ticks": ""
            },
            "colorscale": [
             [
              0,
              "#0d0887"
             ],
             [
              0.1111111111111111,
              "#46039f"
             ],
             [
              0.2222222222222222,
              "#7201a8"
             ],
             [
              0.3333333333333333,
              "#9c179e"
             ],
             [
              0.4444444444444444,
              "#bd3786"
             ],
             [
              0.5555555555555556,
              "#d8576b"
             ],
             [
              0.6666666666666666,
              "#ed7953"
             ],
             [
              0.7777777777777778,
              "#fb9f3a"
             ],
             [
              0.8888888888888888,
              "#fdca26"
             ],
             [
              1,
              "#f0f921"
             ]
            ],
            "type": "surface"
           }
          ],
          "table": [
           {
            "cells": {
             "fill": {
              "color": "#EBF0F8"
             },
             "line": {
              "color": "white"
             }
            },
            "header": {
             "fill": {
              "color": "#C8D4E3"
             },
             "line": {
              "color": "white"
             }
            },
            "type": "table"
           }
          ]
         },
         "layout": {
          "annotationdefaults": {
           "arrowcolor": "#2a3f5f",
           "arrowhead": 0,
           "arrowwidth": 1
          },
          "autotypenumbers": "strict",
          "coloraxis": {
           "colorbar": {
            "outlinewidth": 0,
            "ticks": ""
           }
          },
          "colorscale": {
           "diverging": [
            [
             0,
             "#8e0152"
            ],
            [
             0.1,
             "#c51b7d"
            ],
            [
             0.2,
             "#de77ae"
            ],
            [
             0.3,
             "#f1b6da"
            ],
            [
             0.4,
             "#fde0ef"
            ],
            [
             0.5,
             "#f7f7f7"
            ],
            [
             0.6,
             "#e6f5d0"
            ],
            [
             0.7,
             "#b8e186"
            ],
            [
             0.8,
             "#7fbc41"
            ],
            [
             0.9,
             "#4d9221"
            ],
            [
             1,
             "#276419"
            ]
           ],
           "sequential": [
            [
             0,
             "#0d0887"
            ],
            [
             0.1111111111111111,
             "#46039f"
            ],
            [
             0.2222222222222222,
             "#7201a8"
            ],
            [
             0.3333333333333333,
             "#9c179e"
            ],
            [
             0.4444444444444444,
             "#bd3786"
            ],
            [
             0.5555555555555556,
             "#d8576b"
            ],
            [
             0.6666666666666666,
             "#ed7953"
            ],
            [
             0.7777777777777778,
             "#fb9f3a"
            ],
            [
             0.8888888888888888,
             "#fdca26"
            ],
            [
             1,
             "#f0f921"
            ]
           ],
           "sequentialminus": [
            [
             0,
             "#0d0887"
            ],
            [
             0.1111111111111111,
             "#46039f"
            ],
            [
             0.2222222222222222,
             "#7201a8"
            ],
            [
             0.3333333333333333,
             "#9c179e"
            ],
            [
             0.4444444444444444,
             "#bd3786"
            ],
            [
             0.5555555555555556,
             "#d8576b"
            ],
            [
             0.6666666666666666,
             "#ed7953"
            ],
            [
             0.7777777777777778,
             "#fb9f3a"
            ],
            [
             0.8888888888888888,
             "#fdca26"
            ],
            [
             1,
             "#f0f921"
            ]
           ]
          },
          "colorway": [
           "#636efa",
           "#EF553B",
           "#00cc96",
           "#ab63fa",
           "#FFA15A",
           "#19d3f3",
           "#FF6692",
           "#B6E880",
           "#FF97FF",
           "#FECB52"
          ],
          "font": {
           "color": "#2a3f5f"
          },
          "geo": {
           "bgcolor": "white",
           "lakecolor": "white",
           "landcolor": "#E5ECF6",
           "showlakes": true,
           "showland": true,
           "subunitcolor": "white"
          },
          "hoverlabel": {
           "align": "left"
          },
          "hovermode": "closest",
          "mapbox": {
           "style": "light"
          },
          "paper_bgcolor": "white",
          "plot_bgcolor": "#E5ECF6",
          "polar": {
           "angularaxis": {
            "gridcolor": "white",
            "linecolor": "white",
            "ticks": ""
           },
           "bgcolor": "#E5ECF6",
           "radialaxis": {
            "gridcolor": "white",
            "linecolor": "white",
            "ticks": ""
           }
          },
          "scene": {
           "xaxis": {
            "backgroundcolor": "#E5ECF6",
            "gridcolor": "white",
            "gridwidth": 2,
            "linecolor": "white",
            "showbackground": true,
            "ticks": "",
            "zerolinecolor": "white"
           },
           "yaxis": {
            "backgroundcolor": "#E5ECF6",
            "gridcolor": "white",
            "gridwidth": 2,
            "linecolor": "white",
            "showbackground": true,
            "ticks": "",
            "zerolinecolor": "white"
           },
           "zaxis": {
            "backgroundcolor": "#E5ECF6",
            "gridcolor": "white",
            "gridwidth": 2,
            "linecolor": "white",
            "showbackground": true,
            "ticks": "",
            "zerolinecolor": "white"
           }
          },
          "shapedefaults": {
           "line": {
            "color": "#2a3f5f"
           }
          },
          "ternary": {
           "aaxis": {
            "gridcolor": "white",
            "linecolor": "white",
            "ticks": ""
           },
           "baxis": {
            "gridcolor": "white",
            "linecolor": "white",
            "ticks": ""
           },
           "bgcolor": "#E5ECF6",
           "caxis": {
            "gridcolor": "white",
            "linecolor": "white",
            "ticks": ""
           }
          },
          "title": {
           "x": 0.05
          },
          "xaxis": {
           "automargin": true,
           "gridcolor": "white",
           "linecolor": "white",
           "ticks": "",
           "title": {
            "standoff": 15
           },
           "zerolinecolor": "white",
           "zerolinewidth": 2
          },
          "yaxis": {
           "automargin": true,
           "gridcolor": "white",
           "linecolor": "white",
           "ticks": "",
           "title": {
            "standoff": 15
           },
           "zerolinecolor": "white",
           "zerolinewidth": 2
          }
         }
        },
        "title": {
         "text": "Recency Effect Human vs. LLM"
        },
        "width": 800,
        "xaxis": {
         "anchor": "y",
         "domain": [
          0,
          0.49
         ],
         "title": {
          "text": "P(Risky|Previous Low)"
         }
        },
        "xaxis2": {
         "anchor": "y2",
         "domain": [
          0.51,
          1
         ],
         "matches": "x",
         "title": {
          "text": "P(Risky|Previous Low)"
         }
        },
        "yaxis": {
         "anchor": "x",
         "domain": [
          0,
          1
         ],
         "title": {
          "text": "P(Risky|Previous High)"
         }
        },
        "yaxis2": {
         "anchor": "x2",
         "domain": [
          0,
          1
         ],
         "matches": "y",
         "showticklabels": false
        }
       }
      }
     },
     "metadata": {},
     "output_type": "display_data"
    },
    {
     "data": {
      "application/vnd.plotly.v1+json": {
       "config": {
        "plotlyServerURL": "https://plot.ly"
       },
       "data": [
        {
         "alignmentgroup": "True",
         "hovertemplate": "Player=%{x}<br>Recency Effect Difference=%{y}<extra></extra>",
         "legendgroup": "human",
         "marker": {
          "color": "#636efa"
         },
         "name": "human",
         "notched": false,
         "offsetgroup": "human",
         "orientation": "v",
         "showlegend": true,
         "type": "box",
         "x": [
          "human",
          "human",
          "human",
          "human",
          "human",
          "human",
          "human",
          "human",
          "human",
          "human",
          "human",
          "human",
          "human",
          "human",
          "human",
          "human",
          "human",
          "human",
          "human",
          "human",
          "human",
          "human",
          "human",
          "human",
          "human",
          "human",
          "human",
          "human",
          "human",
          "human",
          "human",
          "human",
          "human",
          "human",
          "human",
          "human",
          "human",
          "human",
          "human",
          "human",
          "human",
          "human",
          "human",
          "human",
          "human",
          "human",
          "human",
          "human",
          "human",
          "human",
          "human",
          "human",
          "human",
          "human",
          "human",
          "human",
          "human",
          "human",
          "human",
          "human"
         ],
         "x0": " ",
         "xaxis": "x",
         "y": {
          "bdata": "Wi+y02r+wT/wGeZxY97DP+bLSbfkZdU/FxWd2qko0j9u84CUMHbOPyS1+0NjGsg/SBjLarWC4z9s+ePAK67kP8uNEXLNctg/wnN3qeFR0T+sKqA3XM/AP0AjwYFdFok/fQ7J6nZ64D8/YkZor8XSP8lZsZAi6ts/QMJsBumn3T/8K2NGc/jbP4EXz4iJS9g/0m6cHTwG5T/o0u9IjTzLP/j/9FpvZrk/pJBBHL/YzT8y0asH49LaP1CwYMrtMtc/xjbywcsyzj8oQXava7HAPzLqL/V2ONg/hMO2Ucg4zz+kUvHxJoXFPwyt9b0CvtE/gZdwSD/O2D+wA1tsdrSqP2S4mhwmcdM/ky8t4HQT4j/wT7r1hxq8P6DngB6t9sg/cFZOCTTSyT/iWB2eWbHSP9p/4XBNZco/YNLXf2Psxz86pug0Pd/UPwSjUJYZPeM/i13UGLoZ3j/8tKUww73kP1XNcxh0Y+Q/Iv3TCbtQ3D+GU3VJ0jLTP5zCFkFuhsc/vkY0aSSdwj/loGvxPKPQPznbeMeECNE/A2S0QKu81z85iTvqiubTP/C9VXUL/6E/aOWa5k11wj9Pz5ybOTXZP+gPEAxFztA/eNjOTmXYzj9mQu3pZNvSP2hc4mjuSa8/",
          "dtype": "f8"
         },
         "y0": " ",
         "yaxis": "y"
        },
        {
         "alignmentgroup": "True",
         "hovertemplate": "Player=%{x}<br>Recency Effect Difference=%{y}<extra></extra>",
         "legendgroup": "llm",
         "marker": {
          "color": "#EF553B"
         },
         "name": "llm",
         "notched": false,
         "offsetgroup": "llm",
         "orientation": "v",
         "showlegend": true,
         "type": "box",
         "x": [
          "llm",
          "llm",
          "llm",
          "llm",
          "llm",
          "llm",
          "llm",
          "llm",
          "llm",
          "llm",
          "llm",
          "llm",
          "llm",
          "llm",
          "llm",
          "llm",
          "llm",
          "llm",
          "llm",
          "llm",
          "llm",
          "llm",
          "llm",
          "llm",
          "llm",
          "llm",
          "llm",
          "llm",
          "llm",
          "llm",
          "llm",
          "llm",
          "llm",
          "llm",
          "llm",
          "llm",
          "llm",
          "llm",
          "llm",
          "llm",
          "llm",
          "llm",
          "llm",
          "llm",
          "llm",
          "llm",
          "llm",
          "llm",
          "llm",
          "llm",
          "llm",
          "llm",
          "llm",
          "llm",
          "llm",
          "llm",
          "llm",
          "llm",
          "llm",
          "llm"
         ],
         "x0": " ",
         "xaxis": "x",
         "y": {
          "bdata": "AIa9TJ0asb+eEuQpQZ5SPxJOdx4TEO8/ynuHEuky7z/GkTKioXzrP/8XSbXAs8M/iLCn0MQktT846oAy1Z/jPxPP+sbbvuk/7cUsgg3pzj9gYRCWl9HQP8Ribt35Ee8/uc9A+7I2sT8YCG6oBUfgP4/AFAhuyu8/ovFPkwwa7z94d3d3d3ffPyO/wqdxUu8/MAIemUK57z9B2Kqmk4PFP5zaT9XRb9Q/+ZHuL3wq5z/3sw6cz9C7Pxz2Y8XGYe8/TGh9FsoA7T87HUw/yVrpP5AfoSigsuY/ZivZ3I0A2z+Jf43414jvPy3Ygi3YAu8/7ILf4Q6o0z9qASeVpp3nPxa2OkSHo+4/ANvh12YQgj+V8ead7NXlPwwznRxqVcO/BJ/ipyoR7z9HgoAVicPuP3Icx3Ecx+8/Fe5s/ZB44T8x7YkMpPfvPxZTZAFj5+4/tZz32OKH0D8zShKGoSLPP+zMMk7uPcc/n3lpUuiZ7z9B/0fc9rHvPwBokkdOl9M/WlotQp+80D8H9o6pgb3vP6trwPbjBu8/JmuXrF2y3j+fcGYUUnDpP/4k9sYyKbs//vXPcrPB5z97/ONH6EXnP/Kr8ASv0Mc/dzGdwzsB7j9Qbtt32aWmPzbkm+jrZ+8/",
          "dtype": "f8"
         },
         "y0": " ",
         "yaxis": "y"
        }
       ],
       "layout": {
        "boxmode": "overlay",
        "legend": {
         "title": {
          "text": "Player"
         },
         "tracegroupgap": 0
        },
        "template": {
         "data": {
          "bar": [
           {
            "error_x": {
             "color": "#2a3f5f"
            },
            "error_y": {
             "color": "#2a3f5f"
            },
            "marker": {
             "line": {
              "color": "#E5ECF6",
              "width": 0.5
             },
             "pattern": {
              "fillmode": "overlay",
              "size": 10,
              "solidity": 0.2
             }
            },
            "type": "bar"
           }
          ],
          "barpolar": [
           {
            "marker": {
             "line": {
              "color": "#E5ECF6",
              "width": 0.5
             },
             "pattern": {
              "fillmode": "overlay",
              "size": 10,
              "solidity": 0.2
             }
            },
            "type": "barpolar"
           }
          ],
          "carpet": [
           {
            "aaxis": {
             "endlinecolor": "#2a3f5f",
             "gridcolor": "white",
             "linecolor": "white",
             "minorgridcolor": "white",
             "startlinecolor": "#2a3f5f"
            },
            "baxis": {
             "endlinecolor": "#2a3f5f",
             "gridcolor": "white",
             "linecolor": "white",
             "minorgridcolor": "white",
             "startlinecolor": "#2a3f5f"
            },
            "type": "carpet"
           }
          ],
          "choropleth": [
           {
            "colorbar": {
             "outlinewidth": 0,
             "ticks": ""
            },
            "type": "choropleth"
           }
          ],
          "contour": [
           {
            "colorbar": {
             "outlinewidth": 0,
             "ticks": ""
            },
            "colorscale": [
             [
              0,
              "#0d0887"
             ],
             [
              0.1111111111111111,
              "#46039f"
             ],
             [
              0.2222222222222222,
              "#7201a8"
             ],
             [
              0.3333333333333333,
              "#9c179e"
             ],
             [
              0.4444444444444444,
              "#bd3786"
             ],
             [
              0.5555555555555556,
              "#d8576b"
             ],
             [
              0.6666666666666666,
              "#ed7953"
             ],
             [
              0.7777777777777778,
              "#fb9f3a"
             ],
             [
              0.8888888888888888,
              "#fdca26"
             ],
             [
              1,
              "#f0f921"
             ]
            ],
            "type": "contour"
           }
          ],
          "contourcarpet": [
           {
            "colorbar": {
             "outlinewidth": 0,
             "ticks": ""
            },
            "type": "contourcarpet"
           }
          ],
          "heatmap": [
           {
            "colorbar": {
             "outlinewidth": 0,
             "ticks": ""
            },
            "colorscale": [
             [
              0,
              "#0d0887"
             ],
             [
              0.1111111111111111,
              "#46039f"
             ],
             [
              0.2222222222222222,
              "#7201a8"
             ],
             [
              0.3333333333333333,
              "#9c179e"
             ],
             [
              0.4444444444444444,
              "#bd3786"
             ],
             [
              0.5555555555555556,
              "#d8576b"
             ],
             [
              0.6666666666666666,
              "#ed7953"
             ],
             [
              0.7777777777777778,
              "#fb9f3a"
             ],
             [
              0.8888888888888888,
              "#fdca26"
             ],
             [
              1,
              "#f0f921"
             ]
            ],
            "type": "heatmap"
           }
          ],
          "histogram": [
           {
            "marker": {
             "pattern": {
              "fillmode": "overlay",
              "size": 10,
              "solidity": 0.2
             }
            },
            "type": "histogram"
           }
          ],
          "histogram2d": [
           {
            "colorbar": {
             "outlinewidth": 0,
             "ticks": ""
            },
            "colorscale": [
             [
              0,
              "#0d0887"
             ],
             [
              0.1111111111111111,
              "#46039f"
             ],
             [
              0.2222222222222222,
              "#7201a8"
             ],
             [
              0.3333333333333333,
              "#9c179e"
             ],
             [
              0.4444444444444444,
              "#bd3786"
             ],
             [
              0.5555555555555556,
              "#d8576b"
             ],
             [
              0.6666666666666666,
              "#ed7953"
             ],
             [
              0.7777777777777778,
              "#fb9f3a"
             ],
             [
              0.8888888888888888,
              "#fdca26"
             ],
             [
              1,
              "#f0f921"
             ]
            ],
            "type": "histogram2d"
           }
          ],
          "histogram2dcontour": [
           {
            "colorbar": {
             "outlinewidth": 0,
             "ticks": ""
            },
            "colorscale": [
             [
              0,
              "#0d0887"
             ],
             [
              0.1111111111111111,
              "#46039f"
             ],
             [
              0.2222222222222222,
              "#7201a8"
             ],
             [
              0.3333333333333333,
              "#9c179e"
             ],
             [
              0.4444444444444444,
              "#bd3786"
             ],
             [
              0.5555555555555556,
              "#d8576b"
             ],
             [
              0.6666666666666666,
              "#ed7953"
             ],
             [
              0.7777777777777778,
              "#fb9f3a"
             ],
             [
              0.8888888888888888,
              "#fdca26"
             ],
             [
              1,
              "#f0f921"
             ]
            ],
            "type": "histogram2dcontour"
           }
          ],
          "mesh3d": [
           {
            "colorbar": {
             "outlinewidth": 0,
             "ticks": ""
            },
            "type": "mesh3d"
           }
          ],
          "parcoords": [
           {
            "line": {
             "colorbar": {
              "outlinewidth": 0,
              "ticks": ""
             }
            },
            "type": "parcoords"
           }
          ],
          "pie": [
           {
            "automargin": true,
            "type": "pie"
           }
          ],
          "scatter": [
           {
            "fillpattern": {
             "fillmode": "overlay",
             "size": 10,
             "solidity": 0.2
            },
            "type": "scatter"
           }
          ],
          "scatter3d": [
           {
            "line": {
             "colorbar": {
              "outlinewidth": 0,
              "ticks": ""
             }
            },
            "marker": {
             "colorbar": {
              "outlinewidth": 0,
              "ticks": ""
             }
            },
            "type": "scatter3d"
           }
          ],
          "scattercarpet": [
           {
            "marker": {
             "colorbar": {
              "outlinewidth": 0,
              "ticks": ""
             }
            },
            "type": "scattercarpet"
           }
          ],
          "scattergeo": [
           {
            "marker": {
             "colorbar": {
              "outlinewidth": 0,
              "ticks": ""
             }
            },
            "type": "scattergeo"
           }
          ],
          "scattergl": [
           {
            "marker": {
             "colorbar": {
              "outlinewidth": 0,
              "ticks": ""
             }
            },
            "type": "scattergl"
           }
          ],
          "scattermap": [
           {
            "marker": {
             "colorbar": {
              "outlinewidth": 0,
              "ticks": ""
             }
            },
            "type": "scattermap"
           }
          ],
          "scattermapbox": [
           {
            "marker": {
             "colorbar": {
              "outlinewidth": 0,
              "ticks": ""
             }
            },
            "type": "scattermapbox"
           }
          ],
          "scatterpolar": [
           {
            "marker": {
             "colorbar": {
              "outlinewidth": 0,
              "ticks": ""
             }
            },
            "type": "scatterpolar"
           }
          ],
          "scatterpolargl": [
           {
            "marker": {
             "colorbar": {
              "outlinewidth": 0,
              "ticks": ""
             }
            },
            "type": "scatterpolargl"
           }
          ],
          "scatterternary": [
           {
            "marker": {
             "colorbar": {
              "outlinewidth": 0,
              "ticks": ""
             }
            },
            "type": "scatterternary"
           }
          ],
          "surface": [
           {
            "colorbar": {
             "outlinewidth": 0,
             "ticks": ""
            },
            "colorscale": [
             [
              0,
              "#0d0887"
             ],
             [
              0.1111111111111111,
              "#46039f"
             ],
             [
              0.2222222222222222,
              "#7201a8"
             ],
             [
              0.3333333333333333,
              "#9c179e"
             ],
             [
              0.4444444444444444,
              "#bd3786"
             ],
             [
              0.5555555555555556,
              "#d8576b"
             ],
             [
              0.6666666666666666,
              "#ed7953"
             ],
             [
              0.7777777777777778,
              "#fb9f3a"
             ],
             [
              0.8888888888888888,
              "#fdca26"
             ],
             [
              1,
              "#f0f921"
             ]
            ],
            "type": "surface"
           }
          ],
          "table": [
           {
            "cells": {
             "fill": {
              "color": "#EBF0F8"
             },
             "line": {
              "color": "white"
             }
            },
            "header": {
             "fill": {
              "color": "#C8D4E3"
             },
             "line": {
              "color": "white"
             }
            },
            "type": "table"
           }
          ]
         },
         "layout": {
          "annotationdefaults": {
           "arrowcolor": "#2a3f5f",
           "arrowhead": 0,
           "arrowwidth": 1
          },
          "autotypenumbers": "strict",
          "coloraxis": {
           "colorbar": {
            "outlinewidth": 0,
            "ticks": ""
           }
          },
          "colorscale": {
           "diverging": [
            [
             0,
             "#8e0152"
            ],
            [
             0.1,
             "#c51b7d"
            ],
            [
             0.2,
             "#de77ae"
            ],
            [
             0.3,
             "#f1b6da"
            ],
            [
             0.4,
             "#fde0ef"
            ],
            [
             0.5,
             "#f7f7f7"
            ],
            [
             0.6,
             "#e6f5d0"
            ],
            [
             0.7,
             "#b8e186"
            ],
            [
             0.8,
             "#7fbc41"
            ],
            [
             0.9,
             "#4d9221"
            ],
            [
             1,
             "#276419"
            ]
           ],
           "sequential": [
            [
             0,
             "#0d0887"
            ],
            [
             0.1111111111111111,
             "#46039f"
            ],
            [
             0.2222222222222222,
             "#7201a8"
            ],
            [
             0.3333333333333333,
             "#9c179e"
            ],
            [
             0.4444444444444444,
             "#bd3786"
            ],
            [
             0.5555555555555556,
             "#d8576b"
            ],
            [
             0.6666666666666666,
             "#ed7953"
            ],
            [
             0.7777777777777778,
             "#fb9f3a"
            ],
            [
             0.8888888888888888,
             "#fdca26"
            ],
            [
             1,
             "#f0f921"
            ]
           ],
           "sequentialminus": [
            [
             0,
             "#0d0887"
            ],
            [
             0.1111111111111111,
             "#46039f"
            ],
            [
             0.2222222222222222,
             "#7201a8"
            ],
            [
             0.3333333333333333,
             "#9c179e"
            ],
            [
             0.4444444444444444,
             "#bd3786"
            ],
            [
             0.5555555555555556,
             "#d8576b"
            ],
            [
             0.6666666666666666,
             "#ed7953"
            ],
            [
             0.7777777777777778,
             "#fb9f3a"
            ],
            [
             0.8888888888888888,
             "#fdca26"
            ],
            [
             1,
             "#f0f921"
            ]
           ]
          },
          "colorway": [
           "#636efa",
           "#EF553B",
           "#00cc96",
           "#ab63fa",
           "#FFA15A",
           "#19d3f3",
           "#FF6692",
           "#B6E880",
           "#FF97FF",
           "#FECB52"
          ],
          "font": {
           "color": "#2a3f5f"
          },
          "geo": {
           "bgcolor": "white",
           "lakecolor": "white",
           "landcolor": "#E5ECF6",
           "showlakes": true,
           "showland": true,
           "subunitcolor": "white"
          },
          "hoverlabel": {
           "align": "left"
          },
          "hovermode": "closest",
          "mapbox": {
           "style": "light"
          },
          "paper_bgcolor": "white",
          "plot_bgcolor": "#E5ECF6",
          "polar": {
           "angularaxis": {
            "gridcolor": "white",
            "linecolor": "white",
            "ticks": ""
           },
           "bgcolor": "#E5ECF6",
           "radialaxis": {
            "gridcolor": "white",
            "linecolor": "white",
            "ticks": ""
           }
          },
          "scene": {
           "xaxis": {
            "backgroundcolor": "#E5ECF6",
            "gridcolor": "white",
            "gridwidth": 2,
            "linecolor": "white",
            "showbackground": true,
            "ticks": "",
            "zerolinecolor": "white"
           },
           "yaxis": {
            "backgroundcolor": "#E5ECF6",
            "gridcolor": "white",
            "gridwidth": 2,
            "linecolor": "white",
            "showbackground": true,
            "ticks": "",
            "zerolinecolor": "white"
           },
           "zaxis": {
            "backgroundcolor": "#E5ECF6",
            "gridcolor": "white",
            "gridwidth": 2,
            "linecolor": "white",
            "showbackground": true,
            "ticks": "",
            "zerolinecolor": "white"
           }
          },
          "shapedefaults": {
           "line": {
            "color": "#2a3f5f"
           }
          },
          "ternary": {
           "aaxis": {
            "gridcolor": "white",
            "linecolor": "white",
            "ticks": ""
           },
           "baxis": {
            "gridcolor": "white",
            "linecolor": "white",
            "ticks": ""
           },
           "bgcolor": "#E5ECF6",
           "caxis": {
            "gridcolor": "white",
            "linecolor": "white",
            "ticks": ""
           }
          },
          "title": {
           "x": 0.05
          },
          "xaxis": {
           "automargin": true,
           "gridcolor": "white",
           "linecolor": "white",
           "ticks": "",
           "title": {
            "standoff": 15
           },
           "zerolinecolor": "white",
           "zerolinewidth": 2
          },
          "yaxis": {
           "automargin": true,
           "gridcolor": "white",
           "linecolor": "white",
           "ticks": "",
           "title": {
            "standoff": 15
           },
           "zerolinecolor": "white",
           "zerolinewidth": 2
          }
         }
        },
        "title": {
         "text": "Recency Effect Difference Human vs. LLM"
        },
        "width": 400,
        "xaxis": {
         "anchor": "y",
         "categoryarray": [
          "human",
          "llm"
         ],
         "categoryorder": "array",
         "domain": [
          0,
          1
         ],
         "title": {
          "text": "Player"
         }
        },
        "yaxis": {
         "anchor": "x",
         "domain": [
          0,
          1
         ],
         "title": {
          "text": "Recency Effect Difference"
         }
        }
       }
      }
     },
     "metadata": {},
     "output_type": "display_data"
    },
    {
     "data": {
      "application/vnd.plotly.v1+json": {
       "config": {
        "plotlyServerURL": "https://plot.ly"
       },
       "data": [
        {
         "hovertemplate": "Human Recency Effect=%{x}<br>LLM Recency Effect=%{y}<extra></extra>",
         "legendgroup": "",
         "marker": {
          "color": "#636efa",
          "symbol": "circle"
         },
         "mode": "markers",
         "name": "",
         "orientation": "v",
         "showlegend": false,
         "type": "scatter",
         "x": {
          "bdata": "Wi+y02r+wT/wGeZxY97DP+bLSbfkZdU/FxWd2qko0j9u84CUMHbOPyS1+0NjGsg/SBjLarWC4z9s+ePAK67kP8uNEXLNctg/wnN3qeFR0T+sKqA3XM/AP0AjwYFdFok/fQ7J6nZ64D8/YkZor8XSP8lZsZAi6ts/QMJsBumn3T/8K2NGc/jbP4EXz4iJS9g/0m6cHTwG5T/o0u9IjTzLP/j/9FpvZrk/pJBBHL/YzT8y0asH49LaP1CwYMrtMtc/xjbywcsyzj8oQXava7HAPzLqL/V2ONg/hMO2Ucg4zz+kUvHxJoXFPwyt9b0CvtE/gZdwSD/O2D+wA1tsdrSqP2S4mhwmcdM/ky8t4HQT4j/wT7r1hxq8P6DngB6t9sg/cFZOCTTSyT/iWB2eWbHSP9p/4XBNZco/YNLXf2Psxz86pug0Pd/UPwSjUJYZPeM/i13UGLoZ3j/8tKUww73kP1XNcxh0Y+Q/Iv3TCbtQ3D+GU3VJ0jLTP5zCFkFuhsc/vkY0aSSdwj/loGvxPKPQPznbeMeECNE/A2S0QKu81z85iTvqiubTP/C9VXUL/6E/aOWa5k11wj9Pz5ybOTXZP+gPEAxFztA/eNjOTmXYzj9mQu3pZNvSP2hc4mjuSa8/",
          "dtype": "f8"
         },
         "xaxis": "x",
         "y": {
          "bdata": "nhLkKUGeUj87HUw/yVrpP0HYqqaTg8U/R4KAFYnD7j+Jf43414jvPzjqgDLVn+M/NuSb6Otn7z+feWlS6JnvP1paLUKfvNA/AGiSR06X0z/Ke4cS6TLvPwwznRxqVcO/FlNkAWPn7j9Qbtt32aWmP+3FLIIN6c4/e/zjR+hF5z8Tz/rG277pP+zMMk7uPcc/Me2JDKT37z/3sw6cz9C7PxJOdx4TEO8/GAhuqAVH4D/yq/AEr9DHPxz2Y8XGYe8/xGJu3fkR7z9mK9ncjQDbPwCGvUydGrG//iT2xjIpuz+ra8D24wbvP7Wc99jih9A/lfHmnezV5T+PwBQIbsrvP0H/R9z2se8/TGh9FsoA7T/+9c9ys8HnP7nPQPuyNrE/BJ/ipyoR7z93MZ3DOwHuP59wZhRScOk/kB+hKKCy5j8jv8KncVLvP+yC3+EOqNM/JmuXrF2y3j+i8U+TDBrvPwDb4ddmEII/LdiCLdgC7z/5ke4vfCrnP5zaT9XRb9Q/Fe5s/ZB44T//F0m1wLPDP3h3d3d3d98/xpEyoqF86z9qASeVpp3nP4iwp9DEJLU/chzHcRzH7z8wAh6ZQrnvPxa2OkSHo+4/B/aOqYG97z8zShKGoSLPP2BhEJaX0dA/",
          "dtype": "f8"
         },
         "yaxis": "y"
        }
       ],
       "layout": {
        "height": 500,
        "legend": {
         "tracegroupgap": 0
        },
        "margin": {
         "t": 60
        },
        "template": {
         "data": {
          "bar": [
           {
            "error_x": {
             "color": "#2a3f5f"
            },
            "error_y": {
             "color": "#2a3f5f"
            },
            "marker": {
             "line": {
              "color": "#E5ECF6",
              "width": 0.5
             },
             "pattern": {
              "fillmode": "overlay",
              "size": 10,
              "solidity": 0.2
             }
            },
            "type": "bar"
           }
          ],
          "barpolar": [
           {
            "marker": {
             "line": {
              "color": "#E5ECF6",
              "width": 0.5
             },
             "pattern": {
              "fillmode": "overlay",
              "size": 10,
              "solidity": 0.2
             }
            },
            "type": "barpolar"
           }
          ],
          "carpet": [
           {
            "aaxis": {
             "endlinecolor": "#2a3f5f",
             "gridcolor": "white",
             "linecolor": "white",
             "minorgridcolor": "white",
             "startlinecolor": "#2a3f5f"
            },
            "baxis": {
             "endlinecolor": "#2a3f5f",
             "gridcolor": "white",
             "linecolor": "white",
             "minorgridcolor": "white",
             "startlinecolor": "#2a3f5f"
            },
            "type": "carpet"
           }
          ],
          "choropleth": [
           {
            "colorbar": {
             "outlinewidth": 0,
             "ticks": ""
            },
            "type": "choropleth"
           }
          ],
          "contour": [
           {
            "colorbar": {
             "outlinewidth": 0,
             "ticks": ""
            },
            "colorscale": [
             [
              0,
              "#0d0887"
             ],
             [
              0.1111111111111111,
              "#46039f"
             ],
             [
              0.2222222222222222,
              "#7201a8"
             ],
             [
              0.3333333333333333,
              "#9c179e"
             ],
             [
              0.4444444444444444,
              "#bd3786"
             ],
             [
              0.5555555555555556,
              "#d8576b"
             ],
             [
              0.6666666666666666,
              "#ed7953"
             ],
             [
              0.7777777777777778,
              "#fb9f3a"
             ],
             [
              0.8888888888888888,
              "#fdca26"
             ],
             [
              1,
              "#f0f921"
             ]
            ],
            "type": "contour"
           }
          ],
          "contourcarpet": [
           {
            "colorbar": {
             "outlinewidth": 0,
             "ticks": ""
            },
            "type": "contourcarpet"
           }
          ],
          "heatmap": [
           {
            "colorbar": {
             "outlinewidth": 0,
             "ticks": ""
            },
            "colorscale": [
             [
              0,
              "#0d0887"
             ],
             [
              0.1111111111111111,
              "#46039f"
             ],
             [
              0.2222222222222222,
              "#7201a8"
             ],
             [
              0.3333333333333333,
              "#9c179e"
             ],
             [
              0.4444444444444444,
              "#bd3786"
             ],
             [
              0.5555555555555556,
              "#d8576b"
             ],
             [
              0.6666666666666666,
              "#ed7953"
             ],
             [
              0.7777777777777778,
              "#fb9f3a"
             ],
             [
              0.8888888888888888,
              "#fdca26"
             ],
             [
              1,
              "#f0f921"
             ]
            ],
            "type": "heatmap"
           }
          ],
          "histogram": [
           {
            "marker": {
             "pattern": {
              "fillmode": "overlay",
              "size": 10,
              "solidity": 0.2
             }
            },
            "type": "histogram"
           }
          ],
          "histogram2d": [
           {
            "colorbar": {
             "outlinewidth": 0,
             "ticks": ""
            },
            "colorscale": [
             [
              0,
              "#0d0887"
             ],
             [
              0.1111111111111111,
              "#46039f"
             ],
             [
              0.2222222222222222,
              "#7201a8"
             ],
             [
              0.3333333333333333,
              "#9c179e"
             ],
             [
              0.4444444444444444,
              "#bd3786"
             ],
             [
              0.5555555555555556,
              "#d8576b"
             ],
             [
              0.6666666666666666,
              "#ed7953"
             ],
             [
              0.7777777777777778,
              "#fb9f3a"
             ],
             [
              0.8888888888888888,
              "#fdca26"
             ],
             [
              1,
              "#f0f921"
             ]
            ],
            "type": "histogram2d"
           }
          ],
          "histogram2dcontour": [
           {
            "colorbar": {
             "outlinewidth": 0,
             "ticks": ""
            },
            "colorscale": [
             [
              0,
              "#0d0887"
             ],
             [
              0.1111111111111111,
              "#46039f"
             ],
             [
              0.2222222222222222,
              "#7201a8"
             ],
             [
              0.3333333333333333,
              "#9c179e"
             ],
             [
              0.4444444444444444,
              "#bd3786"
             ],
             [
              0.5555555555555556,
              "#d8576b"
             ],
             [
              0.6666666666666666,
              "#ed7953"
             ],
             [
              0.7777777777777778,
              "#fb9f3a"
             ],
             [
              0.8888888888888888,
              "#fdca26"
             ],
             [
              1,
              "#f0f921"
             ]
            ],
            "type": "histogram2dcontour"
           }
          ],
          "mesh3d": [
           {
            "colorbar": {
             "outlinewidth": 0,
             "ticks": ""
            },
            "type": "mesh3d"
           }
          ],
          "parcoords": [
           {
            "line": {
             "colorbar": {
              "outlinewidth": 0,
              "ticks": ""
             }
            },
            "type": "parcoords"
           }
          ],
          "pie": [
           {
            "automargin": true,
            "type": "pie"
           }
          ],
          "scatter": [
           {
            "fillpattern": {
             "fillmode": "overlay",
             "size": 10,
             "solidity": 0.2
            },
            "type": "scatter"
           }
          ],
          "scatter3d": [
           {
            "line": {
             "colorbar": {
              "outlinewidth": 0,
              "ticks": ""
             }
            },
            "marker": {
             "colorbar": {
              "outlinewidth": 0,
              "ticks": ""
             }
            },
            "type": "scatter3d"
           }
          ],
          "scattercarpet": [
           {
            "marker": {
             "colorbar": {
              "outlinewidth": 0,
              "ticks": ""
             }
            },
            "type": "scattercarpet"
           }
          ],
          "scattergeo": [
           {
            "marker": {
             "colorbar": {
              "outlinewidth": 0,
              "ticks": ""
             }
            },
            "type": "scattergeo"
           }
          ],
          "scattergl": [
           {
            "marker": {
             "colorbar": {
              "outlinewidth": 0,
              "ticks": ""
             }
            },
            "type": "scattergl"
           }
          ],
          "scattermap": [
           {
            "marker": {
             "colorbar": {
              "outlinewidth": 0,
              "ticks": ""
             }
            },
            "type": "scattermap"
           }
          ],
          "scattermapbox": [
           {
            "marker": {
             "colorbar": {
              "outlinewidth": 0,
              "ticks": ""
             }
            },
            "type": "scattermapbox"
           }
          ],
          "scatterpolar": [
           {
            "marker": {
             "colorbar": {
              "outlinewidth": 0,
              "ticks": ""
             }
            },
            "type": "scatterpolar"
           }
          ],
          "scatterpolargl": [
           {
            "marker": {
             "colorbar": {
              "outlinewidth": 0,
              "ticks": ""
             }
            },
            "type": "scatterpolargl"
           }
          ],
          "scatterternary": [
           {
            "marker": {
             "colorbar": {
              "outlinewidth": 0,
              "ticks": ""
             }
            },
            "type": "scatterternary"
           }
          ],
          "surface": [
           {
            "colorbar": {
             "outlinewidth": 0,
             "ticks": ""
            },
            "colorscale": [
             [
              0,
              "#0d0887"
             ],
             [
              0.1111111111111111,
              "#46039f"
             ],
             [
              0.2222222222222222,
              "#7201a8"
             ],
             [
              0.3333333333333333,
              "#9c179e"
             ],
             [
              0.4444444444444444,
              "#bd3786"
             ],
             [
              0.5555555555555556,
              "#d8576b"
             ],
             [
              0.6666666666666666,
              "#ed7953"
             ],
             [
              0.7777777777777778,
              "#fb9f3a"
             ],
             [
              0.8888888888888888,
              "#fdca26"
             ],
             [
              1,
              "#f0f921"
             ]
            ],
            "type": "surface"
           }
          ],
          "table": [
           {
            "cells": {
             "fill": {
              "color": "#EBF0F8"
             },
             "line": {
              "color": "white"
             }
            },
            "header": {
             "fill": {
              "color": "#C8D4E3"
             },
             "line": {
              "color": "white"
             }
            },
            "type": "table"
           }
          ]
         },
         "layout": {
          "annotationdefaults": {
           "arrowcolor": "#2a3f5f",
           "arrowhead": 0,
           "arrowwidth": 1
          },
          "autotypenumbers": "strict",
          "coloraxis": {
           "colorbar": {
            "outlinewidth": 0,
            "ticks": ""
           }
          },
          "colorscale": {
           "diverging": [
            [
             0,
             "#8e0152"
            ],
            [
             0.1,
             "#c51b7d"
            ],
            [
             0.2,
             "#de77ae"
            ],
            [
             0.3,
             "#f1b6da"
            ],
            [
             0.4,
             "#fde0ef"
            ],
            [
             0.5,
             "#f7f7f7"
            ],
            [
             0.6,
             "#e6f5d0"
            ],
            [
             0.7,
             "#b8e186"
            ],
            [
             0.8,
             "#7fbc41"
            ],
            [
             0.9,
             "#4d9221"
            ],
            [
             1,
             "#276419"
            ]
           ],
           "sequential": [
            [
             0,
             "#0d0887"
            ],
            [
             0.1111111111111111,
             "#46039f"
            ],
            [
             0.2222222222222222,
             "#7201a8"
            ],
            [
             0.3333333333333333,
             "#9c179e"
            ],
            [
             0.4444444444444444,
             "#bd3786"
            ],
            [
             0.5555555555555556,
             "#d8576b"
            ],
            [
             0.6666666666666666,
             "#ed7953"
            ],
            [
             0.7777777777777778,
             "#fb9f3a"
            ],
            [
             0.8888888888888888,
             "#fdca26"
            ],
            [
             1,
             "#f0f921"
            ]
           ],
           "sequentialminus": [
            [
             0,
             "#0d0887"
            ],
            [
             0.1111111111111111,
             "#46039f"
            ],
            [
             0.2222222222222222,
             "#7201a8"
            ],
            [
             0.3333333333333333,
             "#9c179e"
            ],
            [
             0.4444444444444444,
             "#bd3786"
            ],
            [
             0.5555555555555556,
             "#d8576b"
            ],
            [
             0.6666666666666666,
             "#ed7953"
            ],
            [
             0.7777777777777778,
             "#fb9f3a"
            ],
            [
             0.8888888888888888,
             "#fdca26"
            ],
            [
             1,
             "#f0f921"
            ]
           ]
          },
          "colorway": [
           "#636efa",
           "#EF553B",
           "#00cc96",
           "#ab63fa",
           "#FFA15A",
           "#19d3f3",
           "#FF6692",
           "#B6E880",
           "#FF97FF",
           "#FECB52"
          ],
          "font": {
           "color": "#2a3f5f"
          },
          "geo": {
           "bgcolor": "white",
           "lakecolor": "white",
           "landcolor": "#E5ECF6",
           "showlakes": true,
           "showland": true,
           "subunitcolor": "white"
          },
          "hoverlabel": {
           "align": "left"
          },
          "hovermode": "closest",
          "mapbox": {
           "style": "light"
          },
          "paper_bgcolor": "white",
          "plot_bgcolor": "#E5ECF6",
          "polar": {
           "angularaxis": {
            "gridcolor": "white",
            "linecolor": "white",
            "ticks": ""
           },
           "bgcolor": "#E5ECF6",
           "radialaxis": {
            "gridcolor": "white",
            "linecolor": "white",
            "ticks": ""
           }
          },
          "scene": {
           "xaxis": {
            "backgroundcolor": "#E5ECF6",
            "gridcolor": "white",
            "gridwidth": 2,
            "linecolor": "white",
            "showbackground": true,
            "ticks": "",
            "zerolinecolor": "white"
           },
           "yaxis": {
            "backgroundcolor": "#E5ECF6",
            "gridcolor": "white",
            "gridwidth": 2,
            "linecolor": "white",
            "showbackground": true,
            "ticks": "",
            "zerolinecolor": "white"
           },
           "zaxis": {
            "backgroundcolor": "#E5ECF6",
            "gridcolor": "white",
            "gridwidth": 2,
            "linecolor": "white",
            "showbackground": true,
            "ticks": "",
            "zerolinecolor": "white"
           }
          },
          "shapedefaults": {
           "line": {
            "color": "#2a3f5f"
           }
          },
          "ternary": {
           "aaxis": {
            "gridcolor": "white",
            "linecolor": "white",
            "ticks": ""
           },
           "baxis": {
            "gridcolor": "white",
            "linecolor": "white",
            "ticks": ""
           },
           "bgcolor": "#E5ECF6",
           "caxis": {
            "gridcolor": "white",
            "linecolor": "white",
            "ticks": ""
           }
          },
          "title": {
           "x": 0.05
          },
          "xaxis": {
           "automargin": true,
           "gridcolor": "white",
           "linecolor": "white",
           "ticks": "",
           "title": {
            "standoff": 15
           },
           "zerolinecolor": "white",
           "zerolinewidth": 2
          },
          "yaxis": {
           "automargin": true,
           "gridcolor": "white",
           "linecolor": "white",
           "ticks": "",
           "title": {
            "standoff": 15
           },
           "zerolinecolor": "white",
           "zerolinewidth": 2
          }
         }
        },
        "width": 500,
        "xaxis": {
         "anchor": "y",
         "domain": [
          0,
          1
         ],
         "title": {
          "text": "Human Recency Effect"
         }
        },
        "yaxis": {
         "anchor": "x",
         "domain": [
          0,
          1
         ],
         "title": {
          "text": "LLM Recency Effect"
         }
        }
       }
      }
     },
     "metadata": {},
     "output_type": "display_data"
    }
   ],
   "source": [
    "# recency - for each risky choice compute the probability the next choice is risky conditioned on the previous choice payoff was high or low\n",
    "def get_recency(df):\n",
    "    risky = df[\"Choice\"]==1\n",
    "    high = df[\"Payoff\"]==df[\"High\"]\n",
    "    next_choice = df[\"Choice\"].shift(-1)\n",
    "    risky_given_previous_was_risky = next_choice[risky]\n",
    "    previous_risky_was_high = high[risky]\n",
    "    p_risky_given_previous_risky = risky_given_previous_was_risky.groupby(previous_risky_was_high).mean()\n",
    "    p_risky_given_previous_risky = p_risky_given_previous_risky.reindex([False, True], fill_value=np.nan)\n",
    "    recency_df = p_risky_given_previous_risky.to_frame().T\n",
    "    recency_df.columns = [\"p risky given previous low\", \"p risky given previous high\"]\n",
    "    return recency_df\n",
    "\n",
    "def get_mean_recency(df):\n",
    "    recency_df = df.groupby([\"Problem\", \"Id\"]).apply(get_recency, include_groups=False)\n",
    "    recency_df = recency_df.groupby(\"Problem\").mean()\n",
    "    recency_df['recency diff'] = recency_df.diff(axis=1).iloc[:,1]\n",
    "    df_agg = df[[\"Problem\", \"Phigh\", \"Medium\", \"High\", \"Low\"]].drop_duplicates()\n",
    "    recency_df = df_agg.merge(recency_df, on=\"Problem\")\n",
    "    return recency_df\n",
    "\n",
    "recency_df = get_mean_recency(est)\n",
    "llm_recency_df = get_mean_recency(df_llm)\n",
    "recency_df[\"player\"] = \"human\"\n",
    "llm_recency_df[\"player\"] = \"llm\"\n",
    "recency_concat = pd.concat([recency_df, llm_recency_df])\n",
    "fig = px.scatter(\n",
    "    recency_concat,\n",
    "    x=\"p risky given previous low\",\n",
    "    y=\"p risky given previous high\",\n",
    "    color=\"Medium\",\n",
    "    facet_col=\"player\",\n",
    "    width=800,\n",
    "    height=500,\n",
    "    title=\"Recency Effect Human vs. LLM\",\n",
    "    labels={\"p risky given previous low\": \"P(Risky|Previous Low)\", \"p risky given previous high\": \"P(Risky|Previous High)\"},\n",
    ")\n",
    "# add equality trend line on each facet\n",
    "fig.add_trace(px.line(x=[0, 1], y=[0, 1]).data[0], row=1, col=1)\n",
    "fig.add_trace(px.line(x=[0, 1], y=[0, 1]).data[0], row=1, col=2)\n",
    "\n",
    "fig.show()\n",
    "\n",
    "# box plot of diff in recency effect per player type\n",
    "fig = px.box(\n",
    "    recency_concat,\n",
    "        width=400,\n",
    "    x=\"player\",\n",
    "    color=\"player\",\n",
    "    y=\"recency diff\",\n",
    "    title=\"Recency Effect Difference Human vs. LLM\",\n",
    "    labels={\"recency diff\": \"Recency Effect Difference\", \"player\": \"Player\"},\n",
    ")\n",
    "fig.show()\n",
    "\n",
    "# scatter of recency effect (diff) llm vs human\n",
    "recency_merge = recency_df.merge(llm_recency_df, on=[\"Problem\"], suffixes=(\"_human\", \"_llm\"))\n",
    "fig = px.scatter(\n",
    "    recency_merge,\n",
    "    x=\"recency diff_human\",\n",
    "    y=\"recency diff_llm\",\n",
    "    width=500,\n",
    "    height=500,\n",
    "    labels={\"recency diff_human\": \"Human Recency Effect\", \"recency diff_llm\": \"LLM Recency Effect\"},\n",
    ")\n",
    "fig.show()"
   ]
  },
  {
   "cell_type": "code",
   "execution_count": null,
   "metadata": {},
   "outputs": [
    {
     "data": {
      "application/vnd.plotly.v1+json": {
       "config": {
        "plotlyServerURL": "https://plot.ly"
       },
       "data": [
        {
         "alignmentgroup": "True",
         "hovertemplate": "High Positive, Medium Negative=%{x}<br>Choice=%{y}<extra></extra>",
         "legendgroup": "",
         "marker": {
          "color": "#636efa"
         },
         "name": "",
         "notched": false,
         "offsetgroup": "",
         "orientation": "v",
         "showlegend": false,
         "type": "box",
         "x": [
          false,
          false,
          false,
          false,
          false,
          false,
          false,
          false,
          false,
          false,
          false,
          false,
          false,
          false,
          false,
          false,
          false,
          false,
          false,
          false,
          true,
          false,
          false,
          true,
          true,
          true,
          false,
          false,
          false,
          false,
          false,
          false,
          false,
          true,
          false,
          true,
          false,
          true,
          true,
          false,
          false,
          false,
          false,
          false,
          false,
          false,
          false,
          false,
          false,
          false,
          false,
          false,
          false,
          false,
          false,
          false,
          false,
          false,
          false,
          false
         ],
         "x0": " ",
         "xaxis": "x",
         "y": {
          "bdata": "9ihcj8L11D9U46WbxCDgP7Kd76fGS88/TmIQWDm01D8hsHJoke3cPwRWDi2yneU/AiuHFtnO1z8dWmQ730/RP4PAyqFFtts/VOOlm8Qg3D9OYhBYObTQP4PAyqFFtuE/eekmMQisvD/2KFyPwvXkP/7UeOkmMcg/7nw/NV661T+BlUOLbOfXP/Cnxks3idU/sHJoke183z9zaJHtfD+1P3npJjEIrLw/ke18PzVe2j/LoUW28/3YPxsv3SQGgbU/pHA9CtejyD/2KFyPwvXIPwIrhxbZzt8/46WbxCCw4j8Sg8DKoUXgP+XQItv5fto/UI2XbhKD4D/b+X5qvHTfP/hT46WbxOQ/MzMzMzMz0z8rhxbZzvfbP65H4XoUrrc/RIts5/up0T8QWDm0yHbSPzvfT42XbuI/sHJoke184z85tMh2vp/gP2Dl0CLb+d4/VOOlm8Qg7D8AAAAAAADiP2ZmZmZmZt4/UrgehetR1D/VeOkmMQjQP7bz/dR46eI//tR46SYxwD9mZmZmZmbWP2IQWDm0yOA/TmIQWDm00D91kxgEVg69Pw4tsp3vp8Y/SgwCK4cW5T8K16NwPQrhP3WTGARWDt0/f2q8dJMY5D99PzVeuknUP1K4HoXrUdw/",
          "dtype": "f8"
         },
         "y0": " ",
         "yaxis": "y"
        }
       ],
       "layout": {
        "boxmode": "group",
        "legend": {
         "tracegroupgap": 0
        },
        "margin": {
         "t": 60
        },
        "template": {
         "data": {
          "bar": [
           {
            "error_x": {
             "color": "#2a3f5f"
            },
            "error_y": {
             "color": "#2a3f5f"
            },
            "marker": {
             "line": {
              "color": "#E5ECF6",
              "width": 0.5
             },
             "pattern": {
              "fillmode": "overlay",
              "size": 10,
              "solidity": 0.2
             }
            },
            "type": "bar"
           }
          ],
          "barpolar": [
           {
            "marker": {
             "line": {
              "color": "#E5ECF6",
              "width": 0.5
             },
             "pattern": {
              "fillmode": "overlay",
              "size": 10,
              "solidity": 0.2
             }
            },
            "type": "barpolar"
           }
          ],
          "carpet": [
           {
            "aaxis": {
             "endlinecolor": "#2a3f5f",
             "gridcolor": "white",
             "linecolor": "white",
             "minorgridcolor": "white",
             "startlinecolor": "#2a3f5f"
            },
            "baxis": {
             "endlinecolor": "#2a3f5f",
             "gridcolor": "white",
             "linecolor": "white",
             "minorgridcolor": "white",
             "startlinecolor": "#2a3f5f"
            },
            "type": "carpet"
           }
          ],
          "choropleth": [
           {
            "colorbar": {
             "outlinewidth": 0,
             "ticks": ""
            },
            "type": "choropleth"
           }
          ],
          "contour": [
           {
            "colorbar": {
             "outlinewidth": 0,
             "ticks": ""
            },
            "colorscale": [
             [
              0,
              "#0d0887"
             ],
             [
              0.1111111111111111,
              "#46039f"
             ],
             [
              0.2222222222222222,
              "#7201a8"
             ],
             [
              0.3333333333333333,
              "#9c179e"
             ],
             [
              0.4444444444444444,
              "#bd3786"
             ],
             [
              0.5555555555555556,
              "#d8576b"
             ],
             [
              0.6666666666666666,
              "#ed7953"
             ],
             [
              0.7777777777777778,
              "#fb9f3a"
             ],
             [
              0.8888888888888888,
              "#fdca26"
             ],
             [
              1,
              "#f0f921"
             ]
            ],
            "type": "contour"
           }
          ],
          "contourcarpet": [
           {
            "colorbar": {
             "outlinewidth": 0,
             "ticks": ""
            },
            "type": "contourcarpet"
           }
          ],
          "heatmap": [
           {
            "colorbar": {
             "outlinewidth": 0,
             "ticks": ""
            },
            "colorscale": [
             [
              0,
              "#0d0887"
             ],
             [
              0.1111111111111111,
              "#46039f"
             ],
             [
              0.2222222222222222,
              "#7201a8"
             ],
             [
              0.3333333333333333,
              "#9c179e"
             ],
             [
              0.4444444444444444,
              "#bd3786"
             ],
             [
              0.5555555555555556,
              "#d8576b"
             ],
             [
              0.6666666666666666,
              "#ed7953"
             ],
             [
              0.7777777777777778,
              "#fb9f3a"
             ],
             [
              0.8888888888888888,
              "#fdca26"
             ],
             [
              1,
              "#f0f921"
             ]
            ],
            "type": "heatmap"
           }
          ],
          "histogram": [
           {
            "marker": {
             "pattern": {
              "fillmode": "overlay",
              "size": 10,
              "solidity": 0.2
             }
            },
            "type": "histogram"
           }
          ],
          "histogram2d": [
           {
            "colorbar": {
             "outlinewidth": 0,
             "ticks": ""
            },
            "colorscale": [
             [
              0,
              "#0d0887"
             ],
             [
              0.1111111111111111,
              "#46039f"
             ],
             [
              0.2222222222222222,
              "#7201a8"
             ],
             [
              0.3333333333333333,
              "#9c179e"
             ],
             [
              0.4444444444444444,
              "#bd3786"
             ],
             [
              0.5555555555555556,
              "#d8576b"
             ],
             [
              0.6666666666666666,
              "#ed7953"
             ],
             [
              0.7777777777777778,
              "#fb9f3a"
             ],
             [
              0.8888888888888888,
              "#fdca26"
             ],
             [
              1,
              "#f0f921"
             ]
            ],
            "type": "histogram2d"
           }
          ],
          "histogram2dcontour": [
           {
            "colorbar": {
             "outlinewidth": 0,
             "ticks": ""
            },
            "colorscale": [
             [
              0,
              "#0d0887"
             ],
             [
              0.1111111111111111,
              "#46039f"
             ],
             [
              0.2222222222222222,
              "#7201a8"
             ],
             [
              0.3333333333333333,
              "#9c179e"
             ],
             [
              0.4444444444444444,
              "#bd3786"
             ],
             [
              0.5555555555555556,
              "#d8576b"
             ],
             [
              0.6666666666666666,
              "#ed7953"
             ],
             [
              0.7777777777777778,
              "#fb9f3a"
             ],
             [
              0.8888888888888888,
              "#fdca26"
             ],
             [
              1,
              "#f0f921"
             ]
            ],
            "type": "histogram2dcontour"
           }
          ],
          "mesh3d": [
           {
            "colorbar": {
             "outlinewidth": 0,
             "ticks": ""
            },
            "type": "mesh3d"
           }
          ],
          "parcoords": [
           {
            "line": {
             "colorbar": {
              "outlinewidth": 0,
              "ticks": ""
             }
            },
            "type": "parcoords"
           }
          ],
          "pie": [
           {
            "automargin": true,
            "type": "pie"
           }
          ],
          "scatter": [
           {
            "fillpattern": {
             "fillmode": "overlay",
             "size": 10,
             "solidity": 0.2
            },
            "type": "scatter"
           }
          ],
          "scatter3d": [
           {
            "line": {
             "colorbar": {
              "outlinewidth": 0,
              "ticks": ""
             }
            },
            "marker": {
             "colorbar": {
              "outlinewidth": 0,
              "ticks": ""
             }
            },
            "type": "scatter3d"
           }
          ],
          "scattercarpet": [
           {
            "marker": {
             "colorbar": {
              "outlinewidth": 0,
              "ticks": ""
             }
            },
            "type": "scattercarpet"
           }
          ],
          "scattergeo": [
           {
            "marker": {
             "colorbar": {
              "outlinewidth": 0,
              "ticks": ""
             }
            },
            "type": "scattergeo"
           }
          ],
          "scattergl": [
           {
            "marker": {
             "colorbar": {
              "outlinewidth": 0,
              "ticks": ""
             }
            },
            "type": "scattergl"
           }
          ],
          "scattermap": [
           {
            "marker": {
             "colorbar": {
              "outlinewidth": 0,
              "ticks": ""
             }
            },
            "type": "scattermap"
           }
          ],
          "scattermapbox": [
           {
            "marker": {
             "colorbar": {
              "outlinewidth": 0,
              "ticks": ""
             }
            },
            "type": "scattermapbox"
           }
          ],
          "scatterpolar": [
           {
            "marker": {
             "colorbar": {
              "outlinewidth": 0,
              "ticks": ""
             }
            },
            "type": "scatterpolar"
           }
          ],
          "scatterpolargl": [
           {
            "marker": {
             "colorbar": {
              "outlinewidth": 0,
              "ticks": ""
             }
            },
            "type": "scatterpolargl"
           }
          ],
          "scatterternary": [
           {
            "marker": {
             "colorbar": {
              "outlinewidth": 0,
              "ticks": ""
             }
            },
            "type": "scatterternary"
           }
          ],
          "surface": [
           {
            "colorbar": {
             "outlinewidth": 0,
             "ticks": ""
            },
            "colorscale": [
             [
              0,
              "#0d0887"
             ],
             [
              0.1111111111111111,
              "#46039f"
             ],
             [
              0.2222222222222222,
              "#7201a8"
             ],
             [
              0.3333333333333333,
              "#9c179e"
             ],
             [
              0.4444444444444444,
              "#bd3786"
             ],
             [
              0.5555555555555556,
              "#d8576b"
             ],
             [
              0.6666666666666666,
              "#ed7953"
             ],
             [
              0.7777777777777778,
              "#fb9f3a"
             ],
             [
              0.8888888888888888,
              "#fdca26"
             ],
             [
              1,
              "#f0f921"
             ]
            ],
            "type": "surface"
           }
          ],
          "table": [
           {
            "cells": {
             "fill": {
              "color": "#EBF0F8"
             },
             "line": {
              "color": "white"
             }
            },
            "header": {
             "fill": {
              "color": "#C8D4E3"
             },
             "line": {
              "color": "white"
             }
            },
            "type": "table"
           }
          ]
         },
         "layout": {
          "annotationdefaults": {
           "arrowcolor": "#2a3f5f",
           "arrowhead": 0,
           "arrowwidth": 1
          },
          "autotypenumbers": "strict",
          "coloraxis": {
           "colorbar": {
            "outlinewidth": 0,
            "ticks": ""
           }
          },
          "colorscale": {
           "diverging": [
            [
             0,
             "#8e0152"
            ],
            [
             0.1,
             "#c51b7d"
            ],
            [
             0.2,
             "#de77ae"
            ],
            [
             0.3,
             "#f1b6da"
            ],
            [
             0.4,
             "#fde0ef"
            ],
            [
             0.5,
             "#f7f7f7"
            ],
            [
             0.6,
             "#e6f5d0"
            ],
            [
             0.7,
             "#b8e186"
            ],
            [
             0.8,
             "#7fbc41"
            ],
            [
             0.9,
             "#4d9221"
            ],
            [
             1,
             "#276419"
            ]
           ],
           "sequential": [
            [
             0,
             "#0d0887"
            ],
            [
             0.1111111111111111,
             "#46039f"
            ],
            [
             0.2222222222222222,
             "#7201a8"
            ],
            [
             0.3333333333333333,
             "#9c179e"
            ],
            [
             0.4444444444444444,
             "#bd3786"
            ],
            [
             0.5555555555555556,
             "#d8576b"
            ],
            [
             0.6666666666666666,
             "#ed7953"
            ],
            [
             0.7777777777777778,
             "#fb9f3a"
            ],
            [
             0.8888888888888888,
             "#fdca26"
            ],
            [
             1,
             "#f0f921"
            ]
           ],
           "sequentialminus": [
            [
             0,
             "#0d0887"
            ],
            [
             0.1111111111111111,
             "#46039f"
            ],
            [
             0.2222222222222222,
             "#7201a8"
            ],
            [
             0.3333333333333333,
             "#9c179e"
            ],
            [
             0.4444444444444444,
             "#bd3786"
            ],
            [
             0.5555555555555556,
             "#d8576b"
            ],
            [
             0.6666666666666666,
             "#ed7953"
            ],
            [
             0.7777777777777778,
             "#fb9f3a"
            ],
            [
             0.8888888888888888,
             "#fdca26"
            ],
            [
             1,
             "#f0f921"
            ]
           ]
          },
          "colorway": [
           "#636efa",
           "#EF553B",
           "#00cc96",
           "#ab63fa",
           "#FFA15A",
           "#19d3f3",
           "#FF6692",
           "#B6E880",
           "#FF97FF",
           "#FECB52"
          ],
          "font": {
           "color": "#2a3f5f"
          },
          "geo": {
           "bgcolor": "white",
           "lakecolor": "white",
           "landcolor": "#E5ECF6",
           "showlakes": true,
           "showland": true,
           "subunitcolor": "white"
          },
          "hoverlabel": {
           "align": "left"
          },
          "hovermode": "closest",
          "mapbox": {
           "style": "light"
          },
          "paper_bgcolor": "white",
          "plot_bgcolor": "#E5ECF6",
          "polar": {
           "angularaxis": {
            "gridcolor": "white",
            "linecolor": "white",
            "ticks": ""
           },
           "bgcolor": "#E5ECF6",
           "radialaxis": {
            "gridcolor": "white",
            "linecolor": "white",
            "ticks": ""
           }
          },
          "scene": {
           "xaxis": {
            "backgroundcolor": "#E5ECF6",
            "gridcolor": "white",
            "gridwidth": 2,
            "linecolor": "white",
            "showbackground": true,
            "ticks": "",
            "zerolinecolor": "white"
           },
           "yaxis": {
            "backgroundcolor": "#E5ECF6",
            "gridcolor": "white",
            "gridwidth": 2,
            "linecolor": "white",
            "showbackground": true,
            "ticks": "",
            "zerolinecolor": "white"
           },
           "zaxis": {
            "backgroundcolor": "#E5ECF6",
            "gridcolor": "white",
            "gridwidth": 2,
            "linecolor": "white",
            "showbackground": true,
            "ticks": "",
            "zerolinecolor": "white"
           }
          },
          "shapedefaults": {
           "line": {
            "color": "#2a3f5f"
           }
          },
          "ternary": {
           "aaxis": {
            "gridcolor": "white",
            "linecolor": "white",
            "ticks": ""
           },
           "baxis": {
            "gridcolor": "white",
            "linecolor": "white",
            "ticks": ""
           },
           "bgcolor": "#E5ECF6",
           "caxis": {
            "gridcolor": "white",
            "linecolor": "white",
            "ticks": ""
           }
          },
          "title": {
           "x": 0.05
          },
          "xaxis": {
           "automargin": true,
           "gridcolor": "white",
           "linecolor": "white",
           "ticks": "",
           "title": {
            "standoff": 15
           },
           "zerolinecolor": "white",
           "zerolinewidth": 2
          },
          "yaxis": {
           "automargin": true,
           "gridcolor": "white",
           "linecolor": "white",
           "ticks": "",
           "title": {
            "standoff": 15
           },
           "zerolinecolor": "white",
           "zerolinewidth": 2
          }
         }
        },
        "xaxis": {
         "anchor": "y",
         "domain": [
          0,
          1
         ],
         "title": {
          "text": "High Positive, Medium Negative"
         }
        },
        "yaxis": {
         "anchor": "x",
         "domain": [
          0,
          1
         ],
         "title": {
          "text": "Choice"
         }
        }
       }
      }
     },
     "metadata": {},
     "output_type": "display_data"
    }
   ],
   "source": [
    "# risky vs medium\n",
    "est_agg[\"High Positive, Medium Negative\"] = (est_agg[\"High\"] > 1) & (est_agg[\"Medium\"] < 0)\n",
    "est_agg[\"Risky Std\"] = np.sqrt((est_agg[\"High\"]**2 * est_agg[\"Phigh\"]  + est_agg[\"Low\"]**2 * (1-est_agg[\"Phigh\"])) - est_agg[\"Medium\"]**2)\n",
    "px.box(est_agg, x=\"High Positive, Medium Negative\", y=\"Choice\")"
   ]
  },
  {
   "cell_type": "code",
   "execution_count": 74,
   "metadata": {},
   "outputs": [
    {
     "data": {
      "application/vnd.plotly.v1+json": {
       "config": {
        "plotlyServerURL": "https://plot.ly"
       },
       "data": [
        {
         "hovertemplate": "Medium=%{x}<br>High=%{marker.color}<extra></extra>",
         "legendgroup": "",
         "marker": {
          "color": {
           "bdata": "MzMzMzMz07/NzMzMzMzsvzMzMzMzMxnAAAAAAAAAJMAzMzMzMzP7vzMzMzMzMxnAZmZmZmZmFsBmZmZmZmbmv83MzMzMzBbAAAAAAAAA+L8zMzMzMzPzv5qZmZmZmRXAAAAAAAAAAMCamZmZmZkhwM3MzMzMzCHAZmZmZmZmHMBmZmZmZmYjwAAAAAAAABDAAAAAAAAAGsAzMzMzMzMRwAAAAAAAAABAMzMzMzMzI0AzMzMzMzMdQGZmZmZmZiJAmpmZmZmZHUCamZmZmZkZQJqZmZmZmfk/mpmZmZmZF0CamZmZmZkfQAAAAAAAAAhAzczMzMzMGkDNzMzMzMwaQDMzMzMzMx1AzczMzMzM9D8AAAAAAAAIQAAAAAAAABRAzczMzMzMAEDNzMzMzMwaQJqZmZmZmR1AAAAAAAAAGEDNzMzMzMwyQGZmZmZm5jFAZmZmZmbmNkAAAAAAAAAkQGZmZmZmZgZAmpmZmZkZMUDNzMzMzEw4QDMzMzMzMzJAzczMzMzMKkAzMzMzMzMXQDMzMzMzMypAAAAAAAAADEAzMzMzM7M5QAAAAAAAgDBAzczMzMzMJkAAAAAAAIA6QAAAAAAAACdAzczMzMzMNEAzMzMzMzMkQAAAAAAAACBA",
           "dtype": "f8"
          },
          "coloraxis": "coloraxis",
          "symbol": "circle"
         },
         "mode": "markers",
         "name": "",
         "orientation": "v",
         "showlegend": false,
         "type": "scatter",
         "x": {
          "bdata": "MzMzMzMz078AAAAAAADwv2ZmZmZmZijAmpmZmZmZOcBmZmZmZmb+v5qZmZmZmRnAZmZmZmZmJ8AAAAAAAAAYwGZmZmZmZhjAzczMzMzM/L8zMzMzMzMowJqZmZmZmRnAzczMzMzMIsAAAAAAAAAvwGZmZmZmZjnAMzMzMzOzMsDNzMzMzMw3wDMzMzMzMyDAzczMzMzMIMAAAAAAAAASwGZmZmZmZhLAZmZmZmZmIUBmZmZmZmYWQAAAAAAAAB7AmpmZmZmZGcCamZmZmZkTwDMzMzMzM/M/ZmZmZmZmEkAAAAAAAAAcQGZmZmZmZvY/mpmZmZmZGUBmZmZmZmYWQDMzMzMzMxtAZmZmZmZmEMCamZmZmZkBQJqZmZmZmR/AzczMzMzM9D9mZmZmZmYUwJqZmZmZmRvAmpmZmZmZF0AAAAAAAAAvQJqZmZmZGTFAZmZmZmZmIkDNzMzMzMwjQJqZmZmZmQFAAAAAAAAAIEAzMzMzMzMlQJqZmZmZGTJAzczMzMzMI0BmZmZmZmYGQJqZmZmZmSlAAAAAAAAA4D8AAAAAAAAnQAAAAAAAABxAAAAAAAAAJkAzMzMzMzM5QJqZmZmZmR9AMzMzMzOzNEAAAAAAAAAYQM3MzMzMzB5A",
          "dtype": "f8"
         },
         "xaxis": "x",
         "y": {
          "bdata": "MzMzMzMz07/NzMzMzMzsvzMzMzMzMxnAAAAAAAAAJMAzMzMzMzP7vzMzMzMzMxnAZmZmZmZmFsBmZmZmZmbmv83MzMzMzBbAAAAAAAAA+L8zMzMzMzPzv5qZmZmZmRXAAAAAAAAAAMCamZmZmZkhwM3MzMzMzCHAZmZmZmZmHMBmZmZmZmYjwAAAAAAAABDAAAAAAAAAGsAzMzMzMzMRwAAAAAAAAABAMzMzMzMzI0AzMzMzMzMdQGZmZmZmZiJAmpmZmZmZHUCamZmZmZkZQJqZmZmZmfk/mpmZmZmZF0CamZmZmZkfQAAAAAAAAAhAzczMzMzMGkDNzMzMzMwaQDMzMzMzMx1AzczMzMzM9D8AAAAAAAAIQAAAAAAAABRAzczMzMzMAEDNzMzMzMwaQJqZmZmZmR1AAAAAAAAAGEDNzMzMzMwyQGZmZmZm5jFAZmZmZmbmNkAAAAAAAAAkQGZmZmZmZgZAmpmZmZkZMUDNzMzMzEw4QDMzMzMzMzJAzczMzMzMKkAzMzMzMzMXQDMzMzMzMypAAAAAAAAADEAzMzMzM7M5QAAAAAAAgDBAzczMzMzMJkAAAAAAAIA6QAAAAAAAACdAzczMzMzMNEAzMzMzMzMkQAAAAAAAACBA",
          "dtype": "f8"
         },
         "yaxis": "y"
        }
       ],
       "layout": {
        "coloraxis": {
         "colorbar": {
          "title": {
           "text": "High"
          }
         },
         "colorscale": [
          [
           0,
           "#0d0887"
          ],
          [
           0.1111111111111111,
           "#46039f"
          ],
          [
           0.2222222222222222,
           "#7201a8"
          ],
          [
           0.3333333333333333,
           "#9c179e"
          ],
          [
           0.4444444444444444,
           "#bd3786"
          ],
          [
           0.5555555555555556,
           "#d8576b"
          ],
          [
           0.6666666666666666,
           "#ed7953"
          ],
          [
           0.7777777777777778,
           "#fb9f3a"
          ],
          [
           0.8888888888888888,
           "#fdca26"
          ],
          [
           1,
           "#f0f921"
          ]
         ]
        },
        "legend": {
         "tracegroupgap": 0
        },
        "margin": {
         "t": 60
        },
        "template": {
         "data": {
          "bar": [
           {
            "error_x": {
             "color": "#2a3f5f"
            },
            "error_y": {
             "color": "#2a3f5f"
            },
            "marker": {
             "line": {
              "color": "#E5ECF6",
              "width": 0.5
             },
             "pattern": {
              "fillmode": "overlay",
              "size": 10,
              "solidity": 0.2
             }
            },
            "type": "bar"
           }
          ],
          "barpolar": [
           {
            "marker": {
             "line": {
              "color": "#E5ECF6",
              "width": 0.5
             },
             "pattern": {
              "fillmode": "overlay",
              "size": 10,
              "solidity": 0.2
             }
            },
            "type": "barpolar"
           }
          ],
          "carpet": [
           {
            "aaxis": {
             "endlinecolor": "#2a3f5f",
             "gridcolor": "white",
             "linecolor": "white",
             "minorgridcolor": "white",
             "startlinecolor": "#2a3f5f"
            },
            "baxis": {
             "endlinecolor": "#2a3f5f",
             "gridcolor": "white",
             "linecolor": "white",
             "minorgridcolor": "white",
             "startlinecolor": "#2a3f5f"
            },
            "type": "carpet"
           }
          ],
          "choropleth": [
           {
            "colorbar": {
             "outlinewidth": 0,
             "ticks": ""
            },
            "type": "choropleth"
           }
          ],
          "contour": [
           {
            "colorbar": {
             "outlinewidth": 0,
             "ticks": ""
            },
            "colorscale": [
             [
              0,
              "#0d0887"
             ],
             [
              0.1111111111111111,
              "#46039f"
             ],
             [
              0.2222222222222222,
              "#7201a8"
             ],
             [
              0.3333333333333333,
              "#9c179e"
             ],
             [
              0.4444444444444444,
              "#bd3786"
             ],
             [
              0.5555555555555556,
              "#d8576b"
             ],
             [
              0.6666666666666666,
              "#ed7953"
             ],
             [
              0.7777777777777778,
              "#fb9f3a"
             ],
             [
              0.8888888888888888,
              "#fdca26"
             ],
             [
              1,
              "#f0f921"
             ]
            ],
            "type": "contour"
           }
          ],
          "contourcarpet": [
           {
            "colorbar": {
             "outlinewidth": 0,
             "ticks": ""
            },
            "type": "contourcarpet"
           }
          ],
          "heatmap": [
           {
            "colorbar": {
             "outlinewidth": 0,
             "ticks": ""
            },
            "colorscale": [
             [
              0,
              "#0d0887"
             ],
             [
              0.1111111111111111,
              "#46039f"
             ],
             [
              0.2222222222222222,
              "#7201a8"
             ],
             [
              0.3333333333333333,
              "#9c179e"
             ],
             [
              0.4444444444444444,
              "#bd3786"
             ],
             [
              0.5555555555555556,
              "#d8576b"
             ],
             [
              0.6666666666666666,
              "#ed7953"
             ],
             [
              0.7777777777777778,
              "#fb9f3a"
             ],
             [
              0.8888888888888888,
              "#fdca26"
             ],
             [
              1,
              "#f0f921"
             ]
            ],
            "type": "heatmap"
           }
          ],
          "histogram": [
           {
            "marker": {
             "pattern": {
              "fillmode": "overlay",
              "size": 10,
              "solidity": 0.2
             }
            },
            "type": "histogram"
           }
          ],
          "histogram2d": [
           {
            "colorbar": {
             "outlinewidth": 0,
             "ticks": ""
            },
            "colorscale": [
             [
              0,
              "#0d0887"
             ],
             [
              0.1111111111111111,
              "#46039f"
             ],
             [
              0.2222222222222222,
              "#7201a8"
             ],
             [
              0.3333333333333333,
              "#9c179e"
             ],
             [
              0.4444444444444444,
              "#bd3786"
             ],
             [
              0.5555555555555556,
              "#d8576b"
             ],
             [
              0.6666666666666666,
              "#ed7953"
             ],
             [
              0.7777777777777778,
              "#fb9f3a"
             ],
             [
              0.8888888888888888,
              "#fdca26"
             ],
             [
              1,
              "#f0f921"
             ]
            ],
            "type": "histogram2d"
           }
          ],
          "histogram2dcontour": [
           {
            "colorbar": {
             "outlinewidth": 0,
             "ticks": ""
            },
            "colorscale": [
             [
              0,
              "#0d0887"
             ],
             [
              0.1111111111111111,
              "#46039f"
             ],
             [
              0.2222222222222222,
              "#7201a8"
             ],
             [
              0.3333333333333333,
              "#9c179e"
             ],
             [
              0.4444444444444444,
              "#bd3786"
             ],
             [
              0.5555555555555556,
              "#d8576b"
             ],
             [
              0.6666666666666666,
              "#ed7953"
             ],
             [
              0.7777777777777778,
              "#fb9f3a"
             ],
             [
              0.8888888888888888,
              "#fdca26"
             ],
             [
              1,
              "#f0f921"
             ]
            ],
            "type": "histogram2dcontour"
           }
          ],
          "mesh3d": [
           {
            "colorbar": {
             "outlinewidth": 0,
             "ticks": ""
            },
            "type": "mesh3d"
           }
          ],
          "parcoords": [
           {
            "line": {
             "colorbar": {
              "outlinewidth": 0,
              "ticks": ""
             }
            },
            "type": "parcoords"
           }
          ],
          "pie": [
           {
            "automargin": true,
            "type": "pie"
           }
          ],
          "scatter": [
           {
            "fillpattern": {
             "fillmode": "overlay",
             "size": 10,
             "solidity": 0.2
            },
            "type": "scatter"
           }
          ],
          "scatter3d": [
           {
            "line": {
             "colorbar": {
              "outlinewidth": 0,
              "ticks": ""
             }
            },
            "marker": {
             "colorbar": {
              "outlinewidth": 0,
              "ticks": ""
             }
            },
            "type": "scatter3d"
           }
          ],
          "scattercarpet": [
           {
            "marker": {
             "colorbar": {
              "outlinewidth": 0,
              "ticks": ""
             }
            },
            "type": "scattercarpet"
           }
          ],
          "scattergeo": [
           {
            "marker": {
             "colorbar": {
              "outlinewidth": 0,
              "ticks": ""
             }
            },
            "type": "scattergeo"
           }
          ],
          "scattergl": [
           {
            "marker": {
             "colorbar": {
              "outlinewidth": 0,
              "ticks": ""
             }
            },
            "type": "scattergl"
           }
          ],
          "scattermap": [
           {
            "marker": {
             "colorbar": {
              "outlinewidth": 0,
              "ticks": ""
             }
            },
            "type": "scattermap"
           }
          ],
          "scattermapbox": [
           {
            "marker": {
             "colorbar": {
              "outlinewidth": 0,
              "ticks": ""
             }
            },
            "type": "scattermapbox"
           }
          ],
          "scatterpolar": [
           {
            "marker": {
             "colorbar": {
              "outlinewidth": 0,
              "ticks": ""
             }
            },
            "type": "scatterpolar"
           }
          ],
          "scatterpolargl": [
           {
            "marker": {
             "colorbar": {
              "outlinewidth": 0,
              "ticks": ""
             }
            },
            "type": "scatterpolargl"
           }
          ],
          "scatterternary": [
           {
            "marker": {
             "colorbar": {
              "outlinewidth": 0,
              "ticks": ""
             }
            },
            "type": "scatterternary"
           }
          ],
          "surface": [
           {
            "colorbar": {
             "outlinewidth": 0,
             "ticks": ""
            },
            "colorscale": [
             [
              0,
              "#0d0887"
             ],
             [
              0.1111111111111111,
              "#46039f"
             ],
             [
              0.2222222222222222,
              "#7201a8"
             ],
             [
              0.3333333333333333,
              "#9c179e"
             ],
             [
              0.4444444444444444,
              "#bd3786"
             ],
             [
              0.5555555555555556,
              "#d8576b"
             ],
             [
              0.6666666666666666,
              "#ed7953"
             ],
             [
              0.7777777777777778,
              "#fb9f3a"
             ],
             [
              0.8888888888888888,
              "#fdca26"
             ],
             [
              1,
              "#f0f921"
             ]
            ],
            "type": "surface"
           }
          ],
          "table": [
           {
            "cells": {
             "fill": {
              "color": "#EBF0F8"
             },
             "line": {
              "color": "white"
             }
            },
            "header": {
             "fill": {
              "color": "#C8D4E3"
             },
             "line": {
              "color": "white"
             }
            },
            "type": "table"
           }
          ]
         },
         "layout": {
          "annotationdefaults": {
           "arrowcolor": "#2a3f5f",
           "arrowhead": 0,
           "arrowwidth": 1
          },
          "autotypenumbers": "strict",
          "coloraxis": {
           "colorbar": {
            "outlinewidth": 0,
            "ticks": ""
           }
          },
          "colorscale": {
           "diverging": [
            [
             0,
             "#8e0152"
            ],
            [
             0.1,
             "#c51b7d"
            ],
            [
             0.2,
             "#de77ae"
            ],
            [
             0.3,
             "#f1b6da"
            ],
            [
             0.4,
             "#fde0ef"
            ],
            [
             0.5,
             "#f7f7f7"
            ],
            [
             0.6,
             "#e6f5d0"
            ],
            [
             0.7,
             "#b8e186"
            ],
            [
             0.8,
             "#7fbc41"
            ],
            [
             0.9,
             "#4d9221"
            ],
            [
             1,
             "#276419"
            ]
           ],
           "sequential": [
            [
             0,
             "#0d0887"
            ],
            [
             0.1111111111111111,
             "#46039f"
            ],
            [
             0.2222222222222222,
             "#7201a8"
            ],
            [
             0.3333333333333333,
             "#9c179e"
            ],
            [
             0.4444444444444444,
             "#bd3786"
            ],
            [
             0.5555555555555556,
             "#d8576b"
            ],
            [
             0.6666666666666666,
             "#ed7953"
            ],
            [
             0.7777777777777778,
             "#fb9f3a"
            ],
            [
             0.8888888888888888,
             "#fdca26"
            ],
            [
             1,
             "#f0f921"
            ]
           ],
           "sequentialminus": [
            [
             0,
             "#0d0887"
            ],
            [
             0.1111111111111111,
             "#46039f"
            ],
            [
             0.2222222222222222,
             "#7201a8"
            ],
            [
             0.3333333333333333,
             "#9c179e"
            ],
            [
             0.4444444444444444,
             "#bd3786"
            ],
            [
             0.5555555555555556,
             "#d8576b"
            ],
            [
             0.6666666666666666,
             "#ed7953"
            ],
            [
             0.7777777777777778,
             "#fb9f3a"
            ],
            [
             0.8888888888888888,
             "#fdca26"
            ],
            [
             1,
             "#f0f921"
            ]
           ]
          },
          "colorway": [
           "#636efa",
           "#EF553B",
           "#00cc96",
           "#ab63fa",
           "#FFA15A",
           "#19d3f3",
           "#FF6692",
           "#B6E880",
           "#FF97FF",
           "#FECB52"
          ],
          "font": {
           "color": "#2a3f5f"
          },
          "geo": {
           "bgcolor": "white",
           "lakecolor": "white",
           "landcolor": "#E5ECF6",
           "showlakes": true,
           "showland": true,
           "subunitcolor": "white"
          },
          "hoverlabel": {
           "align": "left"
          },
          "hovermode": "closest",
          "mapbox": {
           "style": "light"
          },
          "paper_bgcolor": "white",
          "plot_bgcolor": "#E5ECF6",
          "polar": {
           "angularaxis": {
            "gridcolor": "white",
            "linecolor": "white",
            "ticks": ""
           },
           "bgcolor": "#E5ECF6",
           "radialaxis": {
            "gridcolor": "white",
            "linecolor": "white",
            "ticks": ""
           }
          },
          "scene": {
           "xaxis": {
            "backgroundcolor": "#E5ECF6",
            "gridcolor": "white",
            "gridwidth": 2,
            "linecolor": "white",
            "showbackground": true,
            "ticks": "",
            "zerolinecolor": "white"
           },
           "yaxis": {
            "backgroundcolor": "#E5ECF6",
            "gridcolor": "white",
            "gridwidth": 2,
            "linecolor": "white",
            "showbackground": true,
            "ticks": "",
            "zerolinecolor": "white"
           },
           "zaxis": {
            "backgroundcolor": "#E5ECF6",
            "gridcolor": "white",
            "gridwidth": 2,
            "linecolor": "white",
            "showbackground": true,
            "ticks": "",
            "zerolinecolor": "white"
           }
          },
          "shapedefaults": {
           "line": {
            "color": "#2a3f5f"
           }
          },
          "ternary": {
           "aaxis": {
            "gridcolor": "white",
            "linecolor": "white",
            "ticks": ""
           },
           "baxis": {
            "gridcolor": "white",
            "linecolor": "white",
            "ticks": ""
           },
           "bgcolor": "#E5ECF6",
           "caxis": {
            "gridcolor": "white",
            "linecolor": "white",
            "ticks": ""
           }
          },
          "title": {
           "x": 0.05
          },
          "xaxis": {
           "automargin": true,
           "gridcolor": "white",
           "linecolor": "white",
           "ticks": "",
           "title": {
            "standoff": 15
           },
           "zerolinecolor": "white",
           "zerolinewidth": 2
          },
          "yaxis": {
           "automargin": true,
           "gridcolor": "white",
           "linecolor": "white",
           "ticks": "",
           "title": {
            "standoff": 15
           },
           "zerolinecolor": "white",
           "zerolinewidth": 2
          }
         }
        },
        "xaxis": {
         "anchor": "y",
         "domain": [
          0,
          1
         ],
         "title": {
          "text": "Medium"
         }
        },
        "yaxis": {
         "anchor": "x",
         "domain": [
          0,
          1
         ],
         "title": {
          "text": "High"
         }
        }
       }
      }
     },
     "metadata": {},
     "output_type": "display_data"
    }
   ],
   "source": [
    "px.scatter(est_agg, x=\"Medium\", y=\"High\", color=\"High\")"
   ]
  },
  {
   "cell_type": "code",
   "execution_count": null,
   "metadata": {},
   "outputs": [],
   "source": [
    "est_agg"
   ]
  }
 ],
 "metadata": {
  "kernelspec": {
   "display_name": ".venv",
   "language": "python",
   "name": "python3"
  },
  "language_info": {
   "codemirror_mode": {
    "name": "ipython",
    "version": 3
   },
   "file_extension": ".py",
   "mimetype": "text/x-python",
   "name": "python",
   "nbconvert_exporter": "python",
   "pygments_lexer": "ipython3",
   "version": "3.13.2"
  }
 },
 "nbformat": 4,
 "nbformat_minor": 2
}
